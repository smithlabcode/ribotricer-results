{
 "cells": [
  {
   "cell_type": "code",
   "execution_count": 12,
   "metadata": {},
   "outputs": [
    {
     "name": "stdout",
     "output_type": "stream",
     "text": [
      "Populating the interactive namespace from numpy and matplotlib\n"
     ]
    }
   ],
   "source": [
    "%pylab inline\n",
    "import re\n",
    "import pandas as pd\n",
    "from collections import Counter\n",
    "from collections import OrderedDict\n",
    "\n",
    "import matplotlib\n",
    "import seaborn as sns\n",
    "import pyupset as pyu\n",
    "from riboraptor.helpers import path_leaf\n",
    "\n",
    "\n",
    "matplotlib.rcParams['pdf.fonttype'] = 42\n",
    "matplotlib.rcParams['ps.fonttype'] = 42\n",
    "\n",
    "sns.set_style('white')\n",
    "sns.set_context('paper', font_scale=2)\n",
    "\n",
    "def strip_tx_version(txid):\n",
    "    return re.sub('\\.\\d+', '', txid)"
   ]
  },
  {
   "cell_type": "code",
   "execution_count": 3,
   "metadata": {},
   "outputs": [],
   "source": [
    "mouse_files  = ['/home/cmb-panasas2/wenzhenl/benchmark/uorfs/mouse/SRP003554_mouse/SRX026871_translating_ORFs.tsv',\n",
    "           '/home/cmb-panasas2/wenzhenl/benchmark/uorfs/mouse/SRP062407_mouse/SRX1149649_translating_ORFs.tsv',\n",
    "           '/home/cmb-panasas2/wenzhenl/benchmark/uorfs/mouse/SRP078005_mouse/SRX1900396_translating_ORFs.tsv',\n",
    "           '/home/cmb-panasas2/wenzhenl/benchmark/uorfs/mouse/SRP091889_mouse/SRX2255510_translating_ORFs.tsv',\n",
    "           '/home/cmb-panasas2/wenzhenl/benchmark/uorfs/mouse/SRP115915_mouse/SRX3110803_translating_ORFs.tsv']\n",
    "\n",
    "\n",
    "human_files = ['/home/cmb-panasas2/wenzhenl/benchmark/uorfs/human/SRP010679_human/SRX118286_translating_ORFs.tsv',\n",
    "               '/home/cmb-panasas2/wenzhenl/benchmark/uorfs/human/SRP063852_human/SRX1254413_translating_ORFs.tsv',\n",
    "               '/home/cmb-panasas2/wenzhenl/benchmark/uorfs/human/SRP098789_human/SRX2536421_translating_ORFs.tsv',\n",
    "               '/home/cmb-panasas2/wenzhenl/benchmark/uorfs/human/SRP102021_human/SRX2647167_translating_ORFs.tsv']\n"
   ]
  },
  {
   "cell_type": "code",
   "execution_count": 30,
   "metadata": {},
   "outputs": [],
   "source": [
    "def read_cds_uorfs_startcodons(filelist):\n",
    "    cds = OrderedDict()\n",
    "    uorfs = OrderedDict()\n",
    "    start_codons = OrderedDict()\n",
    "    cds_df = pd.DataFrame()\n",
    "    uorfs_df = pd.DataFrame()\n",
    "    start_codons_df = pd.DataFrame()\n",
    "    for fin in filelist:\n",
    "        key = path_leaf(fin).replace('_translating_ORFs.tsv', '')\n",
    "        df = pd.read_table(fin, header=0, sep='\\t', usecols=['ORF_ID', 'ORF_type', 'status', 'length', 'transcript_id', 'gene_id', 'gene_name', 'start_codon'])\n",
    "        a = df.loc[(df['ORF_type'] == 'annotated') & (df['status'] == 'translating'), 'gene_id'].tolist()        \n",
    "        cds_df_key = pd.DataFrame(list(set(a)), columns=['gene_id']).set_index('gene_id')\n",
    "        cds_df_key[key] = 1\n",
    "        cds_df = cds_df.join(cds_df_key, how='outer')\n",
    "        b = df.loc[(df['ORF_type'] == 'super_uORF') & (df['status'] == 'translating'), 'gene_id'].tolist()        \n",
    "        uorfs_df_key = pd.DataFrame(list(set(b)), columns=['gene_id']).set_index('gene_id')\n",
    "        uorfs_df_key[key] = 1\n",
    "        uorfs_df = uorfs_df.join(uorfs_df_key, how='outer')\n",
    "        \n",
    "        s = df.loc[(df['ORF_type'] == 'super_uORF') & (df['status'] == 'translating'), 'start_codon'].tolist()\n",
    "        start_codons_df_key = pd.DataFrame.from_dict(Counter(s), orient='index', columns=[key])\n",
    "        start_codons_df = start_codons_df.join(start_codons_df_key, how='outer')\n",
    "        \n",
    "        start_codons[key] = s\n",
    "    cds_df = cds_df.fillna(0)\n",
    "    cds_df = cds_df.astype(int)\n",
    "    \n",
    "    uorfs_df = uorfs_df.fillna(0)\n",
    "    uorfs_df = uorfs_df.astype(int)\n",
    "    \n",
    "    start_codons_df = start_codons_df.fillna(0)\n",
    "    start_codons_df = start_codons_df.astype(int)\n",
    "    \n",
    "    cds_df = cds_df.sort_index().reset_index()\n",
    "    cds_df['gene_id'] = cds_df['gene_id'].apply(strip_tx_version)\n",
    "    \n",
    "    uorfs_df = uorfs_df.sort_index().reset_index()\n",
    "    uorfs_df['gene_id'] = uorfs_df['gene_id'].apply(strip_tx_version)\n",
    "    \n",
    "    start_codons_df = start_codons_df.sort_index().reset_index().rename(columns={'index': 'codon'})\n",
    "    \n",
    "    \n",
    "    return cds_df, uorfs_df, start_codons_df"
   ]
  },
  {
   "cell_type": "code",
   "execution_count": 31,
   "metadata": {},
   "outputs": [],
   "source": [
    "human_cds, human_uorfs, human_start_codons = read_cds_uorfs_startcodons(human_files)"
   ]
  },
  {
   "cell_type": "code",
   "execution_count": 134,
   "metadata": {},
   "outputs": [],
   "source": [
    "a = \"\"\"\n",
    "SRP010679 & 9246 & 764  & 8\\%  & 105\\\\\n",
    "SRP063852 & 12744 & 3263   & 26\\% & 54\\\\\n",
    "SRP098789 & 10546 & 1028 & 10\\% & 72\\\\\n",
    "SRP102021 & 9520 & 1401 & 15\\% & 199\\\\\n",
    "SRP003554 & 10369 & 2755 & 27\\% & 70\\\\\n",
    "SRP062407 & 14542 & 3648 &  25\\% & 47\\\\\n",
    "SRP078005 & 10564 & 1165 & 11\\% & 56\\\\\n",
    "SRP091889 & 12739 & 3128 & 25\\% & 187\\\\\n",
    "SRP115915 & 11264 & 1854 & 16\\% & 148\\\\\n",
    "\"\"\"\n",
    "a = a.replace(\"  \", \" \").replace('\\%', '').strip()\n",
    "data = []\n",
    "for line in a.split('\\\\'):\n",
    "    line = line.strip()\n",
    "    if len(line.split()):\n",
    "        data.append(line.split(' & '))\n",
    "data_df = pd.DataFrame(data)\n",
    "data_df.columns = ['SRP', 'CDS', 'uORF', 'percentage', 'only_uorf']\n",
    "data_df['species'] = ['human'] * 4 + ['mouse']*5\n",
    "data_df.to_csv('../uorfs/human_mouse_uorf_cds_summary.tsv', sep='\\t', header=True, index=False)\n"
   ]
  },
  {
   "cell_type": "code",
   "execution_count": 142,
   "metadata": {},
   "outputs": [
    {
     "data": {
      "text/plain": [
       "14.75"
      ]
     },
     "execution_count": 142,
     "metadata": {},
     "output_type": "execute_result"
    }
   ],
   "source": [
    "data_df.iloc[:4].percentage.astype(int).mean()"
   ]
  },
  {
   "cell_type": "code",
   "execution_count": 143,
   "metadata": {},
   "outputs": [
    {
     "data": {
      "text/plain": [
       "20.8"
      ]
     },
     "execution_count": 143,
     "metadata": {},
     "output_type": "execute_result"
    }
   ],
   "source": [
    "data_df.iloc[4:].percentage.astype(int).mean()"
   ]
  },
  {
   "cell_type": "code",
   "execution_count": 106,
   "metadata": {},
   "outputs": [],
   "source": [
    "human_cds_gene_ids = human_cds['gene_id'].tolist()\n",
    "human_uorfs_gene_ids = human_uorfs['gene_id'].tolist()\n",
    "\n",
    "all_cds = len(set(human_cds_gene_ids))\n",
    "union = len(set(human_cds_gene_ids).union(set(human_uorfs_gene_ids)))\n",
    "intersection = len(set(human_cds_gene_ids).intersection(set(human_uorfs_gene_ids)))\n",
    "\n",
    "all_uorfs = len(set(human_uorfs_gene_ids))\n",
    "data = [('CDS', all_cds), ('uORF', all_uorfs), ('union', union), ('intersection', intersection)]\n",
    "df = pd.DataFrame(data, columns=['region', 'value'])\n",
    "df.to_csv('../uorfs/human_uorf_cds_counts.tsv', index=False, header=True, sep='\\t')"
   ]
  },
  {
   "cell_type": "code",
   "execution_count": 107,
   "metadata": {},
   "outputs": [
    {
     "data": {
      "text/plain": [
       "0.2984827784568922"
      ]
     },
     "execution_count": 107,
     "metadata": {},
     "output_type": "execute_result"
    }
   ],
   "source": [
    "all_uorfs/union"
   ]
  },
  {
   "cell_type": "code",
   "execution_count": 108,
   "metadata": {},
   "outputs": [
    {
     "data": {
      "text/plain": [
       "0.29424031063493206"
      ]
     },
     "execution_count": 108,
     "metadata": {},
     "output_type": "execute_result"
    }
   ],
   "source": [
    "intersection/union"
   ]
  },
  {
   "cell_type": "code",
   "execution_count": 109,
   "metadata": {},
   "outputs": [],
   "source": [
    "mouse_cds_gene_ids = mouse_cds['gene_id'].tolist()\n",
    "mouse_uorfs_gene_ids = mouse_uorfs['gene_id'].tolist()\n",
    "\n",
    "all_cds = len(set(mouse_cds_gene_ids))\n",
    "union = len(set(mouse_cds_gene_ids).union(set(mouse_uorfs_gene_ids)))\n",
    "intersection = len(set(mouse_cds_gene_ids).intersection(set(mouse_uorfs_gene_ids)))\n",
    "\n",
    "all_uorfs = len(set(mouse_uorfs_gene_ids))\n",
    "data = [('CDS', all_cds), ('uORF', all_uorfs), ('union', union), ('intersection', intersection)]\n",
    "df = pd.DataFrame(data, columns=['region', 'value'])\n",
    "df.to_csv('../uorfs/mouse_uorf_cds_counts.tsv', index=False, header=True, sep='\\t')"
   ]
  },
  {
   "cell_type": "code",
   "execution_count": 110,
   "metadata": {},
   "outputs": [
    {
     "data": {
      "text/plain": [
       "0.3782027706264558"
      ]
     },
     "execution_count": 110,
     "metadata": {},
     "output_type": "execute_result"
    }
   ],
   "source": [
    "all_uorfs/union"
   ]
  },
  {
   "cell_type": "code",
   "execution_count": 33,
   "metadata": {},
   "outputs": [],
   "source": [
    "human_uorfs.to_csv('../uorfs/human_uorf_codon_summary.tsv', index=False, header=True, sep='\\t')"
   ]
  },
  {
   "cell_type": "code",
   "execution_count": 34,
   "metadata": {},
   "outputs": [],
   "source": [
    "mouse_cds, mouse_uorfs, mouse_start_codons = read_cds_uorfs_startcodons(mouse_files)"
   ]
  },
  {
   "cell_type": "code",
   "execution_count": 36,
   "metadata": {},
   "outputs": [],
   "source": [
    "mouse_start_codons.to_csv('../uorfs/mouse_uorf_codon_summary.tsv', index=False, header=True, sep='\\t')"
   ]
  },
  {
   "cell_type": "code",
   "execution_count": 70,
   "metadata": {},
   "outputs": [],
   "source": [
    "mouse_start_codons_melt = pd.melt(mouse_start_codons, id_vars=['codon']).rename(columns={'variable': 'dataset'})\n",
    "mouse_start_codons_melt.codon = mouse_start_codons_melt.codon.apply(lambda x: x.replace('T', 'U'))\n",
    "mouse_start_codons_melt.to_csv('../uorfs/mouse_uorf_codon_summary_longform.tsv', index=False, header=True, sep='\\t')\n"
   ]
  },
  {
   "cell_type": "code",
   "execution_count": 69,
   "metadata": {},
   "outputs": [],
   "source": [
    "human_start_codons_melt = pd.melt(human_start_codons, id_vars=['codon']).rename(columns={'variable': 'dataset'})\n",
    "human_start_codons_melt.codon = human_start_codons_melt.codon.apply(lambda x: x.replace('T', 'U'))\n",
    "human_start_codons_melt.to_csv('../uorfs/human_uorf_codon_summary_longform.tsv', index=False, header=True, sep='\\t')\n"
   ]
  },
  {
   "cell_type": "code",
   "execution_count": 89,
   "metadata": {},
   "outputs": [],
   "source": [
    "human_start_codons_melt_std = human_start_codons_melt.groupby(['codon']).agg(['mean', 'std']).reset_index()\n",
    "human_start_codons_melt_std.reset_index(drop=True)\n",
    "human_start_codons_melt_std.to_csv('../uorfs/human_uorf_codon_summary_mean_std.tsv', index=False, header=True, sep='\\t')"
   ]
  },
  {
   "cell_type": "code",
   "execution_count": 90,
   "metadata": {},
   "outputs": [],
   "source": [
    "mouse_start_codons_melt_std = mouse_start_codons_melt.groupby(['codon']).agg(['mean', 'std']).reset_index()\n",
    "mouse_start_codons_melt_std.reset_index(drop=True)\n",
    "mouse_start_codons_melt_std.to_csv('../uorfs/mouse_uorf_codon_summary_mean_std.tsv', index=False, header=True, sep='\\t')"
   ]
  },
  {
   "cell_type": "code",
   "execution_count": 19,
   "metadata": {},
   "outputs": [],
   "source": [
    "human_uorfs.to_csv('../uorfs/human_uorf_genewise_summary.tsv', index=False, header=True, sep='\\t')"
   ]
  },
  {
   "cell_type": "code",
   "execution_count": 20,
   "metadata": {},
   "outputs": [],
   "source": [
    "mouse_uorfs.to_csv('../uorfs/mouse_uorf_genewise_summary.tsv', index=False, header=True, sep='\\t')"
   ]
  },
  {
   "cell_type": "code",
   "execution_count": 42,
   "metadata": {},
   "outputs": [],
   "source": [
    "human_cds.to_csv('../uorfs/human_cds_codon_summary.tsv', index=False, header=True, sep='\\t')"
   ]
  },
  {
   "cell_type": "code",
   "execution_count": 43,
   "metadata": {},
   "outputs": [],
   "source": [
    "mouse_cds.to_csv('../uorfs/mouse_cds_codon_summary.tsv', index=False, header=True, sep='\\t')"
   ]
  },
  {
   "cell_type": "code",
   "execution_count": 51,
   "metadata": {},
   "outputs": [],
   "source": [
    "mouse_uorf_sum = pd.DataFrame(mouse_uorfs.sum())\n",
    "mouse_uorf_sum = mouse_uorf_sum.iloc[1:].reset_index().rename(columns={'index': 'dataset', 0: 'value'})\n",
    "mouse_uorf_sum['region_type'] = 'uORF'\n",
    "\n",
    "mouse_cds_sum = pd.DataFrame(mouse_cds.sum())\n",
    "mouse_cds_sum = mouse_cds_sum.iloc[1:].reset_index().rename(columns={'index': 'dataset', 0: 'value'})\n",
    "mouse_cds_sum['region_type'] = 'CDS'\n",
    "\n",
    "mouse_uorf_cds = pd.concat([mouse_uorf_sum, mouse_cds_sum])\n",
    "mouse_uorf_cds.to_csv('../uorfs/mouse_uorf_cds_summary.tsv', index=False, header=True, sep='\\t')"
   ]
  },
  {
   "cell_type": "code",
   "execution_count": 52,
   "metadata": {},
   "outputs": [],
   "source": [
    "human_uorf_sum = pd.DataFrame(human_uorfs.sum())\n",
    "human_uorf_sum = human_uorf_sum.iloc[1:].reset_index().rename(columns={'index': 'dataset', 0: 'value'})\n",
    "human_uorf_sum['region_type'] = 'uORF'\n",
    "\n",
    "human_cds_sum = pd.DataFrame(human_cds.sum())\n",
    "human_cds_sum = human_cds_sum.iloc[1:].reset_index().rename(columns={'index': 'dataset', 0: 'value'})\n",
    "human_cds_sum['region_type'] = 'CDS'\n",
    "\n",
    "human_uorf_cds = pd.concat([human_uorf_sum, human_cds_sum])\n",
    "human_uorf_cds.to_csv('../uorfs/human_uorf_cds_summary.tsv', index=False, header=True, sep='\\t')"
   ]
  },
  {
   "cell_type": "markdown",
   "metadata": {},
   "source": [
    "# Plots "
   ]
  },
  {
   "cell_type": "code",
   "execution_count": 68,
   "metadata": {},
   "outputs": [
    {
     "data": {
      "text/plain": [
       "<matplotlib.axes._subplots.AxesSubplot at 0x2ae39404d828>"
      ]
     },
     "execution_count": 68,
     "metadata": {},
     "output_type": "execute_result"
    },
    {
     "data": {
      "image/png": "[encoded data removed]",
      "text/plain": [
       "<Figure size 576x576 with 1 Axes>"
      ]
     },
     "metadata": {},
     "output_type": "display_data"
    }
   ],
   "source": [
    "mouse_start_codons_melt = pd.melt(mouse_start_codons, id_vars=['codon']).rename(columns={'variable': 'dataset'})\n",
    "mouse_start_codons_melt.codon = mouse_start_codons_melt.codon.apply(lambda x: x.replace('T', 'U'))\n",
    "mouse_start_codons_melt = mouse_start_codons_melt.sort_values(['value']).reset_index(drop=True)\n",
    "fig, ax = plt.subplots(figsize=(8,8))\n",
    "sns.barplot(data=mouse_start_codons_melt, y='value', x='codon', color='grey', ax=ax)\n"
   ]
  },
  {
   "cell_type": "code",
   "execution_count": 60,
   "metadata": {},
   "outputs": [],
   "source": [
    "mouse_start_codons_melt.codon = mouse_start_codons_melt.codon.apply(lambda x: x.replace('T', 'U'))"
   ]
  },
  {
   "cell_type": "code",
   "execution_count": 135,
   "metadata": {},
   "outputs": [
    {
     "data": {
      "text/html": [
       "<div>\n",
       "<style scoped>\n",
       "    .dataframe tbody tr th:only-of-type {\n",
       "        vertical-align: middle;\n",
       "    }\n",
       "\n",
       "    .dataframe tbody tr th {\n",
       "        vertical-align: top;\n",
       "    }\n",
       "\n",
       "    .dataframe thead th {\n",
       "        text-align: right;\n",
       "    }\n",
       "</style>\n",
       "<table border=\"1\" class=\"dataframe\">\n",
       "  <thead>\n",
       "    <tr style=\"text-align: right;\">\n",
       "      <th></th>\n",
       "      <th>codon</th>\n",
       "      <th>dataset</th>\n",
       "      <th>value</th>\n",
       "    </tr>\n",
       "  </thead>\n",
       "  <tbody>\n",
       "    <tr>\n",
       "      <th>0</th>\n",
       "      <td>AAG</td>\n",
       "      <td>SRX026871</td>\n",
       "      <td>1072</td>\n",
       "    </tr>\n",
       "    <tr>\n",
       "      <th>1</th>\n",
       "      <td>ACG</td>\n",
       "      <td>SRX026871</td>\n",
       "      <td>692</td>\n",
       "    </tr>\n",
       "    <tr>\n",
       "      <th>2</th>\n",
       "      <td>AGG</td>\n",
       "      <td>SRX026871</td>\n",
       "      <td>1788</td>\n",
       "    </tr>\n",
       "    <tr>\n",
       "      <th>3</th>\n",
       "      <td>AUA</td>\n",
       "      <td>SRX026871</td>\n",
       "      <td>250</td>\n",
       "    </tr>\n",
       "    <tr>\n",
       "      <th>4</th>\n",
       "      <td>AUC</td>\n",
       "      <td>SRX026871</td>\n",
       "      <td>507</td>\n",
       "    </tr>\n",
       "    <tr>\n",
       "      <th>5</th>\n",
       "      <td>AUG</td>\n",
       "      <td>SRX026871</td>\n",
       "      <td>484</td>\n",
       "    </tr>\n",
       "    <tr>\n",
       "      <th>6</th>\n",
       "      <td>AUU</td>\n",
       "      <td>SRX026871</td>\n",
       "      <td>511</td>\n",
       "    </tr>\n",
       "    <tr>\n",
       "      <th>7</th>\n",
       "      <td>CUG</td>\n",
       "      <td>SRX026871</td>\n",
       "      <td>1912</td>\n",
       "    </tr>\n",
       "    <tr>\n",
       "      <th>8</th>\n",
       "      <td>GUG</td>\n",
       "      <td>SRX026871</td>\n",
       "      <td>1478</td>\n",
       "    </tr>\n",
       "    <tr>\n",
       "      <th>9</th>\n",
       "      <td>UUG</td>\n",
       "      <td>SRX026871</td>\n",
       "      <td>883</td>\n",
       "    </tr>\n",
       "    <tr>\n",
       "      <th>10</th>\n",
       "      <td>AAG</td>\n",
       "      <td>SRX1149649</td>\n",
       "      <td>1736</td>\n",
       "    </tr>\n",
       "    <tr>\n",
       "      <th>11</th>\n",
       "      <td>ACG</td>\n",
       "      <td>SRX1149649</td>\n",
       "      <td>898</td>\n",
       "    </tr>\n",
       "    <tr>\n",
       "      <th>12</th>\n",
       "      <td>AGG</td>\n",
       "      <td>SRX1149649</td>\n",
       "      <td>2647</td>\n",
       "    </tr>\n",
       "    <tr>\n",
       "      <th>13</th>\n",
       "      <td>AUA</td>\n",
       "      <td>SRX1149649</td>\n",
       "      <td>374</td>\n",
       "    </tr>\n",
       "    <tr>\n",
       "      <th>14</th>\n",
       "      <td>AUC</td>\n",
       "      <td>SRX1149649</td>\n",
       "      <td>844</td>\n",
       "    </tr>\n",
       "    <tr>\n",
       "      <th>15</th>\n",
       "      <td>AUG</td>\n",
       "      <td>SRX1149649</td>\n",
       "      <td>1034</td>\n",
       "    </tr>\n",
       "    <tr>\n",
       "      <th>16</th>\n",
       "      <td>AUU</td>\n",
       "      <td>SRX1149649</td>\n",
       "      <td>844</td>\n",
       "    </tr>\n",
       "    <tr>\n",
       "      <th>17</th>\n",
       "      <td>CUG</td>\n",
       "      <td>SRX1149649</td>\n",
       "      <td>2968</td>\n",
       "    </tr>\n",
       "    <tr>\n",
       "      <th>18</th>\n",
       "      <td>GUG</td>\n",
       "      <td>SRX1149649</td>\n",
       "      <td>2075</td>\n",
       "    </tr>\n",
       "    <tr>\n",
       "      <th>19</th>\n",
       "      <td>UUG</td>\n",
       "      <td>SRX1149649</td>\n",
       "      <td>1232</td>\n",
       "    </tr>\n",
       "    <tr>\n",
       "      <th>20</th>\n",
       "      <td>AAG</td>\n",
       "      <td>SRX1900396</td>\n",
       "      <td>444</td>\n",
       "    </tr>\n",
       "    <tr>\n",
       "      <th>21</th>\n",
       "      <td>ACG</td>\n",
       "      <td>SRX1900396</td>\n",
       "      <td>236</td>\n",
       "    </tr>\n",
       "    <tr>\n",
       "      <th>22</th>\n",
       "      <td>AGG</td>\n",
       "      <td>SRX1900396</td>\n",
       "      <td>698</td>\n",
       "    </tr>\n",
       "    <tr>\n",
       "      <th>23</th>\n",
       "      <td>AUA</td>\n",
       "      <td>SRX1900396</td>\n",
       "      <td>106</td>\n",
       "    </tr>\n",
       "    <tr>\n",
       "      <th>24</th>\n",
       "      <td>AUC</td>\n",
       "      <td>SRX1900396</td>\n",
       "      <td>204</td>\n",
       "    </tr>\n",
       "    <tr>\n",
       "      <th>25</th>\n",
       "      <td>AUG</td>\n",
       "      <td>SRX1900396</td>\n",
       "      <td>208</td>\n",
       "    </tr>\n",
       "    <tr>\n",
       "      <th>26</th>\n",
       "      <td>AUU</td>\n",
       "      <td>SRX1900396</td>\n",
       "      <td>186</td>\n",
       "    </tr>\n",
       "    <tr>\n",
       "      <th>27</th>\n",
       "      <td>CUG</td>\n",
       "      <td>SRX1900396</td>\n",
       "      <td>704</td>\n",
       "    </tr>\n",
       "    <tr>\n",
       "      <th>28</th>\n",
       "      <td>GUG</td>\n",
       "      <td>SRX1900396</td>\n",
       "      <td>570</td>\n",
       "    </tr>\n",
       "    <tr>\n",
       "      <th>29</th>\n",
       "      <td>UUG</td>\n",
       "      <td>SRX1900396</td>\n",
       "      <td>316</td>\n",
       "    </tr>\n",
       "    <tr>\n",
       "      <th>30</th>\n",
       "      <td>AAG</td>\n",
       "      <td>SRX2255510</td>\n",
       "      <td>1249</td>\n",
       "    </tr>\n",
       "    <tr>\n",
       "      <th>31</th>\n",
       "      <td>ACG</td>\n",
       "      <td>SRX2255510</td>\n",
       "      <td>718</td>\n",
       "    </tr>\n",
       "    <tr>\n",
       "      <th>32</th>\n",
       "      <td>AGG</td>\n",
       "      <td>SRX2255510</td>\n",
       "      <td>1951</td>\n",
       "    </tr>\n",
       "    <tr>\n",
       "      <th>33</th>\n",
       "      <td>AUA</td>\n",
       "      <td>SRX2255510</td>\n",
       "      <td>290</td>\n",
       "    </tr>\n",
       "    <tr>\n",
       "      <th>34</th>\n",
       "      <td>AUC</td>\n",
       "      <td>SRX2255510</td>\n",
       "      <td>544</td>\n",
       "    </tr>\n",
       "    <tr>\n",
       "      <th>35</th>\n",
       "      <td>AUG</td>\n",
       "      <td>SRX2255510</td>\n",
       "      <td>617</td>\n",
       "    </tr>\n",
       "    <tr>\n",
       "      <th>36</th>\n",
       "      <td>AUU</td>\n",
       "      <td>SRX2255510</td>\n",
       "      <td>479</td>\n",
       "    </tr>\n",
       "    <tr>\n",
       "      <th>37</th>\n",
       "      <td>CUG</td>\n",
       "      <td>SRX2255510</td>\n",
       "      <td>2101</td>\n",
       "    </tr>\n",
       "    <tr>\n",
       "      <th>38</th>\n",
       "      <td>GUG</td>\n",
       "      <td>SRX2255510</td>\n",
       "      <td>1636</td>\n",
       "    </tr>\n",
       "    <tr>\n",
       "      <th>39</th>\n",
       "      <td>UUG</td>\n",
       "      <td>SRX2255510</td>\n",
       "      <td>966</td>\n",
       "    </tr>\n",
       "    <tr>\n",
       "      <th>40</th>\n",
       "      <td>AAG</td>\n",
       "      <td>SRX3110803</td>\n",
       "      <td>709</td>\n",
       "    </tr>\n",
       "    <tr>\n",
       "      <th>41</th>\n",
       "      <td>ACG</td>\n",
       "      <td>SRX3110803</td>\n",
       "      <td>413</td>\n",
       "    </tr>\n",
       "    <tr>\n",
       "      <th>42</th>\n",
       "      <td>AGG</td>\n",
       "      <td>SRX3110803</td>\n",
       "      <td>1164</td>\n",
       "    </tr>\n",
       "    <tr>\n",
       "      <th>43</th>\n",
       "      <td>AUA</td>\n",
       "      <td>SRX3110803</td>\n",
       "      <td>151</td>\n",
       "    </tr>\n",
       "    <tr>\n",
       "      <th>44</th>\n",
       "      <td>AUC</td>\n",
       "      <td>SRX3110803</td>\n",
       "      <td>333</td>\n",
       "    </tr>\n",
       "    <tr>\n",
       "      <th>45</th>\n",
       "      <td>AUG</td>\n",
       "      <td>SRX3110803</td>\n",
       "      <td>377</td>\n",
       "    </tr>\n",
       "    <tr>\n",
       "      <th>46</th>\n",
       "      <td>AUU</td>\n",
       "      <td>SRX3110803</td>\n",
       "      <td>321</td>\n",
       "    </tr>\n",
       "    <tr>\n",
       "      <th>47</th>\n",
       "      <td>CUG</td>\n",
       "      <td>SRX3110803</td>\n",
       "      <td>1258</td>\n",
       "    </tr>\n",
       "    <tr>\n",
       "      <th>48</th>\n",
       "      <td>GUG</td>\n",
       "      <td>SRX3110803</td>\n",
       "      <td>968</td>\n",
       "    </tr>\n",
       "    <tr>\n",
       "      <th>49</th>\n",
       "      <td>UUG</td>\n",
       "      <td>SRX3110803</td>\n",
       "      <td>542</td>\n",
       "    </tr>\n",
       "  </tbody>\n",
       "</table>\n",
       "</div>"
      ],
      "text/plain": [
       "   codon     dataset  value\n",
       "0    AAG   SRX026871   1072\n",
       "1    ACG   SRX026871    692\n",
       "2    AGG   SRX026871   1788\n",
       "3    AUA   SRX026871    250\n",
       "4    AUC   SRX026871    507\n",
       "5    AUG   SRX026871    484\n",
       "6    AUU   SRX026871    511\n",
       "7    CUG   SRX026871   1912\n",
       "8    GUG   SRX026871   1478\n",
       "9    UUG   SRX026871    883\n",
       "10   AAG  SRX1149649   1736\n",
       "11   ACG  SRX1149649    898\n",
       "12   AGG  SRX1149649   2647\n",
       "13   AUA  SRX1149649    374\n",
       "14   AUC  SRX1149649    844\n",
       "15   AUG  SRX1149649   1034\n",
       "16   AUU  SRX1149649    844\n",
       "17   CUG  SRX1149649   2968\n",
       "18   GUG  SRX1149649   2075\n",
       "19   UUG  SRX1149649   1232\n",
       "20   AAG  SRX1900396    444\n",
       "21   ACG  SRX1900396    236\n",
       "22   AGG  SRX1900396    698\n",
       "23   AUA  SRX1900396    106\n",
       "24   AUC  SRX1900396    204\n",
       "25   AUG  SRX1900396    208\n",
       "26   AUU  SRX1900396    186\n",
       "27   CUG  SRX1900396    704\n",
       "28   GUG  SRX1900396    570\n",
       "29   UUG  SRX1900396    316\n",
       "30   AAG  SRX2255510   1249\n",
       "31   ACG  SRX2255510    718\n",
       "32   AGG  SRX2255510   1951\n",
       "33   AUA  SRX2255510    290\n",
       "34   AUC  SRX2255510    544\n",
       "35   AUG  SRX2255510    617\n",
       "36   AUU  SRX2255510    479\n",
       "37   CUG  SRX2255510   2101\n",
       "38   GUG  SRX2255510   1636\n",
       "39   UUG  SRX2255510    966\n",
       "40   AAG  SRX3110803    709\n",
       "41   ACG  SRX3110803    413\n",
       "42   AGG  SRX3110803   1164\n",
       "43   AUA  SRX3110803    151\n",
       "44   AUC  SRX3110803    333\n",
       "45   AUG  SRX3110803    377\n",
       "46   AUU  SRX3110803    321\n",
       "47   CUG  SRX3110803   1258\n",
       "48   GUG  SRX3110803    968\n",
       "49   UUG  SRX3110803    542"
      ]
     },
     "execution_count": 135,
     "metadata": {},
     "output_type": "execute_result"
    }
   ],
   "source": [
    "mouse_start_codons_melt"
   ]
  },
  {
   "cell_type": "code",
   "execution_count": null,
   "metadata": {},
   "outputs": [],
   "source": []
  }
 ],
 "metadata": {
  "kernelspec": {
   "display_name": "Python [conda env:riboraptor]",
   "language": "python",
   "name": "conda-env-riboraptor-py"
  },
  "language_info": {
   "codemirror_mode": {
    "name": "ipython",
    "version": 3
   },
   "file_extension": ".py",
   "mimetype": "text/x-python",
   "name": "python",
   "nbconvert_exporter": "python",
   "pygments_lexer": "ipython3",
   "version": "3.6.7"
  }
 },
 "nbformat": 4,
 "nbformat_minor": 2
}
