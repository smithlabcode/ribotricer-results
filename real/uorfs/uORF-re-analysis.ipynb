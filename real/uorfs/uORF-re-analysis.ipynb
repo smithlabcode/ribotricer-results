{
 "cells": [
  {
   "cell_type": "code",
   "execution_count": 1,
   "metadata": {},
   "outputs": [
    {
     "name": "stdout",
     "output_type": "stream",
     "text": [
      "Populating the interactive namespace from numpy and matplotlib\n"
     ]
    }
   ],
   "source": [
    "%pylab inline\n",
    "import re\n",
    "import pandas as pd\n",
    "from collections import Counter\n",
    "from collections import OrderedDict\n",
    "\n",
    "import matplotlib\n",
    "import seaborn as sns\n",
    "#import pyupset as pyu\n",
    "from riboraptor.helpers import path_leaf\n",
    "\n",
    "\n",
    "\n",
    "matplotlib.rcParams['pdf.fonttype'] = 42\n",
    "matplotlib.rcParams['ps.fonttype'] = 42\n",
    "\n",
    "sns.set_style('white')\n",
    "sns.set_context('paper', font_scale=2)\n",
    "\n",
    "def strip_tx_version(txid):\n",
    "    return re.sub(r\"\\.[0-9]+\", \"\", txid)\n",
    "\n",
    "def counts_to_tpm(counts, sizes):\n",
    "    \"\"\"Counts to TPM\n",
    "    Parameters\n",
    "    ----------\n",
    "    counts: array like\n",
    "            Series/array of counts\n",
    "    sizes: array like\n",
    "           Series/array of region sizes\n",
    "    \"\"\"\n",
    "    rate = np.log(counts).subtract(np.log(sizes))\n",
    "    denom = np.log(np.sum(np.exp(rate)))\n",
    "    tpm = np.exp(rate - denom + np.log(1e6))\n",
    "    return tpm\n",
    "\n",
    "def featurecounts_to_tpm(fc_f, outfile):\n",
    "    \"\"\"Convert htseq-counts file to tpm\n",
    "    Parameters\n",
    "    ----------\n",
    "    fc_f: string\n",
    "             Path to htseq-count output\n",
    "    outfile: string\n",
    "             Path to output file with tpm values\n",
    "    \"\"\"\n",
    "    feature_counts = pd.read_csv(fc_f, sep='\\t', skiprows=[0])\n",
    "    feature_counts.Geneid = [strip_tx_version(x) for x in feature_counts.Geneid]\n",
    "    feature_counts = feature_counts.sort_values(by='Geneid').set_index('Geneid')\n",
    "    feature_counts = feature_counts.drop(\n",
    "        columns=[\"Chr\", \"Start\", \"End\", \"Strand\"]\n",
    "    )\n",
    "    lengths = feature_counts[\"Length\"]\n",
    "    feature_counts = feature_counts.drop(columns=[\"Length\"])\n",
    "    tpm = feature_counts.apply(lambda x: counts_to_tpm(x, lengths), axis=0)\n",
    "    tpm.columns = [col.replace('bams_unique/', '').replace('.bam', '') for col in tpm.columns]\n",
    "    tpm.to_csv(outfile, sep=\"\\t\", index=True, header=True)"
   ]
  },
  {
   "cell_type": "code",
   "execution_count": 11,
   "metadata": {},
   "outputs": [
    {
     "name": "stderr",
     "output_type": "stream",
     "text": [
      "/home/cmb-06/as/skchoudh/software_frozen/anaconda37/envs/riboraptor/lib/python3.6/site-packages/ipykernel_launcher.py:32: RuntimeWarning: divide by zero encountered in log\n",
      "/home/cmb-06/as/skchoudh/software_frozen/anaconda37/envs/riboraptor/lib/python3.6/site-packages/ipykernel_launcher.py:32: RuntimeWarning: divide by zero encountered in log\n"
     ]
    }
   ],
   "source": [
    "featurecounts_to_tpm('/home/cmb-06/as/skchoudh/ribotricer-rna-bams/hg38/fcounts_CDS.tsv', '/home/cmb-06/as/skchoudh/ribotricer-rna-bams/hg38/fcounts_CDS.tpm.tsv')\n",
    "featurecounts_to_tpm('/home/cmb-06/as/skchoudh/ribotricer-rna-bams/hg38/fcounts_exon.tsv', '/home/cmb-06/as/skchoudh/ribotricer-rna-bams/hg38/fcounts_exon.tpm.tsv')"
   ]
  },
  {
   "cell_type": "code",
   "execution_count": 13,
   "metadata": {},
   "outputs": [
    {
     "name": "stderr",
     "output_type": "stream",
     "text": [
      "/home/cmb-06/as/skchoudh/software_frozen/anaconda37/envs/riboraptor/lib/python3.6/site-packages/ipykernel_launcher.py:32: RuntimeWarning: divide by zero encountered in log\n",
      "/home/cmb-06/as/skchoudh/software_frozen/anaconda37/envs/riboraptor/lib/python3.6/site-packages/ipykernel_launcher.py:32: RuntimeWarning: divide by zero encountered in log\n"
     ]
    }
   ],
   "source": [
    "featurecounts_to_tpm('/home/cmb-06/as/skchoudh/ribotricer-rna-bams/mm10/fcounts_CDS.tsv', '/home/cmb-06/as/skchoudh/ribotricer-rna-bams/mm10/fcounts_CDS.tpm.tsv')\n",
    "featurecounts_to_tpm('/home/cmb-06/as/skchoudh/ribotricer-rna-bams/mm10/fcounts_exon.tsv', '/home/cmb-06/as/skchoudh/ribotricer-rna-bams/mm10/fcounts_exon.tpm.tsv')"
   ]
  },
  {
   "cell_type": "code",
   "execution_count": 14,
   "metadata": {},
   "outputs": [],
   "source": [
    "tpm_hg_cds = pd.read_csv('//home/cmb-06//as/skchoudh/ribotricer-rna-bams/hg38/fcounts_CDS.tpm.tsv', sep='\\t')\n",
    "for col in tpm_hg_cds.columns[1:]:\n",
    "    #print(col, tpm_hg_cds[col][tpm_hg_cds[col]>1].shape)\n",
    "    genelist =  sorted(tpm_hg_cds[tpm_hg_cds[col]>1].Geneid.tolist())\n",
    "    with open('/staging/as/skchoudh/ribotricer-rna-bams/tpm-filtered-genes/hg38/{}_cds.txt'.format(col), 'w') as fh:\n",
    "        for gene in genelist:\n",
    "            fh.write('{}\\n'.format(gene))\n",
    "    \n"
   ]
  },
  {
   "cell_type": "code",
   "execution_count": 15,
   "metadata": {},
   "outputs": [],
   "source": [
    "tpm_hg_exon = pd.read_csv('//home/cmb-06//as/skchoudh/ribotricer-rna-bams/hg38/fcounts_exon.tpm.tsv', sep='\\t')\n",
    "for col in tpm_hg_exon.columns[1:]:\n",
    "    #print(col, tpm_hg_exon[col][tpm_hg_exon[col]>1].shape)\n",
    "    genelist =  sorted(tpm_hg_exon[tpm_hg_exon[col]>1].Geneid.tolist())\n",
    "    with open('//home/cmb-06//as/skchoudh/ribotricer-rna-bams/tpm-filtered-genes/hg38/{}_exon.txt'.format(col), 'w') as fh:\n",
    "        for gene in genelist:\n",
    "            fh.write('{}\\n'.format(gene))\n",
    "    \n"
   ]
  },
  {
   "cell_type": "code",
   "execution_count": 16,
   "metadata": {},
   "outputs": [],
   "source": [
    "tpm_mm_cds = pd.read_csv('//home/cmb-06//as/skchoudh/ribotricer-rna-bams/mm10/fcounts_CDS.tpm.tsv', sep='\\t')\n",
    "for col in tpm_mm_cds.columns[1:]:\n",
    "    #print(col, tpm_mm_cds[col][tpm_mm_cds[col]>1].shape)\n",
    "    genelist =  sorted(tpm_mm_cds[tpm_mm_cds[col]>1].Geneid.tolist())\n",
    "    with open('/staging/as/skchoudh/ribotricer-rna-bams/tpm-filtered-genes/mm10/{}_cds.txt'.format(col), 'w') as fh:\n",
    "        for gene in genelist:\n",
    "            fh.write('{}\\n'.format(gene))\n",
    "    \n",
    "tpm_mm_exon = pd.read_csv('//home/cmb-06//as/skchoudh/ribotricer-rna-bams/mm10/fcounts_exon.tpm.tsv', sep='\\t')\n",
    "for col in tpm_mm_exon.columns[1:]:\n",
    "    #print(col, tpm_mm_exon[col][tpm_mm_exon[col]>1].shape)\n",
    "    genelist =  sorted(tpm_mm_exon[tpm_mm_exon[col]>1].Geneid.tolist())\n",
    "    with open('//home/cmb-06//as/skchoudh/ribotricer-rna-bams/tpm-filtered-genes/mm10/{}_exon.txt'.format(col), 'w') as fh:\n",
    "        for gene in genelist:\n",
    "            fh.write('{}\\n'.format(gene))\n",
    "    \n"
   ]
  },
  {
   "cell_type": "code",
   "execution_count": 17,
   "metadata": {},
   "outputs": [],
   "source": [
    "def read_cds_uorfs_startcodons(filelist):\n",
    "    cds = OrderedDict()\n",
    "    uorfs = OrderedDict()\n",
    "    start_codons = OrderedDict()\n",
    "    cds_df = pd.DataFrame()\n",
    "    uorfs_df = pd.DataFrame()\n",
    "    start_codons_df = pd.DataFrame()\n",
    "    for fin in filelist:\n",
    "        key = path_leaf(fin).replace('_translating_ORFs.tsv', '')\n",
    "        df = pd.read_table(fin, header=0, sep='\\t', usecols=['ORF_ID', 'ORF_type', 'status', 'length', 'transcript_id', 'gene_id', 'gene_name', 'start_codon'])\n",
    "        a = df.loc[(df['ORF_type'] == 'annotated') & (df['status'] == 'translating'), 'gene_id'].tolist()        \n",
    "        cds_df_key = pd.DataFrame(list(set(a)), columns=['gene_id']).set_index('gene_id')\n",
    "        cds_df_key[key] = 1\n",
    "        cds_df = cds_df.join(cds_df_key, how='outer')\n",
    "        b = df.loc[(df['ORF_type'] == 'super_uORF') & (df['status'] == 'translating'), 'gene_id'].tolist()        \n",
    "        uorfs_df_key = pd.DataFrame(list(set(b)), columns=['gene_id']).set_index('gene_id')\n",
    "        uorfs_df_key[key] = 1\n",
    "        uorfs_df = uorfs_df.join(uorfs_df_key, how='outer')\n",
    "        \n",
    "        s = df.loc[(df['ORF_type'] == 'super_uORF') & (df['status'] == 'translating'), 'start_codon'].tolist()\n",
    "        start_codons_df_key = pd.DataFrame.from_dict(Counter(s), orient='index', columns=[key])\n",
    "        start_codons_df = start_codons_df.join(start_codons_df_key, how='outer')\n",
    "        \n",
    "        start_codons[key] = s\n",
    "    cds_df = cds_df.fillna(0)\n",
    "    cds_df = cds_df.astype(int)\n",
    "    \n",
    "    uorfs_df = uorfs_df.fillna(0)\n",
    "    uorfs_df = uorfs_df.astype(int)\n",
    "    \n",
    "    start_codons_df = start_codons_df.fillna(0)\n",
    "    start_codons_df = start_codons_df.astype(int)\n",
    "    \n",
    "    cds_df = cds_df.sort_index().reset_index()\n",
    "    cds_df['gene_id'] = cds_df['gene_id'].apply(strip_tx_version)\n",
    "    \n",
    "    uorfs_df = uorfs_df.sort_index().reset_index()\n",
    "    uorfs_df['gene_id'] = uorfs_df['gene_id'].apply(strip_tx_version)\n",
    "    \n",
    "    start_codons_df = start_codons_df.sort_index().reset_index().rename(columns={'index': 'codon'})\n",
    "    \n",
    "    \n",
    "    return cds_df, uorfs_df, start_codons_df"
   ]
  },
  {
   "cell_type": "code",
   "execution_count": 18,
   "metadata": {},
   "outputs": [],
   "source": [
    "mouse_files  = ['/home/cmb-panasas2/wenzhenl/benchmark/uorfs/mouse/SRP003554_mouse/SRX026871_translating_ORFs.tsv',\n",
    "           '/home/cmb-panasas2/wenzhenl/benchmark/uorfs/mouse/SRP062407_mouse/SRX1149649_translating_ORFs.tsv',\n",
    "           '/home/cmb-panasas2/wenzhenl/benchmark/uorfs/mouse/SRP078005_mouse/SRX1900396_translating_ORFs.tsv',\n",
    "           '/home/cmb-panasas2/wenzhenl/benchmark/uorfs/mouse/SRP091889_mouse/SRX2255510_translating_ORFs.tsv',\n",
    "           '/home/cmb-panasas2/wenzhenl/benchmark/uorfs/mouse/SRP115915_mouse/SRX3110803_translating_ORFs.tsv']\n",
    "\n",
    "\n",
    "human_files = ['/home/cmb-panasas2/wenzhenl/benchmark/uorfs/human/SRP010679_human/SRX118286_translating_ORFs.tsv',\n",
    "               '/home/cmb-panasas2/wenzhenl/benchmark/uorfs/human/SRP063852_human/SRX1254413_translating_ORFs.tsv',\n",
    "               '/home/cmb-panasas2/wenzhenl/benchmark/uorfs/human/SRP098789_human/SRX2536421_translating_ORFs.tsv',\n",
    "               '/home/cmb-panasas2/wenzhenl/benchmark/uorfs/human/SRP102021_human/SRX2647167_translating_ORFs.tsv']\n"
   ]
  },
  {
   "cell_type": "code",
   "execution_count": 19,
   "metadata": {},
   "outputs": [],
   "source": [
    "ribotricer_index_mm = pd.read_csv('/home/cmb-panasas2/skchoudh/genomes/mm10/ribotricer_vM11_longest_candidate_orfs.tsv', sep='\\t')\n",
    "ribotricer_index_mm.gene_id = [re.sub(r\"\\.[0-9]+\", \"\", x) for x in ribotricer_index_mm.gene_id]\n",
    "\n",
    "ribotricer_index_mm_subset = ribotricer_index_mm[['gene_id', 'ORF_type']].drop_duplicates().sort_values(by='gene_id')\n",
    "ribotricer_index_mm_subset.gene_id = [re.sub(r\"\\.[0-9]+\", \"\", x) for x in ribotricer_index_mm_subset.gene_id]\n",
    "ribotricer_index_mm_subset_cds = set(ribotricer_index_mm[ribotricer_index_mm.ORF_type=='annotated'].gene_id.tolist())\n",
    "ribotricer_index_mm_subset_uorf = set(ribotricer_index_mm[ribotricer_index_mm.ORF_type=='super_uORF'].gene_id.tolist())"
   ]
  },
  {
   "cell_type": "code",
   "execution_count": 20,
   "metadata": {},
   "outputs": [],
   "source": [
    "ribotricer_index_hg = pd.read_csv('/home/cmb-panasas2/skchoudh/genomes/hg38/ribotricer_v25_longest_candidate_orfs.tsv', sep='\\t')\n",
    "ribotricer_index_hg.gene_id = [re.sub(r\"\\.[0-9]+\", \"\", x) for x in ribotricer_index_hg.gene_id]\n",
    "ribotricer_index_hg_subset = ribotricer_index_hg[['gene_id', 'ORF_type']].drop_duplicates().sort_values(by='gene_id')\n",
    "ribotricer_index_hg_subset.gene_id = [re.sub(r\"\\.[0-9]+\", \"\", x) for x in ribotricer_index_hg_subset.gene_id]\n",
    "ribotricer_index_hg_subset_cds = set(ribotricer_index_hg[ribotricer_index_hg.ORF_type=='annotated'].gene_id.tolist())\n",
    "ribotricer_index_hg_subset_uorf = set(ribotricer_index_hg[ribotricer_index_hg.ORF_type=='super_uORF'].gene_id.tolist())"
   ]
  },
  {
   "cell_type": "code",
   "execution_count": 21,
   "metadata": {},
   "outputs": [
    {
     "name": "stderr",
     "output_type": "stream",
     "text": [
      "/home/cmb-06/as/skchoudh/software_frozen/anaconda37/envs/riboraptor/lib/python3.6/site-packages/ipykernel_launcher.py:10: FutureWarning: read_table is deprecated, use read_csv instead.\n",
      "  # Remove the CWD from sys.path while we load stuff.\n"
     ]
    }
   ],
   "source": [
    "cds_df_hg, uorfs_df_hg, start_codons_df_hg = read_cds_uorfs_startcodons(human_files)\n",
    "cds_df_mm, uorfs_df_mm, start_codons_df_mm = read_cds_uorfs_startcodons(mouse_files)"
   ]
  },
  {
   "cell_type": "code",
   "execution_count": 22,
   "metadata": {},
   "outputs": [
    {
     "data": {
      "text/plain": [
       "Index(['gene_id', 'SRX118286', 'SRX1254413', 'SRX2536421', 'SRX2647167'], dtype='object')"
      ]
     },
     "execution_count": 22,
     "metadata": {},
     "output_type": "execute_result"
    }
   ],
   "source": [
    "cds_df_hg.columns"
   ]
  },
  {
   "cell_type": "code",
   "execution_count": 23,
   "metadata": {},
   "outputs": [
    {
     "data": {
      "text/html": [
       "<div>\n",
       "<style scoped>\n",
       "    .dataframe tbody tr th:only-of-type {\n",
       "        vertical-align: middle;\n",
       "    }\n",
       "\n",
       "    .dataframe tbody tr th {\n",
       "        vertical-align: top;\n",
       "    }\n",
       "\n",
       "    .dataframe thead th {\n",
       "        text-align: right;\n",
       "    }\n",
       "</style>\n",
       "<table border=\"1\" class=\"dataframe\">\n",
       "  <thead>\n",
       "    <tr style=\"text-align: right;\">\n",
       "      <th></th>\n",
       "      <th>GEO</th>\n",
       "      <th>Treatment</th>\n",
       "      <th>SRA</th>\n",
       "      <th>RIBO sample</th>\n",
       "      <th>RIBO Reads</th>\n",
       "      <th>RNA sample</th>\n",
       "      <th>RNA reads</th>\n",
       "      <th>read lengths</th>\n",
       "      <th>offsets</th>\n",
       "      <th>RIBO adapter</th>\n",
       "      <th>RNA adapter</th>\n",
       "      <th>RIBO strandedness</th>\n",
       "      <th>RNA strandedness</th>\n",
       "    </tr>\n",
       "  </thead>\n",
       "  <tbody>\n",
       "    <tr>\n",
       "      <th>0</th>\n",
       "      <td>GSE35469</td>\n",
       "      <td>cycloheximide (100 µg/mL)</td>\n",
       "      <td>SRP010679</td>\n",
       "      <td>SRX118286</td>\n",
       "      <td>3272861.0</td>\n",
       "      <td>SRX118285</td>\n",
       "      <td>12295725.0</td>\n",
       "      <td>28,29,30</td>\n",
       "      <td>12,13,13</td>\n",
       "      <td>CTGTAGGCAC</td>\n",
       "      <td>CTGTAGGCAC</td>\n",
       "      <td>forward</td>\n",
       "      <td>forward</td>\n",
       "    </tr>\n",
       "    <tr>\n",
       "      <th>1</th>\n",
       "      <td>SRA099816</td>\n",
       "      <td>cycloheximide</td>\n",
       "      <td>SRP029589</td>\n",
       "      <td>SRX345309</td>\n",
       "      <td>16394658.0</td>\n",
       "      <td>SRX345311</td>\n",
       "      <td>54889111.0</td>\n",
       "      <td>29,30,32</td>\n",
       "      <td>12,12,13</td>\n",
       "      <td>CTGTAGGCACCATCAAT</td>\n",
       "      <td>CTGTAGGCACCATCAAT</td>\n",
       "      <td>forward</td>\n",
       "      <td>forward</td>\n",
       "    </tr>\n",
       "    <tr>\n",
       "      <th>2</th>\n",
       "      <td>GSE73136</td>\n",
       "      <td>cycloheximide</td>\n",
       "      <td>SRP063852</td>\n",
       "      <td>SRX1254413</td>\n",
       "      <td>NaN</td>\n",
       "      <td>SRX426378</td>\n",
       "      <td>NaN</td>\n",
       "      <td>28,29,30</td>\n",
       "      <td>12,12,12</td>\n",
       "      <td>None</td>\n",
       "      <td>None</td>\n",
       "      <td>forward</td>\n",
       "      <td>forward</td>\n",
       "    </tr>\n",
       "    <tr>\n",
       "      <th>3</th>\n",
       "      <td>GSE94454</td>\n",
       "      <td>NaN</td>\n",
       "      <td>SRP098789</td>\n",
       "      <td>SRX2536421</td>\n",
       "      <td>NaN</td>\n",
       "      <td>SRX2536426</td>\n",
       "      <td>NaN</td>\n",
       "      <td>28,30</td>\n",
       "      <td>12,13</td>\n",
       "      <td>CTGTAGGCACCATCAAT</td>\n",
       "      <td>CTGTAGGCACCATCAAT</td>\n",
       "      <td>forward</td>\n",
       "      <td>forward</td>\n",
       "    </tr>\n",
       "    <tr>\n",
       "      <th>4</th>\n",
       "      <td>GSE96716</td>\n",
       "      <td>NaN</td>\n",
       "      <td>SRP102021</td>\n",
       "      <td>SRX2647167</td>\n",
       "      <td>NaN</td>\n",
       "      <td>SRX2647164</td>\n",
       "      <td>NaN</td>\n",
       "      <td>28,29,30,31</td>\n",
       "      <td>12,12,12,12</td>\n",
       "      <td>TCGTATGCCGTCTTCTGCTTG</td>\n",
       "      <td>None</td>\n",
       "      <td>forward</td>\n",
       "      <td>forward</td>\n",
       "    </tr>\n",
       "    <tr>\n",
       "      <th>5</th>\n",
       "      <td>GSE87328</td>\n",
       "      <td>NaN</td>\n",
       "      <td>SRP090415</td>\n",
       "      <td>SRX2189157</td>\n",
       "      <td>NaN</td>\n",
       "      <td>SRX2189154</td>\n",
       "      <td>NaN</td>\n",
       "      <td>26,27,28,29,30</td>\n",
       "      <td>12,12,12,12,12</td>\n",
       "      <td>CTGTAGGCACCATCAAT</td>\n",
       "      <td>AGATCGGAAGAGCACAC</td>\n",
       "      <td>forward</td>\n",
       "      <td>reverse</td>\n",
       "    </tr>\n",
       "    <tr>\n",
       "      <th>6</th>\n",
       "      <td>GSE89183</td>\n",
       "      <td>NaN</td>\n",
       "      <td>SRP092068</td>\n",
       "      <td>SRX2268404</td>\n",
       "      <td>NaN</td>\n",
       "      <td>SRX2268396</td>\n",
       "      <td>NaN</td>\n",
       "      <td>26,27,28,29,30</td>\n",
       "      <td>12,12,12,12,12</td>\n",
       "      <td>AGATCGGAAGAGCACACGTCT</td>\n",
       "      <td>None</td>\n",
       "      <td>forward</td>\n",
       "      <td>reverse</td>\n",
       "    </tr>\n",
       "    <tr>\n",
       "      <th>7</th>\n",
       "      <td>GSE96714</td>\n",
       "      <td>NaN</td>\n",
       "      <td>SRP102020</td>\n",
       "      <td>SRX2647162</td>\n",
       "      <td>NaN</td>\n",
       "      <td>SRX2647160</td>\n",
       "      <td>NaN</td>\n",
       "      <td>29,30</td>\n",
       "      <td>12,12</td>\n",
       "      <td>TCGTATGCCGTCTTCTGCTTG</td>\n",
       "      <td>None</td>\n",
       "      <td>forward</td>\n",
       "      <td>no</td>\n",
       "    </tr>\n",
       "    <tr>\n",
       "      <th>8</th>\n",
       "      <td>GSE67902</td>\n",
       "      <td>NaN</td>\n",
       "      <td>SRP057253</td>\n",
       "      <td>NaN</td>\n",
       "      <td>NaN</td>\n",
       "      <td>NaN</td>\n",
       "      <td>NaN</td>\n",
       "      <td>NaN</td>\n",
       "      <td>NaN</td>\n",
       "      <td>NaN</td>\n",
       "      <td>NaN</td>\n",
       "      <td>NaN</td>\n",
       "      <td>NaN</td>\n",
       "    </tr>\n",
       "  </tbody>\n",
       "</table>\n",
       "</div>"
      ],
      "text/plain": [
       "         GEO                  Treatment        SRA RIBO sample  RIBO Reads  \\\n",
       "0   GSE35469  cycloheximide (100 µg/mL)  SRP010679   SRX118286   3272861.0   \n",
       "1  SRA099816              cycloheximide  SRP029589   SRX345309  16394658.0   \n",
       "2   GSE73136              cycloheximide  SRP063852  SRX1254413         NaN   \n",
       "3   GSE94454                        NaN  SRP098789  SRX2536421         NaN   \n",
       "4   GSE96716                        NaN  SRP102021  SRX2647167         NaN   \n",
       "5   GSE87328                        NaN  SRP090415  SRX2189157         NaN   \n",
       "6   GSE89183                        NaN  SRP092068  SRX2268404         NaN   \n",
       "7   GSE96714                        NaN  SRP102020  SRX2647162         NaN   \n",
       "8   GSE67902                        NaN  SRP057253         NaN         NaN   \n",
       "\n",
       "   RNA sample   RNA reads    read lengths         offsets  \\\n",
       "0   SRX118285  12295725.0        28,29,30        12,13,13   \n",
       "1   SRX345311  54889111.0        29,30,32        12,12,13   \n",
       "2   SRX426378         NaN        28,29,30        12,12,12   \n",
       "3  SRX2536426         NaN           28,30           12,13   \n",
       "4  SRX2647164         NaN     28,29,30,31     12,12,12,12   \n",
       "5  SRX2189154         NaN  26,27,28,29,30  12,12,12,12,12   \n",
       "6  SRX2268396         NaN  26,27,28,29,30  12,12,12,12,12   \n",
       "7  SRX2647160         NaN           29,30           12,12   \n",
       "8         NaN         NaN             NaN             NaN   \n",
       "\n",
       "            RIBO adapter        RNA adapter RIBO strandedness RNA strandedness  \n",
       "0             CTGTAGGCAC         CTGTAGGCAC           forward          forward  \n",
       "1      CTGTAGGCACCATCAAT  CTGTAGGCACCATCAAT           forward          forward  \n",
       "2                   None               None           forward          forward  \n",
       "3      CTGTAGGCACCATCAAT  CTGTAGGCACCATCAAT           forward          forward  \n",
       "4  TCGTATGCCGTCTTCTGCTTG               None           forward          forward  \n",
       "5      CTGTAGGCACCATCAAT  AGATCGGAAGAGCACAC           forward          reverse  \n",
       "6  AGATCGGAAGAGCACACGTCT               None           forward          reverse  \n",
       "7  TCGTATGCCGTCTTCTGCTTG               None           forward               no  \n",
       "8                    NaN                NaN               NaN              NaN  "
      ]
     },
     "execution_count": 23,
     "metadata": {},
     "output_type": "execute_result"
    }
   ],
   "source": [
    "data = pd.read_excel('/home/cmb-panasas2/skchoudh/github_projects/ribocop-results/datasets_info.xlsx')\n",
    "data.loc[data.SRA=='SRP063852', 'RNA sample'] = 'SRX426378'\n",
    "data\n"
   ]
  },
  {
   "cell_type": "code",
   "execution_count": 24,
   "metadata": {},
   "outputs": [],
   "source": [
    "filter_type = 'cds'\n",
    "expressed_genes_hg = OrderedDict()\n",
    "expressed_genes_hg_df = pd.DataFrame()\n",
    "for sample in cds_df_hg.columns[1:]:\n",
    "    srp = list(data[data['RIBO sample'] == sample]['SRA'])[0]\n",
    "    #df = pd.read_csv('/staging/as/skchoudh/ribotricer-rna-bams/tpm-filtered-genes/hg38/{}_{}.txt'.format(srp, filter_type), names=['gene_id']).gene_id.tolist()\n",
    "    df = pd.read_csv('/staging/as/skchoudh/ribotricer-rna-bams/tpm-filtered-genes/hg38/{}_{}.txt'.format(srp, filter_type), names=['gene_id'])\n",
    "    df[sample] =1 \n",
    "    df = df.set_index('gene_id')\n",
    "    expressed_genes_hg_df = expressed_genes_hg_df.join(df, how='outer')\n",
    "    \n",
    "    \n",
    "    expressed_genes_hg[sample] = set(df.index.tolist())\n",
    "expressed_genes_hg_df = expressed_genes_hg_df.sort_index().fillna(0)"
   ]
  },
  {
   "cell_type": "code",
   "execution_count": 25,
   "metadata": {},
   "outputs": [
    {
     "data": {
      "text/html": [
       "<div>\n",
       "<style scoped>\n",
       "    .dataframe tbody tr th:only-of-type {\n",
       "        vertical-align: middle;\n",
       "    }\n",
       "\n",
       "    .dataframe tbody tr th {\n",
       "        vertical-align: top;\n",
       "    }\n",
       "\n",
       "    .dataframe thead th {\n",
       "        text-align: right;\n",
       "    }\n",
       "</style>\n",
       "<table border=\"1\" class=\"dataframe\">\n",
       "  <thead>\n",
       "    <tr style=\"text-align: right;\">\n",
       "      <th></th>\n",
       "      <th>SRX118286</th>\n",
       "      <th>SRX1254413</th>\n",
       "      <th>SRX2536421</th>\n",
       "      <th>SRX2647167</th>\n",
       "    </tr>\n",
       "    <tr>\n",
       "      <th>gene_id</th>\n",
       "      <th></th>\n",
       "      <th></th>\n",
       "      <th></th>\n",
       "      <th></th>\n",
       "    </tr>\n",
       "  </thead>\n",
       "  <tbody>\n",
       "    <tr>\n",
       "      <th>ENSG00000000003</th>\n",
       "      <td>1.0</td>\n",
       "      <td>1.0</td>\n",
       "      <td>1.0</td>\n",
       "      <td>1.0</td>\n",
       "    </tr>\n",
       "    <tr>\n",
       "      <th>ENSG00000000419</th>\n",
       "      <td>1.0</td>\n",
       "      <td>1.0</td>\n",
       "      <td>1.0</td>\n",
       "      <td>1.0</td>\n",
       "    </tr>\n",
       "    <tr>\n",
       "      <th>ENSG00000000457</th>\n",
       "      <td>1.0</td>\n",
       "      <td>1.0</td>\n",
       "      <td>1.0</td>\n",
       "      <td>1.0</td>\n",
       "    </tr>\n",
       "    <tr>\n",
       "      <th>ENSG00000000460</th>\n",
       "      <td>1.0</td>\n",
       "      <td>1.0</td>\n",
       "      <td>1.0</td>\n",
       "      <td>1.0</td>\n",
       "    </tr>\n",
       "    <tr>\n",
       "      <th>ENSG00000000971</th>\n",
       "      <td>1.0</td>\n",
       "      <td>0.0</td>\n",
       "      <td>1.0</td>\n",
       "      <td>0.0</td>\n",
       "    </tr>\n",
       "  </tbody>\n",
       "</table>\n",
       "</div>"
      ],
      "text/plain": [
       "                 SRX118286  SRX1254413  SRX2536421  SRX2647167\n",
       "gene_id                                                       \n",
       "ENSG00000000003        1.0         1.0         1.0         1.0\n",
       "ENSG00000000419        1.0         1.0         1.0         1.0\n",
       "ENSG00000000457        1.0         1.0         1.0         1.0\n",
       "ENSG00000000460        1.0         1.0         1.0         1.0\n",
       "ENSG00000000971        1.0         0.0         1.0         0.0"
      ]
     },
     "execution_count": 25,
     "metadata": {},
     "output_type": "execute_result"
    }
   ],
   "source": [
    "expressed_genes_hg_df.head()"
   ]
  },
  {
   "cell_type": "code",
   "execution_count": 26,
   "metadata": {},
   "outputs": [],
   "source": [
    "filter_type = 'cds'\n",
    "expressed_genes_mm = OrderedDict()\n",
    "expressed_genes_mm_df = pd.DataFrame()\n",
    "for sample in cds_df_mm.columns[1:]:\n",
    "    if sample == 'SRX026871':\n",
    "        srp = 'SRP003554'\n",
    "    elif sample == 'SRX1149649':\n",
    "        srp = 'SRP062407'\n",
    "    elif sample == 'SRX1900396':\n",
    "        srp = 'SRP078005'\n",
    "    elif sample == 'SRX2255510':\n",
    "        srp = 'SRP091889'\n",
    "    elif sample == 'SRX3110803':\n",
    "        srp = 'SRP115915'\n",
    "    else:\n",
    "        raise ValueError()\n",
    "    #df = pd.read_csv('/staging/as/skchoudh/ribotricer-rna-bams/tpm-filtered-genes/mm10/{}_{}.txt'.format(srp, filter_type), names=['gene_id']).gene_id.tolist()\n",
    "    df = pd.read_csv('/staging/as/skchoudh/ribotricer-rna-bams/tpm-filtered-genes/mm10/{}_{}.txt'.format(srp, filter_type), names=['gene_id'])\n",
    "    df[sample] =1 \n",
    "    df = df.set_index('gene_id')\n",
    "    expressed_genes_mm_df = expressed_genes_mm_df.join(df, how='outer')\n",
    "    expressed_genes_mm[sample] = set(df.index.tolist())\n",
    "expressed_genes_mm_df = expressed_genes_mm_df.sort_index().fillna(0)"
   ]
  },
  {
   "cell_type": "code",
   "execution_count": 27,
   "metadata": {},
   "outputs": [
    {
     "data": {
      "text/html": [
       "<div>\n",
       "<style scoped>\n",
       "    .dataframe tbody tr th:only-of-type {\n",
       "        vertical-align: middle;\n",
       "    }\n",
       "\n",
       "    .dataframe tbody tr th {\n",
       "        vertical-align: top;\n",
       "    }\n",
       "\n",
       "    .dataframe thead th {\n",
       "        text-align: right;\n",
       "    }\n",
       "</style>\n",
       "<table border=\"1\" class=\"dataframe\">\n",
       "  <thead>\n",
       "    <tr style=\"text-align: right;\">\n",
       "      <th></th>\n",
       "      <th>SRX026871</th>\n",
       "      <th>SRX1149649</th>\n",
       "      <th>SRX1900396</th>\n",
       "      <th>SRX2255510</th>\n",
       "      <th>SRX3110803</th>\n",
       "    </tr>\n",
       "    <tr>\n",
       "      <th>gene_id</th>\n",
       "      <th></th>\n",
       "      <th></th>\n",
       "      <th></th>\n",
       "      <th></th>\n",
       "      <th></th>\n",
       "    </tr>\n",
       "  </thead>\n",
       "  <tbody>\n",
       "    <tr>\n",
       "      <th>ENSMUSG00000000001</th>\n",
       "      <td>1.0</td>\n",
       "      <td>1.0</td>\n",
       "      <td>1.0</td>\n",
       "      <td>1.0</td>\n",
       "      <td>1.0</td>\n",
       "    </tr>\n",
       "    <tr>\n",
       "      <th>ENSMUSG00000000028</th>\n",
       "      <td>1.0</td>\n",
       "      <td>1.0</td>\n",
       "      <td>1.0</td>\n",
       "      <td>1.0</td>\n",
       "      <td>1.0</td>\n",
       "    </tr>\n",
       "    <tr>\n",
       "      <th>ENSMUSG00000000037</th>\n",
       "      <td>0.0</td>\n",
       "      <td>1.0</td>\n",
       "      <td>0.0</td>\n",
       "      <td>1.0</td>\n",
       "      <td>0.0</td>\n",
       "    </tr>\n",
       "    <tr>\n",
       "      <th>ENSMUSG00000000049</th>\n",
       "      <td>0.0</td>\n",
       "      <td>1.0</td>\n",
       "      <td>1.0</td>\n",
       "      <td>0.0</td>\n",
       "      <td>1.0</td>\n",
       "    </tr>\n",
       "    <tr>\n",
       "      <th>ENSMUSG00000000056</th>\n",
       "      <td>1.0</td>\n",
       "      <td>1.0</td>\n",
       "      <td>1.0</td>\n",
       "      <td>1.0</td>\n",
       "      <td>1.0</td>\n",
       "    </tr>\n",
       "  </tbody>\n",
       "</table>\n",
       "</div>"
      ],
      "text/plain": [
       "                    SRX026871  SRX1149649  SRX1900396  SRX2255510  SRX3110803\n",
       "gene_id                                                                      \n",
       "ENSMUSG00000000001        1.0         1.0         1.0         1.0         1.0\n",
       "ENSMUSG00000000028        1.0         1.0         1.0         1.0         1.0\n",
       "ENSMUSG00000000037        0.0         1.0         0.0         1.0         0.0\n",
       "ENSMUSG00000000049        0.0         1.0         1.0         0.0         1.0\n",
       "ENSMUSG00000000056        1.0         1.0         1.0         1.0         1.0"
      ]
     },
     "execution_count": 27,
     "metadata": {},
     "output_type": "execute_result"
    }
   ],
   "source": [
    "expressed_genes_mm_df.head()"
   ]
  },
  {
   "cell_type": "code",
   "execution_count": 28,
   "metadata": {},
   "outputs": [
    {
     "ename": "KeyError",
     "evalue": "'SRX3110803'",
     "output_type": "error",
     "traceback": [
      "\u001b[0;31m---------------------------------------------------------------------------\u001b[0m",
      "\u001b[0;31mKeyError\u001b[0m                                  Traceback (most recent call last)",
      "\u001b[0;32m/home/cmb-06/as/skchoudh/software_frozen/anaconda37/envs/riboraptor/lib/python3.6/site-packages/pandas/core/indexes/base.py\u001b[0m in \u001b[0;36mget_loc\u001b[0;34m(self, key, method, tolerance)\u001b[0m\n\u001b[1;32m   2656\u001b[0m             \u001b[0;32mtry\u001b[0m\u001b[0;34m:\u001b[0m\u001b[0;34m\u001b[0m\u001b[0;34m\u001b[0m\u001b[0m\n\u001b[0;32m-> 2657\u001b[0;31m                 \u001b[0;32mreturn\u001b[0m \u001b[0mself\u001b[0m\u001b[0;34m.\u001b[0m\u001b[0m_engine\u001b[0m\u001b[0;34m.\u001b[0m\u001b[0mget_loc\u001b[0m\u001b[0;34m(\u001b[0m\u001b[0mkey\u001b[0m\u001b[0;34m)\u001b[0m\u001b[0;34m\u001b[0m\u001b[0;34m\u001b[0m\u001b[0m\n\u001b[0m\u001b[1;32m   2658\u001b[0m             \u001b[0;32mexcept\u001b[0m \u001b[0mKeyError\u001b[0m\u001b[0;34m:\u001b[0m\u001b[0;34m\u001b[0m\u001b[0;34m\u001b[0m\u001b[0m\n",
      "\u001b[0;32mpandas/_libs/index.pyx\u001b[0m in \u001b[0;36mpandas._libs.index.IndexEngine.get_loc\u001b[0;34m()\u001b[0m\n",
      "\u001b[0;32mpandas/_libs/index.pyx\u001b[0m in \u001b[0;36mpandas._libs.index.IndexEngine.get_loc\u001b[0;34m()\u001b[0m\n",
      "\u001b[0;32mpandas/_libs/hashtable_class_helper.pxi\u001b[0m in \u001b[0;36mpandas._libs.hashtable.PyObjectHashTable.get_item\u001b[0;34m()\u001b[0m\n",
      "\u001b[0;32mpandas/_libs/hashtable_class_helper.pxi\u001b[0m in \u001b[0;36mpandas._libs.hashtable.PyObjectHashTable.get_item\u001b[0;34m()\u001b[0m\n",
      "\u001b[0;31mKeyError\u001b[0m: 'SRX3110803'",
      "\nDuring handling of the above exception, another exception occurred:\n",
      "\u001b[0;31mKeyError\u001b[0m                                  Traceback (most recent call last)",
      "\u001b[0;32m<ipython-input-28-34797243a3e6>\u001b[0m in \u001b[0;36m<module>\u001b[0;34m\u001b[0m\n\u001b[0;32m----> 1\u001b[0;31m \u001b[0muorfs_df_hg\u001b[0m\u001b[0;34m[\u001b[0m\u001b[0muorfs_df_hg\u001b[0m\u001b[0;34m[\u001b[0m\u001b[0msample\u001b[0m\u001b[0;34m]\u001b[0m\u001b[0;34m>\u001b[0m\u001b[0;36m1\u001b[0m\u001b[0;34m]\u001b[0m\u001b[0;34m\u001b[0m\u001b[0;34m\u001b[0m\u001b[0m\n\u001b[0m",
      "\u001b[0;32m/home/cmb-06/as/skchoudh/software_frozen/anaconda37/envs/riboraptor/lib/python3.6/site-packages/pandas/core/frame.py\u001b[0m in \u001b[0;36m__getitem__\u001b[0;34m(self, key)\u001b[0m\n\u001b[1;32m   2925\u001b[0m             \u001b[0;32mif\u001b[0m \u001b[0mself\u001b[0m\u001b[0;34m.\u001b[0m\u001b[0mcolumns\u001b[0m\u001b[0;34m.\u001b[0m\u001b[0mnlevels\u001b[0m \u001b[0;34m>\u001b[0m \u001b[0;36m1\u001b[0m\u001b[0;34m:\u001b[0m\u001b[0;34m\u001b[0m\u001b[0;34m\u001b[0m\u001b[0m\n\u001b[1;32m   2926\u001b[0m                 \u001b[0;32mreturn\u001b[0m \u001b[0mself\u001b[0m\u001b[0;34m.\u001b[0m\u001b[0m_getitem_multilevel\u001b[0m\u001b[0;34m(\u001b[0m\u001b[0mkey\u001b[0m\u001b[0;34m)\u001b[0m\u001b[0;34m\u001b[0m\u001b[0;34m\u001b[0m\u001b[0m\n\u001b[0;32m-> 2927\u001b[0;31m             \u001b[0mindexer\u001b[0m \u001b[0;34m=\u001b[0m \u001b[0mself\u001b[0m\u001b[0;34m.\u001b[0m\u001b[0mcolumns\u001b[0m\u001b[0;34m.\u001b[0m\u001b[0mget_loc\u001b[0m\u001b[0;34m(\u001b[0m\u001b[0mkey\u001b[0m\u001b[0;34m)\u001b[0m\u001b[0;34m\u001b[0m\u001b[0;34m\u001b[0m\u001b[0m\n\u001b[0m\u001b[1;32m   2928\u001b[0m             \u001b[0;32mif\u001b[0m \u001b[0mis_integer\u001b[0m\u001b[0;34m(\u001b[0m\u001b[0mindexer\u001b[0m\u001b[0;34m)\u001b[0m\u001b[0;34m:\u001b[0m\u001b[0;34m\u001b[0m\u001b[0;34m\u001b[0m\u001b[0m\n\u001b[1;32m   2929\u001b[0m                 \u001b[0mindexer\u001b[0m \u001b[0;34m=\u001b[0m \u001b[0;34m[\u001b[0m\u001b[0mindexer\u001b[0m\u001b[0;34m]\u001b[0m\u001b[0;34m\u001b[0m\u001b[0;34m\u001b[0m\u001b[0m\n",
      "\u001b[0;32m/home/cmb-06/as/skchoudh/software_frozen/anaconda37/envs/riboraptor/lib/python3.6/site-packages/pandas/core/indexes/base.py\u001b[0m in \u001b[0;36mget_loc\u001b[0;34m(self, key, method, tolerance)\u001b[0m\n\u001b[1;32m   2657\u001b[0m                 \u001b[0;32mreturn\u001b[0m \u001b[0mself\u001b[0m\u001b[0;34m.\u001b[0m\u001b[0m_engine\u001b[0m\u001b[0;34m.\u001b[0m\u001b[0mget_loc\u001b[0m\u001b[0;34m(\u001b[0m\u001b[0mkey\u001b[0m\u001b[0;34m)\u001b[0m\u001b[0;34m\u001b[0m\u001b[0;34m\u001b[0m\u001b[0m\n\u001b[1;32m   2658\u001b[0m             \u001b[0;32mexcept\u001b[0m \u001b[0mKeyError\u001b[0m\u001b[0;34m:\u001b[0m\u001b[0;34m\u001b[0m\u001b[0;34m\u001b[0m\u001b[0m\n\u001b[0;32m-> 2659\u001b[0;31m                 \u001b[0;32mreturn\u001b[0m \u001b[0mself\u001b[0m\u001b[0;34m.\u001b[0m\u001b[0m_engine\u001b[0m\u001b[0;34m.\u001b[0m\u001b[0mget_loc\u001b[0m\u001b[0;34m(\u001b[0m\u001b[0mself\u001b[0m\u001b[0;34m.\u001b[0m\u001b[0m_maybe_cast_indexer\u001b[0m\u001b[0;34m(\u001b[0m\u001b[0mkey\u001b[0m\u001b[0;34m)\u001b[0m\u001b[0;34m)\u001b[0m\u001b[0;34m\u001b[0m\u001b[0;34m\u001b[0m\u001b[0m\n\u001b[0m\u001b[1;32m   2660\u001b[0m         \u001b[0mindexer\u001b[0m \u001b[0;34m=\u001b[0m \u001b[0mself\u001b[0m\u001b[0;34m.\u001b[0m\u001b[0mget_indexer\u001b[0m\u001b[0;34m(\u001b[0m\u001b[0;34m[\u001b[0m\u001b[0mkey\u001b[0m\u001b[0;34m]\u001b[0m\u001b[0;34m,\u001b[0m \u001b[0mmethod\u001b[0m\u001b[0;34m=\u001b[0m\u001b[0mmethod\u001b[0m\u001b[0;34m,\u001b[0m \u001b[0mtolerance\u001b[0m\u001b[0;34m=\u001b[0m\u001b[0mtolerance\u001b[0m\u001b[0;34m)\u001b[0m\u001b[0;34m\u001b[0m\u001b[0;34m\u001b[0m\u001b[0m\n\u001b[1;32m   2661\u001b[0m         \u001b[0;32mif\u001b[0m \u001b[0mindexer\u001b[0m\u001b[0;34m.\u001b[0m\u001b[0mndim\u001b[0m \u001b[0;34m>\u001b[0m \u001b[0;36m1\u001b[0m \u001b[0;32mor\u001b[0m \u001b[0mindexer\u001b[0m\u001b[0;34m.\u001b[0m\u001b[0msize\u001b[0m \u001b[0;34m>\u001b[0m \u001b[0;36m1\u001b[0m\u001b[0;34m:\u001b[0m\u001b[0;34m\u001b[0m\u001b[0;34m\u001b[0m\u001b[0m\n",
      "\u001b[0;32mpandas/_libs/index.pyx\u001b[0m in \u001b[0;36mpandas._libs.index.IndexEngine.get_loc\u001b[0;34m()\u001b[0m\n",
      "\u001b[0;32mpandas/_libs/index.pyx\u001b[0m in \u001b[0;36mpandas._libs.index.IndexEngine.get_loc\u001b[0;34m()\u001b[0m\n",
      "\u001b[0;32mpandas/_libs/hashtable_class_helper.pxi\u001b[0m in \u001b[0;36mpandas._libs.hashtable.PyObjectHashTable.get_item\u001b[0;34m()\u001b[0m\n",
      "\u001b[0;32mpandas/_libs/hashtable_class_helper.pxi\u001b[0m in \u001b[0;36mpandas._libs.hashtable.PyObjectHashTable.get_item\u001b[0;34m()\u001b[0m\n",
      "\u001b[0;31mKeyError\u001b[0m: 'SRX3110803'"
     ]
    }
   ],
   "source": [
    "uorfs_df_hg[uorfs_df_hg[sample]>1]"
   ]
  },
  {
   "cell_type": "code",
   "execution_count": 29,
   "metadata": {},
   "outputs": [
    {
     "data": {
      "text/html": [
       "<div>\n",
       "<style scoped>\n",
       "    .dataframe tbody tr th:only-of-type {\n",
       "        vertical-align: middle;\n",
       "    }\n",
       "\n",
       "    .dataframe tbody tr th {\n",
       "        vertical-align: top;\n",
       "    }\n",
       "\n",
       "    .dataframe thead th {\n",
       "        text-align: right;\n",
       "    }\n",
       "</style>\n",
       "<table border=\"1\" class=\"dataframe\">\n",
       "  <thead>\n",
       "    <tr style=\"text-align: right;\">\n",
       "      <th></th>\n",
       "      <th>sample</th>\n",
       "      <th>ribo_cds_translating</th>\n",
       "      <th>ribo_uorf_translating</th>\n",
       "      <th>ribo_cds_expressed_in_rna</th>\n",
       "      <th>ribo_uorf_cds_translating_overlap</th>\n",
       "      <th>ribo_uorf_cds_overlap_expressed</th>\n",
       "      <th>ribo_uorf_expressed_in_rna</th>\n",
       "      <th>expressed_genes_hg</th>\n",
       "    </tr>\n",
       "  </thead>\n",
       "  <tbody>\n",
       "    <tr>\n",
       "      <th>0</th>\n",
       "      <td>SRX118286</td>\n",
       "      <td>9246</td>\n",
       "      <td>869</td>\n",
       "      <td>8937</td>\n",
       "      <td>850</td>\n",
       "      <td>764</td>\n",
       "      <td>752</td>\n",
       "      <td>11886</td>\n",
       "    </tr>\n",
       "    <tr>\n",
       "      <th>1</th>\n",
       "      <td>SRX1254413</td>\n",
       "      <td>12744</td>\n",
       "      <td>3320</td>\n",
       "      <td>11589</td>\n",
       "      <td>3236</td>\n",
       "      <td>3263</td>\n",
       "      <td>3193</td>\n",
       "      <td>12364</td>\n",
       "    </tr>\n",
       "    <tr>\n",
       "      <th>2</th>\n",
       "      <td>SRX2536421</td>\n",
       "      <td>10546</td>\n",
       "      <td>1100</td>\n",
       "      <td>9921</td>\n",
       "      <td>1081</td>\n",
       "      <td>1028</td>\n",
       "      <td>1016</td>\n",
       "      <td>11461</td>\n",
       "    </tr>\n",
       "    <tr>\n",
       "      <th>3</th>\n",
       "      <td>SRX2647167</td>\n",
       "      <td>9520</td>\n",
       "      <td>1600</td>\n",
       "      <td>8752</td>\n",
       "      <td>1538</td>\n",
       "      <td>1401</td>\n",
       "      <td>1359</td>\n",
       "      <td>11351</td>\n",
       "    </tr>\n",
       "  </tbody>\n",
       "</table>\n",
       "</div>"
      ],
      "text/plain": [
       "       sample  ribo_cds_translating  ribo_uorf_translating  \\\n",
       "0   SRX118286                  9246                    869   \n",
       "1  SRX1254413                 12744                   3320   \n",
       "2  SRX2536421                 10546                   1100   \n",
       "3  SRX2647167                  9520                   1600   \n",
       "\n",
       "   ribo_cds_expressed_in_rna  ribo_uorf_cds_translating_overlap  \\\n",
       "0                       8937                                850   \n",
       "1                      11589                               3236   \n",
       "2                       9921                               1081   \n",
       "3                       8752                               1538   \n",
       "\n",
       "   ribo_uorf_cds_overlap_expressed  ribo_uorf_expressed_in_rna  \\\n",
       "0                              764                         752   \n",
       "1                             3263                        3193   \n",
       "2                             1028                        1016   \n",
       "3                             1401                        1359   \n",
       "\n",
       "   expressed_genes_hg  \n",
       "0               11886  \n",
       "1               12364  \n",
       "2               11461  \n",
       "3               11351  "
      ]
     },
     "execution_count": 29,
     "metadata": {},
     "output_type": "execute_result"
    }
   ],
   "source": [
    "ratio_data_hg = []\n",
    "for sample in cds_df_hg.columns[1:]:\n",
    "    # subset genes tranlsaitng in this sample\n",
    "    ribo_cds_translating = set(cds_df_hg[cds_df_hg[sample]!=0].gene_id.tolist())\n",
    "    ribo_uorf_translating = set(uorfs_df_hg[uorfs_df_hg[sample]!=0].gene_id.tolist())\n",
    "        \n",
    "    # how many of these are translating?                             \n",
    "    ribo_cds_expressed_in_rna = ribo_cds_translating.intersection(expressed_genes_hg[sample])\n",
    "    ribo_uorf_expressed_in_rna = ribo_uorf_translating.intersection(expressed_genes_hg[sample])\n",
    "    \n",
    "    ribo_urf_cds_translating_overlap = ribo_cds_translating.intersection(ribo_uorf_translating)\n",
    "    ribo_urf_cds_overlap_expressed = ribo_cds_expressed_in_rna.intersection(ribo_uorf_expressed_in_rna)\n",
    "    #print(sample, len(ribo_uorf_expressed_in_rna)/len(ribo_cds_expressed_in_rna),  len(ribo_uorf_translating)/len(expressed_genes_hg[sample]) ,len(ribo_cds_translating), len(ribo_uorf_translating), len(ribo_cds_expressed_in_rna), len(ribo_uorf_expressed_in_rna))\n",
    "    ratio_data_hg.append((sample, len(ribo_cds_translating), len(ribo_uorf_translating),\n",
    "                          len(ribo_cds_expressed_in_rna), len(ribo_uorf_expressed_in_rna),\n",
    "                          len(ribo_urf_cds_translating_overlap),\n",
    "                          len(ribo_urf_cds_overlap_expressed),\n",
    "                          len(expressed_genes_hg[sample]) ))\n",
    "                    \n",
    "ratio_data_hg_df = pd.DataFrame(ratio_data_hg, columns=['sample', 'ribo_cds_translating', 'ribo_uorf_translating', \n",
    "                                                        'ribo_cds_expressed_in_rna',\n",
    "                                                        'ribo_uorf_cds_translating_overlap',\n",
    "                                                        'ribo_uorf_cds_overlap_expressed',\n",
    "                                                        'ribo_uorf_expressed_in_rna', 'expressed_genes_hg']) \n",
    "ratio_data_hg_df.head()\n"
   ]
  },
  {
   "cell_type": "code",
   "execution_count": 30,
   "metadata": {},
   "outputs": [
    {
     "data": {
      "text/html": [
       "<div>\n",
       "<style scoped>\n",
       "    .dataframe tbody tr th:only-of-type {\n",
       "        vertical-align: middle;\n",
       "    }\n",
       "\n",
       "    .dataframe tbody tr th {\n",
       "        vertical-align: top;\n",
       "    }\n",
       "\n",
       "    .dataframe thead th {\n",
       "        text-align: right;\n",
       "    }\n",
       "</style>\n",
       "<table border=\"1\" class=\"dataframe\">\n",
       "  <thead>\n",
       "    <tr style=\"text-align: right;\">\n",
       "      <th></th>\n",
       "      <th>sample</th>\n",
       "      <th>variable</th>\n",
       "      <th>value</th>\n",
       "    </tr>\n",
       "  </thead>\n",
       "  <tbody>\n",
       "    <tr>\n",
       "      <th>28</th>\n",
       "      <td>SRX118286</td>\n",
       "      <td>ratio_ribo_uorf_translating_expressed</td>\n",
       "      <td>0.095110</td>\n",
       "    </tr>\n",
       "    <tr>\n",
       "      <th>29</th>\n",
       "      <td>SRX1254413</td>\n",
       "      <td>ratio_ribo_uorf_translating_expressed</td>\n",
       "      <td>0.279230</td>\n",
       "    </tr>\n",
       "    <tr>\n",
       "      <th>30</th>\n",
       "      <td>SRX2536421</td>\n",
       "      <td>ratio_ribo_uorf_translating_expressed</td>\n",
       "      <td>0.108961</td>\n",
       "    </tr>\n",
       "    <tr>\n",
       "      <th>31</th>\n",
       "      <td>SRX2647167</td>\n",
       "      <td>ratio_ribo_uorf_translating_expressed</td>\n",
       "      <td>0.175731</td>\n",
       "    </tr>\n",
       "    <tr>\n",
       "      <th>32</th>\n",
       "      <td>SRX118286</td>\n",
       "      <td>ratio_ribo_uorf_translating</td>\n",
       "      <td>0.093987</td>\n",
       "    </tr>\n",
       "    <tr>\n",
       "      <th>33</th>\n",
       "      <td>SRX1254413</td>\n",
       "      <td>ratio_ribo_uorf_translating</td>\n",
       "      <td>0.260515</td>\n",
       "    </tr>\n",
       "    <tr>\n",
       "      <th>34</th>\n",
       "      <td>SRX2536421</td>\n",
       "      <td>ratio_ribo_uorf_translating</td>\n",
       "      <td>0.104305</td>\n",
       "    </tr>\n",
       "    <tr>\n",
       "      <th>35</th>\n",
       "      <td>SRX2647167</td>\n",
       "      <td>ratio_ribo_uorf_translating</td>\n",
       "      <td>0.168067</td>\n",
       "    </tr>\n",
       "  </tbody>\n",
       "</table>\n",
       "</div>"
      ],
      "text/plain": [
       "        sample                               variable     value\n",
       "28   SRX118286  ratio_ribo_uorf_translating_expressed  0.095110\n",
       "29  SRX1254413  ratio_ribo_uorf_translating_expressed  0.279230\n",
       "30  SRX2536421  ratio_ribo_uorf_translating_expressed  0.108961\n",
       "31  SRX2647167  ratio_ribo_uorf_translating_expressed  0.175731\n",
       "32   SRX118286            ratio_ribo_uorf_translating  0.093987\n",
       "33  SRX1254413            ratio_ribo_uorf_translating  0.260515\n",
       "34  SRX2536421            ratio_ribo_uorf_translating  0.104305\n",
       "35  SRX2647167            ratio_ribo_uorf_translating  0.168067"
      ]
     },
     "execution_count": 30,
     "metadata": {},
     "output_type": "execute_result"
    }
   ],
   "source": [
    "ratio_data_hg_df['ratio_ribo_uorf_translating_expressed'] = ratio_data_hg_df['ribo_uorf_cds_translating_overlap']/ratio_data_hg_df['ribo_cds_expressed_in_rna']\n",
    "ratio_data_hg_df['ratio_ribo_uorf_translating'] = ratio_data_hg_df['ribo_uorf_translating']/ratio_data_hg_df['ribo_cds_translating']\n",
    "ratio_data_hg_df_tidy = ratio_data_hg_df.melt(id_vars='sample')#.rename(columns=str.title)\n",
    "ratio_data_hg_df_tidy_prop = ratio_data_hg_df_tidy[ratio_data_hg_df_tidy.variable.isin(['ratio_ribo_uorf_translating_expressed', 'ratio_ribo_uorf_translating'])]\n",
    "ratio_data_hg_df_tidy_prop"
   ]
  },
  {
   "cell_type": "code",
   "execution_count": 31,
   "metadata": {},
   "outputs": [
    {
     "data": {
      "image/png": "[encoded data removed]",
      "text/plain": [
       "<Figure size 864x576 with 1 Axes>"
      ]
     },
     "metadata": {
      "needs_background": "light"
     },
     "output_type": "display_data"
    }
   ],
   "source": [
    "fig, ax = plt.subplots(figsize=(12,8))\n",
    "sns.barplot(x='sample', y='value', hue='variable', data=ratio_data_hg_df_tidy_prop, ax=ax)\n",
    "fig.tight_layout()\n",
    "fig.savefig('ratio_uorf_hg_comparison.png')"
   ]
  },
  {
   "cell_type": "code",
   "execution_count": 32,
   "metadata": {},
   "outputs": [
    {
     "data": {
      "image/png": "[encoded data removed]",
      "text/plain": [
       "<Figure size 864x576 with 1 Axes>"
      ]
     },
     "metadata": {
      "needs_background": "light"
     },
     "output_type": "display_data"
    }
   ],
   "source": [
    "ratio_data_mm = []\n",
    "for sample in cds_df_mm.columns[1:]:\n",
    "    # subset genes tranlsaitng in this sample\n",
    "    ribo_cds_translating = set(cds_df_mm[cds_df_mm[sample]!=0].gene_id.tolist())\n",
    "    ribo_uorf_translating = set(uorfs_df_mm[uorfs_df_mm[sample]!=0].gene_id.tolist())\n",
    "        \n",
    "    # how many of these are translating?                             \n",
    "    ribo_cds_expressed_in_rna = ribo_cds_translating.intersection(expressed_genes_mm[sample])\n",
    "    ribo_uorf_expressed_in_rna = ribo_uorf_translating.intersection(expressed_genes_mm[sample])\n",
    "    \n",
    "    ribo_urf_cds_translating_overlap = ribo_cds_translating.intersection(ribo_uorf_translating)\n",
    "    ribo_urf_cds_overlap_expressed = ribo_cds_expressed_in_rna.intersection(ribo_uorf_expressed_in_rna)\n",
    "    #print(sample, len(ribo_uorf_expressed_in_rna)/len(ribo_cds_expressed_in_rna),  len(ribo_uorf_translating)/len(expressed_genes_mm[sample]) ,len(ribo_cds_translating), len(ribo_uorf_translating), len(ribo_cds_expressed_in_rna), len(ribo_uorf_expressed_in_rna))\n",
    "    ratio_data_mm.append((sample, len(ribo_cds_translating), len(ribo_uorf_translating),\n",
    "                          len(ribo_cds_expressed_in_rna), len(ribo_uorf_expressed_in_rna),\n",
    "                          len(ribo_urf_cds_translating_overlap),\n",
    "                          len(ribo_urf_cds_overlap_expressed),\n",
    "                          len(expressed_genes_mm[sample]) ))\n",
    "                    \n",
    "ratio_data_mm_df = pd.DataFrame(ratio_data_mm, columns=['sample', 'ribo_cds_translating', 'ribo_uorf_translating', \n",
    "                                                        'ribo_cds_expressed_in_rna',\n",
    "                                                        'ribo_uorf_cds_translating_overlap',\n",
    "                                                        'ribo_uorf_cds_overlap_expressed',\n",
    "                                                        'ribo_uorf_expressed_in_rna', 'expressed_genes_mm']) \n",
    "ratio_data_mm_df['ratio_ribo_uorf_translating_expressed'] = ratio_data_mm_df['ribo_uorf_cds_translating_overlap']/ratio_data_mm_df['ribo_cds_expressed_in_rna']\n",
    "ratio_data_mm_df['ratio_ribo_uorf_translating'] = ratio_data_mm_df['ribo_uorf_translating']/ratio_data_mm_df['ribo_cds_translating']\n",
    "\n",
    "ratio_data_mm_df_tidy = ratio_data_mm_df.melt(id_vars='sample')#.rename(columns=str.title)\n",
    "ratio_data_mm_df_tidy_prop = ratio_data_mm_df_tidy[ratio_data_mm_df_tidy.variable.isin(['ratio_ribo_uorf_translating_expressed', 'ratio_ribo_uorf_translating'])]\n",
    "fig, ax = plt.subplots(figsize=(12,8))\n",
    "sns.barplot(x='sample', y='value', hue='variable', data=ratio_data_mm_df_tidy_prop, ax=ax)\n",
    "fig.tight_layout()\n",
    "fig.savefig('ratio_uorf_mm_comparison.png')"
   ]
  },
  {
   "cell_type": "code",
   "execution_count": 33,
   "metadata": {},
   "outputs": [
    {
     "data": {
      "text/plain": [
       "[('SRX026871', 10369, 2825, 9906, 2776, 2755, 2724, 10678),\n",
       " ('SRX1149649', 14542, 3695, 13169, 3645, 3648, 3607, 13620),\n",
       " ('SRX1900396', 10564, 1221, 9584, 1192, 1165, 1148, 10558),\n",
       " ('SRX2255510', 12739, 3315, 11645, 3270, 3128, 3105, 12828),\n",
       " ('SRX3110803', 11264, 2002, 9723, 1936, 1854, 1810, 10714)]"
      ]
     },
     "execution_count": 33,
     "metadata": {},
     "output_type": "execute_result"
    }
   ],
   "source": [
    "ratio_data_mm"
   ]
  },
  {
   "cell_type": "markdown",
   "metadata": {},
   "source": [
    "# How many of these expressed genes have uORFs in the index?"
   ]
  },
  {
   "cell_type": "code",
   "execution_count": 34,
   "metadata": {},
   "outputs": [
    {
     "name": "stdout",
     "output_type": "stream",
     "text": [
      "0.7017499579337035\n",
      "0.7013102555807182\n",
      "0.6960998167699154\n",
      "0.7054004052506387\n"
     ]
    }
   ],
   "source": [
    "for sample in cds_df_hg.columns[1:]:\n",
    "    print(len(expressed_genes_hg[sample].intersection(ribotricer_index_hg_subset_uorf))/len(expressed_genes_hg[sample]))"
   ]
  },
  {
   "cell_type": "code",
   "execution_count": 35,
   "metadata": {},
   "outputs": [
    {
     "name": "stdout",
     "output_type": "stream",
     "text": [
      "0.6221202472373104\n",
      "0.6460352422907489\n",
      "0.621045652585717\n",
      "0.6267539756782039\n",
      "0.6230166137763674\n"
     ]
    }
   ],
   "source": [
    "for sample in cds_df_mm.columns[1:]:\n",
    "    print(len(expressed_genes_mm[sample].intersection(ribotricer_index_mm_subset_uorf))/len(expressed_genes_mm[sample]))"
   ]
  },
  {
   "cell_type": "code",
   "execution_count": 36,
   "metadata": {},
   "outputs": [
    {
     "data": {
      "text/html": [
       "<div>\n",
       "<style scoped>\n",
       "    .dataframe tbody tr th:only-of-type {\n",
       "        vertical-align: middle;\n",
       "    }\n",
       "\n",
       "    .dataframe tbody tr th {\n",
       "        vertical-align: top;\n",
       "    }\n",
       "\n",
       "    .dataframe thead th {\n",
       "        text-align: right;\n",
       "    }\n",
       "</style>\n",
       "<table border=\"1\" class=\"dataframe\">\n",
       "  <thead>\n",
       "    <tr style=\"text-align: right;\">\n",
       "      <th></th>\n",
       "      <th>gene_id</th>\n",
       "      <th>SRX118286</th>\n",
       "      <th>SRX1254413</th>\n",
       "      <th>SRX2536421</th>\n",
       "      <th>SRX2647167</th>\n",
       "    </tr>\n",
       "  </thead>\n",
       "  <tbody>\n",
       "    <tr>\n",
       "      <th>0</th>\n",
       "      <td>ENSG00000000457</td>\n",
       "      <td>0</td>\n",
       "      <td>0</td>\n",
       "      <td>0</td>\n",
       "      <td>1</td>\n",
       "    </tr>\n",
       "    <tr>\n",
       "      <th>1</th>\n",
       "      <td>ENSG00000001460</td>\n",
       "      <td>0</td>\n",
       "      <td>1</td>\n",
       "      <td>0</td>\n",
       "      <td>0</td>\n",
       "    </tr>\n",
       "    <tr>\n",
       "      <th>2</th>\n",
       "      <td>ENSG00000001461</td>\n",
       "      <td>1</td>\n",
       "      <td>1</td>\n",
       "      <td>0</td>\n",
       "      <td>1</td>\n",
       "    </tr>\n",
       "    <tr>\n",
       "      <th>3</th>\n",
       "      <td>ENSG00000001617</td>\n",
       "      <td>1</td>\n",
       "      <td>1</td>\n",
       "      <td>0</td>\n",
       "      <td>0</td>\n",
       "    </tr>\n",
       "    <tr>\n",
       "      <th>4</th>\n",
       "      <td>ENSG00000001629</td>\n",
       "      <td>0</td>\n",
       "      <td>1</td>\n",
       "      <td>0</td>\n",
       "      <td>0</td>\n",
       "    </tr>\n",
       "    <tr>\n",
       "      <th>5</th>\n",
       "      <td>ENSG00000001631</td>\n",
       "      <td>0</td>\n",
       "      <td>1</td>\n",
       "      <td>0</td>\n",
       "      <td>1</td>\n",
       "    </tr>\n",
       "    <tr>\n",
       "      <th>6</th>\n",
       "      <td>ENSG00000002587</td>\n",
       "      <td>0</td>\n",
       "      <td>0</td>\n",
       "      <td>0</td>\n",
       "      <td>1</td>\n",
       "    </tr>\n",
       "    <tr>\n",
       "      <th>7</th>\n",
       "      <td>ENSG00000002822</td>\n",
       "      <td>0</td>\n",
       "      <td>1</td>\n",
       "      <td>1</td>\n",
       "      <td>1</td>\n",
       "    </tr>\n",
       "    <tr>\n",
       "      <th>8</th>\n",
       "      <td>ENSG00000003056</td>\n",
       "      <td>0</td>\n",
       "      <td>1</td>\n",
       "      <td>1</td>\n",
       "      <td>1</td>\n",
       "    </tr>\n",
       "    <tr>\n",
       "      <th>9</th>\n",
       "      <td>ENSG00000003096</td>\n",
       "      <td>0</td>\n",
       "      <td>1</td>\n",
       "      <td>0</td>\n",
       "      <td>0</td>\n",
       "    </tr>\n",
       "    <tr>\n",
       "      <th>10</th>\n",
       "      <td>ENSG00000003393</td>\n",
       "      <td>0</td>\n",
       "      <td>1</td>\n",
       "      <td>0</td>\n",
       "      <td>0</td>\n",
       "    </tr>\n",
       "    <tr>\n",
       "      <th>11</th>\n",
       "      <td>ENSG00000003402</td>\n",
       "      <td>0</td>\n",
       "      <td>1</td>\n",
       "      <td>1</td>\n",
       "      <td>1</td>\n",
       "    </tr>\n",
       "    <tr>\n",
       "      <th>12</th>\n",
       "      <td>ENSG00000003436</td>\n",
       "      <td>0</td>\n",
       "      <td>0</td>\n",
       "      <td>0</td>\n",
       "      <td>1</td>\n",
       "    </tr>\n",
       "    <tr>\n",
       "      <th>13</th>\n",
       "      <td>ENSG00000003756</td>\n",
       "      <td>0</td>\n",
       "      <td>1</td>\n",
       "      <td>0</td>\n",
       "      <td>0</td>\n",
       "    </tr>\n",
       "    <tr>\n",
       "      <th>14</th>\n",
       "      <td>ENSG00000004455</td>\n",
       "      <td>0</td>\n",
       "      <td>1</td>\n",
       "      <td>0</td>\n",
       "      <td>0</td>\n",
       "    </tr>\n",
       "    <tr>\n",
       "      <th>15</th>\n",
       "      <td>ENSG00000004478</td>\n",
       "      <td>0</td>\n",
       "      <td>1</td>\n",
       "      <td>0</td>\n",
       "      <td>0</td>\n",
       "    </tr>\n",
       "    <tr>\n",
       "      <th>16</th>\n",
       "      <td>ENSG00000004534</td>\n",
       "      <td>0</td>\n",
       "      <td>1</td>\n",
       "      <td>0</td>\n",
       "      <td>0</td>\n",
       "    </tr>\n",
       "    <tr>\n",
       "      <th>17</th>\n",
       "      <td>ENSG00000004700</td>\n",
       "      <td>1</td>\n",
       "      <td>1</td>\n",
       "      <td>0</td>\n",
       "      <td>1</td>\n",
       "    </tr>\n",
       "    <tr>\n",
       "      <th>18</th>\n",
       "      <td>ENSG00000004961</td>\n",
       "      <td>0</td>\n",
       "      <td>1</td>\n",
       "      <td>0</td>\n",
       "      <td>1</td>\n",
       "    </tr>\n",
       "    <tr>\n",
       "      <th>19</th>\n",
       "      <td>ENSG00000005100</td>\n",
       "      <td>0</td>\n",
       "      <td>1</td>\n",
       "      <td>0</td>\n",
       "      <td>0</td>\n",
       "    </tr>\n",
       "    <tr>\n",
       "      <th>20</th>\n",
       "      <td>ENSG00000005187</td>\n",
       "      <td>0</td>\n",
       "      <td>0</td>\n",
       "      <td>1</td>\n",
       "      <td>0</td>\n",
       "    </tr>\n",
       "    <tr>\n",
       "      <th>21</th>\n",
       "      <td>ENSG00000005194</td>\n",
       "      <td>0</td>\n",
       "      <td>0</td>\n",
       "      <td>0</td>\n",
       "      <td>1</td>\n",
       "    </tr>\n",
       "    <tr>\n",
       "      <th>22</th>\n",
       "      <td>ENSG00000005238</td>\n",
       "      <td>0</td>\n",
       "      <td>0</td>\n",
       "      <td>0</td>\n",
       "      <td>1</td>\n",
       "    </tr>\n",
       "    <tr>\n",
       "      <th>23</th>\n",
       "      <td>ENSG00000005249</td>\n",
       "      <td>0</td>\n",
       "      <td>1</td>\n",
       "      <td>1</td>\n",
       "      <td>0</td>\n",
       "    </tr>\n",
       "    <tr>\n",
       "      <th>24</th>\n",
       "      <td>ENSG00000005339</td>\n",
       "      <td>0</td>\n",
       "      <td>0</td>\n",
       "      <td>1</td>\n",
       "      <td>0</td>\n",
       "    </tr>\n",
       "    <tr>\n",
       "      <th>25</th>\n",
       "      <td>ENSG00000005483</td>\n",
       "      <td>1</td>\n",
       "      <td>0</td>\n",
       "      <td>1</td>\n",
       "      <td>1</td>\n",
       "    </tr>\n",
       "    <tr>\n",
       "      <th>26</th>\n",
       "      <td>ENSG00000005700</td>\n",
       "      <td>0</td>\n",
       "      <td>1</td>\n",
       "      <td>1</td>\n",
       "      <td>1</td>\n",
       "    </tr>\n",
       "    <tr>\n",
       "      <th>27</th>\n",
       "      <td>ENSG00000005812</td>\n",
       "      <td>0</td>\n",
       "      <td>1</td>\n",
       "      <td>0</td>\n",
       "      <td>1</td>\n",
       "    </tr>\n",
       "    <tr>\n",
       "      <th>28</th>\n",
       "      <td>ENSG00000005884</td>\n",
       "      <td>1</td>\n",
       "      <td>0</td>\n",
       "      <td>0</td>\n",
       "      <td>1</td>\n",
       "    </tr>\n",
       "    <tr>\n",
       "      <th>29</th>\n",
       "      <td>ENSG00000005889</td>\n",
       "      <td>1</td>\n",
       "      <td>0</td>\n",
       "      <td>1</td>\n",
       "      <td>1</td>\n",
       "    </tr>\n",
       "    <tr>\n",
       "      <th>...</th>\n",
       "      <td>...</td>\n",
       "      <td>...</td>\n",
       "      <td>...</td>\n",
       "      <td>...</td>\n",
       "      <td>...</td>\n",
       "    </tr>\n",
       "    <tr>\n",
       "      <th>4121</th>\n",
       "      <td>ENSG00000270024</td>\n",
       "      <td>0</td>\n",
       "      <td>1</td>\n",
       "      <td>0</td>\n",
       "      <td>0</td>\n",
       "    </tr>\n",
       "    <tr>\n",
       "      <th>4122</th>\n",
       "      <td>ENSG00000270106</td>\n",
       "      <td>0</td>\n",
       "      <td>1</td>\n",
       "      <td>0</td>\n",
       "      <td>1</td>\n",
       "    </tr>\n",
       "    <tr>\n",
       "      <th>4123</th>\n",
       "      <td>ENSG00000270885</td>\n",
       "      <td>0</td>\n",
       "      <td>1</td>\n",
       "      <td>0</td>\n",
       "      <td>0</td>\n",
       "    </tr>\n",
       "    <tr>\n",
       "      <th>4124</th>\n",
       "      <td>ENSG00000271741</td>\n",
       "      <td>0</td>\n",
       "      <td>1</td>\n",
       "      <td>0</td>\n",
       "      <td>0</td>\n",
       "    </tr>\n",
       "    <tr>\n",
       "      <th>4125</th>\n",
       "      <td>ENSG00000272162</td>\n",
       "      <td>0</td>\n",
       "      <td>0</td>\n",
       "      <td>0</td>\n",
       "      <td>1</td>\n",
       "    </tr>\n",
       "    <tr>\n",
       "      <th>4126</th>\n",
       "      <td>ENSG00000272325</td>\n",
       "      <td>0</td>\n",
       "      <td>1</td>\n",
       "      <td>1</td>\n",
       "      <td>1</td>\n",
       "    </tr>\n",
       "    <tr>\n",
       "      <th>4127</th>\n",
       "      <td>ENSG00000272391</td>\n",
       "      <td>0</td>\n",
       "      <td>1</td>\n",
       "      <td>0</td>\n",
       "      <td>0</td>\n",
       "    </tr>\n",
       "    <tr>\n",
       "      <th>4128</th>\n",
       "      <td>ENSG00000272772</td>\n",
       "      <td>0</td>\n",
       "      <td>0</td>\n",
       "      <td>1</td>\n",
       "      <td>0</td>\n",
       "    </tr>\n",
       "    <tr>\n",
       "      <th>4129</th>\n",
       "      <td>ENSG00000272822</td>\n",
       "      <td>1</td>\n",
       "      <td>0</td>\n",
       "      <td>0</td>\n",
       "      <td>1</td>\n",
       "    </tr>\n",
       "    <tr>\n",
       "      <th>4130</th>\n",
       "      <td>ENSG00000272916</td>\n",
       "      <td>1</td>\n",
       "      <td>1</td>\n",
       "      <td>0</td>\n",
       "      <td>0</td>\n",
       "    </tr>\n",
       "    <tr>\n",
       "      <th>4131</th>\n",
       "      <td>ENSG00000273045</td>\n",
       "      <td>0</td>\n",
       "      <td>1</td>\n",
       "      <td>0</td>\n",
       "      <td>0</td>\n",
       "    </tr>\n",
       "    <tr>\n",
       "      <th>4132</th>\n",
       "      <td>ENSG00000273820</td>\n",
       "      <td>0</td>\n",
       "      <td>1</td>\n",
       "      <td>0</td>\n",
       "      <td>0</td>\n",
       "    </tr>\n",
       "    <tr>\n",
       "      <th>4133</th>\n",
       "      <td>ENSG00000273841</td>\n",
       "      <td>0</td>\n",
       "      <td>1</td>\n",
       "      <td>1</td>\n",
       "      <td>1</td>\n",
       "    </tr>\n",
       "    <tr>\n",
       "      <th>4134</th>\n",
       "      <td>ENSG00000274750</td>\n",
       "      <td>1</td>\n",
       "      <td>1</td>\n",
       "      <td>0</td>\n",
       "      <td>0</td>\n",
       "    </tr>\n",
       "    <tr>\n",
       "      <th>4135</th>\n",
       "      <td>ENSG00000275052</td>\n",
       "      <td>0</td>\n",
       "      <td>1</td>\n",
       "      <td>1</td>\n",
       "      <td>0</td>\n",
       "    </tr>\n",
       "    <tr>\n",
       "      <th>4136</th>\n",
       "      <td>ENSG00000275342</td>\n",
       "      <td>0</td>\n",
       "      <td>0</td>\n",
       "      <td>1</td>\n",
       "      <td>0</td>\n",
       "    </tr>\n",
       "    <tr>\n",
       "      <th>4137</th>\n",
       "      <td>ENSG00000275740</td>\n",
       "      <td>0</td>\n",
       "      <td>0</td>\n",
       "      <td>0</td>\n",
       "      <td>1</td>\n",
       "    </tr>\n",
       "    <tr>\n",
       "      <th>4138</th>\n",
       "      <td>ENSG00000276045</td>\n",
       "      <td>0</td>\n",
       "      <td>1</td>\n",
       "      <td>0</td>\n",
       "      <td>0</td>\n",
       "    </tr>\n",
       "    <tr>\n",
       "      <th>4139</th>\n",
       "      <td>ENSG00000276547</td>\n",
       "      <td>1</td>\n",
       "      <td>1</td>\n",
       "      <td>0</td>\n",
       "      <td>0</td>\n",
       "    </tr>\n",
       "    <tr>\n",
       "      <th>4140</th>\n",
       "      <td>ENSG00000276644</td>\n",
       "      <td>0</td>\n",
       "      <td>1</td>\n",
       "      <td>0</td>\n",
       "      <td>0</td>\n",
       "    </tr>\n",
       "    <tr>\n",
       "      <th>4141</th>\n",
       "      <td>ENSG00000277443</td>\n",
       "      <td>0</td>\n",
       "      <td>1</td>\n",
       "      <td>1</td>\n",
       "      <td>1</td>\n",
       "    </tr>\n",
       "    <tr>\n",
       "      <th>4142</th>\n",
       "      <td>ENSG00000277462</td>\n",
       "      <td>0</td>\n",
       "      <td>1</td>\n",
       "      <td>0</td>\n",
       "      <td>0</td>\n",
       "    </tr>\n",
       "    <tr>\n",
       "      <th>4143</th>\n",
       "      <td>ENSG00000278259</td>\n",
       "      <td>0</td>\n",
       "      <td>1</td>\n",
       "      <td>0</td>\n",
       "      <td>0</td>\n",
       "    </tr>\n",
       "    <tr>\n",
       "      <th>4144</th>\n",
       "      <td>ENSG00000278318</td>\n",
       "      <td>0</td>\n",
       "      <td>1</td>\n",
       "      <td>0</td>\n",
       "      <td>0</td>\n",
       "    </tr>\n",
       "    <tr>\n",
       "      <th>4145</th>\n",
       "      <td>ENSG00000280789</td>\n",
       "      <td>0</td>\n",
       "      <td>0</td>\n",
       "      <td>0</td>\n",
       "      <td>1</td>\n",
       "    </tr>\n",
       "    <tr>\n",
       "      <th>4146</th>\n",
       "      <td>ENSG00000280987</td>\n",
       "      <td>0</td>\n",
       "      <td>1</td>\n",
       "      <td>0</td>\n",
       "      <td>0</td>\n",
       "    </tr>\n",
       "    <tr>\n",
       "      <th>4147</th>\n",
       "      <td>ENSG00000281039</td>\n",
       "      <td>1</td>\n",
       "      <td>1</td>\n",
       "      <td>1</td>\n",
       "      <td>1</td>\n",
       "    </tr>\n",
       "    <tr>\n",
       "      <th>4148</th>\n",
       "      <td>ENSG00000283201</td>\n",
       "      <td>0</td>\n",
       "      <td>1</td>\n",
       "      <td>0</td>\n",
       "      <td>0</td>\n",
       "    </tr>\n",
       "    <tr>\n",
       "      <th>4149</th>\n",
       "      <td>ENSG00000283374</td>\n",
       "      <td>0</td>\n",
       "      <td>1</td>\n",
       "      <td>0</td>\n",
       "      <td>0</td>\n",
       "    </tr>\n",
       "    <tr>\n",
       "      <th>4150</th>\n",
       "      <td>ENSG00000283515</td>\n",
       "      <td>1</td>\n",
       "      <td>0</td>\n",
       "      <td>1</td>\n",
       "      <td>1</td>\n",
       "    </tr>\n",
       "  </tbody>\n",
       "</table>\n",
       "<p>4151 rows × 5 columns</p>\n",
       "</div>"
      ],
      "text/plain": [
       "              gene_id  SRX118286  SRX1254413  SRX2536421  SRX2647167\n",
       "0     ENSG00000000457          0           0           0           1\n",
       "1     ENSG00000001460          0           1           0           0\n",
       "2     ENSG00000001461          1           1           0           1\n",
       "3     ENSG00000001617          1           1           0           0\n",
       "4     ENSG00000001629          0           1           0           0\n",
       "5     ENSG00000001631          0           1           0           1\n",
       "6     ENSG00000002587          0           0           0           1\n",
       "7     ENSG00000002822          0           1           1           1\n",
       "8     ENSG00000003056          0           1           1           1\n",
       "9     ENSG00000003096          0           1           0           0\n",
       "10    ENSG00000003393          0           1           0           0\n",
       "11    ENSG00000003402          0           1           1           1\n",
       "12    ENSG00000003436          0           0           0           1\n",
       "13    ENSG00000003756          0           1           0           0\n",
       "14    ENSG00000004455          0           1           0           0\n",
       "15    ENSG00000004478          0           1           0           0\n",
       "16    ENSG00000004534          0           1           0           0\n",
       "17    ENSG00000004700          1           1           0           1\n",
       "18    ENSG00000004961          0           1           0           1\n",
       "19    ENSG00000005100          0           1           0           0\n",
       "20    ENSG00000005187          0           0           1           0\n",
       "21    ENSG00000005194          0           0           0           1\n",
       "22    ENSG00000005238          0           0           0           1\n",
       "23    ENSG00000005249          0           1           1           0\n",
       "24    ENSG00000005339          0           0           1           0\n",
       "25    ENSG00000005483          1           0           1           1\n",
       "26    ENSG00000005700          0           1           1           1\n",
       "27    ENSG00000005812          0           1           0           1\n",
       "28    ENSG00000005884          1           0           0           1\n",
       "29    ENSG00000005889          1           0           1           1\n",
       "...               ...        ...         ...         ...         ...\n",
       "4121  ENSG00000270024          0           1           0           0\n",
       "4122  ENSG00000270106          0           1           0           1\n",
       "4123  ENSG00000270885          0           1           0           0\n",
       "4124  ENSG00000271741          0           1           0           0\n",
       "4125  ENSG00000272162          0           0           0           1\n",
       "4126  ENSG00000272325          0           1           1           1\n",
       "4127  ENSG00000272391          0           1           0           0\n",
       "4128  ENSG00000272772          0           0           1           0\n",
       "4129  ENSG00000272822          1           0           0           1\n",
       "4130  ENSG00000272916          1           1           0           0\n",
       "4131  ENSG00000273045          0           1           0           0\n",
       "4132  ENSG00000273820          0           1           0           0\n",
       "4133  ENSG00000273841          0           1           1           1\n",
       "4134  ENSG00000274750          1           1           0           0\n",
       "4135  ENSG00000275052          0           1           1           0\n",
       "4136  ENSG00000275342          0           0           1           0\n",
       "4137  ENSG00000275740          0           0           0           1\n",
       "4138  ENSG00000276045          0           1           0           0\n",
       "4139  ENSG00000276547          1           1           0           0\n",
       "4140  ENSG00000276644          0           1           0           0\n",
       "4141  ENSG00000277443          0           1           1           1\n",
       "4142  ENSG00000277462          0           1           0           0\n",
       "4143  ENSG00000278259          0           1           0           0\n",
       "4144  ENSG00000278318          0           1           0           0\n",
       "4145  ENSG00000280789          0           0           0           1\n",
       "4146  ENSG00000280987          0           1           0           0\n",
       "4147  ENSG00000281039          1           1           1           1\n",
       "4148  ENSG00000283201          0           1           0           0\n",
       "4149  ENSG00000283374          0           1           0           0\n",
       "4150  ENSG00000283515          1           0           1           1\n",
       "\n",
       "[4151 rows x 5 columns]"
      ]
     },
     "execution_count": 36,
     "metadata": {},
     "output_type": "execute_result"
    }
   ],
   "source": [
    "uorfs_df_hg"
   ]
  },
  {
   "cell_type": "code",
   "execution_count": 42,
   "metadata": {},
   "outputs": [
    {
     "data": {
      "text/html": [
       "<div>\n",
       "<style scoped>\n",
       "    .dataframe tbody tr th:only-of-type {\n",
       "        vertical-align: middle;\n",
       "    }\n",
       "\n",
       "    .dataframe tbody tr th {\n",
       "        vertical-align: top;\n",
       "    }\n",
       "\n",
       "    .dataframe thead th {\n",
       "        text-align: right;\n",
       "    }\n",
       "</style>\n",
       "<table border=\"1\" class=\"dataframe\">\n",
       "  <thead>\n",
       "    <tr style=\"text-align: right;\">\n",
       "      <th></th>\n",
       "      <th>cds</th>\n",
       "      <th>uorf</th>\n",
       "      <th>ratio</th>\n",
       "    </tr>\n",
       "    <tr>\n",
       "      <th>gene_id</th>\n",
       "      <th></th>\n",
       "      <th></th>\n",
       "      <th></th>\n",
       "    </tr>\n",
       "  </thead>\n",
       "  <tbody>\n",
       "    <tr>\n",
       "      <th>ENSG00000000003</th>\n",
       "      <td>4.0</td>\n",
       "      <td>0.0</td>\n",
       "      <td>0.00</td>\n",
       "    </tr>\n",
       "    <tr>\n",
       "      <th>ENSG00000000419</th>\n",
       "      <td>4.0</td>\n",
       "      <td>0.0</td>\n",
       "      <td>0.00</td>\n",
       "    </tr>\n",
       "    <tr>\n",
       "      <th>ENSG00000000457</th>\n",
       "      <td>4.0</td>\n",
       "      <td>1.0</td>\n",
       "      <td>0.25</td>\n",
       "    </tr>\n",
       "    <tr>\n",
       "      <th>ENSG00000000460</th>\n",
       "      <td>4.0</td>\n",
       "      <td>0.0</td>\n",
       "      <td>0.00</td>\n",
       "    </tr>\n",
       "    <tr>\n",
       "      <th>ENSG00000000971</th>\n",
       "      <td>3.0</td>\n",
       "      <td>0.0</td>\n",
       "      <td>0.00</td>\n",
       "    </tr>\n",
       "  </tbody>\n",
       "</table>\n",
       "</div>"
      ],
      "text/plain": [
       "                 cds  uorf  ratio\n",
       "gene_id                          \n",
       "ENSG00000000003  4.0   0.0   0.00\n",
       "ENSG00000000419  4.0   0.0   0.00\n",
       "ENSG00000000457  4.0   1.0   0.25\n",
       "ENSG00000000460  4.0   0.0   0.00\n",
       "ENSG00000000971  3.0   0.0   0.00"
      ]
     },
     "execution_count": 42,
     "metadata": {},
     "output_type": "execute_result"
    }
   ],
   "source": [
    "cds_genewise_sum_hg = pd.DataFrame(cds_df_hg.set_index('gene_id').sum(axis=1), columns=['cds'])\n",
    "uorf_genewise_sum_hg = pd.DataFrame(uorfs_df_hg.set_index('gene_id').sum(axis=1), columns=['uorf'])\n",
    "uorf_cds_genewise_hg = cds_genewise_sum_hg.join(uorf_genewise_sum_hg, how='outer').fillna(0)\n",
    "uorf_cds_genewise_hg['ratio'] = uorf_cds_genewise_hg['uorf']/uorf_cds_genewise_hg['cds']\n",
    "uorf_cds_genewise_hg.head()"
   ]
  },
  {
   "cell_type": "code",
   "execution_count": 44,
   "metadata": {},
   "outputs": [
    {
     "data": {
      "text/plain": [
       "inf"
      ]
     },
     "execution_count": 44,
     "metadata": {},
     "output_type": "execute_result"
    }
   ],
   "source": [
    "np.nanmean(uorf_cds_genewise_hg['ratio'])"
   ]
  },
  {
   "cell_type": "code",
   "execution_count": 39,
   "metadata": {},
   "outputs": [
    {
     "data": {
      "text/plain": [
       "cds       0\n",
       "uorf      0\n",
       "ratio    59\n",
       "dtype: int64"
      ]
     },
     "execution_count": 39,
     "metadata": {},
     "output_type": "execute_result"
    }
   ],
   "source": [
    "sum(np.isinf(uorf_cds_genewise_hg))"
   ]
  },
  {
   "cell_type": "code",
   "execution_count": 40,
   "metadata": {},
   "outputs": [
    {
     "ename": "NameError",
     "evalue": "name 'uorf_genewise_sum_mm' is not defined",
     "output_type": "error",
     "traceback": [
      "\u001b[0;31m---------------------------------------------------------------------------\u001b[0m",
      "\u001b[0;31mNameError\u001b[0m                                 Traceback (most recent call last)",
      "\u001b[0;32m<ipython-input-40-65145fbd61a2>\u001b[0m in \u001b[0;36m<module>\u001b[0;34m\u001b[0m\n\u001b[0;32m----> 1\u001b[0;31m \u001b[0muorf_genewise_sum_mm\u001b[0m\u001b[0;34m.\u001b[0m\u001b[0muorf\u001b[0m\u001b[0;34m.\u001b[0m\u001b[0mmin\u001b[0m\u001b[0;34m(\u001b[0m\u001b[0;34m)\u001b[0m\u001b[0;34m\u001b[0m\u001b[0;34m\u001b[0m\u001b[0m\n\u001b[0m",
      "\u001b[0;31mNameError\u001b[0m: name 'uorf_genewise_sum_mm' is not defined"
     ]
    }
   ],
   "source": [
    "uorf_genewise_sum_mm.uorf.min()"
   ]
  },
  {
   "cell_type": "code",
   "execution_count": 41,
   "metadata": {},
   "outputs": [
    {
     "data": {
      "text/plain": [
       "nan"
      ]
     },
     "execution_count": 41,
     "metadata": {},
     "output_type": "execute_result"
    }
   ],
   "source": [
    "np.std(uorf_cds_genewise_hg['ratio'])"
   ]
  },
  {
   "cell_type": "code",
   "execution_count": 45,
   "metadata": {},
   "outputs": [
    {
     "data": {
      "text/plain": [
       "0.21397697186133857"
      ]
     },
     "execution_count": 45,
     "metadata": {},
     "output_type": "execute_result"
    }
   ],
   "source": [
    "cds_genewise_sum_mm = pd.DataFrame(cds_df_mm.set_index('gene_id').sum(axis=1), columns=['cds'])\n",
    "uorf_genewise_sum_mm = pd.DataFrame(uorfs_df_mm.set_index('gene_id').sum(axis=1), columns=['uorf'])\n",
    "\n",
    "uorf_cds_genewise_mm = cds_genewise_sum_mm.join(uorf_genewise_sum_mm, how='outer').fillna(0)\n",
    "\n",
    "uorf_cds_genewise_mm['ratio'] = uorf_cds_genewise_mm['uorf']/uorf_cds_genewise_mm['cds']\n",
    "\n",
    "uorf_cds_genewise_mm = uorf_cds_genewise_mm[~np.isinf(uorf_cds_genewise_mm.ratio)]\n",
    "\n",
    "np.mean(uorf_cds_genewise_mm['ratio'])"
   ]
  },
  {
   "cell_type": "code",
   "execution_count": 46,
   "metadata": {},
   "outputs": [
    {
     "data": {
      "text/plain": [
       "0.0"
      ]
     },
     "execution_count": 46,
     "metadata": {},
     "output_type": "execute_result"
    }
   ],
   "source": [
    "uorf_cds_genewise_mm['ratio'] = uorf_cds_genewise_mm['uorf']/uorf_cds_genewise_mm['cds']\n",
    "np.median(uorf_cds_genewise_mm['ratio'])\n",
    "#len(uorf_cds_genewise_mm[np.isinf(uorf_cds_genewise_mm.ratio)])"
   ]
  },
  {
   "cell_type": "code",
   "execution_count": 47,
   "metadata": {},
   "outputs": [
    {
     "data": {
      "text/plain": [
       "0.237729888328084"
      ]
     },
     "execution_count": 47,
     "metadata": {},
     "output_type": "execute_result"
    }
   ],
   "source": [
    "np.std(uorf_cds_genewise_mm[uorf_cds_genewise_mm['ratio']<1]['ratio'])\n"
   ]
  },
  {
   "cell_type": "code",
   "execution_count": 48,
   "metadata": {},
   "outputs": [
    {
     "data": {
      "text/plain": [
       "(13907, 3)"
      ]
     },
     "execution_count": 48,
     "metadata": {},
     "output_type": "execute_result"
    }
   ],
   "source": [
    "uorf_cds_genewise_hg.shape"
   ]
  },
  {
   "cell_type": "code",
   "execution_count": 49,
   "metadata": {},
   "outputs": [],
   "source": [
    "uorf_cds_genewise_hg = uorf_cds_genewise_hg[~np.isinf(uorf_cds_genewise_hg.ratio)]"
   ]
  },
  {
   "cell_type": "code",
   "execution_count": 50,
   "metadata": {},
   "outputs": [
    {
     "data": {
      "text/plain": [
       "(array([1.1535e+04, 1.6310e+03, 5.6900e+02, 6.3000e+01, 0.0000e+00,\n",
       "        3.9000e+01, 0.0000e+00, 7.0000e+00, 0.0000e+00, 4.0000e+00]),\n",
       " array([0. , 0.4, 0.8, 1.2, 1.6, 2. , 2.4, 2.8, 3.2, 3.6, 4. ]),\n",
       " <a list of 10 Patch objects>)"
      ]
     },
     "execution_count": 50,
     "metadata": {},
     "output_type": "execute_result"
    },
    {
     "data": {
      "image/png": "[encoded data removed]",
      "text/plain": [
       "<Figure size 432x288 with 1 Axes>"
      ]
     },
     "metadata": {
      "needs_background": "light"
     },
     "output_type": "display_data"
    }
   ],
   "source": [
    "plt.hist(uorf_cds_genewise_hg['ratio'])"
   ]
  },
  {
   "cell_type": "code",
   "execution_count": 51,
   "metadata": {},
   "outputs": [
    {
     "data": {
      "text/plain": [
       "0.15897000770267666"
      ]
     },
     "execution_count": 51,
     "metadata": {},
     "output_type": "execute_result"
    }
   ],
   "source": [
    "np.nanmean(uorf_cds_genewise_hg['ratio'])"
   ]
  },
  {
   "cell_type": "code",
   "execution_count": 52,
   "metadata": {},
   "outputs": [],
   "source": [
    "uorf_cds_genewise_ratio_hg = uorfs_df_hg.set_index('gene_id').sum(axis=1)/cds_df_hg.set_index('gene_id').sum(axis=1).fillna(0)\n",
    "uorf_cds_genewise_ratio_mm = uorfs_df_mm.set_index('gene_id').sum(axis=1)/cds_df_mm.set_index('gene_id').sum(axis=1).fillna(0)\n"
   ]
  },
  {
   "cell_type": "code",
   "execution_count": 53,
   "metadata": {},
   "outputs": [
    {
     "data": {
      "text/plain": [
       "0.25"
      ]
     },
     "execution_count": 53,
     "metadata": {},
     "output_type": "execute_result"
    }
   ],
   "source": [
    "uorf_cds_genewise_ratio_hg.min()"
   ]
  },
  {
   "cell_type": "code",
   "execution_count": 54,
   "metadata": {},
   "outputs": [
    {
     "name": "stderr",
     "output_type": "stream",
     "text": [
      "/home/cmb-06/as/skchoudh/software_frozen/anaconda37/envs/riboraptor/lib/python3.6/site-packages/numpy/lib/histograms.py:824: RuntimeWarning: invalid value encountered in greater_equal\n",
      "  keep = (tmp_a >= first_edge)\n",
      "/home/cmb-06/as/skchoudh/software_frozen/anaconda37/envs/riboraptor/lib/python3.6/site-packages/numpy/lib/histograms.py:825: RuntimeWarning: invalid value encountered in less_equal\n",
      "  keep &= (tmp_a <= last_edge)\n"
     ]
    },
    {
     "data": {
      "text/plain": [
       "(array([2817.,  593.,  606.,   26.,   39.,    0.,    0.,    7.,    0.,\n",
       "           4.]),\n",
       " array([0.25 , 0.625, 1.   , 1.375, 1.75 , 2.125, 2.5  , 2.875, 3.25 ,\n",
       "        3.625, 4.   ]),\n",
       " <a list of 10 Patch objects>)"
      ]
     },
     "execution_count": 54,
     "metadata": {},
     "output_type": "execute_result"
    },
    {
     "data": {
      "image/png": "[encoded data removed]",
      "text/plain": [
       "<Figure size 432x288 with 1 Axes>"
      ]
     },
     "metadata": {
      "needs_background": "light"
     },
     "output_type": "display_data"
    }
   ],
   "source": [
    "plt.hist(uorf_cds_genewise_ratio_hg)"
   ]
  },
  {
   "cell_type": "code",
   "execution_count": 55,
   "metadata": {},
   "outputs": [
    {
     "data": {
      "text/plain": [
       "0.5379806125773868"
      ]
     },
     "execution_count": 55,
     "metadata": {},
     "output_type": "execute_result"
    }
   ],
   "source": [
    "uorf_cds_genewise_ratio_hg.mean()"
   ]
  },
  {
   "cell_type": "code",
   "execution_count": 56,
   "metadata": {},
   "outputs": [
    {
     "data": {
      "text/plain": [
       "0.569985238641955"
      ]
     },
     "execution_count": 56,
     "metadata": {},
     "output_type": "execute_result"
    }
   ],
   "source": [
    "uorf_cds_genewise_ratio_mm.mean()"
   ]
  },
  {
   "cell_type": "code",
   "execution_count": 57,
   "metadata": {},
   "outputs": [
    {
     "data": {
      "text/plain": [
       "9815"
      ]
     },
     "execution_count": 57,
     "metadata": {},
     "output_type": "execute_result"
    }
   ],
   "source": [
    "len(uorf_cds_genewise_ratio_hg[uorf_cds_genewise_ratio_hg!=uorf_cds_genewise_ratio_hg])\n"
   ]
  },
  {
   "cell_type": "code",
   "execution_count": 58,
   "metadata": {},
   "outputs": [
    {
     "data": {
      "text/plain": [
       "13907"
      ]
     },
     "execution_count": 58,
     "metadata": {},
     "output_type": "execute_result"
    }
   ],
   "source": [
    "len(uorf_cds_genewise_ratio_hg)"
   ]
  },
  {
   "cell_type": "code",
   "execution_count": 59,
   "metadata": {},
   "outputs": [],
   "source": [
    "uorf_cds_genewise_ratio_hg = uorf_cds_genewise_ratio_hg[uorf_cds_genewise_ratio_hg==uorf_cds_genewise_ratio_hg]\n",
    "uorf_cds_genewise_ratio_mm = uorf_cds_genewise_ratio_mm[uorf_cds_genewise_ratio_mm==uorf_cds_genewise_ratio_mm]"
   ]
  },
  {
   "cell_type": "code",
   "execution_count": 62,
   "metadata": {},
   "outputs": [
    {
     "data": {
      "image/png": "[encoded data removed]",
      "text/plain": [
       "<Figure size 576x576 with 1 Axes>"
      ]
     },
     "metadata": {
      "needs_background": "light"
     },
     "output_type": "display_data"
    }
   ],
   "source": [
    "fig, ax = plt.subplots(figsize=(8,8))\n",
    "ax.hist(uorf_cds_genewise_ratio_hg)\n",
    "fig.tight_layout()\n",
    "fig.savefig('uorf_cds_genewise_ratio_hg.png')"
   ]
  },
  {
   "cell_type": "code",
   "execution_count": 223,
   "metadata": {},
   "outputs": [
    {
     "data": {
      "text/plain": [
       "0.569985238641955"
      ]
     },
     "execution_count": 223,
     "metadata": {},
     "output_type": "execute_result"
    }
   ],
   "source": [
    "uorf_cds_genewise_ratio_mm.mean()"
   ]
  },
  {
   "cell_type": "code",
   "execution_count": 63,
   "metadata": {},
   "outputs": [
    {
     "data": {
      "image/png": "[encoded data removed]",
      "text/plain": [
       "<Figure size 576x576 with 1 Axes>"
      ]
     },
     "metadata": {
      "needs_background": "light"
     },
     "output_type": "display_data"
    }
   ],
   "source": [
    "fig, ax = plt.subplots(figsize=(8,8))\n",
    "ax.hist(uorf_cds_genewise_ratio_mm)\n",
    "fig.tight_layout()\n",
    "fig.savefig('uorf_cds_genewise_ratio_mm.png')"
   ]
  },
  {
   "cell_type": "code",
   "execution_count": 64,
   "metadata": {},
   "outputs": [
    {
     "data": {
      "text/plain": [
       "0.569985238641955"
      ]
     },
     "execution_count": 64,
     "metadata": {},
     "output_type": "execute_result"
    }
   ],
   "source": [
    "uorf_cds_genewise_ratio_mm.mean()\n"
   ]
  },
  {
   "cell_type": "code",
   "execution_count": null,
   "metadata": {},
   "outputs": [],
   "source": []
  }
 ],
 "metadata": {
  "kernelspec": {
   "display_name": "Python [conda env:riboraptor]",
   "language": "python",
   "name": "conda-env-riboraptor-py"
  },
  "language_info": {
   "codemirror_mode": {
    "name": "ipython",
    "version": 3
   },
   "file_extension": ".py",
   "mimetype": "text/x-python",
   "name": "python",
   "nbconvert_exporter": "python",
   "pygments_lexer": "ipython3",
   "version": "3.6.7"
  }
 },
 "nbformat": 4,
 "nbformat_minor": 2
}
