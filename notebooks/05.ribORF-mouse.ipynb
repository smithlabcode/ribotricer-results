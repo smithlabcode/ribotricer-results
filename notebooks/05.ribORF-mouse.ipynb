{
 "cells": [
  {
   "cell_type": "code",
   "execution_count": 1,
   "metadata": {},
   "outputs": [
    {
     "name": "stdout",
     "output_type": "stream",
     "text": [
      "Populating the interactive namespace from numpy and matplotlib\n"
     ]
    }
   ],
   "source": [
    "%pylab inline\n",
    "import pandas as pd\n",
    "import os\n",
    "from textwrap import dedent"
   ]
  },
  {
   "cell_type": "code",
   "execution_count": 2,
   "metadata": {},
   "outputs": [],
   "source": [
    "assembly_common_name_map = {'mm10': 'mouse', 'hg38': 'human'}\n",
    "\n",
    "sheet_name = 'mm10'\n",
    "excel_df = pd.read_excel('../data/datasets_info.xlsx', sheet_name=sheet_name)\n"
   ]
  },
  {
   "cell_type": "code",
   "execution_count": 5,
   "metadata": {},
   "outputs": [
    {
     "data": {
      "text/html": [
       "<div>\n",
       "<style scoped>\n",
       "    .dataframe tbody tr th:only-of-type {\n",
       "        vertical-align: middle;\n",
       "    }\n",
       "\n",
       "    .dataframe tbody tr th {\n",
       "        vertical-align: top;\n",
       "    }\n",
       "\n",
       "    .dataframe thead th {\n",
       "        text-align: right;\n",
       "    }\n",
       "</style>\n",
       "<table border=\"1\" class=\"dataframe\">\n",
       "  <thead>\n",
       "    <tr style=\"text-align: right;\">\n",
       "      <th></th>\n",
       "      <th>GEO</th>\n",
       "      <th>SRA</th>\n",
       "      <th>RIBO sample</th>\n",
       "      <th>RNA sample</th>\n",
       "      <th>read lengths</th>\n",
       "      <th>offsets</th>\n",
       "      <th>RIBO adapter</th>\n",
       "      <th>RNA adapter</th>\n",
       "      <th>RIBO strandedness</th>\n",
       "      <th>RNA strandedness</th>\n",
       "    </tr>\n",
       "  </thead>\n",
       "  <tbody>\n",
       "    <tr>\n",
       "      <th>0</th>\n",
       "      <td>GSE22001</td>\n",
       "      <td>SRP003554</td>\n",
       "      <td>SRX026871</td>\n",
       "      <td>SRX026872</td>\n",
       "      <td>28,29,30</td>\n",
       "      <td>12,12,12</td>\n",
       "      <td>TCGTATG</td>\n",
       "      <td>TCGTATG</td>\n",
       "      <td>forward</td>\n",
       "      <td>forward</td>\n",
       "    </tr>\n",
       "    <tr>\n",
       "      <th>1</th>\n",
       "      <td>GSE72064</td>\n",
       "      <td>SRP062407</td>\n",
       "      <td>SRX1149649</td>\n",
       "      <td>SRX1149668</td>\n",
       "      <td>28,29,30,31</td>\n",
       "      <td>12,12,12,12</td>\n",
       "      <td>TGGAATTCTCGGGTGCCAAGG</td>\n",
       "      <td>TGGAATTCTCGGGTGCCAAGG</td>\n",
       "      <td>forward</td>\n",
       "      <td>forward</td>\n",
       "    </tr>\n",
       "    <tr>\n",
       "      <th>2</th>\n",
       "      <td>GSE84112</td>\n",
       "      <td>SRP078005</td>\n",
       "      <td>SRX1900396</td>\n",
       "      <td>SRX1900402</td>\n",
       "      <td>26,27,28,29,30</td>\n",
       "      <td>12,12,12,12,12</td>\n",
       "      <td>TGGAATTCTCGGGTGCCAAGG</td>\n",
       "      <td>TGGAATTCTCGGGTGCCAAGG</td>\n",
       "      <td>forward</td>\n",
       "      <td>forward</td>\n",
       "    </tr>\n",
       "    <tr>\n",
       "      <th>3</th>\n",
       "      <td>GSE89011</td>\n",
       "      <td>SRP091889</td>\n",
       "      <td>SRX2255510</td>\n",
       "      <td>SRX2255511</td>\n",
       "      <td>26,27,28,29,30</td>\n",
       "      <td>12,12,12,12,12</td>\n",
       "      <td>AGATCGGAAGAGCACACGTCT</td>\n",
       "      <td>AGATCGGAAGAGCACACGTCT</td>\n",
       "      <td>forward</td>\n",
       "      <td>forward</td>\n",
       "    </tr>\n",
       "    <tr>\n",
       "      <th>4</th>\n",
       "      <td>GSE102890</td>\n",
       "      <td>SRP115915</td>\n",
       "      <td>SRX3110803</td>\n",
       "      <td>SRX3110807</td>\n",
       "      <td>29,30,31,32,33,34</td>\n",
       "      <td>12,12,12,13,13,13</td>\n",
       "      <td>TGGAATTCTCGGGTGCCAAGG</td>\n",
       "      <td>TGGAATTCTCGGGTGCCAAGG</td>\n",
       "      <td>forward</td>\n",
       "      <td>forward</td>\n",
       "    </tr>\n",
       "    <tr>\n",
       "      <th>5</th>\n",
       "      <td>GSE99787</td>\n",
       "      <td>SRP108787</td>\n",
       "      <td>SRX2893684</td>\n",
       "      <td>SRX2893692</td>\n",
       "      <td>25,26,27,28</td>\n",
       "      <td>12,10,11,12</td>\n",
       "      <td>None</td>\n",
       "      <td>None</td>\n",
       "      <td>forward</td>\n",
       "      <td>reverse</td>\n",
       "    </tr>\n",
       "  </tbody>\n",
       "</table>\n",
       "</div>"
      ],
      "text/plain": [
       "         GEO        SRA RIBO sample  RNA sample       read lengths  \\\n",
       "0   GSE22001  SRP003554   SRX026871   SRX026872           28,29,30   \n",
       "1   GSE72064  SRP062407  SRX1149649  SRX1149668        28,29,30,31   \n",
       "2   GSE84112  SRP078005  SRX1900396  SRX1900402     26,27,28,29,30   \n",
       "3   GSE89011  SRP091889  SRX2255510  SRX2255511     26,27,28,29,30   \n",
       "4  GSE102890  SRP115915  SRX3110803  SRX3110807  29,30,31,32,33,34   \n",
       "5   GSE99787  SRP108787  SRX2893684  SRX2893692        25,26,27,28   \n",
       "\n",
       "             offsets           RIBO adapter            RNA adapter  \\\n",
       "0           12,12,12                TCGTATG                TCGTATG   \n",
       "1        12,12,12,12  TGGAATTCTCGGGTGCCAAGG  TGGAATTCTCGGGTGCCAAGG   \n",
       "2     12,12,12,12,12  TGGAATTCTCGGGTGCCAAGG  TGGAATTCTCGGGTGCCAAGG   \n",
       "3     12,12,12,12,12  AGATCGGAAGAGCACACGTCT  AGATCGGAAGAGCACACGTCT   \n",
       "4  12,12,12,13,13,13  TGGAATTCTCGGGTGCCAAGG  TGGAATTCTCGGGTGCCAAGG   \n",
       "5        12,10,11,12                   None                   None   \n",
       "\n",
       "  RIBO strandedness RNA strandedness  \n",
       "0           forward          forward  \n",
       "1           forward          forward  \n",
       "2           forward          forward  \n",
       "3           forward          forward  \n",
       "4           forward          forward  \n",
       "5           forward          reverse  "
      ]
     },
     "execution_count": 5,
     "metadata": {},
     "output_type": "execute_result"
    }
   ],
   "source": [
    "excel_df"
   ]
  },
  {
   "cell_type": "code",
   "execution_count": 6,
   "metadata": {},
   "outputs": [],
   "source": [
    "output_dir = '/home/cmb-panasas2/skchoudh/github_projects/ribocop-results/tools/ribORF/offsets/mm10'"
   ]
  },
  {
   "cell_type": "code",
   "execution_count": 7,
   "metadata": {},
   "outputs": [],
   "source": [
    "!mkdir -p /home/cmb-panasas2/skchoudh/github_projects/ribocop-results/tools/ribORF/offsets/mm10"
   ]
  },
  {
   "cell_type": "code",
   "execution_count": 8,
   "metadata": {},
   "outputs": [],
   "source": [
    "offset_file_map = {}\n",
    "for index, row in excel_df.iterrows():\n",
    "    read_lengths = row['read lengths'].strip().split(',')\n",
    "    offsets = row['offsets'].strip().split(',')\n",
    "    srp = row['SRA']\n",
    "    ribo_sample = row['RIBO sample']\n",
    "    rna_sample = row['RIBO sample']\n",
    "    ribo_outfile = os.path.join(output_dir, '{}_{}_{}.offset.txt'.format(srp, 'ribo', ribo_sample))\n",
    "    rna_outfile = os.path.join(output_dir, '{}_{}_{}.offset.txt'.format(srp, 'rna', rna_sample))\n",
    "    \n",
    "    with open(rna_outfile, 'w') as fh:\n",
    "        for read_length, offset in zip(read_lengths, offsets):\n",
    "            fh.write('{}\\t{}\\n'.format(read_length, offset))\n",
    "            \n",
    "    with open(ribo_outfile, 'w') as fh:\n",
    "        for read_length, offset in zip(read_lengths, offsets):\n",
    "            fh.write('{}\\t{}\\n'.format(read_length, offset))\n",
    "        \n",
    "    offset_file_map['{}_mouse'.format(srp)] = ribo_outfile"
   ]
  },
  {
   "cell_type": "raw",
   "metadata": {},
   "source": [
    "Usage: perl offsetCorrect.pl -r readFile -p offsetParameterFile -o readCorrectedFile\n",
    "   -r readFile: read mapping file before offset correction in SAM format;\n",
    "   -p offsetParameterFile: parameters for offset correction, 1st column: read length, 2nd column: offset distance;\n",
    "   -o readCorrectedFile: output file after offset correction in SAM format. \n"
   ]
  },
  {
   "cell_type": "code",
   "execution_count": 9,
   "metadata": {},
   "outputs": [
    {
     "name": "stdout",
     "output_type": "stream",
     "text": [
      "SRP003554_mouse\n",
      "SRP062407_mouse\n",
      "SRP078005_mouse\n",
      "SRP091889_mouse\n",
      "SRP115915_mouse\n"
     ]
    }
   ],
   "source": [
    "input_dir_root = '/home/cmb-panasas2/skchoudh/benchmark/gene_level/mm10/'\n",
    "create_config_dir = '/home/cmb-panasas2/skchoudh/github_projects/ribocop-results/tools/ribORF/configs'\n",
    "candidate_orfs = '/home/cmb-panasas2/skchoudh/genomes/mm10/ribORF_annotation/candidateORF.genepred.txt'\n",
    "for srp in os.listdir(input_dir_root):\n",
    "    print(srp)\n",
    "    if srp=='test' or srp == 'SRP063852_human_old':\n",
    "        continue\n",
    "    input_dir = os.path.join(input_dir_root, srp)\n",
    "    offset_file = offset_file_map[srp]\n",
    "    config_file = os.path.join(create_config_dir, srp+'.py')\n",
    "    config = dedent(\"\"\"\n",
    "    INPUT_DIR = '{}'\n",
    "    OFFSET_FILE = '{}'\n",
    "    CANDIDATE_ORFS = '{}'\n",
    "    \"\"\").format(input_dir, offset_file, candidate_orfs)\n",
    "    with open(config_file, 'w') as fh:\n",
    "        fh.write(config)\n",
    "    "
   ]
  },
  {
   "cell_type": "raw",
   "metadata": {},
   "source": [
    "Usage: perl ribORF.pl -f readCorrectedFile -c candidateORFFile -o outputDir [-l orfLengthCutoff] [-r orfReadCutoff] [-p predictPvalueCutoff]\n",
    "   -f readCorrectedFile: input read mapping file after offset correction in SAM format;\n",
    "   -c candidateORFFile: candidate ORFs in genePred format;\n",
    "   -o outputDir: output directory, with files reporting learning parameters and predicted translating probability;\n",
    "   -l orfLengthCutoff [optional]: cutoff of ORF length (nt), default: 6;\n",
    "   -r orfReadCutoff [optional]: cutoff of supported read number, default: 11.\n",
    "   -p predictPvalueCutoff [optional]: cutoff used to select predicted translated ORF, default: 0.7."
   ]
  }
 ],
 "metadata": {
  "kernelspec": {
   "display_name": "py3 (pysradb)",
   "language": "python",
   "name": "pysradb"
  },
  "language_info": {
   "codemirror_mode": {
    "name": "ipython",
    "version": 3
   },
   "file_extension": ".py",
   "mimetype": "text/x-python",
   "name": "python",
   "nbconvert_exporter": "python",
   "pygments_lexer": "ipython3",
   "version": "3.7.1"
  }
 },
 "nbformat": 4,
 "nbformat_minor": 2
}
