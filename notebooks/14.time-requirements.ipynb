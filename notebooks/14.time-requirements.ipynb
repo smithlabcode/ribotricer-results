{
 "cells": [
  {
   "cell_type": "code",
   "execution_count": 1,
   "metadata": {},
   "outputs": [
    {
     "name": "stdout",
     "output_type": "stream",
     "text": [
      "Populating the interactive namespace from numpy and matplotlib\n"
     ]
    }
   ],
   "source": [
    "%pylab inline\n",
    "import pandas as pd\n",
    "import seaborn as sns\n",
    "import os\n",
    "import glob\n",
    "sns.set_context('paper', font_scale=3)\n",
    "sns.set_style('white')"
   ]
  },
  {
   "cell_type": "code",
   "execution_count": 2,
   "metadata": {},
   "outputs": [],
   "source": [
    "tool_colors = {'ribocop': '#e41a1c',\n",
    "               'ribocode': '#377eb8',\n",
    "               'ribotaper': '#4daf4a',\n",
    "               'orfscore': '#984ea3',\n",
    "               'riborf': '#ff7f00',#ffff33\n",
    "               'ribowave': '#a65628',\n",
    "               'rpbp': '#f781bf'#999999\n",
    "}\n",
    "\n",
    "KEY_TO_KEY = {'ribocop': 'RiboCop',\n",
    "             'ribocode': 'RiboCode',\n",
    "             'riborf': 'RibORF',\n",
    "             'rpbp': 'RP-BP',\n",
    "             'ribowave': 'RiboWave'}"
   ]
  },
  {
   "cell_type": "code",
   "execution_count": 3,
   "metadata": {},
   "outputs": [
    {
     "data": {
      "text/html": [
       "<div>\n",
       "<style scoped>\n",
       "    .dataframe tbody tr th:only-of-type {\n",
       "        vertical-align: middle;\n",
       "    }\n",
       "\n",
       "    .dataframe tbody tr th {\n",
       "        vertical-align: top;\n",
       "    }\n",
       "\n",
       "    .dataframe thead th {\n",
       "        text-align: right;\n",
       "    }\n",
       "</style>\n",
       "<table border=\"1\" class=\"dataframe\">\n",
       "  <thead>\n",
       "    <tr style=\"text-align: right;\">\n",
       "      <th></th>\n",
       "      <th>GEO</th>\n",
       "      <th>SRA</th>\n",
       "      <th>RIBO sample</th>\n",
       "      <th>RNA sample</th>\n",
       "      <th>read lengths</th>\n",
       "      <th>offsets</th>\n",
       "      <th>RIBO adapter</th>\n",
       "      <th>RNA adapter</th>\n",
       "      <th>RIBO strandedness</th>\n",
       "      <th>RNA strandedness</th>\n",
       "    </tr>\n",
       "  </thead>\n",
       "  <tbody>\n",
       "    <tr>\n",
       "      <th>0</th>\n",
       "      <td>GSE22001</td>\n",
       "      <td>SRP003554</td>\n",
       "      <td>SRX026871</td>\n",
       "      <td>SRX026872</td>\n",
       "      <td>28,29,30</td>\n",
       "      <td>12,12,12</td>\n",
       "      <td>TCGTATG</td>\n",
       "      <td>TCGTATG</td>\n",
       "      <td>forward</td>\n",
       "      <td>forward</td>\n",
       "    </tr>\n",
       "    <tr>\n",
       "      <th>1</th>\n",
       "      <td>GSE72064</td>\n",
       "      <td>SRP062407</td>\n",
       "      <td>SRX1149649</td>\n",
       "      <td>SRX1149668</td>\n",
       "      <td>28,29,30,31</td>\n",
       "      <td>12,12,12,12</td>\n",
       "      <td>TGGAATTCTCGGGTGCCAAGG</td>\n",
       "      <td>TGGAATTCTCGGGTGCCAAGG</td>\n",
       "      <td>forward</td>\n",
       "      <td>forward</td>\n",
       "    </tr>\n",
       "    <tr>\n",
       "      <th>2</th>\n",
       "      <td>GSE84112</td>\n",
       "      <td>SRP078005</td>\n",
       "      <td>SRX1900396</td>\n",
       "      <td>SRX1900402</td>\n",
       "      <td>26,27,28,29,30</td>\n",
       "      <td>12,12,12,12,12</td>\n",
       "      <td>TGGAATTCTCGGGTGCCAAGG</td>\n",
       "      <td>TGGAATTCTCGGGTGCCAAGG</td>\n",
       "      <td>forward</td>\n",
       "      <td>forward</td>\n",
       "    </tr>\n",
       "    <tr>\n",
       "      <th>3</th>\n",
       "      <td>GSE89011</td>\n",
       "      <td>SRP091889</td>\n",
       "      <td>SRX2255510</td>\n",
       "      <td>SRX2255511</td>\n",
       "      <td>26,27,28,29,30</td>\n",
       "      <td>12,12,12,12,12</td>\n",
       "      <td>AGATCGGAAGAGCACACGTCT</td>\n",
       "      <td>AGATCGGAAGAGCACACGTCT</td>\n",
       "      <td>forward</td>\n",
       "      <td>forward</td>\n",
       "    </tr>\n",
       "    <tr>\n",
       "      <th>4</th>\n",
       "      <td>GSE102890</td>\n",
       "      <td>SRP115915</td>\n",
       "      <td>SRX3110803</td>\n",
       "      <td>SRX3110807</td>\n",
       "      <td>29,30,31,32,33,34</td>\n",
       "      <td>12,12,12,13,13,13</td>\n",
       "      <td>TGGAATTCTCGGGTGCCAAGG</td>\n",
       "      <td>TGGAATTCTCGGGTGCCAAGG</td>\n",
       "      <td>forward</td>\n",
       "      <td>forward</td>\n",
       "    </tr>\n",
       "    <tr>\n",
       "      <th>5</th>\n",
       "      <td>GSE99787</td>\n",
       "      <td>SRP108787</td>\n",
       "      <td>SRX2893684</td>\n",
       "      <td>SRX2893692</td>\n",
       "      <td>25,26,27,28</td>\n",
       "      <td>12,10,11,12</td>\n",
       "      <td>None</td>\n",
       "      <td>None</td>\n",
       "      <td>forward</td>\n",
       "      <td>reverse</td>\n",
       "    </tr>\n",
       "  </tbody>\n",
       "</table>\n",
       "</div>"
      ],
      "text/plain": [
       "         GEO        SRA RIBO sample  RNA sample       read lengths  \\\n",
       "0   GSE22001  SRP003554   SRX026871   SRX026872           28,29,30   \n",
       "1   GSE72064  SRP062407  SRX1149649  SRX1149668        28,29,30,31   \n",
       "2   GSE84112  SRP078005  SRX1900396  SRX1900402     26,27,28,29,30   \n",
       "3   GSE89011  SRP091889  SRX2255510  SRX2255511     26,27,28,29,30   \n",
       "4  GSE102890  SRP115915  SRX3110803  SRX3110807  29,30,31,32,33,34   \n",
       "5   GSE99787  SRP108787  SRX2893684  SRX2893692        25,26,27,28   \n",
       "\n",
       "             offsets           RIBO adapter            RNA adapter  \\\n",
       "0           12,12,12                TCGTATG                TCGTATG   \n",
       "1        12,12,12,12  TGGAATTCTCGGGTGCCAAGG  TGGAATTCTCGGGTGCCAAGG   \n",
       "2     12,12,12,12,12  TGGAATTCTCGGGTGCCAAGG  TGGAATTCTCGGGTGCCAAGG   \n",
       "3     12,12,12,12,12  AGATCGGAAGAGCACACGTCT  AGATCGGAAGAGCACACGTCT   \n",
       "4  12,12,12,13,13,13  TGGAATTCTCGGGTGCCAAGG  TGGAATTCTCGGGTGCCAAGG   \n",
       "5        12,10,11,12                   None                   None   \n",
       "\n",
       "  RIBO strandedness RNA strandedness  \n",
       "0           forward          forward  \n",
       "1           forward          forward  \n",
       "2           forward          forward  \n",
       "3           forward          forward  \n",
       "4           forward          forward  \n",
       "5           forward          reverse  "
      ]
     },
     "execution_count": 3,
     "metadata": {},
     "output_type": "execute_result"
    }
   ],
   "source": [
    "sheet_name = 'mm10'\n",
    "excel_df = pd.read_excel('../../ribocop-results/data/datasets_info.xlsx', sheet_name=sheet_name)\n",
    "excel_df"
   ]
  },
  {
   "cell_type": "code",
   "execution_count": 4,
   "metadata": {},
   "outputs": [],
   "source": [
    "def get_runtime(filename):\n",
    "    df = pd.read_table(filename)\n",
    "    return df['s'].tolist()[0]"
   ]
  },
  {
   "cell_type": "code",
   "execution_count": 5,
   "metadata": {},
   "outputs": [],
   "source": [
    "input_dir_root = '/home/cmb-panasas2/wenzhenl/benchmark/gene_level/mm10/'\n",
    "output_dir_root = '/staging/as/skchoudh/benchmark/gene_level/mm10/'\n",
    "run_times = []\n",
    "benchmarks = {'riborf': 'time_benchmarks/riboORF_benchmark/run_ribORF/', # 'RNA.txt'\n",
    "             'rpbp': 'rpbp_results/time_benchmarks/rpbp/run_rpbp', #'RNA_CCDS_lengths.txt'\n",
    "             'ribowave': 'time_benchmarks/Ribowave/ribowave/', # 'RNA_CCDS_lengths.txt'\n",
    "              'ribocop': 'time_benchmarks/ribocop/predict_orfs/', # 'RNA_CCDS_lengths.txt'\n",
    "             }\n",
    "\n",
    "for index, row in excel_df.iterrows():\n",
    "    srp = row['SRA']\n",
    "    input_dir = os.path.join(input_dir_root, srp+'_mouse')\n",
    "    output_dir = os.path.join(output_dir_root, srp+'_mouse')\n",
    "   \n",
    "    if not os.path.exists(input_dir):\n",
    "        continue\n",
    "    for key, location in benchmarks.items():\n",
    "        for f in glob.glob(os.path.join(output_dir, location, '*.txt')):\n",
    "            runtime = get_runtime(f)\n",
    "            file_type = f.split('/')[-1].replace('_CCDS_lengths', '').replace('.txt', '')\n",
    "            if runtime < 30:\n",
    "                continue\n",
    "            run_times.append([srp+'_mouse', key, file_type, runtime])\n",
    "                           \n",
    "        \n",
    "    \n"
   ]
  },
  {
   "cell_type": "code",
   "execution_count": 6,
   "metadata": {},
   "outputs": [
    {
     "data": {
      "text/html": [
       "<div>\n",
       "<style scoped>\n",
       "    .dataframe tbody tr th:only-of-type {\n",
       "        vertical-align: middle;\n",
       "    }\n",
       "\n",
       "    .dataframe tbody tr th {\n",
       "        vertical-align: top;\n",
       "    }\n",
       "\n",
       "    .dataframe thead th {\n",
       "        text-align: right;\n",
       "    }\n",
       "</style>\n",
       "<table border=\"1\" class=\"dataframe\">\n",
       "  <thead>\n",
       "    <tr style=\"text-align: right;\">\n",
       "      <th></th>\n",
       "      <th>srp</th>\n",
       "      <th>tool</th>\n",
       "      <th>file_type</th>\n",
       "      <th>runtime</th>\n",
       "    </tr>\n",
       "  </thead>\n",
       "  <tbody>\n",
       "    <tr>\n",
       "      <th>0</th>\n",
       "      <td>SRP003554_mouse</td>\n",
       "      <td>riborf</td>\n",
       "      <td>RNA</td>\n",
       "      <td>9617.0501</td>\n",
       "    </tr>\n",
       "    <tr>\n",
       "      <th>1</th>\n",
       "      <td>SRP003554_mouse</td>\n",
       "      <td>riborf</td>\n",
       "      <td>RIBO</td>\n",
       "      <td>17580.7919</td>\n",
       "    </tr>\n",
       "    <tr>\n",
       "      <th>2</th>\n",
       "      <td>SRP003554_mouse</td>\n",
       "      <td>rpbp</td>\n",
       "      <td>RNA</td>\n",
       "      <td>2209.5744</td>\n",
       "    </tr>\n",
       "    <tr>\n",
       "      <th>3</th>\n",
       "      <td>SRP003554_mouse</td>\n",
       "      <td>rpbp</td>\n",
       "      <td>RIBO</td>\n",
       "      <td>6751.4425</td>\n",
       "    </tr>\n",
       "    <tr>\n",
       "      <th>4</th>\n",
       "      <td>SRP003554_mouse</td>\n",
       "      <td>ribowave</td>\n",
       "      <td>RNA</td>\n",
       "      <td>8080.0954</td>\n",
       "    </tr>\n",
       "  </tbody>\n",
       "</table>\n",
       "</div>"
      ],
      "text/plain": [
       "               srp      tool file_type     runtime\n",
       "0  SRP003554_mouse    riborf       RNA   9617.0501\n",
       "1  SRP003554_mouse    riborf      RIBO  17580.7919\n",
       "2  SRP003554_mouse      rpbp       RNA   2209.5744\n",
       "3  SRP003554_mouse      rpbp      RIBO   6751.4425\n",
       "4  SRP003554_mouse  ribowave       RNA   8080.0954"
      ]
     },
     "execution_count": 6,
     "metadata": {},
     "output_type": "execute_result"
    }
   ],
   "source": [
    "df = pd.DataFrame(run_times, columns=['srp', 'tool', 'file_type', 'runtime', ])\n",
    "df.head()"
   ]
  },
  {
   "cell_type": "code",
   "execution_count": 7,
   "metadata": {},
   "outputs": [
    {
     "data": {
      "image/png": "[encoded data removed]",
      "text/plain": [
       "<Figure size 864x720 with 1 Axes>"
      ]
     },
     "metadata": {},
     "output_type": "display_data"
    }
   ],
   "source": [
    "sns.set_context('paper', font_scale=3)\n",
    "sns.set_style('white')\n",
    "sns.set_style(\"ticks\", {\"xtick.major.size\": 20, \"ytick.major.size\": 50})\n",
    "\n",
    "fig, ax = plt.subplots(figsize=(12,10))\n",
    "sns.set_style(\"ticks\", {\"xtick.major.size\": 20, \"ytick.major.size\": 50})\n",
    "\n",
    "sns.violinplot(data=df, x='tool', y='runtime', palette=tool_colors, ax=ax, legend=False, cut=0)\n",
    "sns.set_style(\"ticks\", {\"xtick.major.size\": 20, \"ytick.major.size\": 50})\n",
    "\n",
    "#sns.despine(ax=ax, offset=50, trim=True)\n",
    "sns.set_style(\"ticks\", {\"xtick.major.size\": 20, \"ytick.major.size\": 50})\n",
    "ax.set_ylabel('runtime (s)')\n",
    "ax.set_xlabel('')\n",
    "fig.tight_layout()\n",
    "fig.savefig('../../ribocop-results/notebooks/results/run_time_dist.pdf')"
   ]
  },
  {
   "cell_type": "code",
   "execution_count": 31,
   "metadata": {},
   "outputs": [
    {
     "data": {
      "text/plain": [
       "<function matplotlib.pyplot.colors()>"
      ]
     },
     "execution_count": 31,
     "metadata": {},
     "output_type": "execute_result"
    }
   ],
   "source": [
    "colors"
   ]
  },
  {
   "cell_type": "code",
   "execution_count": null,
   "metadata": {},
   "outputs": [],
   "source": []
  }
 ],
 "metadata": {
  "kernelspec": {
   "display_name": "Python [conda env:riboraptor]",
   "language": "python",
   "name": "conda-env-riboraptor-py"
  },
  "language_info": {
   "codemirror_mode": {
    "name": "ipython",
    "version": 3
   },
   "file_extension": ".py",
   "mimetype": "text/x-python",
   "name": "python",
   "nbconvert_exporter": "python",
   "pygments_lexer": "ipython3",
   "version": "3.6.5"
  }
 },
 "nbformat": 4,
 "nbformat_minor": 2
}
