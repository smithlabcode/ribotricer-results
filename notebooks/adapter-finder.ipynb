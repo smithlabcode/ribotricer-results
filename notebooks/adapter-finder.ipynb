{
 "cells": [
  {
   "cell_type": "code",
   "execution_count": 1,
   "metadata": {},
   "outputs": [
    {
     "name": "stdout",
     "output_type": "stream",
     "text": [
      "Populating the interactive namespace from numpy and matplotlib\n"
     ]
    }
   ],
   "source": [
    "%pylab inline"
   ]
  },
  {
   "cell_type": "code",
   "execution_count": 2,
   "metadata": {},
   "outputs": [],
   "source": [
    "from collections import Counter\n",
    "from Bio.SeqIO.QualityIO import FastqGeneralIterator\n",
    "from tqdm import tqdm\n",
    "import gzip\n",
    "import pandas as pd\n",
    "from IPython.display import HTML"
   ]
  },
  {
   "cell_type": "code",
   "execution_count": 3,
   "metadata": {},
   "outputs": [],
   "source": [
    "def fastq_kmer_histogram_prime3(fastq_file,\n",
    "                         kmer_length=range(5, 31),\n",
    "                         five_prime=False,\n",
    "                         max_seq=1000000,\n",
    "                         offset=0):\n",
    "    \"\"\"Get a histogram of kmers from a fastq file\n",
    "    Parameters\n",
    "    ----------\n",
    "    fastq_file: string\n",
    "                Location of .fastq or .fastq.gz\n",
    "    kmer_length: range\n",
    "                 Range of kmer to consider\n",
    "    five_prime: bool\n",
    "                Should consider sequences from 5' end?\n",
    "                Default: False (uses sequence from 3' end)\n",
    "    max_seq: int\n",
    "             Maximum number of sequences to consider\n",
    "    offset: int\n",
    "            Offset to ignore at the 5' end or 3'end\n",
    "            Example: If the offset is 3, the first 3 bases will be skipped\n",
    "            and kmers will start only from the 4th position\n",
    "            For 3'end if the offset is 3, the last 3 bases will be skipped\n",
    "    Returns\n",
    "    -------\n",
    "    kmers: Series\n",
    "           Sorted series with most frequent kmer\n",
    "    \"\"\"\n",
    "    cur_count = 0\n",
    "    should_continue = True\n",
    "    if '.gz' in fastq_file:\n",
    "        # Open as a gzip file\n",
    "        handle = gzip.open(fastq_file, 'rt')\n",
    "    else:\n",
    "        handle = open(fastq_file, 'r')\n",
    "    histogram = {k: Counter() for k in kmer_length}\n",
    "\n",
    "    with tqdm(total=max_seq) as pbar:\n",
    "        for title, seq, qual in FastqGeneralIterator(handle):\n",
    "            if not should_continue:\n",
    "                break\n",
    "            cur_count += 1\n",
    "            for k in kmer_length:\n",
    "                if not five_prime:\n",
    "                    if not offset:\n",
    "                        k_seq = seq[-k:]\n",
    "                    else:\n",
    "                        k_seq = seq[-k - offset:-offset]\n",
    "                else:\n",
    "                    k_seq = seq[offset:k + offset]\n",
    "                histogram[k][k_seq] += 1\n",
    "                if cur_count >= max_seq:\n",
    "                    should_continue = False\n",
    "            pbar.update()\n",
    "    handle.close()\n",
    "    kmers = {}\n",
    "    for k, v in histogram.items():\n",
    "        kmers[k] = pd.Series(v).sort_values(ascending=False) / max_seq * 100\n",
    "    return kmers"
   ]
  },
  {
   "cell_type": "code",
   "execution_count": 4,
   "metadata": {},
   "outputs": [],
   "source": [
    "def fastq_kmer_histogram_prime5(fastq_file,\n",
    "                         kmer_length=range(5, 31),\n",
    "                         five_prime=False,\n",
    "                         max_seq=1000000,\n",
    "                         offset=0):\n",
    "    \"\"\"Get a histogram of kmers from a fastq file\n",
    "    Parameters\n",
    "    ----------\n",
    "    fastq_file: string\n",
    "                Location of .fastq or .fastq.gz\n",
    "    kmer_length: range\n",
    "                 Range of kmer to consider\n",
    "    five_prime: bool\n",
    "                Should consider sequences from 5' end?\n",
    "                Default: False (uses sequence from 3' end)\n",
    "    max_seq: int\n",
    "             Maximum number of sequences to consider\n",
    "    offset: int\n",
    "            Offset to ignore at the 5' end or 3'end\n",
    "            Example: If the offset is 3, the first 3 bases will be skipped\n",
    "            and kmers will start only from the 4th position\n",
    "            For 3'end if the offset is 3, the last 3 bases will be skipped\n",
    "    Returns\n",
    "    -------\n",
    "    kmers: Series\n",
    "           Sorted series with most frequent kmer\n",
    "    \"\"\"\n",
    "    cur_count = 0\n",
    "    should_continue = True\n",
    "    if '.gz' in fastq_file:\n",
    "        # Open as a gzip file\n",
    "        handle = gzip.open(fastq_file, 'rt')\n",
    "    else:\n",
    "        handle = open(fastq_file, 'r')\n",
    "    histogram = {k: Counter() for k in kmer_length}\n",
    "\n",
    "    with tqdm(total=max_seq) as pbar:\n",
    "        for title, seq, qual in FastqGeneralIterator(handle):\n",
    "            if not should_continue:\n",
    "                break\n",
    "            cur_count += 1\n",
    "            for k in kmer_length:\n",
    "                if not five_prime:\n",
    "                    if not offset:\n",
    "                        k_seq = seq[:k]\n",
    "                    else:\n",
    "                        k_seq = seq[offset: k + offset]\n",
    "                else:\n",
    "                    k_seq = seq[offset:k + offset]\n",
    "                histogram[k][k_seq] += 1\n",
    "                if cur_count >= max_seq:\n",
    "                    should_continue = False\n",
    "            pbar.update()\n",
    "    handle.close()\n",
    "    kmers = {}\n",
    "    for k, v in histogram.items():\n",
    "        kmers[k] = pd.Series(v).sort_values(ascending=False) / max_seq * 100\n",
    "    return kmers"
   ]
  },
  {
   "cell_type": "code",
   "execution_count": 101,
   "metadata": {},
   "outputs": [],
   "source": [
    "fastq = '/staging/as/wenzhenl/re-ribo-analysis/SRP098789_human/sratofastq/SRR5227313.fastq.gz'"
   ]
  },
  {
   "cell_type": "code",
   "execution_count": 102,
   "metadata": {},
   "outputs": [
    {
     "name": "stderr",
     "output_type": "stream",
     "text": [
      "100%|██████████| 1000000/1000000 [00:37<00:00, 26433.10it/s]\n"
     ]
    }
   ],
   "source": [
    "histogram3 = fastq_kmer_histogram_prime3(fastq, range(5, 30))"
   ]
  },
  {
   "cell_type": "code",
   "execution_count": 105,
   "metadata": {},
   "outputs": [
    {
     "data": {
      "text/plain": [
       "CTGTAGGCACCATCAATAGATCGGA    3.3576\n",
       "CCTGTAGGCACCATCAATAGATCGG    1.9011\n",
       "ACTGTAGGCACCATCAATAGATCGG    1.8399\n",
       "TCTGTAGGCACCATCAATAGATCGG    1.5492\n",
       "GCTGTAGGCACCATCAATAGATCGG    1.0938\n",
       "CCCTGTAGGCACCATCAATAGATCG    0.9382\n",
       "CAACGCGACTGTAGGCACCATCAAT    0.9229\n",
       "GCCTGTAGGCACCATCAATAGATCG    0.8400\n",
       "CTCTGTAGGCACCATCAATAGATCG    0.8225\n",
       "GACTGTAGGCACCATCAATAGATCG    0.8213\n",
       "TCCTGTAGGCACCATCAATAGATCG    0.7803\n",
       "TTCTGTAGGCACCATCAATAGATCG    0.6859\n",
       "CACTGTAGGCACCATCAATAGATCG    0.6241\n",
       "ACCTGTAGGCACCATCAATAGATCG    0.6052\n",
       "AACTGTAGGCACCATCAATAGATCG    0.6030\n",
       "TGTAGGCACCATCAATAGATCGGAA    0.5881\n",
       "GTCTGTAGGCACCATCAATAGATCG    0.5138\n",
       "ATCTGTAGGCACCATCAATAGATCG    0.5009\n",
       "GGCTGTAGGCACCATCAATAGATCG    0.4746\n",
       "TGCTGTAGGCACCATCAATAGATCG    0.4688\n",
       "TACTGTAGGCACCATCAATAGATCG    0.3980\n",
       "AGCTGTAGGCACCATCAATAGATCG    0.3646\n",
       "CCCCTGTAGGCACCATCAATAGATC    0.3174\n",
       "GGCCTGTAGGCACCATCAATAGATC    0.3136\n",
       "GCCCTGTAGGCACCATCAATAGATC    0.2973\n",
       "CTCCTGTAGGCACCATCAATAGATC    0.2956\n",
       "GAGCACACGTCTGAACTCCAGTCAC    0.2951\n",
       "CCTCTGTAGGCACCATCAATAGATC    0.2786\n",
       "TCCCTGTAGGCACCATCAATAGATC    0.2771\n",
       "CGCTGTAGGCACCATCAATAGATCG    0.2723\n",
       "                              ...  \n",
       "GCCGATGACCTGTAGGCACCATCAA    0.0001\n",
       "GCCGAGGACTGTAGGCACCATCAAT    0.0001\n",
       "GCCGAGGACACTGTAGGCACCATCA    0.0001\n",
       "GCCGAGCGCTGTAGGCACCATCAAT    0.0001\n",
       "GCCGACTGTAGCACCATCAATAGAT    0.0001\n",
       "GCCGACGCTCCTGTAGGCCCATCAA    0.0001\n",
       "GCCGACGCTCCTGTATGCACCATCA    0.0001\n",
       "GCCGACGCTCTGAGGCACCATCAAT    0.0001\n",
       "GCCGACGCTCTGTAGGCACAATCAA    0.0001\n",
       "GCCGACGCTCTGTAGGCACCTTCAA    0.0001\n",
       "GCCGACGCTTGTAGGCACCATCAAT    0.0001\n",
       "GCCGACTCCGTAGGCACCATCAATA    0.0001\n",
       "GCCGACTCTCATCTGTAGGCACCAT    0.0001\n",
       "GCCGACTGCGGCCCTGTAGGCACCA    0.0001\n",
       "GCCGACTGCTGTAGGCACCATCAAT    0.0001\n",
       "GCCGACTGGGCCTGTAGGCACCATC    0.0001\n",
       "GCCGACTGTAGGCACCATAATAGAT    0.0001\n",
       "GCCGAGCCCCTGTAGGCACCATCAA    0.0001\n",
       "GCCGACTGTAGGCACCATCGATAGA    0.0001\n",
       "GCCGACTTAGAACTCTGTAGGCACC    0.0001\n",
       "GCCGACTTCCTGTAGGCACCATCAA    0.0001\n",
       "GCCGACTTGTGTAGGCACCATCAAT    0.0001\n",
       "GCCGACTTTCTGTAGGCACCATCAA    0.0001\n",
       "GCCGAGAATCTGTAGGCACCATCAA    0.0001\n",
       "GCCGAGAGCTGTAGGCACCATCAAT    0.0001\n",
       "GCCGAGAGGACTGTAGGCACCATCA    0.0001\n",
       "GCCGAGATCATCCTGTAGGCACCAT    0.0001\n",
       "GCCGAGATGCTGTAGGCACCATCAA    0.0001\n",
       "GCCGAGCAGGGCTGTAGGCACCATC    0.0001\n",
       "AAAAAAAAAAAAAAAAAATGAAACC    0.0001\n",
       "Length: 148936, dtype: float64"
      ]
     },
     "execution_count": 105,
     "metadata": {},
     "output_type": "execute_result"
    }
   ],
   "source": [
    "histogram3[25]"
   ]
  },
  {
   "cell_type": "code",
   "execution_count": 80,
   "metadata": {},
   "outputs": [
    {
     "name": "stderr",
     "output_type": "stream",
     "text": [
      " 13%|█▎        | 129022/1000000 [00:06<00:42, 20597.19it/s]\n"
     ]
    },
    {
     "ename": "KeyboardInterrupt",
     "evalue": "",
     "output_type": "error",
     "traceback": [
      "\u001b[0;31m---------------------------------------------------------------------------\u001b[0m",
      "\u001b[0;31mKeyboardInterrupt\u001b[0m                         Traceback (most recent call last)",
      "\u001b[0;32m<ipython-input-80-989cc2809148>\u001b[0m in \u001b[0;36m<module>\u001b[0;34m()\u001b[0m\n\u001b[0;32m----> 1\u001b[0;31m \u001b[0mhistogram5\u001b[0m \u001b[0;34m=\u001b[0m \u001b[0mfastq_kmer_histogram_prime5\u001b[0m\u001b[0;34m(\u001b[0m\u001b[0mfastq\u001b[0m\u001b[0;34m)\u001b[0m\u001b[0;34m\u001b[0m\u001b[0m\n\u001b[0m",
      "\u001b[0;32m<ipython-input-4-03bcf3e995c6>\u001b[0m in \u001b[0;36mfastq_kmer_histogram_prime5\u001b[0;34m(fastq_file, kmer_length, five_prime, max_seq, offset)\u001b[0m\n\u001b[1;32m     36\u001b[0m \u001b[0;34m\u001b[0m\u001b[0m\n\u001b[1;32m     37\u001b[0m     \u001b[0;32mwith\u001b[0m \u001b[0mtqdm\u001b[0m\u001b[0;34m(\u001b[0m\u001b[0mtotal\u001b[0m\u001b[0;34m=\u001b[0m\u001b[0mmax_seq\u001b[0m\u001b[0;34m)\u001b[0m \u001b[0;32mas\u001b[0m \u001b[0mpbar\u001b[0m\u001b[0;34m:\u001b[0m\u001b[0;34m\u001b[0m\u001b[0m\n\u001b[0;32m---> 38\u001b[0;31m         \u001b[0;32mfor\u001b[0m \u001b[0mtitle\u001b[0m\u001b[0;34m,\u001b[0m \u001b[0mseq\u001b[0m\u001b[0;34m,\u001b[0m \u001b[0mqual\u001b[0m \u001b[0;32min\u001b[0m \u001b[0mFastqGeneralIterator\u001b[0m\u001b[0;34m(\u001b[0m\u001b[0mhandle\u001b[0m\u001b[0;34m)\u001b[0m\u001b[0;34m:\u001b[0m\u001b[0;34m\u001b[0m\u001b[0m\n\u001b[0m\u001b[1;32m     39\u001b[0m             \u001b[0;32mif\u001b[0m \u001b[0;32mnot\u001b[0m \u001b[0mshould_continue\u001b[0m\u001b[0;34m:\u001b[0m\u001b[0;34m\u001b[0m\u001b[0m\n\u001b[1;32m     40\u001b[0m                 \u001b[0;32mbreak\u001b[0m\u001b[0;34m\u001b[0m\u001b[0m\n",
      "\u001b[0;32m/home/cmb-panasas2/wenzhenl/miniconda3/envs/raptor/lib/python3.5/site-packages/Bio/SeqIO/QualityIO.py\u001b[0m in \u001b[0;36mFastqGeneralIterator\u001b[0;34m(handle)\u001b[0m\n\u001b[1;32m    911\u001b[0m         \u001b[0;31m# just one line! We therefore use string concatenation (if needed)\u001b[0m\u001b[0;34m\u001b[0m\u001b[0;34m\u001b[0m\u001b[0m\n\u001b[1;32m    912\u001b[0m         \u001b[0;31m# rather using than the \"\".join(...) trick just in case it is multiline:\u001b[0m\u001b[0;34m\u001b[0m\u001b[0;34m\u001b[0m\u001b[0m\n\u001b[0;32m--> 913\u001b[0;31m         \u001b[0mseq_string\u001b[0m \u001b[0;34m=\u001b[0m \u001b[0mhandle_readline\u001b[0m\u001b[0;34m(\u001b[0m\u001b[0;34m)\u001b[0m\u001b[0;34m.\u001b[0m\u001b[0mrstrip\u001b[0m\u001b[0;34m(\u001b[0m\u001b[0;34m)\u001b[0m\u001b[0;34m\u001b[0m\u001b[0m\n\u001b[0m\u001b[1;32m    914\u001b[0m         \u001b[0;31m# There may now be more sequence lines, or the \"+\" quality marker line:\u001b[0m\u001b[0;34m\u001b[0m\u001b[0;34m\u001b[0m\u001b[0m\n\u001b[1;32m    915\u001b[0m         \u001b[0;32mwhile\u001b[0m \u001b[0;32mTrue\u001b[0m\u001b[0;34m:\u001b[0m\u001b[0;34m\u001b[0m\u001b[0m\n",
      "\u001b[0;32m/home/cmb-panasas2/wenzhenl/miniconda3/envs/raptor/lib/python3.5/gzip.py\u001b[0m in \u001b[0;36mclosed\u001b[0;34m(self)\u001b[0m\n\u001b[1;32m    294\u001b[0m         \u001b[0;32mreturn\u001b[0m \u001b[0mself\u001b[0m\u001b[0;34m.\u001b[0m\u001b[0m_buffer\u001b[0m\u001b[0;34m.\u001b[0m\u001b[0mpeek\u001b[0m\u001b[0;34m(\u001b[0m\u001b[0mn\u001b[0m\u001b[0;34m)\u001b[0m\u001b[0;34m\u001b[0m\u001b[0m\n\u001b[1;32m    295\u001b[0m \u001b[0;34m\u001b[0m\u001b[0m\n\u001b[0;32m--> 296\u001b[0;31m     \u001b[0;34m@\u001b[0m\u001b[0mproperty\u001b[0m\u001b[0;34m\u001b[0m\u001b[0m\n\u001b[0m\u001b[1;32m    297\u001b[0m     \u001b[0;32mdef\u001b[0m \u001b[0mclosed\u001b[0m\u001b[0;34m(\u001b[0m\u001b[0mself\u001b[0m\u001b[0;34m)\u001b[0m\u001b[0;34m:\u001b[0m\u001b[0;34m\u001b[0m\u001b[0m\n\u001b[1;32m    298\u001b[0m         \u001b[0;32mreturn\u001b[0m \u001b[0mself\u001b[0m\u001b[0;34m.\u001b[0m\u001b[0mfileobj\u001b[0m \u001b[0;32mis\u001b[0m \u001b[0;32mNone\u001b[0m\u001b[0;34m\u001b[0m\u001b[0m\n",
      "\u001b[0;31mKeyboardInterrupt\u001b[0m: "
     ]
    }
   ],
   "source": [
    "histogram5 = fastq_kmer_histogram_prime5(fastq)"
   ]
  },
  {
   "cell_type": "code",
   "execution_count": 22,
   "metadata": {},
   "outputs": [
    {
     "data": {
      "text/plain": [
       "21"
      ]
     },
     "execution_count": 22,
     "metadata": {},
     "output_type": "execute_result"
    }
   ],
   "source": [
    "len('TCGTATGCCGTCTTCTGCTTG')"
   ]
  },
  {
   "cell_type": "code",
   "execution_count": null,
   "metadata": {},
   "outputs": [],
   "source": []
  }
 ],
 "metadata": {
  "kernelspec": {
   "display_name": "Python (raptor)",
   "language": "python",
   "name": "raptor"
  },
  "language_info": {
   "codemirror_mode": {
    "name": "ipython",
    "version": 3
   },
   "file_extension": ".py",
   "mimetype": "text/x-python",
   "name": "python",
   "nbconvert_exporter": "python",
   "pygments_lexer": "ipython3",
   "version": "3.5.4"
  }
 },
 "nbformat": 4,
 "nbformat_minor": 2
}
