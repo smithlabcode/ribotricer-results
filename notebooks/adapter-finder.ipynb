{
 "cells": [
  {
   "cell_type": "code",
   "execution_count": 20,
   "metadata": {},
   "outputs": [
    {
     "name": "stdout",
     "output_type": "stream",
     "text": [
      "Populating the interactive namespace from numpy and matplotlib\n"
     ]
    },
    {
     "name": "stderr",
     "output_type": "stream",
     "text": [
      "/home/cmb-panasas2/wenzhenl/miniconda3/envs/raptor/lib/python3.5/site-packages/IPython/core/magics/pylab.py:160: UserWarning: pylab import has clobbered these variables: ['histogram']\n",
      "`%matplotlib` prevents importing * from pylab and numpy\n",
      "  \"\\n`%matplotlib` prevents importing * from pylab and numpy\"\n"
     ]
    }
   ],
   "source": [
    "%pylab inline"
   ]
  },
  {
   "cell_type": "code",
   "execution_count": 21,
   "metadata": {},
   "outputs": [],
   "source": [
    "from collections import Counter\n",
    "from Bio.SeqIO.QualityIO import FastqGeneralIterator\n",
    "from tqdm import tqdm\n",
    "import gzip\n",
    "import pandas as pd\n",
    "from IPython.display import HTML"
   ]
  },
  {
   "cell_type": "code",
   "execution_count": 22,
   "metadata": {},
   "outputs": [],
   "source": [
    "def fastq_kmer_histogram_prime3(fastq_file,\n",
    "                         kmer_length=range(5, 31),\n",
    "                         five_prime=False,\n",
    "                         max_seq=1000000,\n",
    "                         offset=0):\n",
    "    \"\"\"Get a histogram of kmers from a fastq file\n",
    "    Parameters\n",
    "    ----------\n",
    "    fastq_file: string\n",
    "                Location of .fastq or .fastq.gz\n",
    "    kmer_length: range\n",
    "                 Range of kmer to consider\n",
    "    five_prime: bool\n",
    "                Should consider sequences from 5' end?\n",
    "                Default: False (uses sequence from 3' end)\n",
    "    max_seq: int\n",
    "             Maximum number of sequences to consider\n",
    "    offset: int\n",
    "            Offset to ignore at the 5' end or 3'end\n",
    "            Example: If the offset is 3, the first 3 bases will be skipped\n",
    "            and kmers will start only from the 4th position\n",
    "            For 3'end if the offset is 3, the last 3 bases will be skipped\n",
    "    Returns\n",
    "    -------\n",
    "    kmers: Series\n",
    "           Sorted series with most frequent kmer\n",
    "    \"\"\"\n",
    "    cur_count = 0\n",
    "    should_continue = True\n",
    "    if '.gz' in fastq_file:\n",
    "        # Open as a gzip file\n",
    "        handle = gzip.open(fastq_file, 'rt')\n",
    "    else:\n",
    "        handle = open(fastq_file, 'r')\n",
    "    histogram = {k: Counter() for k in kmer_length}\n",
    "\n",
    "    with tqdm(total=max_seq) as pbar:\n",
    "        for title, seq, qual in FastqGeneralIterator(handle):\n",
    "            if not should_continue:\n",
    "                break\n",
    "            cur_count += 1\n",
    "            for k in kmer_length:\n",
    "                if not five_prime:\n",
    "                    if not offset:\n",
    "                        k_seq = seq[-k:]\n",
    "                    else:\n",
    "                        k_seq = seq[-k - offset:-offset]\n",
    "                else:\n",
    "                    k_seq = seq[offset:k + offset]\n",
    "                histogram[k][k_seq] += 1\n",
    "                if cur_count >= max_seq:\n",
    "                    should_continue = False\n",
    "            pbar.update()\n",
    "    handle.close()\n",
    "    kmers = {}\n",
    "    for k, v in histogram.items():\n",
    "        kmers[k] = pd.Series(v).sort_values(ascending=False) / max_seq * 100\n",
    "    return kmers"
   ]
  },
  {
   "cell_type": "code",
   "execution_count": 23,
   "metadata": {},
   "outputs": [],
   "source": [
    "def fastq_kmer_histogram_prime5(fastq_file,\n",
    "                         kmer_length=range(5, 31),\n",
    "                         five_prime=False,\n",
    "                         max_seq=1000000,\n",
    "                         offset=0):\n",
    "    \"\"\"Get a histogram of kmers from a fastq file\n",
    "    Parameters\n",
    "    ----------\n",
    "    fastq_file: string\n",
    "                Location of .fastq or .fastq.gz\n",
    "    kmer_length: range\n",
    "                 Range of kmer to consider\n",
    "    five_prime: bool\n",
    "                Should consider sequences from 5' end?\n",
    "                Default: False (uses sequence from 3' end)\n",
    "    max_seq: int\n",
    "             Maximum number of sequences to consider\n",
    "    offset: int\n",
    "            Offset to ignore at the 5' end or 3'end\n",
    "            Example: If the offset is 3, the first 3 bases will be skipped\n",
    "            and kmers will start only from the 4th position\n",
    "            For 3'end if the offset is 3, the last 3 bases will be skipped\n",
    "    Returns\n",
    "    -------\n",
    "    kmers: Series\n",
    "           Sorted series with most frequent kmer\n",
    "    \"\"\"\n",
    "    cur_count = 0\n",
    "    should_continue = True\n",
    "    if '.gz' in fastq_file:\n",
    "        # Open as a gzip file\n",
    "        handle = gzip.open(fastq_file, 'rt')\n",
    "    else:\n",
    "        handle = open(fastq_file, 'r')\n",
    "    histogram = {k: Counter() for k in kmer_length}\n",
    "\n",
    "    with tqdm(total=max_seq) as pbar:\n",
    "        for title, seq, qual in FastqGeneralIterator(handle):\n",
    "            if not should_continue:\n",
    "                break\n",
    "            cur_count += 1\n",
    "            for k in kmer_length:\n",
    "                if not five_prime:\n",
    "                    if not offset:\n",
    "                        k_seq = seq[:k]\n",
    "                    else:\n",
    "                        k_seq = seq[offset: k + offset]\n",
    "                else:\n",
    "                    k_seq = seq[offset:k + offset]\n",
    "                histogram[k][k_seq] += 1\n",
    "                if cur_count >= max_seq:\n",
    "                    should_continue = False\n",
    "            pbar.update()\n",
    "    handle.close()\n",
    "    kmers = {}\n",
    "    for k, v in histogram.items():\n",
    "        kmers[k] = pd.Series(v).sort_values(ascending=False) / max_seq * 100\n",
    "    return kmers"
   ]
  },
  {
   "cell_type": "code",
   "execution_count": 90,
   "metadata": {},
   "outputs": [],
   "source": [
    "fastq = '/staging/as/wenzhenl/re-ribo-analysis/SRP003554_mouse/sratofastq/SRR065779.fastq.gz'"
   ]
  },
  {
   "cell_type": "code",
   "execution_count": 91,
   "metadata": {},
   "outputs": [
    {
     "name": "stderr",
     "output_type": "stream",
     "text": [
      "100%|██████████| 1000000/1000000 [00:44<00:00, 22495.59it/s]\n"
     ]
    }
   ],
   "source": [
    "histogram3 = fastq_kmer_histogram_prime3(fastq, range(5, 30))"
   ]
  },
  {
   "cell_type": "code",
   "execution_count": 162,
   "metadata": {},
   "outputs": [
    {
     "name": "stderr",
     "output_type": "stream",
     "text": [
      "100%|██████████| 1000000/1000000 [00:37<00:00, 26879.39it/s]\n"
     ]
    }
   ],
   "source": [
    "histogram5 = fastq_kmer_histogram_prime5(fastq)"
   ]
  },
  {
   "cell_type": "code",
   "execution_count": 92,
   "metadata": {},
   "outputs": [
    {
     "data": {
      "text/plain": [
       "TCGTATG    18.8092\n",
       "GTCGTAT     6.5643\n",
       "CTCGTAT     5.2163\n",
       "GGAATTC     5.2101\n",
       "CGTATGC     4.6804\n",
       "TTCGTAT     4.3090\n",
       "TATGCCG     4.2500\n",
       "ATCGTAT     3.5390\n",
       "GTATGCC     2.5324\n",
       "CGCACTC     2.1907\n",
       "GGAATCG     1.8909\n",
       "GAATTCG     1.5268\n",
       "ACATCGT     1.5255\n",
       "CGCATCG     1.3466\n",
       "TCGCACT     1.0576\n",
       "GGTCGTA     1.0263\n",
       "TGTCGTA     1.0243\n",
       "TCGCATC     1.0068\n",
       "AGTCGTA     0.9477\n",
       "TCGTATT     0.8713\n",
       "TCTTATG     0.7547\n",
       "AGCTCTC     0.7468\n",
       "ACATGTC     0.6886\n",
       "CGCTCGT     0.6379\n",
       "ATGCCGT     0.5927\n",
       "CATCGTA     0.5782\n",
       "CTTCGTA     0.5743\n",
       "GGAATAT     0.5188\n",
       "ACACATC     0.5172\n",
       "TCGTCTG     0.5023\n",
       "            ...   \n",
       "GAGTCCT     0.0001\n",
       "TTNTTCC     0.0001\n",
       "GAGTCTA     0.0001\n",
       "GAGTGAA     0.0001\n",
       "TTNNNNT     0.0001\n",
       "GAGCTTA     0.0001\n",
       "GAGTTGG     0.0001\n",
       "GAGTTTG     0.0001\n",
       "GAGTTTT     0.0001\n",
       "GANNNCG     0.0001\n",
       "GANTGCA     0.0001\n",
       "GATAACG     0.0001\n",
       "GAGTATT     0.0001\n",
       "GAGTATC     0.0001\n",
       "GAGTAGA     0.0001\n",
       "GAGNNNN     0.0001\n",
       "GAGGTTT     0.0001\n",
       "GAGGTAG     0.0001\n",
       "GAGGTAC     0.0001\n",
       "GAGGGGC     0.0001\n",
       "GAGGGCT     0.0001\n",
       "GAGGGCG     0.0001\n",
       "GAGGGCC     0.0001\n",
       "GAGGGAT     0.0001\n",
       "GAGGCTG     0.0001\n",
       "GAGGCTC     0.0001\n",
       "GAGGCGC     0.0001\n",
       "GAGGCCG     0.0001\n",
       "GAGGACG     0.0001\n",
       "GAGCATC     0.0001\n",
       "Length: 8024, dtype: float64"
      ]
     },
     "execution_count": 92,
     "metadata": {},
     "output_type": "execute_result"
    }
   ],
   "source": [
    "histogram3[7]"
   ]
  },
  {
   "cell_type": "code",
   "execution_count": 166,
   "metadata": {},
   "outputs": [],
   "source": [
    "class PDF(object):\n",
    "  def __init__(self, pdf, size=(200,200)):\n",
    "    self.pdf = pdf\n",
    "    self.size = size\n",
    "\n",
    "  def _repr_html_(self):\n",
    "    return '<iframe src={0} width={1[0]} height={1[1]}></iframe>'.format(self.pdf, self.size)\n",
    "\n",
    "  def _repr_latex_(self):\n",
    "    return r'\\includegraphics[width=1.0\\textwidth]{{{0}}}'.format(self.pdf)\n"
   ]
  },
  {
   "cell_type": "code",
   "execution_count": 25,
   "metadata": {},
   "outputs": [],
   "source": [
    "f = 'results/SRR5227306SRR5227306.pdf'"
   ]
  },
  {
   "cell_type": "code",
   "execution_count": null,
   "metadata": {},
   "outputs": [],
   "source": []
  }
 ],
 "metadata": {
  "kernelspec": {
   "display_name": "Python (raptor)",
   "language": "python",
   "name": "raptor"
  },
  "language_info": {
   "codemirror_mode": {
    "name": "ipython",
    "version": 3
   },
   "file_extension": ".py",
   "mimetype": "text/x-python",
   "name": "python",
   "nbconvert_exporter": "python",
   "pygments_lexer": "ipython3",
   "version": "3.5.4"
  }
 },
 "nbformat": 4,
 "nbformat_minor": 2
}
