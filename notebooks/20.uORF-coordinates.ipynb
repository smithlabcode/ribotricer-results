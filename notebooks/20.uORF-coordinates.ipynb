{
 "cells": [
  {
   "cell_type": "code",
   "execution_count": 1,
   "metadata": {},
   "outputs": [
    {
     "name": "stdout",
     "output_type": "stream",
     "text": [
      "Populating the interactive namespace from numpy and matplotlib\n"
     ]
    }
   ],
   "source": [
    "%pylab inline\n",
    "from collections import defaultdict, OrderedDict\n",
    "import warnings\n",
    "import gffutils\n",
    "import pybedtools\n",
    "from riboraptor.interval import Interval\n",
    "from riboraptor.fasta import FastaReader\n",
    "from tqdm import tqdm\n",
    "import pandas as pd\n",
    "import copy\n",
    "import os\n",
    "import re\n",
    "from gffutils.pybedtools_integration import tsses\n",
    "from copy import deepcopy\n",
    "from collections import OrderedDict, Callable\n",
    "import errno\n",
    "\n",
    "def mkdir_p(path):\n",
    "    try:\n",
    "        os.makedirs(path)\n",
    "    except OSError as exc:  # Python >2.5\n",
    "        if exc.errno == errno.EEXIST and os.path.isdir(path):\n",
    "            pass\n",
    "        else:\n",
    "            raise\n",
    "            \n",
    "class DefaultOrderedDict(OrderedDict):\n",
    "    # Source: http://stackoverflow.com/a/6190500/562769\n",
    "    def __init__(self, default_factory=None, *a, **kw):\n",
    "        if (default_factory is not None and\n",
    "           not isinstance(default_factory, Callable)):\n",
    "            raise TypeError('first argument must be callable')\n",
    "        OrderedDict.__init__(self, *a, **kw)\n",
    "        self.default_factory = default_factory\n",
    "\n",
    "    def __getitem__(self, key):\n",
    "        try:\n",
    "            return OrderedDict.__getitem__(self, key)\n",
    "        except KeyError:\n",
    "            return self.__missing__(key)\n",
    "\n",
    "    def __missing__(self, key):\n",
    "        if self.default_factory is None:\n",
    "            raise KeyError(key)\n",
    "        self[key] = value = self.default_factory()\n",
    "        return value\n",
    "\n",
    "    def __reduce__(self):\n",
    "        if self.default_factory is None:\n",
    "            args = tuple()\n",
    "        else:\n",
    "            args = self.default_factory,\n",
    "        return type(self), args, None, None, self.items()\n",
    "\n",
    "    def copy(self):\n",
    "        return self.__copy__()\n",
    "\n",
    "    def __copy__(self):\n",
    "        return type(self)(self.default_factory, self)\n",
    "\n",
    "    def __deepcopy__(self, memo):\n",
    "        import copy\n",
    "        return type(self)(self.default_factory,\n",
    "                          copy.deepcopy(self.items()))\n",
    "\n",
    "    def __repr__(self):\n",
    "        return 'OrderedDefaultDict(%s, %s)' % (self.default_factory,\n",
    "                                               OrderedDict.__repr__(self))\n"
   ]
  },
  {
   "cell_type": "code",
   "execution_count": 2,
   "metadata": {},
   "outputs": [],
   "source": [
    "gtf = '/home/cmb-panasas2/skchoudh/genomes/hg38/annotation/gencode.v25.annotation.gtf'\n",
    "gtf_db = '/home/cmb-panasas2/skchoudh/genomes/hg38/annotation/gencode.v25.annotation.gtf.db'\n",
    "chrsizes = '/home/cmb-panasas2/skchoudh/genomes/hg38/fasta/hg38.chrom.sizes'\n",
    "fasta = '/home/cmb-panasas2/skchoudh/genomes/hg38/fasta/hg38.fa'"
   ]
  },
  {
   "cell_type": "code",
   "execution_count": 3,
   "metadata": {},
   "outputs": [],
   "source": [
    "def create_gene_dict(db):\n",
    "    '''\n",
    "    Store each feature line db.all_features() as a dict of dicts\n",
    "    '''\n",
    "    gene_dict = DefaultOrderedDict(lambda: DefaultOrderedDict(lambda: DefaultOrderedDict(list)))\n",
    "    for line_no, feature in enumerate(db.all_features()):\n",
    "        gene_ids = feature.attributes['gene_id']\n",
    "        feature_type = feature.featuretype\n",
    "        if feature_type == 'gene':\n",
    "            if len(gene_ids)!=1:\n",
    "                logging.warning('Found multiple gene_ids on line {} in gtf'.format(line_no))\n",
    "                break\n",
    "            else:\n",
    "                gene_id = gene_ids[0]\n",
    "                gene_dict[gene_id]['gene'] = feature\n",
    "        else:\n",
    "            transcript_ids = feature.attributes['transcript_id']\n",
    "\n",
    "            for gene_id in gene_ids:\n",
    "                for transcript_id in transcript_ids:\n",
    "                    gene_dict[gene_id][transcript_id][feature_type].append(feature)\n",
    "    return gene_dict"
   ]
  },
  {
   "cell_type": "code",
   "execution_count": 4,
   "metadata": {},
   "outputs": [],
   "source": [
    "db = gffutils.FeatureDB(gtf_db, keep_order=True)\n",
    "gene_dict = create_gene_dict(db)\n"
   ]
  },
  {
   "cell_type": "code",
   "execution_count": 5,
   "metadata": {},
   "outputs": [
    {
     "name": "stdout",
     "output_type": "stream",
     "text": [
      "CDS\n",
      "Selenocysteine\n",
      "UTR\n",
      "exon\n",
      "gene\n",
      "start_codon\n",
      "stop_codon\n",
      "transcript\n"
     ]
    }
   ],
   "source": [
    "for x in db.featuretypes():\n",
    "    print(x)"
   ]
  },
  {
   "cell_type": "code",
   "execution_count": 6,
   "metadata": {},
   "outputs": [],
   "source": [
    "fasta_reader = FastaReader(fasta)"
   ]
  },
  {
   "cell_type": "code",
   "execution_count": 7,
   "metadata": {},
   "outputs": [],
   "source": [
    "def get_UTR_regions(utrs, cds):\n",
    "    if len(cds)==0:\n",
    "        return [], []\n",
    "    utr5_regions = []\n",
    "    utr3_regions = []    \n",
    "    cds_sorted = sorted(list(cds), key=lambda x: x.start)\n",
    "    first_cds = cds_sorted[0]\n",
    "    last_cds = cds_sorted[-1]\n",
    "    for orig_utr in utrs:\n",
    "        utr = deepcopy(orig_utr)\n",
    "        ## Push all cds at once\n",
    "        ## Sort later to remove duplicates\n",
    "        strand = utr.strand\n",
    "        if utr.start < first_cds.start:\n",
    "            if utr.stop >= first_cds.start:\n",
    "                utr.stop = first_cds.start - 1\n",
    "            if strand == '+':\n",
    "                utr5_regions.append(utr)\n",
    "            else:\n",
    "                utr3_regions.append(utr)\n",
    "        elif utr.stop > last_cds.stop:\n",
    "            if utr.start <= last_cds.stop:\n",
    "                utr.start = last_cds.stop + 1\n",
    "            if strand == '+':\n",
    "                utr3_regions.append(utr)\n",
    "            else:\n",
    "                utr5_regions.append(utr)\n",
    "       \n",
    "    return utr5_regions, utr3_regions\n",
    "\n",
    "def get_gene_list(gene_dict):\n",
    "    return list(set(gene_dict.keys()))"
   ]
  },
  {
   "cell_type": "markdown",
   "metadata": {},
   "source": [
    "# What do we do now?\n",
    "\n",
    "Our aim to to extract all the dORFs and uORFs. We start with a very general definition of (u|d)ORF:\n",
    "Given coordinates of the UTR, we will look for star_codons\n",
    "\n",
    "start_codons = ['ATG', 'AAG', 'ACG', 'ATC', 'GTG', 'AGG', 'ATA', 'ATT', 'CTG', 'TTG']\n",
    "\n",
    "stop_codons = ['TAG, 'TAA', 'TGA']\n",
    "\n",
    "Le's deal with uORFs first.\n"
   ]
  },
  {
   "cell_type": "code",
   "execution_count": 93,
   "metadata": {},
   "outputs": [],
   "source": [
    "START_CODONS = ['ATG', 'AAG', 'ACG', 'ATC', 'GTG', 'AGG', 'ATA', 'ATT', 'CTG', 'TTG']\n",
    "\n",
    "STOP_CODONS = ['TAG', 'TAA', 'TGA']\n"
   ]
  },
  {
   "cell_type": "code",
   "execution_count": 8,
   "metadata": {},
   "outputs": [],
   "source": [
    "gene_wise_CCDS_dict = DefaultOrderedDict(list)\n",
    "\n",
    "for line_no, feature in enumerate(db.all_features()):\n",
    "    gene_ids = feature.attributes['gene_id']    \n",
    "    feature_type = feature.featuretype\n",
    "    try:\n",
    "        tags = feature.attributes['tag']\n",
    "        if feature_type != 'UTR':\n",
    "            continue\n",
    "        \n",
    "        else:\n",
    "            assert len(gene_ids) == 1\n",
    "            gene_id = gene_ids[0]\n",
    "            transcript_ids = feature.attributes['transcript_id']\n",
    "            assert len(transcript_ids) == 1\n",
    "            transcript_id = transcript_ids[0]\n",
    "\n",
    "            feature.attributes['gene_id'] = '{}_{}'.format(gene_id, transcript_id)\n",
    "            gene_wise_CCDS_dict[gene_id].append(feature)\n",
    "    except:\n",
    "        continue"
   ]
  },
  {
   "cell_type": "code",
   "execution_count": 9,
   "metadata": {},
   "outputs": [],
   "source": [
    "UTR_5 = []\n",
    "UTR_3 = []"
   ]
  },
  {
   "cell_type": "code",
   "execution_count": 10,
   "metadata": {},
   "outputs": [
    {
     "name": "stderr",
     "output_type": "stream",
     "text": [
      "100%|██████████| 58037/58037 [00:33<00:00, 1737.24it/s]\n"
     ]
    }
   ],
   "source": [
    "for gene_id in tqdm(get_gene_list(gene_dict)):   \n",
    "    utr5_regions, utr3_regions = [], []\n",
    "    cds_regions = []\n",
    "    utr_regions = []\n",
    "    for feature in gene_dict[gene_id].keys():\n",
    "        if feature == 'gene':\n",
    "            continue\n",
    "        cds = list(gene_dict[gene_id][feature]['CDS'])\n",
    "        utrs = list(gene_dict[gene_id][feature]['UTR'])\n",
    "\n",
    "        cds = sorted(list(cds), key=lambda x: x.start)\n",
    "        utrs  = sorted(list(utrs), key=lambda x: x.start)\n",
    "        \n",
    "        cds_regions += cds\n",
    "        utr_regions += utrs\n",
    "\n",
    "    cds_regions = sorted(list(cds_regions), key=lambda x: x.start)\n",
    "    utr_regions = sorted(list(utr_regions), key=lambda x: x.start)\n",
    "    \n",
    "    utr5_regions, utr3_regions = get_UTR_regions(utr_regions, cds_regions)\n",
    "    \n",
    "    UTR_5 += utr5_regions\n",
    "    UTR_3 += utr3_regions\n",
    "    \n",
    "    "
   ]
  },
  {
   "cell_type": "code",
   "execution_count": 28,
   "metadata": {},
   "outputs": [
    {
     "data": {
      "text/plain": [
       "103583"
      ]
     },
     "execution_count": 28,
     "metadata": {},
     "output_type": "execute_result"
    }
   ],
   "source": [
    "len(UTR_5)"
   ]
  },
  {
   "cell_type": "code",
   "execution_count": 67,
   "metadata": {},
   "outputs": [],
   "source": [
    "to_write = 'transcript_id\\tgene_id\\tgene_type\\tchrom\\tstart\\tend\\tstrand\\texon_number\\ttags\\tis_CCDS\\tuORF_type\\n'\n",
    "for utr5 in UTR_5:\n",
    "    transcript_id = utr5.attributes['transcript_id']\n",
    "    assert len(transcript_id) == 1\n",
    "    transcript_id = transcript_id[0]\n",
    "    gene_id = utr5.attributes['gene_id']\n",
    "    assert len(gene_id) == 1\n",
    "    gene_id = gene_id[0]\n",
    "    \n",
    "    gene_type = utr5.attributes['gene_type']\n",
    "    assert len(gene_type) == 1\n",
    "    gene_type = gene_type[0]\n",
    "\n",
    "    exon_number = utr5.attributes['exon_number']\n",
    "    assert len(exon_number) == 1\n",
    "    exon_number = exon_number[0]\n",
    "    \n",
    "    try:\n",
    "        tags = utr5.attributes['tag']\n",
    "    except:\n",
    "        tags = []\n",
    "    start = utr5.start\n",
    "    end = utr5.end\n",
    "    chrom = utr5.chrom\n",
    "    strand = utr5.strand\n",
    "    uorf_type = ''\n",
    "    for tag in tags:\n",
    "        if 'uORF' in tag:\n",
    "            uorf_type = tag\n",
    "            break\n",
    "    \n",
    "    if 'CCDS' in tags:\n",
    "        is_ccds=1\n",
    "    else:\n",
    "        is_ccds=0\n",
    "    to_write += '{0}\\t{1}\\t{2}\\t{3}\\t{4}\\t{5}\\t{6}\\t{7}\\t{8}\\t{9}\\t{10}'.format(transcript_id, gene_id, gene_type,\n",
    "                                                       chrom, start, end, \n",
    "                                                       strand, exon_number, (',').join(sorted(tags)), is_ccds, uorf_type)\n",
    "    to_write += '\\n'\n",
    "    "
   ]
  },
  {
   "cell_type": "code",
   "execution_count": 68,
   "metadata": {},
   "outputs": [
    {
     "data": {
      "text/plain": [
       "True"
      ]
     },
     "execution_count": 68,
     "metadata": {},
     "output_type": "execute_result"
    }
   ],
   "source": [
    "\"uORF\" in \"overlapping_uORF\""
   ]
  },
  {
   "cell_type": "code",
   "execution_count": 69,
   "metadata": {},
   "outputs": [],
   "source": [
    "with open('/staging/as/skchoudh/hg38_UTR5.tsv', 'w') as f:\n",
    "    f.write(to_write)"
   ]
  },
  {
   "cell_type": "code",
   "execution_count": 70,
   "metadata": {},
   "outputs": [],
   "source": [
    "df = pd.read_table('/staging/as/skchoudh/hg38_UTR5.tsv')"
   ]
  },
  {
   "cell_type": "code",
   "execution_count": 71,
   "metadata": {},
   "outputs": [],
   "source": [
    "df = df.sort_values(by=['transcript_id', 'gene_id', 'chrom', 'start', 'end', 'strand', 'exon_number']).reset_index()"
   ]
  },
  {
   "cell_type": "code",
   "execution_count": 225,
   "metadata": {},
   "outputs": [
    {
     "data": {
      "text/html": [
       "<div>\n",
       "<style scoped>\n",
       "    .dataframe tbody tr th:only-of-type {\n",
       "        vertical-align: middle;\n",
       "    }\n",
       "\n",
       "    .dataframe tbody tr th {\n",
       "        vertical-align: top;\n",
       "    }\n",
       "\n",
       "    .dataframe thead th {\n",
       "        text-align: right;\n",
       "    }\n",
       "</style>\n",
       "<table border=\"1\" class=\"dataframe\">\n",
       "  <thead>\n",
       "    <tr style=\"text-align: right;\">\n",
       "      <th></th>\n",
       "      <th>index</th>\n",
       "      <th>transcript_id</th>\n",
       "      <th>gene_id</th>\n",
       "      <th>gene_type</th>\n",
       "      <th>chrom</th>\n",
       "      <th>start</th>\n",
       "      <th>end</th>\n",
       "      <th>strand</th>\n",
       "      <th>exon_number</th>\n",
       "      <th>tags</th>\n",
       "      <th>is_CCDS</th>\n",
       "      <th>uORF_type</th>\n",
       "    </tr>\n",
       "  </thead>\n",
       "  <tbody>\n",
       "    <tr>\n",
       "      <th>0</th>\n",
       "      <td>39280</td>\n",
       "      <td>ENST00000000233.9</td>\n",
       "      <td>ENSG00000004059.10</td>\n",
       "      <td>protein_coding</td>\n",
       "      <td>chr7</td>\n",
       "      <td>127588345</td>\n",
       "      <td>127588498</td>\n",
       "      <td>+</td>\n",
       "      <td>1</td>\n",
       "      <td>CCDS,appris_principal_1,basic</td>\n",
       "      <td>1</td>\n",
       "      <td>NaN</td>\n",
       "    </tr>\n",
       "    <tr>\n",
       "      <th>1</th>\n",
       "      <td>31809</td>\n",
       "      <td>ENST00000000412.7</td>\n",
       "      <td>ENSG00000003056.7</td>\n",
       "      <td>protein_coding</td>\n",
       "      <td>chr12</td>\n",
       "      <td>8946405</td>\n",
       "      <td>8946405</td>\n",
       "      <td>-</td>\n",
       "      <td>2</td>\n",
       "      <td>CCDS,appris_principal_1,basic</td>\n",
       "      <td>1</td>\n",
       "      <td>NaN</td>\n",
       "    </tr>\n",
       "    <tr>\n",
       "      <th>2</th>\n",
       "      <td>31815</td>\n",
       "      <td>ENST00000000412.7</td>\n",
       "      <td>ENSG00000003056.7</td>\n",
       "      <td>protein_coding</td>\n",
       "      <td>chr12</td>\n",
       "      <td>8949488</td>\n",
       "      <td>8949955</td>\n",
       "      <td>-</td>\n",
       "      <td>1</td>\n",
       "      <td>CCDS,appris_principal_1,basic</td>\n",
       "      <td>1</td>\n",
       "      <td>NaN</td>\n",
       "    </tr>\n",
       "    <tr>\n",
       "      <th>3</th>\n",
       "      <td>47208</td>\n",
       "      <td>ENST00000000442.10</td>\n",
       "      <td>ENSG00000173153.13</td>\n",
       "      <td>protein_coding</td>\n",
       "      <td>chr11</td>\n",
       "      <td>64305578</td>\n",
       "      <td>64305736</td>\n",
       "      <td>+</td>\n",
       "      <td>1</td>\n",
       "      <td>CCDS,NAGNAG_splice_site,appris_principal_3,basic</td>\n",
       "      <td>1</td>\n",
       "      <td>NaN</td>\n",
       "    </tr>\n",
       "    <tr>\n",
       "      <th>4</th>\n",
       "      <td>47213</td>\n",
       "      <td>ENST00000000442.10</td>\n",
       "      <td>ENSG00000173153.13</td>\n",
       "      <td>protein_coding</td>\n",
       "      <td>chr11</td>\n",
       "      <td>64307168</td>\n",
       "      <td>64307179</td>\n",
       "      <td>+</td>\n",
       "      <td>2</td>\n",
       "      <td>CCDS,NAGNAG_splice_site,appris_principal_3,basic</td>\n",
       "      <td>1</td>\n",
       "      <td>NaN</td>\n",
       "    </tr>\n",
       "  </tbody>\n",
       "</table>\n",
       "</div>"
      ],
      "text/plain": [
       "   index       transcript_id             gene_id       gene_type  chrom  \\\n",
       "0  39280   ENST00000000233.9  ENSG00000004059.10  protein_coding   chr7   \n",
       "1  31809   ENST00000000412.7   ENSG00000003056.7  protein_coding  chr12   \n",
       "2  31815   ENST00000000412.7   ENSG00000003056.7  protein_coding  chr12   \n",
       "3  47208  ENST00000000442.10  ENSG00000173153.13  protein_coding  chr11   \n",
       "4  47213  ENST00000000442.10  ENSG00000173153.13  protein_coding  chr11   \n",
       "\n",
       "       start        end strand  exon_number  \\\n",
       "0  127588345  127588498      +            1   \n",
       "1    8946405    8946405      -            2   \n",
       "2    8949488    8949955      -            1   \n",
       "3   64305578   64305736      +            1   \n",
       "4   64307168   64307179      +            2   \n",
       "\n",
       "                                               tags  is_CCDS uORF_type  \n",
       "0                     CCDS,appris_principal_1,basic        1       NaN  \n",
       "1                     CCDS,appris_principal_1,basic        1       NaN  \n",
       "2                     CCDS,appris_principal_1,basic        1       NaN  \n",
       "3  CCDS,NAGNAG_splice_site,appris_principal_3,basic        1       NaN  \n",
       "4  CCDS,NAGNAG_splice_site,appris_principal_3,basic        1       NaN  "
      ]
     },
     "execution_count": 225,
     "metadata": {},
     "output_type": "execute_result"
    }
   ],
   "source": [
    "df.head()"
   ]
  },
  {
   "cell_type": "code",
   "execution_count": 75,
   "metadata": {},
   "outputs": [
    {
     "data": {
      "text/plain": [
       "upstream_uORF       238\n",
       "overlapping_uORF     59\n",
       "Name: uORF_type, dtype: int64"
      ]
     },
     "execution_count": 75,
     "metadata": {},
     "output_type": "execute_result"
    }
   ],
   "source": [
    "df.uORF_type.value_counts()"
   ]
  },
  {
   "cell_type": "code",
   "execution_count": 76,
   "metadata": {},
   "outputs": [
    {
     "data": {
      "text/html": [
       "<div>\n",
       "<style scoped>\n",
       "    .dataframe tbody tr th:only-of-type {\n",
       "        vertical-align: middle;\n",
       "    }\n",
       "\n",
       "    .dataframe tbody tr th {\n",
       "        vertical-align: top;\n",
       "    }\n",
       "\n",
       "    .dataframe thead th {\n",
       "        text-align: right;\n",
       "    }\n",
       "</style>\n",
       "<table border=\"1\" class=\"dataframe\">\n",
       "  <thead>\n",
       "    <tr style=\"text-align: right;\">\n",
       "      <th></th>\n",
       "      <th>index</th>\n",
       "      <th>transcript_id</th>\n",
       "      <th>gene_id</th>\n",
       "      <th>gene_type</th>\n",
       "      <th>chrom</th>\n",
       "      <th>start</th>\n",
       "      <th>end</th>\n",
       "      <th>strand</th>\n",
       "      <th>exon_number</th>\n",
       "      <th>tags</th>\n",
       "      <th>is_CCDS</th>\n",
       "      <th>uORF_type</th>\n",
       "    </tr>\n",
       "  </thead>\n",
       "  <tbody>\n",
       "    <tr>\n",
       "      <th>0</th>\n",
       "      <td>39280</td>\n",
       "      <td>ENST00000000233.9</td>\n",
       "      <td>ENSG00000004059.10</td>\n",
       "      <td>protein_coding</td>\n",
       "      <td>chr7</td>\n",
       "      <td>127588345</td>\n",
       "      <td>127588498</td>\n",
       "      <td>+</td>\n",
       "      <td>1</td>\n",
       "      <td>CCDS,appris_principal_1,basic</td>\n",
       "      <td>1</td>\n",
       "      <td>NaN</td>\n",
       "    </tr>\n",
       "    <tr>\n",
       "      <th>1</th>\n",
       "      <td>31809</td>\n",
       "      <td>ENST00000000412.7</td>\n",
       "      <td>ENSG00000003056.7</td>\n",
       "      <td>protein_coding</td>\n",
       "      <td>chr12</td>\n",
       "      <td>8946405</td>\n",
       "      <td>8946405</td>\n",
       "      <td>-</td>\n",
       "      <td>2</td>\n",
       "      <td>CCDS,appris_principal_1,basic</td>\n",
       "      <td>1</td>\n",
       "      <td>NaN</td>\n",
       "    </tr>\n",
       "    <tr>\n",
       "      <th>2</th>\n",
       "      <td>31815</td>\n",
       "      <td>ENST00000000412.7</td>\n",
       "      <td>ENSG00000003056.7</td>\n",
       "      <td>protein_coding</td>\n",
       "      <td>chr12</td>\n",
       "      <td>8949488</td>\n",
       "      <td>8949955</td>\n",
       "      <td>-</td>\n",
       "      <td>1</td>\n",
       "      <td>CCDS,appris_principal_1,basic</td>\n",
       "      <td>1</td>\n",
       "      <td>NaN</td>\n",
       "    </tr>\n",
       "    <tr>\n",
       "      <th>3</th>\n",
       "      <td>47208</td>\n",
       "      <td>ENST00000000442.10</td>\n",
       "      <td>ENSG00000173153.13</td>\n",
       "      <td>protein_coding</td>\n",
       "      <td>chr11</td>\n",
       "      <td>64305578</td>\n",
       "      <td>64305736</td>\n",
       "      <td>+</td>\n",
       "      <td>1</td>\n",
       "      <td>CCDS,NAGNAG_splice_site,appris_principal_3,basic</td>\n",
       "      <td>1</td>\n",
       "      <td>NaN</td>\n",
       "    </tr>\n",
       "    <tr>\n",
       "      <th>4</th>\n",
       "      <td>47213</td>\n",
       "      <td>ENST00000000442.10</td>\n",
       "      <td>ENSG00000173153.13</td>\n",
       "      <td>protein_coding</td>\n",
       "      <td>chr11</td>\n",
       "      <td>64307168</td>\n",
       "      <td>64307179</td>\n",
       "      <td>+</td>\n",
       "      <td>2</td>\n",
       "      <td>CCDS,NAGNAG_splice_site,appris_principal_3,basic</td>\n",
       "      <td>1</td>\n",
       "      <td>NaN</td>\n",
       "    </tr>\n",
       "  </tbody>\n",
       "</table>\n",
       "</div>"
      ],
      "text/plain": [
       "   index       transcript_id             gene_id       gene_type  chrom  \\\n",
       "0  39280   ENST00000000233.9  ENSG00000004059.10  protein_coding   chr7   \n",
       "1  31809   ENST00000000412.7   ENSG00000003056.7  protein_coding  chr12   \n",
       "2  31815   ENST00000000412.7   ENSG00000003056.7  protein_coding  chr12   \n",
       "3  47208  ENST00000000442.10  ENSG00000173153.13  protein_coding  chr11   \n",
       "4  47213  ENST00000000442.10  ENSG00000173153.13  protein_coding  chr11   \n",
       "\n",
       "       start        end strand  exon_number  \\\n",
       "0  127588345  127588498      +            1   \n",
       "1    8946405    8946405      -            2   \n",
       "2    8949488    8949955      -            1   \n",
       "3   64305578   64305736      +            1   \n",
       "4   64307168   64307179      +            2   \n",
       "\n",
       "                                               tags  is_CCDS uORF_type  \n",
       "0                     CCDS,appris_principal_1,basic        1       NaN  \n",
       "1                     CCDS,appris_principal_1,basic        1       NaN  \n",
       "2                     CCDS,appris_principal_1,basic        1       NaN  \n",
       "3  CCDS,NAGNAG_splice_site,appris_principal_3,basic        1       NaN  \n",
       "4  CCDS,NAGNAG_splice_site,appris_principal_3,basic        1       NaN  "
      ]
     },
     "execution_count": 76,
     "metadata": {},
     "output_type": "execute_result"
    }
   ],
   "source": [
    "df.head()"
   ]
  },
  {
   "cell_type": "markdown",
   "metadata": {},
   "source": [
    "The above table is 5'UTR, so the start codon is given by \"end+1\" for positive strand and \"end-1\" for negative strand.\n",
    "Remember everything is 1-based. To verify, we fetch the sequence of these coordinates and see if they are indeed ATG.\n",
    "for negative coordinates we need to reverse complement.\n",
    "\n"
   ]
  },
  {
   "cell_type": "code",
   "execution_count": 84,
   "metadata": {},
   "outputs": [
    {
     "data": {
      "text/plain": [
       "['ATG']"
      ]
     },
     "execution_count": 84,
     "metadata": {},
     "output_type": "execute_result"
    }
   ],
   "source": [
    "# first row that is on positive strand\n",
    "# ENST00000000233.9\tENSG00000004059.10\tprotein_coding\tchr7\t127588345\t127588498\t+\t1\tCCDS,appris_principal_1,basic\t1\tNaN\n",
    "fasta_reader.query(intervals=[Interval('chr7', 127588498+1, 127588498+3)]) \n",
    "\n"
   ]
  },
  {
   "cell_type": "code",
   "execution_count": 89,
   "metadata": {},
   "outputs": [
    {
     "data": {
      "text/plain": [
       "['AGG']"
      ]
     },
     "execution_count": 89,
     "metadata": {},
     "output_type": "execute_result"
    }
   ],
   "source": [
    "127588373\n",
    "fasta_reader.query(intervals=[Interval('chr7', 127588373, 127588373+2)]) \n"
   ]
  },
  {
   "cell_type": "code",
   "execution_count": 85,
   "metadata": {},
   "outputs": [
    {
     "data": {
      "text/plain": [
       "'ATG'"
      ]
     },
     "execution_count": 85,
     "metadata": {},
     "output_type": "execute_result"
    }
   ],
   "source": [
    "# second row that is on negative strand\n",
    "# ENST00000000412.7\tENSG00000003056.7\tprotein_coding\tchr12\t8946405\t8946405\t-\t2\tCCDS,appris_principal_1,basic\t1\tNaN\n",
    "fasta_reader.reverse_complement(fasta_reader.query(intervals=[Interval('chr12', 8946405-3, 8946405-1)])[0] )\n",
    "\n"
   ]
  },
  {
   "cell_type": "markdown",
   "metadata": {},
   "source": [
    "# Select a row thats labeleed upstream_uORF and find out why is it so?\n"
   ]
  },
  {
   "cell_type": "code",
   "execution_count": 87,
   "metadata": {},
   "outputs": [
    {
     "data": {
      "text/html": [
       "<div>\n",
       "<style scoped>\n",
       "    .dataframe tbody tr th:only-of-type {\n",
       "        vertical-align: middle;\n",
       "    }\n",
       "\n",
       "    .dataframe tbody tr th {\n",
       "        vertical-align: top;\n",
       "    }\n",
       "\n",
       "    .dataframe thead th {\n",
       "        text-align: right;\n",
       "    }\n",
       "</style>\n",
       "<table border=\"1\" class=\"dataframe\">\n",
       "  <thead>\n",
       "    <tr style=\"text-align: right;\">\n",
       "      <th></th>\n",
       "      <th>index</th>\n",
       "      <th>transcript_id</th>\n",
       "      <th>gene_id</th>\n",
       "      <th>gene_type</th>\n",
       "      <th>chrom</th>\n",
       "      <th>start</th>\n",
       "      <th>end</th>\n",
       "      <th>strand</th>\n",
       "      <th>exon_number</th>\n",
       "      <th>tags</th>\n",
       "      <th>is_CCDS</th>\n",
       "      <th>uORF_type</th>\n",
       "    </tr>\n",
       "  </thead>\n",
       "  <tbody>\n",
       "    <tr>\n",
       "      <th>404</th>\n",
       "      <td>103532</td>\n",
       "      <td>ENST00000199448.8</td>\n",
       "      <td>ENSG00000086289.11</td>\n",
       "      <td>protein_coding</td>\n",
       "      <td>chr7</td>\n",
       "      <td>37920561</td>\n",
       "      <td>37920939</td>\n",
       "      <td>+</td>\n",
       "      <td>1</td>\n",
       "      <td>CCDS,appris_principal_3,basic,upstream_uORF</td>\n",
       "      <td>1</td>\n",
       "      <td>upstream_uORF</td>\n",
       "    </tr>\n",
       "    <tr>\n",
       "      <th>2329</th>\n",
       "      <td>7442</td>\n",
       "      <td>ENST00000245121.9</td>\n",
       "      <td>ENSG00000167216.16</td>\n",
       "      <td>protein_coding</td>\n",
       "      <td>chr18</td>\n",
       "      <td>46946824</td>\n",
       "      <td>46946872</td>\n",
       "      <td>+</td>\n",
       "      <td>1</td>\n",
       "      <td>CCDS,appris_principal_2,basic,upstream_uORF</td>\n",
       "      <td>1</td>\n",
       "      <td>upstream_uORF</td>\n",
       "    </tr>\n",
       "    <tr>\n",
       "      <th>3910</th>\n",
       "      <td>57773</td>\n",
       "      <td>ENST00000261192.11</td>\n",
       "      <td>ENSG00000060982.14</td>\n",
       "      <td>protein_coding</td>\n",
       "      <td>chr12</td>\n",
       "      <td>24948933</td>\n",
       "      <td>24949459</td>\n",
       "      <td>-</td>\n",
       "      <td>1</td>\n",
       "      <td>CCDS,appris_principal_3,basic,upstream_uORF</td>\n",
       "      <td>1</td>\n",
       "      <td>upstream_uORF</td>\n",
       "    </tr>\n",
       "    <tr>\n",
       "      <th>5800</th>\n",
       "      <td>103562</td>\n",
       "      <td>ENST00000270538.7</td>\n",
       "      <td>ENSG00000104980.7</td>\n",
       "      <td>protein_coding</td>\n",
       "      <td>chr19</td>\n",
       "      <td>7943652</td>\n",
       "      <td>7943920</td>\n",
       "      <td>-</td>\n",
       "      <td>1</td>\n",
       "      <td>CCDS,appris_principal_1,basic,upstream_uORF</td>\n",
       "      <td>1</td>\n",
       "      <td>upstream_uORF</td>\n",
       "    </tr>\n",
       "    <tr>\n",
       "      <th>9427</th>\n",
       "      <td>18451</td>\n",
       "      <td>ENST00000303212.2</td>\n",
       "      <td>ENSG00000171119.2</td>\n",
       "      <td>protein_coding</td>\n",
       "      <td>chr19</td>\n",
       "      <td>5823802</td>\n",
       "      <td>5824165</td>\n",
       "      <td>+</td>\n",
       "      <td>1</td>\n",
       "      <td>CCDS,appris_principal_1,basic,upstream_uORF</td>\n",
       "      <td>1</td>\n",
       "      <td>upstream_uORF</td>\n",
       "    </tr>\n",
       "    <tr>\n",
       "      <th>12513</th>\n",
       "      <td>97986</td>\n",
       "      <td>ENST00000321702.2</td>\n",
       "      <td>ENSG00000177191.2</td>\n",
       "      <td>protein_coding</td>\n",
       "      <td>chr19</td>\n",
       "      <td>41426779</td>\n",
       "      <td>41426810</td>\n",
       "      <td>-</td>\n",
       "      <td>3</td>\n",
       "      <td>CCDS,appris_principal_1,basic,upstream_uORF</td>\n",
       "      <td>1</td>\n",
       "      <td>upstream_uORF</td>\n",
       "    </tr>\n",
       "    <tr>\n",
       "      <th>12514</th>\n",
       "      <td>97987</td>\n",
       "      <td>ENST00000321702.2</td>\n",
       "      <td>ENSG00000177191.2</td>\n",
       "      <td>protein_coding</td>\n",
       "      <td>chr19</td>\n",
       "      <td>41427284</td>\n",
       "      <td>41427570</td>\n",
       "      <td>-</td>\n",
       "      <td>2</td>\n",
       "      <td>CCDS,appris_principal_1,basic,upstream_uORF</td>\n",
       "      <td>1</td>\n",
       "      <td>upstream_uORF</td>\n",
       "    </tr>\n",
       "    <tr>\n",
       "      <th>12515</th>\n",
       "      <td>97988</td>\n",
       "      <td>ENST00000321702.2</td>\n",
       "      <td>ENSG00000177191.2</td>\n",
       "      <td>protein_coding</td>\n",
       "      <td>chr19</td>\n",
       "      <td>41428596</td>\n",
       "      <td>41428730</td>\n",
       "      <td>-</td>\n",
       "      <td>1</td>\n",
       "      <td>CCDS,appris_principal_1,basic,upstream_uORF</td>\n",
       "      <td>1</td>\n",
       "      <td>upstream_uORF</td>\n",
       "    </tr>\n",
       "    <tr>\n",
       "      <th>12626</th>\n",
       "      <td>14423</td>\n",
       "      <td>ENST00000322354.3</td>\n",
       "      <td>ENSG00000167565.12</td>\n",
       "      <td>protein_coding</td>\n",
       "      <td>chr19</td>\n",
       "      <td>40442081</td>\n",
       "      <td>40442086</td>\n",
       "      <td>-</td>\n",
       "      <td>2</td>\n",
       "      <td>CCDS,appris_principal_2,basic,upstream_uORF</td>\n",
       "      <td>1</td>\n",
       "      <td>upstream_uORF</td>\n",
       "    </tr>\n",
       "    <tr>\n",
       "      <th>12627</th>\n",
       "      <td>14429</td>\n",
       "      <td>ENST00000322354.3</td>\n",
       "      <td>ENSG00000167565.12</td>\n",
       "      <td>protein_coding</td>\n",
       "      <td>chr19</td>\n",
       "      <td>40444215</td>\n",
       "      <td>40444705</td>\n",
       "      <td>-</td>\n",
       "      <td>1</td>\n",
       "      <td>CCDS,appris_principal_2,basic,upstream_uORF</td>\n",
       "      <td>1</td>\n",
       "      <td>upstream_uORF</td>\n",
       "    </tr>\n",
       "    <tr>\n",
       "      <th>12732</th>\n",
       "      <td>79666</td>\n",
       "      <td>ENST00000323146.7</td>\n",
       "      <td>ENSG00000176087.14</td>\n",
       "      <td>protein_coding</td>\n",
       "      <td>chr5</td>\n",
       "      <td>140564456</td>\n",
       "      <td>140564843</td>\n",
       "      <td>+</td>\n",
       "      <td>1</td>\n",
       "      <td>CCDS,appris_principal_1,basic,upstream_uORF</td>\n",
       "      <td>1</td>\n",
       "      <td>upstream_uORF</td>\n",
       "    </tr>\n",
       "    <tr>\n",
       "      <th>12847</th>\n",
       "      <td>33290</td>\n",
       "      <td>ENST00000324000.3</td>\n",
       "      <td>ENSG00000177511.5</td>\n",
       "      <td>protein_coding</td>\n",
       "      <td>chr18</td>\n",
       "      <td>57350813</td>\n",
       "      <td>57352846</td>\n",
       "      <td>+</td>\n",
       "      <td>1</td>\n",
       "      <td>CCDS,appris_principal_1,basic,upstream_uORF</td>\n",
       "      <td>1</td>\n",
       "      <td>upstream_uORF</td>\n",
       "    </tr>\n",
       "    <tr>\n",
       "      <th>15160</th>\n",
       "      <td>1780</td>\n",
       "      <td>ENST00000336751.10</td>\n",
       "      <td>ENSG00000168509.19</td>\n",
       "      <td>protein_coding</td>\n",
       "      <td>chr1</td>\n",
       "      <td>146020232</td>\n",
       "      <td>146020320</td>\n",
       "      <td>-</td>\n",
       "      <td>2</td>\n",
       "      <td>CCDS,appris_principal_1,basic,upstream_uORF</td>\n",
       "      <td>1</td>\n",
       "      <td>upstream_uORF</td>\n",
       "    </tr>\n",
       "    <tr>\n",
       "      <th>15161</th>\n",
       "      <td>1785</td>\n",
       "      <td>ENST00000336751.10</td>\n",
       "      <td>ENSG00000168509.19</td>\n",
       "      <td>protein_coding</td>\n",
       "      <td>chr1</td>\n",
       "      <td>146021587</td>\n",
       "      <td>146021841</td>\n",
       "      <td>-</td>\n",
       "      <td>1</td>\n",
       "      <td>CCDS,appris_principal_1,basic,upstream_uORF</td>\n",
       "      <td>1</td>\n",
       "      <td>upstream_uORF</td>\n",
       "    </tr>\n",
       "    <tr>\n",
       "      <th>15232</th>\n",
       "      <td>18731</td>\n",
       "      <td>ENST00000337018.10</td>\n",
       "      <td>ENSG00000064607.16</td>\n",
       "      <td>protein_coding</td>\n",
       "      <td>chr19</td>\n",
       "      <td>19033520</td>\n",
       "      <td>19033559</td>\n",
       "      <td>-</td>\n",
       "      <td>1</td>\n",
       "      <td>CCDS,alternative_3_UTR,alternative_5_UTR,appri...</td>\n",
       "      <td>1</td>\n",
       "      <td>upstream_uORF</td>\n",
       "    </tr>\n",
       "    <tr>\n",
       "      <th>16201</th>\n",
       "      <td>25047</td>\n",
       "      <td>ENST00000340871.8</td>\n",
       "      <td>ENSG00000143748.17</td>\n",
       "      <td>protein_coding</td>\n",
       "      <td>chr1</td>\n",
       "      <td>224330128</td>\n",
       "      <td>224330139</td>\n",
       "      <td>-</td>\n",
       "      <td>1</td>\n",
       "      <td>CCDS,basic,upstream_uORF</td>\n",
       "      <td>1</td>\n",
       "      <td>upstream_uORF</td>\n",
       "    </tr>\n",
       "    <tr>\n",
       "      <th>28553</th>\n",
       "      <td>7259</td>\n",
       "      <td>ENST00000377759.8</td>\n",
       "      <td>ENSG00000089006.16</td>\n",
       "      <td>protein_coding</td>\n",
       "      <td>chr20</td>\n",
       "      <td>17968426</td>\n",
       "      <td>17968720</td>\n",
       "      <td>-</td>\n",
       "      <td>1</td>\n",
       "      <td>CCDS,alternative_5_UTR,appris_principal_1,basi...</td>\n",
       "      <td>1</td>\n",
       "      <td>upstream_uORF</td>\n",
       "    </tr>\n",
       "    <tr>\n",
       "      <th>29573</th>\n",
       "      <td>8308</td>\n",
       "      <td>ENST00000379704.7</td>\n",
       "      <td>ENSG00000107262.17</td>\n",
       "      <td>protein_coding</td>\n",
       "      <td>chr9</td>\n",
       "      <td>33264330</td>\n",
       "      <td>33264571</td>\n",
       "      <td>-</td>\n",
       "      <td>1</td>\n",
       "      <td>CCDS,appris_alternative_2,basic,upstream_uORF</td>\n",
       "      <td>1</td>\n",
       "      <td>upstream_uORF</td>\n",
       "    </tr>\n",
       "    <tr>\n",
       "      <th>29576</th>\n",
       "      <td>8309</td>\n",
       "      <td>ENST00000379707.7</td>\n",
       "      <td>ENSG00000107262.17</td>\n",
       "      <td>protein_coding</td>\n",
       "      <td>chr9</td>\n",
       "      <td>33264330</td>\n",
       "      <td>33264720</td>\n",
       "      <td>-</td>\n",
       "      <td>1</td>\n",
       "      <td>upstream_uORF</td>\n",
       "      <td>0</td>\n",
       "      <td>upstream_uORF</td>\n",
       "    </tr>\n",
       "    <tr>\n",
       "      <th>31770</th>\n",
       "      <td>3245</td>\n",
       "      <td>ENST00000391700.5</td>\n",
       "      <td>ENSG00000152467.9</td>\n",
       "      <td>protein_coding</td>\n",
       "      <td>chr19</td>\n",
       "      <td>58034032</td>\n",
       "      <td>58034161</td>\n",
       "      <td>+</td>\n",
       "      <td>1</td>\n",
       "      <td>basic,upstream_uORF</td>\n",
       "      <td>0</td>\n",
       "      <td>upstream_uORF</td>\n",
       "    </tr>\n",
       "    <tr>\n",
       "      <th>31771</th>\n",
       "      <td>3248</td>\n",
       "      <td>ENST00000391700.5</td>\n",
       "      <td>ENSG00000152467.9</td>\n",
       "      <td>protein_coding</td>\n",
       "      <td>chr19</td>\n",
       "      <td>58035440</td>\n",
       "      <td>58035502</td>\n",
       "      <td>+</td>\n",
       "      <td>2</td>\n",
       "      <td>basic,upstream_uORF</td>\n",
       "      <td>0</td>\n",
       "      <td>upstream_uORF</td>\n",
       "    </tr>\n",
       "    <tr>\n",
       "      <th>31772</th>\n",
       "      <td>3249</td>\n",
       "      <td>ENST00000391700.5</td>\n",
       "      <td>ENSG00000152467.9</td>\n",
       "      <td>protein_coding</td>\n",
       "      <td>chr19</td>\n",
       "      <td>58035970</td>\n",
       "      <td>58036011</td>\n",
       "      <td>+</td>\n",
       "      <td>3</td>\n",
       "      <td>basic,upstream_uORF</td>\n",
       "      <td>0</td>\n",
       "      <td>upstream_uORF</td>\n",
       "    </tr>\n",
       "    <tr>\n",
       "      <th>31773</th>\n",
       "      <td>3252</td>\n",
       "      <td>ENST00000391700.5</td>\n",
       "      <td>ENSG00000152467.9</td>\n",
       "      <td>protein_coding</td>\n",
       "      <td>chr19</td>\n",
       "      <td>58037728</td>\n",
       "      <td>58037836</td>\n",
       "      <td>+</td>\n",
       "      <td>4</td>\n",
       "      <td>basic,upstream_uORF</td>\n",
       "      <td>0</td>\n",
       "      <td>upstream_uORF</td>\n",
       "    </tr>\n",
       "    <tr>\n",
       "      <th>31902</th>\n",
       "      <td>25045</td>\n",
       "      <td>ENST00000391875.6</td>\n",
       "      <td>ENSG00000143748.17</td>\n",
       "      <td>protein_coding</td>\n",
       "      <td>chr1</td>\n",
       "      <td>224330128</td>\n",
       "      <td>224330170</td>\n",
       "      <td>-</td>\n",
       "      <td>1</td>\n",
       "      <td>CCDS,appris_alternative_2,basic,upstream_uORF</td>\n",
       "      <td>1</td>\n",
       "      <td>upstream_uORF</td>\n",
       "    </tr>\n",
       "    <tr>\n",
       "      <th>33406</th>\n",
       "      <td>3463</td>\n",
       "      <td>ENST00000394135.7</td>\n",
       "      <td>ENSG00000103852.12</td>\n",
       "      <td>protein_coding</td>\n",
       "      <td>chr15</td>\n",
       "      <td>99228713</td>\n",
       "      <td>99228732</td>\n",
       "      <td>-</td>\n",
       "      <td>3</td>\n",
       "      <td>CCDS,alternative_5_UTR,appris_principal_2,basi...</td>\n",
       "      <td>1</td>\n",
       "      <td>upstream_uORF</td>\n",
       "    </tr>\n",
       "    <tr>\n",
       "      <th>33407</th>\n",
       "      <td>3485</td>\n",
       "      <td>ENST00000394135.7</td>\n",
       "      <td>ENSG00000103852.12</td>\n",
       "      <td>protein_coding</td>\n",
       "      <td>chr15</td>\n",
       "      <td>99249171</td>\n",
       "      <td>99249799</td>\n",
       "      <td>-</td>\n",
       "      <td>2</td>\n",
       "      <td>CCDS,alternative_5_UTR,appris_principal_2,basi...</td>\n",
       "      <td>1</td>\n",
       "      <td>upstream_uORF</td>\n",
       "    </tr>\n",
       "    <tr>\n",
       "      <th>33408</th>\n",
       "      <td>3494</td>\n",
       "      <td>ENST00000394135.7</td>\n",
       "      <td>ENSG00000103852.12</td>\n",
       "      <td>protein_coding</td>\n",
       "      <td>chr15</td>\n",
       "      <td>99251155</td>\n",
       "      <td>99251223</td>\n",
       "      <td>-</td>\n",
       "      <td>1</td>\n",
       "      <td>CCDS,alternative_5_UTR,appris_principal_2,basi...</td>\n",
       "      <td>1</td>\n",
       "      <td>upstream_uORF</td>\n",
       "    </tr>\n",
       "    <tr>\n",
       "      <th>33975</th>\n",
       "      <td>89188</td>\n",
       "      <td>ENST00000395045.6</td>\n",
       "      <td>ENSG00000007264.14</td>\n",
       "      <td>protein_coding</td>\n",
       "      <td>chr19</td>\n",
       "      <td>3789348</td>\n",
       "      <td>3789404</td>\n",
       "      <td>-</td>\n",
       "      <td>2</td>\n",
       "      <td>CCDS,appris_principal_4,basic,upstream_uORF</td>\n",
       "      <td>1</td>\n",
       "      <td>upstream_uORF</td>\n",
       "    </tr>\n",
       "    <tr>\n",
       "      <th>33976</th>\n",
       "      <td>89190</td>\n",
       "      <td>ENST00000395045.6</td>\n",
       "      <td>ENSG00000007264.14</td>\n",
       "      <td>protein_coding</td>\n",
       "      <td>chr19</td>\n",
       "      <td>3801532</td>\n",
       "      <td>3801812</td>\n",
       "      <td>-</td>\n",
       "      <td>1</td>\n",
       "      <td>CCDS,appris_principal_4,basic,upstream_uORF</td>\n",
       "      <td>1</td>\n",
       "      <td>upstream_uORF</td>\n",
       "    </tr>\n",
       "    <tr>\n",
       "      <th>34645</th>\n",
       "      <td>46726</td>\n",
       "      <td>ENST00000396057.5</td>\n",
       "      <td>ENSG00000171956.6</td>\n",
       "      <td>protein_coding</td>\n",
       "      <td>chr15</td>\n",
       "      <td>60004222</td>\n",
       "      <td>60004643</td>\n",
       "      <td>+</td>\n",
       "      <td>1</td>\n",
       "      <td>CCDS,appris_principal_1,basic,upstream_uORF</td>\n",
       "      <td>1</td>\n",
       "      <td>upstream_uORF</td>\n",
       "    </tr>\n",
       "    <tr>\n",
       "      <th>...</th>\n",
       "      <td>...</td>\n",
       "      <td>...</td>\n",
       "      <td>...</td>\n",
       "      <td>...</td>\n",
       "      <td>...</td>\n",
       "      <td>...</td>\n",
       "      <td>...</td>\n",
       "      <td>...</td>\n",
       "      <td>...</td>\n",
       "      <td>...</td>\n",
       "      <td>...</td>\n",
       "      <td>...</td>\n",
       "    </tr>\n",
       "    <tr>\n",
       "      <th>97319</th>\n",
       "      <td>7264</td>\n",
       "      <td>ENST00000606602.1</td>\n",
       "      <td>ENSG00000089006.16</td>\n",
       "      <td>protein_coding</td>\n",
       "      <td>chr20</td>\n",
       "      <td>17968426</td>\n",
       "      <td>17968785</td>\n",
       "      <td>-</td>\n",
       "      <td>1</td>\n",
       "      <td>basic,upstream_uORF</td>\n",
       "      <td>0</td>\n",
       "      <td>upstream_uORF</td>\n",
       "    </tr>\n",
       "    <tr>\n",
       "      <th>97460</th>\n",
       "      <td>10414</td>\n",
       "      <td>ENST00000608469.5</td>\n",
       "      <td>ENSG00000134365.12</td>\n",
       "      <td>protein_coding</td>\n",
       "      <td>chr1</td>\n",
       "      <td>196850241</td>\n",
       "      <td>196850340</td>\n",
       "      <td>+</td>\n",
       "      <td>1</td>\n",
       "      <td>basic,non_canonical_TEC,upstream_uORF</td>\n",
       "      <td>0</td>\n",
       "      <td>upstream_uORF</td>\n",
       "    </tr>\n",
       "    <tr>\n",
       "      <th>97461</th>\n",
       "      <td>10415</td>\n",
       "      <td>ENST00000608469.5</td>\n",
       "      <td>ENSG00000134365.12</td>\n",
       "      <td>protein_coding</td>\n",
       "      <td>chr1</td>\n",
       "      <td>196857604</td>\n",
       "      <td>196857798</td>\n",
       "      <td>+</td>\n",
       "      <td>2</td>\n",
       "      <td>basic,non_canonical_TEC,upstream_uORF</td>\n",
       "      <td>0</td>\n",
       "      <td>upstream_uORF</td>\n",
       "    </tr>\n",
       "    <tr>\n",
       "      <th>97462</th>\n",
       "      <td>10416</td>\n",
       "      <td>ENST00000608469.5</td>\n",
       "      <td>ENSG00000134365.12</td>\n",
       "      <td>protein_coding</td>\n",
       "      <td>chr1</td>\n",
       "      <td>196858232</td>\n",
       "      <td>196858365</td>\n",
       "      <td>+</td>\n",
       "      <td>3</td>\n",
       "      <td>basic,non_canonical_TEC,upstream_uORF</td>\n",
       "      <td>0</td>\n",
       "      <td>upstream_uORF</td>\n",
       "    </tr>\n",
       "    <tr>\n",
       "      <th>98801</th>\n",
       "      <td>71908</td>\n",
       "      <td>ENST00000614049.4</td>\n",
       "      <td>ENSG00000278318.4</td>\n",
       "      <td>protein_coding</td>\n",
       "      <td>chr19</td>\n",
       "      <td>44442848</td>\n",
       "      <td>44443024</td>\n",
       "      <td>-</td>\n",
       "      <td>3</td>\n",
       "      <td>CCDS,appris_principal_3,basic,upstream_uORF</td>\n",
       "      <td>1</td>\n",
       "      <td>upstream_uORF</td>\n",
       "    </tr>\n",
       "    <tr>\n",
       "      <th>98802</th>\n",
       "      <td>71911</td>\n",
       "      <td>ENST00000614049.4</td>\n",
       "      <td>ENSG00000278318.4</td>\n",
       "      <td>protein_coding</td>\n",
       "      <td>chr19</td>\n",
       "      <td>44447513</td>\n",
       "      <td>44447600</td>\n",
       "      <td>-</td>\n",
       "      <td>2</td>\n",
       "      <td>CCDS,appris_principal_3,basic,upstream_uORF</td>\n",
       "      <td>1</td>\n",
       "      <td>upstream_uORF</td>\n",
       "    </tr>\n",
       "    <tr>\n",
       "      <th>98803</th>\n",
       "      <td>71914</td>\n",
       "      <td>ENST00000614049.4</td>\n",
       "      <td>ENSG00000278318.4</td>\n",
       "      <td>protein_coding</td>\n",
       "      <td>chr19</td>\n",
       "      <td>44448309</td>\n",
       "      <td>44448477</td>\n",
       "      <td>-</td>\n",
       "      <td>1</td>\n",
       "      <td>CCDS,appris_principal_3,basic,upstream_uORF</td>\n",
       "      <td>1</td>\n",
       "      <td>upstream_uORF</td>\n",
       "    </tr>\n",
       "    <tr>\n",
       "      <th>99498</th>\n",
       "      <td>26803</td>\n",
       "      <td>ENST00000616183.1</td>\n",
       "      <td>ENSG00000160352.15</td>\n",
       "      <td>protein_coding</td>\n",
       "      <td>chr19</td>\n",
       "      <td>21082159</td>\n",
       "      <td>21082348</td>\n",
       "      <td>+</td>\n",
       "      <td>1</td>\n",
       "      <td>cds_end_NF,mRNA_end_NF,upstream_uORF</td>\n",
       "      <td>0</td>\n",
       "      <td>upstream_uORF</td>\n",
       "    </tr>\n",
       "    <tr>\n",
       "      <th>99628</th>\n",
       "      <td>13504</td>\n",
       "      <td>ENST00000616645.4</td>\n",
       "      <td>ENSG00000196684.12</td>\n",
       "      <td>protein_coding</td>\n",
       "      <td>chr19</td>\n",
       "      <td>16134028</td>\n",
       "      <td>16134235</td>\n",
       "      <td>+</td>\n",
       "      <td>1</td>\n",
       "      <td>CCDS,alternative_5_UTR,appris_principal_1,basi...</td>\n",
       "      <td>1</td>\n",
       "      <td>upstream_uORF</td>\n",
       "    </tr>\n",
       "    <tr>\n",
       "      <th>99629</th>\n",
       "      <td>13505</td>\n",
       "      <td>ENST00000616645.4</td>\n",
       "      <td>ENSG00000196684.12</td>\n",
       "      <td>protein_coding</td>\n",
       "      <td>chr19</td>\n",
       "      <td>16141941</td>\n",
       "      <td>16142093</td>\n",
       "      <td>+</td>\n",
       "      <td>2</td>\n",
       "      <td>CCDS,alternative_5_UTR,appris_principal_1,basi...</td>\n",
       "      <td>1</td>\n",
       "      <td>upstream_uORF</td>\n",
       "    </tr>\n",
       "    <tr>\n",
       "      <th>99630</th>\n",
       "      <td>13506</td>\n",
       "      <td>ENST00000616645.4</td>\n",
       "      <td>ENSG00000196684.12</td>\n",
       "      <td>protein_coding</td>\n",
       "      <td>chr19</td>\n",
       "      <td>16143632</td>\n",
       "      <td>16143774</td>\n",
       "      <td>+</td>\n",
       "      <td>3</td>\n",
       "      <td>CCDS,alternative_5_UTR,appris_principal_1,basi...</td>\n",
       "      <td>1</td>\n",
       "      <td>upstream_uORF</td>\n",
       "    </tr>\n",
       "    <tr>\n",
       "      <th>99631</th>\n",
       "      <td>13512</td>\n",
       "      <td>ENST00000616645.4</td>\n",
       "      <td>ENSG00000196684.12</td>\n",
       "      <td>protein_coding</td>\n",
       "      <td>chr19</td>\n",
       "      <td>16148724</td>\n",
       "      <td>16148750</td>\n",
       "      <td>+</td>\n",
       "      <td>4</td>\n",
       "      <td>CCDS,alternative_5_UTR,appris_principal_1,basi...</td>\n",
       "      <td>1</td>\n",
       "      <td>upstream_uORF</td>\n",
       "    </tr>\n",
       "    <tr>\n",
       "      <th>101125</th>\n",
       "      <td>90379</td>\n",
       "      <td>ENST00000621441.4</td>\n",
       "      <td>ENSG00000070367.15</td>\n",
       "      <td>protein_coding</td>\n",
       "      <td>chr14</td>\n",
       "      <td>57268649</td>\n",
       "      <td>57269008</td>\n",
       "      <td>-</td>\n",
       "      <td>1</td>\n",
       "      <td>CCDS,appris_principal_1,basic,upstream_uORF</td>\n",
       "      <td>1</td>\n",
       "      <td>upstream_uORF</td>\n",
       "    </tr>\n",
       "    <tr>\n",
       "      <th>101723</th>\n",
       "      <td>90165</td>\n",
       "      <td>ENST00000623824.1</td>\n",
       "      <td>ENSG00000188710.2</td>\n",
       "      <td>protein_coding</td>\n",
       "      <td>chr9</td>\n",
       "      <td>130895697</td>\n",
       "      <td>130895981</td>\n",
       "      <td>-</td>\n",
       "      <td>2</td>\n",
       "      <td>CCDS,appris_principal_1,basic,upstream_uORF</td>\n",
       "      <td>1</td>\n",
       "      <td>upstream_uORF</td>\n",
       "    </tr>\n",
       "    <tr>\n",
       "      <th>101724</th>\n",
       "      <td>90166</td>\n",
       "      <td>ENST00000623824.1</td>\n",
       "      <td>ENSG00000188710.2</td>\n",
       "      <td>protein_coding</td>\n",
       "      <td>chr9</td>\n",
       "      <td>130896577</td>\n",
       "      <td>130896812</td>\n",
       "      <td>-</td>\n",
       "      <td>1</td>\n",
       "      <td>CCDS,appris_principal_1,basic,upstream_uORF</td>\n",
       "      <td>1</td>\n",
       "      <td>upstream_uORF</td>\n",
       "    </tr>\n",
       "    <tr>\n",
       "      <th>101882</th>\n",
       "      <td>97879</td>\n",
       "      <td>ENST00000625293.1</td>\n",
       "      <td>ENSG00000213689.10</td>\n",
       "      <td>protein_coding</td>\n",
       "      <td>chr3</td>\n",
       "      <td>48465863</td>\n",
       "      <td>48466490</td>\n",
       "      <td>+</td>\n",
       "      <td>1</td>\n",
       "      <td>CCDS,appris_alternative_2,basic,upstream_uORF</td>\n",
       "      <td>1</td>\n",
       "      <td>upstream_uORF</td>\n",
       "    </tr>\n",
       "    <tr>\n",
       "      <th>102146</th>\n",
       "      <td>57645</td>\n",
       "      <td>ENST00000627604.1</td>\n",
       "      <td>ENSG00000186184.16</td>\n",
       "      <td>protein_coding</td>\n",
       "      <td>chr13</td>\n",
       "      <td>27620743</td>\n",
       "      <td>27621140</td>\n",
       "      <td>+</td>\n",
       "      <td>1</td>\n",
       "      <td>alternative_5_UTR,cds_end_NF,mRNA_end_NF,upstr...</td>\n",
       "      <td>0</td>\n",
       "      <td>upstream_uORF</td>\n",
       "    </tr>\n",
       "    <tr>\n",
       "      <th>102147</th>\n",
       "      <td>57648</td>\n",
       "      <td>ENST00000627604.1</td>\n",
       "      <td>ENSG00000186184.16</td>\n",
       "      <td>protein_coding</td>\n",
       "      <td>chr13</td>\n",
       "      <td>27621337</td>\n",
       "      <td>27621437</td>\n",
       "      <td>+</td>\n",
       "      <td>2</td>\n",
       "      <td>alternative_5_UTR,cds_end_NF,mRNA_end_NF,upstr...</td>\n",
       "      <td>0</td>\n",
       "      <td>upstream_uORF</td>\n",
       "    </tr>\n",
       "    <tr>\n",
       "      <th>102428</th>\n",
       "      <td>97878</td>\n",
       "      <td>ENST00000629913.1</td>\n",
       "      <td>ENSG00000213689.10</td>\n",
       "      <td>protein_coding</td>\n",
       "      <td>chr3</td>\n",
       "      <td>48465855</td>\n",
       "      <td>48466309</td>\n",
       "      <td>+</td>\n",
       "      <td>1</td>\n",
       "      <td>CCDS,appris_principal_3,basic,upstream_uORF</td>\n",
       "      <td>1</td>\n",
       "      <td>upstream_uORF</td>\n",
       "    </tr>\n",
       "    <tr>\n",
       "      <th>102634</th>\n",
       "      <td>64841</td>\n",
       "      <td>ENST00000634278.1</td>\n",
       "      <td>ENSG00000283088.1</td>\n",
       "      <td>protein_coding</td>\n",
       "      <td>chr19</td>\n",
       "      <td>52890256</td>\n",
       "      <td>52890328</td>\n",
       "      <td>-</td>\n",
       "      <td>6</td>\n",
       "      <td>appris_principal_1,basic,cds_end_NF,mRNA_end_N...</td>\n",
       "      <td>0</td>\n",
       "      <td>upstream_uORF</td>\n",
       "    </tr>\n",
       "    <tr>\n",
       "      <th>102635</th>\n",
       "      <td>64842</td>\n",
       "      <td>ENST00000634278.1</td>\n",
       "      <td>ENSG00000283088.1</td>\n",
       "      <td>protein_coding</td>\n",
       "      <td>chr19</td>\n",
       "      <td>52891229</td>\n",
       "      <td>52891346</td>\n",
       "      <td>-</td>\n",
       "      <td>5</td>\n",
       "      <td>appris_principal_1,basic,cds_end_NF,mRNA_end_N...</td>\n",
       "      <td>0</td>\n",
       "      <td>upstream_uORF</td>\n",
       "    </tr>\n",
       "    <tr>\n",
       "      <th>102636</th>\n",
       "      <td>64843</td>\n",
       "      <td>ENST00000634278.1</td>\n",
       "      <td>ENSG00000283088.1</td>\n",
       "      <td>protein_coding</td>\n",
       "      <td>chr19</td>\n",
       "      <td>52893779</td>\n",
       "      <td>52893856</td>\n",
       "      <td>-</td>\n",
       "      <td>4</td>\n",
       "      <td>appris_principal_1,basic,cds_end_NF,mRNA_end_N...</td>\n",
       "      <td>0</td>\n",
       "      <td>upstream_uORF</td>\n",
       "    </tr>\n",
       "    <tr>\n",
       "      <th>102637</th>\n",
       "      <td>64844</td>\n",
       "      <td>ENST00000634278.1</td>\n",
       "      <td>ENSG00000283088.1</td>\n",
       "      <td>protein_coding</td>\n",
       "      <td>chr19</td>\n",
       "      <td>52894126</td>\n",
       "      <td>52894220</td>\n",
       "      <td>-</td>\n",
       "      <td>3</td>\n",
       "      <td>appris_principal_1,basic,cds_end_NF,mRNA_end_N...</td>\n",
       "      <td>0</td>\n",
       "      <td>upstream_uORF</td>\n",
       "    </tr>\n",
       "    <tr>\n",
       "      <th>102638</th>\n",
       "      <td>64845</td>\n",
       "      <td>ENST00000634278.1</td>\n",
       "      <td>ENSG00000283088.1</td>\n",
       "      <td>protein_coding</td>\n",
       "      <td>chr19</td>\n",
       "      <td>52895339</td>\n",
       "      <td>52895435</td>\n",
       "      <td>-</td>\n",
       "      <td>2</td>\n",
       "      <td>appris_principal_1,basic,cds_end_NF,mRNA_end_N...</td>\n",
       "      <td>0</td>\n",
       "      <td>upstream_uORF</td>\n",
       "    </tr>\n",
       "    <tr>\n",
       "      <th>102639</th>\n",
       "      <td>64846</td>\n",
       "      <td>ENST00000634278.1</td>\n",
       "      <td>ENSG00000283088.1</td>\n",
       "      <td>protein_coding</td>\n",
       "      <td>chr19</td>\n",
       "      <td>52962727</td>\n",
       "      <td>52962768</td>\n",
       "      <td>-</td>\n",
       "      <td>1</td>\n",
       "      <td>appris_principal_1,basic,cds_end_NF,mRNA_end_N...</td>\n",
       "      <td>0</td>\n",
       "      <td>upstream_uORF</td>\n",
       "    </tr>\n",
       "    <tr>\n",
       "      <th>102775</th>\n",
       "      <td>8311</td>\n",
       "      <td>ENST00000635077.1</td>\n",
       "      <td>ENSG00000107262.17</td>\n",
       "      <td>protein_coding</td>\n",
       "      <td>chr9</td>\n",
       "      <td>33264330</td>\n",
       "      <td>33264705</td>\n",
       "      <td>-</td>\n",
       "      <td>1</td>\n",
       "      <td>cds_end_NF,mRNA_end_NF,upstream_uORF</td>\n",
       "      <td>0</td>\n",
       "      <td>upstream_uORF</td>\n",
       "    </tr>\n",
       "    <tr>\n",
       "      <th>103483</th>\n",
       "      <td>52279</td>\n",
       "      <td>ENST00000637878.1</td>\n",
       "      <td>ENSG00000225180.7</td>\n",
       "      <td>protein_coding</td>\n",
       "      <td>chr17</td>\n",
       "      <td>81165507</td>\n",
       "      <td>81165747</td>\n",
       "      <td>+</td>\n",
       "      <td>1</td>\n",
       "      <td>appris_principal_1,basic,inferred_exon_combina...</td>\n",
       "      <td>0</td>\n",
       "      <td>upstream_uORF</td>\n",
       "    </tr>\n",
       "    <tr>\n",
       "      <th>103484</th>\n",
       "      <td>52280</td>\n",
       "      <td>ENST00000637878.1</td>\n",
       "      <td>ENSG00000225180.7</td>\n",
       "      <td>protein_coding</td>\n",
       "      <td>chr17</td>\n",
       "      <td>81166677</td>\n",
       "      <td>81166844</td>\n",
       "      <td>+</td>\n",
       "      <td>2</td>\n",
       "      <td>appris_principal_1,basic,inferred_exon_combina...</td>\n",
       "      <td>0</td>\n",
       "      <td>upstream_uORF</td>\n",
       "    </tr>\n",
       "    <tr>\n",
       "      <th>103485</th>\n",
       "      <td>52281</td>\n",
       "      <td>ENST00000637878.1</td>\n",
       "      <td>ENSG00000225180.7</td>\n",
       "      <td>protein_coding</td>\n",
       "      <td>chr17</td>\n",
       "      <td>81178918</td>\n",
       "      <td>81179152</td>\n",
       "      <td>+</td>\n",
       "      <td>3</td>\n",
       "      <td>appris_principal_1,basic,inferred_exon_combina...</td>\n",
       "      <td>0</td>\n",
       "      <td>upstream_uORF</td>\n",
       "    </tr>\n",
       "    <tr>\n",
       "      <th>103486</th>\n",
       "      <td>52282</td>\n",
       "      <td>ENST00000637878.1</td>\n",
       "      <td>ENSG00000225180.7</td>\n",
       "      <td>protein_coding</td>\n",
       "      <td>chr17</td>\n",
       "      <td>81181123</td>\n",
       "      <td>81181226</td>\n",
       "      <td>+</td>\n",
       "      <td>4</td>\n",
       "      <td>appris_principal_1,basic,inferred_exon_combina...</td>\n",
       "      <td>0</td>\n",
       "      <td>upstream_uORF</td>\n",
       "    </tr>\n",
       "  </tbody>\n",
       "</table>\n",
       "<p>238 rows × 12 columns</p>\n",
       "</div>"
      ],
      "text/plain": [
       "         index       transcript_id             gene_id       gene_type  chrom  \\\n",
       "404     103532   ENST00000199448.8  ENSG00000086289.11  protein_coding   chr7   \n",
       "2329      7442   ENST00000245121.9  ENSG00000167216.16  protein_coding  chr18   \n",
       "3910     57773  ENST00000261192.11  ENSG00000060982.14  protein_coding  chr12   \n",
       "5800    103562   ENST00000270538.7   ENSG00000104980.7  protein_coding  chr19   \n",
       "9427     18451   ENST00000303212.2   ENSG00000171119.2  protein_coding  chr19   \n",
       "12513    97986   ENST00000321702.2   ENSG00000177191.2  protein_coding  chr19   \n",
       "12514    97987   ENST00000321702.2   ENSG00000177191.2  protein_coding  chr19   \n",
       "12515    97988   ENST00000321702.2   ENSG00000177191.2  protein_coding  chr19   \n",
       "12626    14423   ENST00000322354.3  ENSG00000167565.12  protein_coding  chr19   \n",
       "12627    14429   ENST00000322354.3  ENSG00000167565.12  protein_coding  chr19   \n",
       "12732    79666   ENST00000323146.7  ENSG00000176087.14  protein_coding   chr5   \n",
       "12847    33290   ENST00000324000.3   ENSG00000177511.5  protein_coding  chr18   \n",
       "15160     1780  ENST00000336751.10  ENSG00000168509.19  protein_coding   chr1   \n",
       "15161     1785  ENST00000336751.10  ENSG00000168509.19  protein_coding   chr1   \n",
       "15232    18731  ENST00000337018.10  ENSG00000064607.16  protein_coding  chr19   \n",
       "16201    25047   ENST00000340871.8  ENSG00000143748.17  protein_coding   chr1   \n",
       "28553     7259   ENST00000377759.8  ENSG00000089006.16  protein_coding  chr20   \n",
       "29573     8308   ENST00000379704.7  ENSG00000107262.17  protein_coding   chr9   \n",
       "29576     8309   ENST00000379707.7  ENSG00000107262.17  protein_coding   chr9   \n",
       "31770     3245   ENST00000391700.5   ENSG00000152467.9  protein_coding  chr19   \n",
       "31771     3248   ENST00000391700.5   ENSG00000152467.9  protein_coding  chr19   \n",
       "31772     3249   ENST00000391700.5   ENSG00000152467.9  protein_coding  chr19   \n",
       "31773     3252   ENST00000391700.5   ENSG00000152467.9  protein_coding  chr19   \n",
       "31902    25045   ENST00000391875.6  ENSG00000143748.17  protein_coding   chr1   \n",
       "33406     3463   ENST00000394135.7  ENSG00000103852.12  protein_coding  chr15   \n",
       "33407     3485   ENST00000394135.7  ENSG00000103852.12  protein_coding  chr15   \n",
       "33408     3494   ENST00000394135.7  ENSG00000103852.12  protein_coding  chr15   \n",
       "33975    89188   ENST00000395045.6  ENSG00000007264.14  protein_coding  chr19   \n",
       "33976    89190   ENST00000395045.6  ENSG00000007264.14  protein_coding  chr19   \n",
       "34645    46726   ENST00000396057.5   ENSG00000171956.6  protein_coding  chr15   \n",
       "...        ...                 ...                 ...             ...    ...   \n",
       "97319     7264   ENST00000606602.1  ENSG00000089006.16  protein_coding  chr20   \n",
       "97460    10414   ENST00000608469.5  ENSG00000134365.12  protein_coding   chr1   \n",
       "97461    10415   ENST00000608469.5  ENSG00000134365.12  protein_coding   chr1   \n",
       "97462    10416   ENST00000608469.5  ENSG00000134365.12  protein_coding   chr1   \n",
       "98801    71908   ENST00000614049.4   ENSG00000278318.4  protein_coding  chr19   \n",
       "98802    71911   ENST00000614049.4   ENSG00000278318.4  protein_coding  chr19   \n",
       "98803    71914   ENST00000614049.4   ENSG00000278318.4  protein_coding  chr19   \n",
       "99498    26803   ENST00000616183.1  ENSG00000160352.15  protein_coding  chr19   \n",
       "99628    13504   ENST00000616645.4  ENSG00000196684.12  protein_coding  chr19   \n",
       "99629    13505   ENST00000616645.4  ENSG00000196684.12  protein_coding  chr19   \n",
       "99630    13506   ENST00000616645.4  ENSG00000196684.12  protein_coding  chr19   \n",
       "99631    13512   ENST00000616645.4  ENSG00000196684.12  protein_coding  chr19   \n",
       "101125   90379   ENST00000621441.4  ENSG00000070367.15  protein_coding  chr14   \n",
       "101723   90165   ENST00000623824.1   ENSG00000188710.2  protein_coding   chr9   \n",
       "101724   90166   ENST00000623824.1   ENSG00000188710.2  protein_coding   chr9   \n",
       "101882   97879   ENST00000625293.1  ENSG00000213689.10  protein_coding   chr3   \n",
       "102146   57645   ENST00000627604.1  ENSG00000186184.16  protein_coding  chr13   \n",
       "102147   57648   ENST00000627604.1  ENSG00000186184.16  protein_coding  chr13   \n",
       "102428   97878   ENST00000629913.1  ENSG00000213689.10  protein_coding   chr3   \n",
       "102634   64841   ENST00000634278.1   ENSG00000283088.1  protein_coding  chr19   \n",
       "102635   64842   ENST00000634278.1   ENSG00000283088.1  protein_coding  chr19   \n",
       "102636   64843   ENST00000634278.1   ENSG00000283088.1  protein_coding  chr19   \n",
       "102637   64844   ENST00000634278.1   ENSG00000283088.1  protein_coding  chr19   \n",
       "102638   64845   ENST00000634278.1   ENSG00000283088.1  protein_coding  chr19   \n",
       "102639   64846   ENST00000634278.1   ENSG00000283088.1  protein_coding  chr19   \n",
       "102775    8311   ENST00000635077.1  ENSG00000107262.17  protein_coding   chr9   \n",
       "103483   52279   ENST00000637878.1   ENSG00000225180.7  protein_coding  chr17   \n",
       "103484   52280   ENST00000637878.1   ENSG00000225180.7  protein_coding  chr17   \n",
       "103485   52281   ENST00000637878.1   ENSG00000225180.7  protein_coding  chr17   \n",
       "103486   52282   ENST00000637878.1   ENSG00000225180.7  protein_coding  chr17   \n",
       "\n",
       "            start        end strand  exon_number  \\\n",
       "404      37920561   37920939      +            1   \n",
       "2329     46946824   46946872      +            1   \n",
       "3910     24948933   24949459      -            1   \n",
       "5800      7943652    7943920      -            1   \n",
       "9427      5823802    5824165      +            1   \n",
       "12513    41426779   41426810      -            3   \n",
       "12514    41427284   41427570      -            2   \n",
       "12515    41428596   41428730      -            1   \n",
       "12626    40442081   40442086      -            2   \n",
       "12627    40444215   40444705      -            1   \n",
       "12732   140564456  140564843      +            1   \n",
       "12847    57350813   57352846      +            1   \n",
       "15160   146020232  146020320      -            2   \n",
       "15161   146021587  146021841      -            1   \n",
       "15232    19033520   19033559      -            1   \n",
       "16201   224330128  224330139      -            1   \n",
       "28553    17968426   17968720      -            1   \n",
       "29573    33264330   33264571      -            1   \n",
       "29576    33264330   33264720      -            1   \n",
       "31770    58034032   58034161      +            1   \n",
       "31771    58035440   58035502      +            2   \n",
       "31772    58035970   58036011      +            3   \n",
       "31773    58037728   58037836      +            4   \n",
       "31902   224330128  224330170      -            1   \n",
       "33406    99228713   99228732      -            3   \n",
       "33407    99249171   99249799      -            2   \n",
       "33408    99251155   99251223      -            1   \n",
       "33975     3789348    3789404      -            2   \n",
       "33976     3801532    3801812      -            1   \n",
       "34645    60004222   60004643      +            1   \n",
       "...           ...        ...    ...          ...   \n",
       "97319    17968426   17968785      -            1   \n",
       "97460   196850241  196850340      +            1   \n",
       "97461   196857604  196857798      +            2   \n",
       "97462   196858232  196858365      +            3   \n",
       "98801    44442848   44443024      -            3   \n",
       "98802    44447513   44447600      -            2   \n",
       "98803    44448309   44448477      -            1   \n",
       "99498    21082159   21082348      +            1   \n",
       "99628    16134028   16134235      +            1   \n",
       "99629    16141941   16142093      +            2   \n",
       "99630    16143632   16143774      +            3   \n",
       "99631    16148724   16148750      +            4   \n",
       "101125   57268649   57269008      -            1   \n",
       "101723  130895697  130895981      -            2   \n",
       "101724  130896577  130896812      -            1   \n",
       "101882   48465863   48466490      +            1   \n",
       "102146   27620743   27621140      +            1   \n",
       "102147   27621337   27621437      +            2   \n",
       "102428   48465855   48466309      +            1   \n",
       "102634   52890256   52890328      -            6   \n",
       "102635   52891229   52891346      -            5   \n",
       "102636   52893779   52893856      -            4   \n",
       "102637   52894126   52894220      -            3   \n",
       "102638   52895339   52895435      -            2   \n",
       "102639   52962727   52962768      -            1   \n",
       "102775   33264330   33264705      -            1   \n",
       "103483   81165507   81165747      +            1   \n",
       "103484   81166677   81166844      +            2   \n",
       "103485   81178918   81179152      +            3   \n",
       "103486   81181123   81181226      +            4   \n",
       "\n",
       "                                                     tags  is_CCDS  \\\n",
       "404           CCDS,appris_principal_3,basic,upstream_uORF        1   \n",
       "2329          CCDS,appris_principal_2,basic,upstream_uORF        1   \n",
       "3910          CCDS,appris_principal_3,basic,upstream_uORF        1   \n",
       "5800          CCDS,appris_principal_1,basic,upstream_uORF        1   \n",
       "9427          CCDS,appris_principal_1,basic,upstream_uORF        1   \n",
       "12513         CCDS,appris_principal_1,basic,upstream_uORF        1   \n",
       "12514         CCDS,appris_principal_1,basic,upstream_uORF        1   \n",
       "12515         CCDS,appris_principal_1,basic,upstream_uORF        1   \n",
       "12626         CCDS,appris_principal_2,basic,upstream_uORF        1   \n",
       "12627         CCDS,appris_principal_2,basic,upstream_uORF        1   \n",
       "12732         CCDS,appris_principal_1,basic,upstream_uORF        1   \n",
       "12847         CCDS,appris_principal_1,basic,upstream_uORF        1   \n",
       "15160         CCDS,appris_principal_1,basic,upstream_uORF        1   \n",
       "15161         CCDS,appris_principal_1,basic,upstream_uORF        1   \n",
       "15232   CCDS,alternative_3_UTR,alternative_5_UTR,appri...        1   \n",
       "16201                            CCDS,basic,upstream_uORF        1   \n",
       "28553   CCDS,alternative_5_UTR,appris_principal_1,basi...        1   \n",
       "29573       CCDS,appris_alternative_2,basic,upstream_uORF        1   \n",
       "29576                                       upstream_uORF        0   \n",
       "31770                                 basic,upstream_uORF        0   \n",
       "31771                                 basic,upstream_uORF        0   \n",
       "31772                                 basic,upstream_uORF        0   \n",
       "31773                                 basic,upstream_uORF        0   \n",
       "31902       CCDS,appris_alternative_2,basic,upstream_uORF        1   \n",
       "33406   CCDS,alternative_5_UTR,appris_principal_2,basi...        1   \n",
       "33407   CCDS,alternative_5_UTR,appris_principal_2,basi...        1   \n",
       "33408   CCDS,alternative_5_UTR,appris_principal_2,basi...        1   \n",
       "33975         CCDS,appris_principal_4,basic,upstream_uORF        1   \n",
       "33976         CCDS,appris_principal_4,basic,upstream_uORF        1   \n",
       "34645         CCDS,appris_principal_1,basic,upstream_uORF        1   \n",
       "...                                                   ...      ...   \n",
       "97319                                 basic,upstream_uORF        0   \n",
       "97460               basic,non_canonical_TEC,upstream_uORF        0   \n",
       "97461               basic,non_canonical_TEC,upstream_uORF        0   \n",
       "97462               basic,non_canonical_TEC,upstream_uORF        0   \n",
       "98801         CCDS,appris_principal_3,basic,upstream_uORF        1   \n",
       "98802         CCDS,appris_principal_3,basic,upstream_uORF        1   \n",
       "98803         CCDS,appris_principal_3,basic,upstream_uORF        1   \n",
       "99498                cds_end_NF,mRNA_end_NF,upstream_uORF        0   \n",
       "99628   CCDS,alternative_5_UTR,appris_principal_1,basi...        1   \n",
       "99629   CCDS,alternative_5_UTR,appris_principal_1,basi...        1   \n",
       "99630   CCDS,alternative_5_UTR,appris_principal_1,basi...        1   \n",
       "99631   CCDS,alternative_5_UTR,appris_principal_1,basi...        1   \n",
       "101125        CCDS,appris_principal_1,basic,upstream_uORF        1   \n",
       "101723        CCDS,appris_principal_1,basic,upstream_uORF        1   \n",
       "101724        CCDS,appris_principal_1,basic,upstream_uORF        1   \n",
       "101882      CCDS,appris_alternative_2,basic,upstream_uORF        1   \n",
       "102146  alternative_5_UTR,cds_end_NF,mRNA_end_NF,upstr...        0   \n",
       "102147  alternative_5_UTR,cds_end_NF,mRNA_end_NF,upstr...        0   \n",
       "102428        CCDS,appris_principal_3,basic,upstream_uORF        1   \n",
       "102634  appris_principal_1,basic,cds_end_NF,mRNA_end_N...        0   \n",
       "102635  appris_principal_1,basic,cds_end_NF,mRNA_end_N...        0   \n",
       "102636  appris_principal_1,basic,cds_end_NF,mRNA_end_N...        0   \n",
       "102637  appris_principal_1,basic,cds_end_NF,mRNA_end_N...        0   \n",
       "102638  appris_principal_1,basic,cds_end_NF,mRNA_end_N...        0   \n",
       "102639  appris_principal_1,basic,cds_end_NF,mRNA_end_N...        0   \n",
       "102775               cds_end_NF,mRNA_end_NF,upstream_uORF        0   \n",
       "103483  appris_principal_1,basic,inferred_exon_combina...        0   \n",
       "103484  appris_principal_1,basic,inferred_exon_combina...        0   \n",
       "103485  appris_principal_1,basic,inferred_exon_combina...        0   \n",
       "103486  appris_principal_1,basic,inferred_exon_combina...        0   \n",
       "\n",
       "            uORF_type  \n",
       "404     upstream_uORF  \n",
       "2329    upstream_uORF  \n",
       "3910    upstream_uORF  \n",
       "5800    upstream_uORF  \n",
       "9427    upstream_uORF  \n",
       "12513   upstream_uORF  \n",
       "12514   upstream_uORF  \n",
       "12515   upstream_uORF  \n",
       "12626   upstream_uORF  \n",
       "12627   upstream_uORF  \n",
       "12732   upstream_uORF  \n",
       "12847   upstream_uORF  \n",
       "15160   upstream_uORF  \n",
       "15161   upstream_uORF  \n",
       "15232   upstream_uORF  \n",
       "16201   upstream_uORF  \n",
       "28553   upstream_uORF  \n",
       "29573   upstream_uORF  \n",
       "29576   upstream_uORF  \n",
       "31770   upstream_uORF  \n",
       "31771   upstream_uORF  \n",
       "31772   upstream_uORF  \n",
       "31773   upstream_uORF  \n",
       "31902   upstream_uORF  \n",
       "33406   upstream_uORF  \n",
       "33407   upstream_uORF  \n",
       "33408   upstream_uORF  \n",
       "33975   upstream_uORF  \n",
       "33976   upstream_uORF  \n",
       "34645   upstream_uORF  \n",
       "...               ...  \n",
       "97319   upstream_uORF  \n",
       "97460   upstream_uORF  \n",
       "97461   upstream_uORF  \n",
       "97462   upstream_uORF  \n",
       "98801   upstream_uORF  \n",
       "98802   upstream_uORF  \n",
       "98803   upstream_uORF  \n",
       "99498   upstream_uORF  \n",
       "99628   upstream_uORF  \n",
       "99629   upstream_uORF  \n",
       "99630   upstream_uORF  \n",
       "99631   upstream_uORF  \n",
       "101125  upstream_uORF  \n",
       "101723  upstream_uORF  \n",
       "101724  upstream_uORF  \n",
       "101882  upstream_uORF  \n",
       "102146  upstream_uORF  \n",
       "102147  upstream_uORF  \n",
       "102428  upstream_uORF  \n",
       "102634  upstream_uORF  \n",
       "102635  upstream_uORF  \n",
       "102636  upstream_uORF  \n",
       "102637  upstream_uORF  \n",
       "102638  upstream_uORF  \n",
       "102639  upstream_uORF  \n",
       "102775  upstream_uORF  \n",
       "103483  upstream_uORF  \n",
       "103484  upstream_uORF  \n",
       "103485  upstream_uORF  \n",
       "103486  upstream_uORF  \n",
       "\n",
       "[238 rows x 12 columns]"
      ]
     },
     "execution_count": 87,
     "metadata": {},
     "output_type": "execute_result"
    }
   ],
   "source": [
    "df_uORF = df[df.uORF_type=='upstream_uORF']\n",
    "df_uORF"
   ]
  },
  {
   "cell_type": "code",
   "execution_count": 88,
   "metadata": {},
   "outputs": [
    {
     "data": {
      "text/plain": [
       "['TCCCCCCTCTTAAAACACGATGCCTCCCAGGATGCTAGTGGCACCACTGCCACTGCATTTCCTGTTGGCAGCAGTGAGCAGTGAAAACCGAAGCGGCAGAAGGCAGTGGCAGCAGGCAGTGGCAGCAGGCAGTGGCCCAGGCAGAAATAGCTCCCGCGCGATTCACTGGAGCCTTCCCCGGGCCCTGGTCCCGGCTACCGGGACTCGCGCGTCCGGATCTCAAAAGCGGCAGAGGCCACCGAAGGGACAGGAAGCACTTTGGTCCAGACCACACTCCCGGCACAGTGCGGAAAGAGCCGGCGGGAGCCACTCTGATCCCGGACGCCTCAGCGCCCCCTTGGGCTTGGGCTTGCCCTCGGGCCGGGGAAGGCTGACCGCG']"
      ]
     },
     "execution_count": 88,
     "metadata": {},
     "output_type": "execute_result"
    }
   ],
   "source": [
    "#103532\tENST00000199448.8\tENSG00000086289.11\tprotein_coding\tchr7\t37920561\t37920939\t+\t1\tCCDS,appris_principal_3,basic,upstream_uORF\t1\tupstream_uORF\n",
    "sequence = fasta_reader.query([Interval('chr7', 37920561, 37920939)])\n",
    "sequence"
   ]
  },
  {
   "cell_type": "code",
   "execution_count": null,
   "metadata": {},
   "outputs": [],
   "source": []
  },
  {
   "cell_type": "code",
   "execution_count": 77,
   "metadata": {},
   "outputs": [
    {
     "data": {
      "text/html": [
       "<div>\n",
       "<style scoped>\n",
       "    .dataframe tbody tr th:only-of-type {\n",
       "        vertical-align: middle;\n",
       "    }\n",
       "\n",
       "    .dataframe tbody tr th {\n",
       "        vertical-align: top;\n",
       "    }\n",
       "\n",
       "    .dataframe thead th {\n",
       "        text-align: right;\n",
       "    }\n",
       "</style>\n",
       "<table border=\"1\" class=\"dataframe\">\n",
       "  <thead>\n",
       "    <tr style=\"text-align: right;\">\n",
       "      <th></th>\n",
       "      <th>transcript_stable_ID</th>\n",
       "      <th>gene_stable_ID</th>\n",
       "      <th>uORF.CDS.pair_ID</th>\n",
       "      <th>position.aTIS</th>\n",
       "      <th>position.uTIS</th>\n",
       "      <th>start_codon_aTIS</th>\n",
       "      <th>start_codon_uTIS</th>\n",
       "      <th>strand</th>\n",
       "      <th>uORF_length_nt</th>\n",
       "      <th>uTIS.AUG.or.non_AUG</th>\n",
       "      <th>uTIS.class</th>\n",
       "      <th>uTIS_Kozak</th>\n",
       "      <th>uTIS_dist_to_aTIS_nt</th>\n",
       "      <th>LFQ.si.Ctrl.rep1</th>\n",
       "      <th>LFQ.si.Ctrl.rep2</th>\n",
       "    </tr>\n",
       "    <tr>\n",
       "      <th>uTIS.ID</th>\n",
       "      <th></th>\n",
       "      <th></th>\n",
       "      <th></th>\n",
       "      <th></th>\n",
       "      <th></th>\n",
       "      <th></th>\n",
       "      <th></th>\n",
       "      <th></th>\n",
       "      <th></th>\n",
       "      <th></th>\n",
       "      <th></th>\n",
       "      <th></th>\n",
       "      <th></th>\n",
       "      <th></th>\n",
       "      <th></th>\n",
       "    </tr>\n",
       "  </thead>\n",
       "  <tbody>\n",
       "    <tr>\n",
       "      <th>ENST00000000233_127588411</th>\n",
       "      <td>ENST00000000233</td>\n",
       "      <td>ENSG00000004059</td>\n",
       "      <td>ENST00000000233_127588499_127588411</td>\n",
       "      <td>127588499</td>\n",
       "      <td>127588411.0</td>\n",
       "      <td>ATG</td>\n",
       "      <td>CTG</td>\n",
       "      <td>1</td>\n",
       "      <td>264.0</td>\n",
       "      <td>non-AUG</td>\n",
       "      <td>u-oORF</td>\n",
       "      <td>weak</td>\n",
       "      <td>-88.0</td>\n",
       "      <td>29.64103</td>\n",
       "      <td>29.75042</td>\n",
       "    </tr>\n",
       "    <tr>\n",
       "      <th>ENST00000000412_8949529</th>\n",
       "      <td>ENST00000000412</td>\n",
       "      <td>ENSG00000003056</td>\n",
       "      <td>ENST00000000412_8946404_8949529</td>\n",
       "      <td>8946404</td>\n",
       "      <td>8949529.0</td>\n",
       "      <td>ATG</td>\n",
       "      <td>CTG</td>\n",
       "      <td>-1</td>\n",
       "      <td>162.0</td>\n",
       "      <td>non-AUG</td>\n",
       "      <td>u-oORF</td>\n",
       "      <td>weak</td>\n",
       "      <td>-43.0</td>\n",
       "      <td>26.05631</td>\n",
       "      <td>26.00443</td>\n",
       "    </tr>\n",
       "    <tr>\n",
       "      <th>ENST00000000412_8949563</th>\n",
       "      <td>ENST00000000412</td>\n",
       "      <td>ENSG00000003056</td>\n",
       "      <td>ENST00000000412_8946404_8949563</td>\n",
       "      <td>8946404</td>\n",
       "      <td>8949563.0</td>\n",
       "      <td>ATG</td>\n",
       "      <td>CTG</td>\n",
       "      <td>-1</td>\n",
       "      <td>141.0</td>\n",
       "      <td>non-AUG</td>\n",
       "      <td>u-oORF</td>\n",
       "      <td>weak</td>\n",
       "      <td>-77.0</td>\n",
       "      <td>26.05631</td>\n",
       "      <td>26.00443</td>\n",
       "    </tr>\n",
       "    <tr>\n",
       "      <th>ENST00000000412_8949593</th>\n",
       "      <td>ENST00000000412</td>\n",
       "      <td>ENSG00000003056</td>\n",
       "      <td>ENST00000000412_8946404_8949593</td>\n",
       "      <td>8946404</td>\n",
       "      <td>8949593.0</td>\n",
       "      <td>ATG</td>\n",
       "      <td>CTG</td>\n",
       "      <td>-1</td>\n",
       "      <td>30.0</td>\n",
       "      <td>non-AUG</td>\n",
       "      <td>uORF</td>\n",
       "      <td>strong</td>\n",
       "      <td>-107.0</td>\n",
       "      <td>26.05631</td>\n",
       "      <td>26.00443</td>\n",
       "    </tr>\n",
       "    <tr>\n",
       "      <th>ENST00000000412_8949612</th>\n",
       "      <td>ENST00000000412</td>\n",
       "      <td>ENSG00000003056</td>\n",
       "      <td>ENST00000000412_8946404_8949612</td>\n",
       "      <td>8946404</td>\n",
       "      <td>8949612.0</td>\n",
       "      <td>ATG</td>\n",
       "      <td>CTG</td>\n",
       "      <td>-1</td>\n",
       "      <td>96.0</td>\n",
       "      <td>non-AUG</td>\n",
       "      <td>uORF</td>\n",
       "      <td>strong</td>\n",
       "      <td>-126.0</td>\n",
       "      <td>26.05631</td>\n",
       "      <td>26.00443</td>\n",
       "    </tr>\n",
       "  </tbody>\n",
       "</table>\n",
       "</div>"
      ],
      "text/plain": [
       "                          transcript_stable_ID   gene_stable_ID  \\\n",
       "uTIS.ID                                                           \n",
       "ENST00000000233_127588411      ENST00000000233  ENSG00000004059   \n",
       "ENST00000000412_8949529        ENST00000000412  ENSG00000003056   \n",
       "ENST00000000412_8949563        ENST00000000412  ENSG00000003056   \n",
       "ENST00000000412_8949593        ENST00000000412  ENSG00000003056   \n",
       "ENST00000000412_8949612        ENST00000000412  ENSG00000003056   \n",
       "\n",
       "                                              uORF.CDS.pair_ID  position.aTIS  \\\n",
       "uTIS.ID                                                                         \n",
       "ENST00000000233_127588411  ENST00000000233_127588499_127588411      127588499   \n",
       "ENST00000000412_8949529        ENST00000000412_8946404_8949529        8946404   \n",
       "ENST00000000412_8949563        ENST00000000412_8946404_8949563        8946404   \n",
       "ENST00000000412_8949593        ENST00000000412_8946404_8949593        8946404   \n",
       "ENST00000000412_8949612        ENST00000000412_8946404_8949612        8946404   \n",
       "\n",
       "                           position.uTIS start_codon_aTIS start_codon_uTIS  \\\n",
       "uTIS.ID                                                                      \n",
       "ENST00000000233_127588411    127588411.0              ATG              CTG   \n",
       "ENST00000000412_8949529        8949529.0              ATG              CTG   \n",
       "ENST00000000412_8949563        8949563.0              ATG              CTG   \n",
       "ENST00000000412_8949593        8949593.0              ATG              CTG   \n",
       "ENST00000000412_8949612        8949612.0              ATG              CTG   \n",
       "\n",
       "                           strand  uORF_length_nt uTIS.AUG.or.non_AUG  \\\n",
       "uTIS.ID                                                                 \n",
       "ENST00000000233_127588411       1           264.0             non-AUG   \n",
       "ENST00000000412_8949529        -1           162.0             non-AUG   \n",
       "ENST00000000412_8949563        -1           141.0             non-AUG   \n",
       "ENST00000000412_8949593        -1            30.0             non-AUG   \n",
       "ENST00000000412_8949612        -1            96.0             non-AUG   \n",
       "\n",
       "                          uTIS.class uTIS_Kozak  uTIS_dist_to_aTIS_nt  \\\n",
       "uTIS.ID                                                                 \n",
       "ENST00000000233_127588411     u-oORF       weak                 -88.0   \n",
       "ENST00000000412_8949529       u-oORF       weak                 -43.0   \n",
       "ENST00000000412_8949563       u-oORF       weak                 -77.0   \n",
       "ENST00000000412_8949593         uORF     strong                -107.0   \n",
       "ENST00000000412_8949612         uORF     strong                -126.0   \n",
       "\n",
       "                           LFQ.si.Ctrl.rep1  LFQ.si.Ctrl.rep2  \n",
       "uTIS.ID                                                        \n",
       "ENST00000000233_127588411          29.64103          29.75042  \n",
       "ENST00000000412_8949529            26.05631          26.00443  \n",
       "ENST00000000412_8949563            26.05631          26.00443  \n",
       "ENST00000000412_8949593            26.05631          26.00443  \n",
       "ENST00000000412_8949612            26.05631          26.00443  "
      ]
     },
     "execution_count": 77,
     "metadata": {},
     "output_type": "execute_result"
    }
   ],
   "source": [
    "eif1_df = pd.read_table('/home/cmb-panasas2/wenzhenl/benchmark/real/eif1_real_app_all_data.txt').sort_values(by='transcript_stable_ID')\n",
    "#sorted(eif1_df.columns)\n",
    "eif1_df = eif1_df[['uTIS.ID', 'transcript_stable_ID', 'gene_stable_ID', 'uORF.CDS.pair_ID', 'position.aTIS',\n",
    "                   'position.uTIS', 'start_codon_aTIS', 'start_codon_uTIS', 'strand',\n",
    "                   'uORF_length_nt', 'uTIS.AUG.or.non_AUG', 'uTIS.class', 'uTIS_Kozak', 'uTIS_dist_to_aTIS_nt', 'LFQ.si.Ctrl.rep1',\n",
    "                   'LFQ.si.Ctrl.rep2']]\n",
    "eif1_df = eif1_df[eif1_df['LFQ.si.Ctrl.rep1']>0]\n",
    "eif1_df = eif1_df[eif1_df['LFQ.si.Ctrl.rep2']>0]\n",
    "eif1_df = eif1_df.sort_values(by='uTIS.ID').set_index('uTIS.ID').dropna()\n",
    "eif1_df.head()"
   ]
  },
  {
   "cell_type": "code",
   "execution_count": 249,
   "metadata": {},
   "outputs": [
    {
     "data": {
      "text/plain": [
       "['CTG']"
      ]
     },
     "execution_count": 249,
     "metadata": {},
     "output_type": "execute_result"
    }
   ],
   "source": [
    "127588411\n",
    "# this is first row of the eif1_df table\n",
    "fasta_reader.query(intervals=[Interval('chr7', 127588411, 127588411+2)]) \n"
   ]
  },
  {
   "cell_type": "code",
   "execution_count": 91,
   "metadata": {},
   "outputs": [
    {
     "data": {
      "text/plain": [
       "['AGG']"
      ]
     },
     "execution_count": 91,
     "metadata": {},
     "output_type": "execute_result"
    }
   ],
   "source": [
    "#127588390\n",
    "#\t39280\tENST00000000233.9\tENSG00000004059.10\tprotein_coding\tchr7\t127588345\t127588498\t+\t1\tCCDS,appris_principal_1,basic\t1\tNaN\n",
    "fasta_reader.query(intervals=[Interval('chr7', 127588390, 127588390+2)]) \n"
   ]
  },
  {
   "cell_type": "code",
   "execution_count": 293,
   "metadata": {},
   "outputs": [
    {
     "data": {
      "text/plain": [
       "'CTG'"
      ]
     },
     "execution_count": 293,
     "metadata": {},
     "output_type": "execute_result"
    }
   ],
   "source": [
    "# ENST00000000412_8949529\tENST00000000412\tENSG00000003056\tENST00000000412_8946404_8949529\t8946404\t8949529.0\tATG\tCTG\t-1\t162.0\tnon-AUG\tu-oORF\tw\n",
    "#8949529.0\t\n",
    "##************************\n",
    "fasta_reader.reverse_complement(fasta_reader.query(intervals=[Interval('chr12', 8949529-2, 8949529)])[0] )\n"
   ]
  },
  {
   "cell_type": "code",
   "execution_count": null,
   "metadata": {},
   "outputs": [],
   "source": [
    "re.finditer('')"
   ]
  },
  {
   "cell_type": "code",
   "execution_count": 94,
   "metadata": {},
   "outputs": [
    {
     "data": {
      "text/plain": [
       "['TCCCCCCTCTTAAAACACGATGCCTCCCAGGATGCTAGTGGCACCACTGCCACTGCATTTCCTGTTGGCAGCAGTGAGCAGTGAAAACCGAAGCGGCAGAAGGCAGTGGCAGCAGGCAGTGGCAGCAGGCAGTGGCCCAGGCAGAAATAGCTCCCGCGCGATTCACTGGAGCCTTCCCCGGGCCCTGGTCCCGGCTACCGGGACTCGCGCGTCCGGATCTCAAAAGCGGCAGAGGCCACCGAAGGGACAGGAAGCACTTTGGTCCAGACCACACTCCCGGCACAGTGCGGAAAGAGCCGGCGGGAGCCACTCTGATCCCGGACGCCTCAGCGCCCCCTTGGGCTTGGGCTTGCCCTCGGGCCGGGGAAGGCTGACCGCG']"
      ]
     },
     "execution_count": 94,
     "metadata": {},
     "output_type": "execute_result"
    }
   ],
   "source": [
    "#103532\tENST00000199448.8\tENSG00000086289.11\tprotein_coding\tchr7\t37920561\t37920939\t+\t1\tCCDS,appris_principal_3,basic,upstream_uORF\t1\tupstream_uORF\n",
    "sequence = fasta_reader.query([Interval('chr7', 37920561, 37920939)])\n",
    "sequence"
   ]
  },
  {
   "cell_type": "code",
   "execution_count": null,
   "metadata": {},
   "outputs": [],
   "source": [
    "matches = [match.start(0), ]"
   ]
  },
  {
   "cell_type": "code",
   "execution_count": 102,
   "metadata": {},
   "outputs": [
    {
     "ename": "ValueError",
     "evalue": "invalid literal for int() with base 10: 'ACG'",
     "output_type": "error",
     "traceback": [
      "\u001b[0;31m---------------------------------------------------------------------------\u001b[0m",
      "\u001b[0;31mValueError\u001b[0m                                Traceback (most recent call last)",
      "\u001b[0;32m<ipython-input-102-27d4bdd6693d>\u001b[0m in \u001b[0;36m<module>\u001b[0;34m()\u001b[0m\n\u001b[1;32m      1\u001b[0m \u001b[0mmatches\u001b[0m \u001b[0;34m=\u001b[0m \u001b[0mre\u001b[0m\u001b[0;34m.\u001b[0m\u001b[0mfinditer\u001b[0m\u001b[0;34m(\u001b[0m\u001b[0mre\u001b[0m\u001b[0;34m.\u001b[0m\u001b[0mcompile\u001b[0m\u001b[0;34m(\u001b[0m\u001b[0;34m'|'\u001b[0m\u001b[0;34m.\u001b[0m\u001b[0mjoin\u001b[0m\u001b[0;34m(\u001b[0m\u001b[0mSTART_CODONS\u001b[0m\u001b[0;34m)\u001b[0m\u001b[0;34m)\u001b[0m \u001b[0;34m,\u001b[0m \u001b[0msequence\u001b[0m\u001b[0;34m[\u001b[0m\u001b[0;36m0\u001b[0m\u001b[0;34m]\u001b[0m\u001b[0;34m)\u001b[0m\u001b[0;34m\u001b[0m\u001b[0m\n\u001b[0;32m----> 2\u001b[0;31m \u001b[0mresults\u001b[0m \u001b[0;34m=\u001b[0m \u001b[0;34m[\u001b[0m\u001b[0mint\u001b[0m\u001b[0;34m(\u001b[0m\u001b[0mmatch\u001b[0m\u001b[0;34m.\u001b[0m\u001b[0mgroup\u001b[0m\u001b[0;34m(\u001b[0m\u001b[0;36m0\u001b[0m\u001b[0;34m)\u001b[0m\u001b[0;34m)\u001b[0m \u001b[0;32mfor\u001b[0m \u001b[0mmatch\u001b[0m \u001b[0;32min\u001b[0m \u001b[0mmatches\u001b[0m\u001b[0;34m]\u001b[0m\u001b[0;34m\u001b[0m\u001b[0m\n\u001b[0m",
      "\u001b[0;32m<ipython-input-102-27d4bdd6693d>\u001b[0m in \u001b[0;36m<listcomp>\u001b[0;34m(.0)\u001b[0m\n\u001b[1;32m      1\u001b[0m \u001b[0mmatches\u001b[0m \u001b[0;34m=\u001b[0m \u001b[0mre\u001b[0m\u001b[0;34m.\u001b[0m\u001b[0mfinditer\u001b[0m\u001b[0;34m(\u001b[0m\u001b[0mre\u001b[0m\u001b[0;34m.\u001b[0m\u001b[0mcompile\u001b[0m\u001b[0;34m(\u001b[0m\u001b[0;34m'|'\u001b[0m\u001b[0;34m.\u001b[0m\u001b[0mjoin\u001b[0m\u001b[0;34m(\u001b[0m\u001b[0mSTART_CODONS\u001b[0m\u001b[0;34m)\u001b[0m\u001b[0;34m)\u001b[0m \u001b[0;34m,\u001b[0m \u001b[0msequence\u001b[0m\u001b[0;34m[\u001b[0m\u001b[0;36m0\u001b[0m\u001b[0;34m]\u001b[0m\u001b[0;34m)\u001b[0m\u001b[0;34m\u001b[0m\u001b[0m\n\u001b[0;32m----> 2\u001b[0;31m \u001b[0mresults\u001b[0m \u001b[0;34m=\u001b[0m \u001b[0;34m[\u001b[0m\u001b[0mint\u001b[0m\u001b[0;34m(\u001b[0m\u001b[0mmatch\u001b[0m\u001b[0;34m.\u001b[0m\u001b[0mgroup\u001b[0m\u001b[0;34m(\u001b[0m\u001b[0;36m0\u001b[0m\u001b[0;34m)\u001b[0m\u001b[0;34m)\u001b[0m \u001b[0;32mfor\u001b[0m \u001b[0mmatch\u001b[0m \u001b[0;32min\u001b[0m \u001b[0mmatches\u001b[0m\u001b[0;34m]\u001b[0m\u001b[0;34m\u001b[0m\u001b[0m\n\u001b[0m",
      "\u001b[0;31mValueError\u001b[0m: invalid literal for int() with base 10: 'ACG'"
     ]
    }
   ],
   "source": [
    "matches = re.finditer(re.compile('|'.join(START_CODONS)) , sequence[0])\n",
    "results = [int(match.group(0)) for match in matches]\n"
   ]
  },
  {
   "cell_type": "code",
   "execution_count": 99,
   "metadata": {},
   "outputs": [
    {
     "data": {
      "text/plain": [
       "'ATG|AAG|ACG|ATC|GTG|AGG|ATA|ATT|CTG|TTG'"
      ]
     },
     "execution_count": 99,
     "metadata": {},
     "output_type": "execute_result"
    }
   ],
   "source": [
    "'|'.join(START_CODONS)"
   ]
  },
  {
   "cell_type": "code",
   "execution_count": 105,
   "metadata": {},
   "outputs": [
    {
     "name": "stdout",
     "output_type": "stream",
     "text": [
      "<built-in method groups of _sre.SRE_Match object at 0x2b3e482947e8>\n"
     ]
    }
   ],
   "source": [
    "for match in matches:\n",
    "    print(match.groups)\n",
    "    break"
   ]
  },
  {
   "cell_type": "code",
   "execution_count": 109,
   "metadata": {},
   "outputs": [
    {
     "data": {
      "text/plain": [
       "0"
      ]
     },
     "execution_count": 109,
     "metadata": {},
     "output_type": "execute_result"
    }
   ],
   "source": [
    "match.pos"
   ]
  },
  {
   "cell_type": "code",
   "execution_count": 110,
   "metadata": {},
   "outputs": [
    {
     "data": {
      "text/plain": [
       "['TCCCCCCTCTTAAAACACGATGCCTCCCAGGATGCTAGTGGCACCACTGCCACTGCATTTCCTGTTGGCAGCAGTGAGCAGTGAAAACCGAAGCGGCAGAAGGCAGTGGCAGCAGGCAGTGGCAGCAGGCAGTGGCCCAGGCAGAAATAGCTCCCGCGCGATTCACTGGAGCCTTCCCCGGGCCCTGGTCCCGGCTACCGGGACTCGCGCGTCCGGATCTCAAAAGCGGCAGAGGCCACCGAAGGGACAGGAAGCACTTTGGTCCAGACCACACTCCCGGCACAGTGCGGAAAGAGCCGGCGGGAGCCACTCTGATCCCGGACGCCTCAGCGCCCCCTTGGGCTTGGGCTTGCCCTCGGGCCGGGGAAGGCTGACCGCG']"
      ]
     },
     "execution_count": 110,
     "metadata": {},
     "output_type": "execute_result"
    }
   ],
   "source": [
    "sequence"
   ]
  },
  {
   "cell_type": "code",
   "execution_count": 111,
   "metadata": {},
   "outputs": [],
   "source": [
    "seq = ''.join(START_CODONS)"
   ]
  },
  {
   "cell_type": "code",
   "execution_count": 122,
   "metadata": {},
   "outputs": [
    {
     "data": {
      "text/plain": [
       "'ATGAAGACGATCGTGAGGATAATTCTGTTG'"
      ]
     },
     "execution_count": 122,
     "metadata": {},
     "output_type": "execute_result"
    }
   ],
   "source": [
    "seq"
   ]
  },
  {
   "cell_type": "code",
   "execution_count": 126,
   "metadata": {},
   "outputs": [
    {
     "data": {
      "text/plain": [
       "['ATG', 'AAG', 'ACG', 'ATC', 'GTG', 'AGG', 'ATA', 'ATT', 'CTG', 'TTG']"
      ]
     },
     "execution_count": 126,
     "metadata": {},
     "output_type": "execute_result"
    }
   ],
   "source": [
    "START_CODONS"
   ]
  },
  {
   "cell_type": "code",
   "execution_count": 124,
   "metadata": {},
   "outputs": [],
   "source": [
    "seq = 'ATGATGATGATCGTGAGGATAATTCTGTTG'"
   ]
  },
  {
   "cell_type": "code",
   "execution_count": 135,
   "metadata": {},
   "outputs": [],
   "source": [
    "seq = 'ATTG'"
   ]
  },
  {
   "cell_type": "raw",
   "metadata": {},
   "source": [
    "(?<=...)\n",
    "Matches if the current position in the string is preceded by a match for ... that ends at the current position. This is called a positive lookbehind assertion. (?<=abc)def will find a match in 'abcdef', since the lookbehind will back up 3 characters and check if the contained pattern matches. The contained pattern must only match strings of some fixed length, meaning that abc or a|b are allowed, but a* and a{3,4} are not. Note that patterns which start with positive lookbehind assertions will not match at the beginning of the string being searched; you will most likely want to use the search() function rather than the match() function:"
   ]
  },
  {
   "cell_type": "code",
   "execution_count": 147,
   "metadata": {},
   "outputs": [
    {
     "name": "stdout",
     "output_type": "stream",
     "text": [
      " 0 ATT\n",
      " 1 TTG\n"
     ]
    }
   ],
   "source": [
    "matches = re.finditer(r\"(?=({}))\".format('|'.join(START_CODONS)) , seq)\n",
    "#'ATTG'\n",
    "#matches = re.finditer(r\"(?=(ATT|TTG))\", seq)\n",
    "for match in matches:\n",
    "    print (match.start(0), match.group(1))"
   ]
  },
  {
   "cell_type": "code",
   "execution_count": 148,
   "metadata": {},
   "outputs": [],
   "source": [
    "seq = 'ATTGATTGTTGTG'"
   ]
  },
  {
   "cell_type": "code",
   "execution_count": 150,
   "metadata": {},
   "outputs": [
    {
     "name": "stdout",
     "output_type": "stream",
     "text": [
      "1 ATT\n",
      "2 TTG\n",
      "5 ATT\n",
      "6 TTG\n",
      "9 TTG\n",
      "11 GTG\n"
     ]
    }
   ],
   "source": [
    "seq = 'ATTGATTGTTGTG'\n",
    "matches = re.finditer(r\"(?=({}))\".format('|'.join(START_CODONS)) , seq)\n",
    "#'ATTG'\n",
    "#matches = re.finditer(r\"(?=(ATT|TTG))\", seq)\n",
    "for match in matches:\n",
    "    print (1+match.start(0), match.group(1))"
   ]
  },
  {
   "cell_type": "code",
   "execution_count": 152,
   "metadata": {},
   "outputs": [
    {
     "name": "stdout",
     "output_type": "stream",
     "text": [
      "0 ATT\n",
      "4 ATT\n",
      "8 TTG\n"
     ]
    }
   ],
   "source": [
    "seq = 'ATTGATTGTTGTG'\n",
    "matches = re.finditer(re.compile('|'.join(START_CODONS)) , seq)\n",
    "#'ATTG'\n",
    "#matches = re.finditer(r\"(?=(ATT|TTG))\", seq)\n",
    "for match in matches:\n",
    "    print (match.start(0), match.group(0))"
   ]
  },
  {
   "cell_type": "markdown",
   "metadata": {},
   "source": [
    "# So look ahead is required for finding overlapping matches"
   ]
  },
  {
   "cell_type": "code",
   "execution_count": 154,
   "metadata": {},
   "outputs": [
    {
     "name": "stdout",
     "output_type": "stream",
     "text": [
      "16 ACG\n",
      "19 ATG\n",
      "28 AGG\n",
      "31 ATG\n",
      "37 GTG\n",
      "46 CTG\n",
      "52 CTG\n",
      "56 ATT\n",
      "61 CTG\n",
      "64 TTG\n",
      "73 GTG\n",
      "80 GTG\n",
      "90 AAG\n",
      "99 AAG\n",
      "105 GTG\n",
      "113 AGG\n",
      "118 GTG\n",
      "126 AGG\n",
      "131 GTG\n",
      "138 AGG\n",
      "146 ATA\n",
      "160 ATT\n",
      "165 CTG\n",
      "184 CTG\n",
      "216 ATC\n",
      "223 AAG\n",
      "232 AGG\n",
      "241 AAG\n",
      "248 AGG\n",
      "251 AAG\n",
      "258 TTG\n",
      "284 GTG\n",
      "291 AAG\n",
      "311 CTG\n",
      "314 ATC\n",
      "321 ACG\n",
      "337 TTG\n",
      "343 TTG\n",
      "349 TTG\n",
      "366 AAG\n",
      "370 CTG\n"
     ]
    }
   ],
   "source": [
    "matches = re.finditer(re.compile('|'.join(START_CODONS)) , sequence[0])\n",
    "#'ATTG'\n",
    "#matches = re.finditer(r\"(?=(ATT|TTG))\", seq)\n",
    "for match in matches:\n",
    "    print (match.start(0), match.group(0))"
   ]
  },
  {
   "cell_type": "code",
   "execution_count": 156,
   "metadata": {},
   "outputs": [
    {
     "name": "stdout",
     "output_type": "stream",
     "text": [
      "16 ACG\n",
      "19 ATG\n",
      "28 AGG\n",
      "31 ATG\n",
      "37 GTG\n",
      "46 CTG\n",
      "52 CTG\n",
      "56 ATT\n",
      "61 CTG\n",
      "64 TTG\n",
      "73 GTG\n",
      "80 GTG\n",
      "90 AAG\n",
      "99 AAG\n",
      "100 AGG\n",
      "105 GTG\n",
      "113 AGG\n",
      "118 GTG\n",
      "126 AGG\n",
      "131 GTG\n",
      "138 AGG\n",
      "146 ATA\n",
      "160 ATT\n",
      "165 CTG\n",
      "184 CTG\n",
      "216 ATC\n",
      "223 AAG\n",
      "232 AGG\n",
      "241 AAG\n",
      "242 AGG\n",
      "248 AGG\n",
      "251 AAG\n",
      "258 TTG\n",
      "284 GTG\n",
      "291 AAG\n",
      "311 CTG\n",
      "314 ATC\n",
      "321 ACG\n",
      "337 TTG\n",
      "343 TTG\n",
      "349 TTG\n",
      "366 AAG\n",
      "367 AGG\n",
      "370 CTG\n"
     ]
    }
   ],
   "source": [
    "matches = re.finditer(r\"(?=({}))\".format('|'.join(START_CODONS)) , sequence[0])\n",
    "#'ATTG'\n",
    "#matches = re.finditer(r\"(?=(ATT|TTG))\", seq)\n",
    "for match in matches:\n",
    "    print (match.start(0), match.group(1))"
   ]
  },
  {
   "cell_type": "code",
   "execution_count": 185,
   "metadata": {},
   "outputs": [],
   "source": [
    "def find_matches(string, list_of_codons):\n",
    "    \"\"\"Returns 0-based positions\"\"\"\n",
    "    matches = re.finditer(re.compile('|'.join(list_of_codons)) , string)\n",
    "    matching_positions = OrderedDict()\n",
    "    for match in matches:\n",
    "        matching_positions[match.start(0)] = match.group(0)\n",
    "    return matching_positions"
   ]
  },
  {
   "cell_type": "code",
   "execution_count": 248,
   "metadata": {},
   "outputs": [
    {
     "data": {
      "text/plain": [
       "['ACGGGGGCGGGCCCGCGGTGACGTCGGGAGGGCAGCGACGCGCGGAGGCGGCGGCGGAGCCTCCTCCTGCTGCTGCTGCGCCCCATCCCCCCGCGGCCGGCCAGTTCCAGCCCGCACCCCGCGTCGGTGCCCGCGCCCCTCCCCGGGCCCCGCC']"
      ]
     },
     "execution_count": 248,
     "metadata": {},
     "output_type": "execute_result"
    }
   ],
   "source": [
    "fasta_reader.query([Interval('chr7', 127588345, 127588498)])"
   ]
  },
  {
   "cell_type": "code",
   "execution_count": 250,
   "metadata": {},
   "outputs": [
    {
     "data": {
      "text/plain": [
       "['ACGGGGGCGGGCCCGCGGTGACGTCGGGAGGGCAGCGACGCGCGGAGGCGGCGGCGGAGCCTCCTCCTGCTGCTGCTGCGCCCCATCCCCCCGCGGCCGGCCAGTTCCAGCCCGCACCCCGCGTCGGTGCCCGCGCCCCTCCCCGGGCCCCGCC']"
      ]
     },
     "execution_count": 250,
     "metadata": {},
     "output_type": "execute_result"
    }
   ],
   "source": [
    "fasta_reader.query([Interval('chr7', 127588345, 127588498)])"
   ]
  },
  {
   "cell_type": "code",
   "execution_count": 251,
   "metadata": {},
   "outputs": [],
   "source": [
    "sequence = fasta_reader.query([Interval('chr7', 127588345, 127588498)])\n",
    "start_codon_matches = find_matches(sequence[0], START_CODONS)\n",
    "stop_codon_matches = find_matches(sequence[0], STOP_CODONS)"
   ]
  },
  {
   "cell_type": "code",
   "execution_count": 252,
   "metadata": {},
   "outputs": [],
   "source": []
  },
  {
   "cell_type": "code",
   "execution_count": 253,
   "metadata": {},
   "outputs": [],
   "source": [
    "stop_codon_matches_framewise = OrderedDict()\n",
    "for frame in [0,1,2]:\n",
    "    stop_codon_matches_framewise[frame] = list(filter(lambda x: x[0]%3 ==frame, stop_codon_matches.items()))"
   ]
  },
  {
   "cell_type": "code",
   "execution_count": 254,
   "metadata": {},
   "outputs": [
    {
     "data": {
      "text/plain": [
       "OrderedDict([(0, [(18, 'TGA')]), (1, []), (2, [])])"
      ]
     },
     "execution_count": 254,
     "metadata": {},
     "output_type": "execute_result"
    }
   ],
   "source": [
    "stop_codon_matches_framewise"
   ]
  },
  {
   "cell_type": "code",
   "execution_count": 255,
   "metadata": {},
   "outputs": [
    {
     "data": {
      "text/plain": [
       "222"
      ]
     },
     "execution_count": 255,
     "metadata": {},
     "output_type": "execute_result"
    }
   ],
   "source": [
    "312-90"
   ]
  },
  {
   "cell_type": "code",
   "execution_count": 256,
   "metadata": {},
   "outputs": [
    {
     "data": {
      "text/plain": [
       "OrderedDict([(0,\n",
       "              [(0, 'ACG'),\n",
       "               (45, 'AGG'),\n",
       "               (66, 'CTG'),\n",
       "               (69, 'CTG'),\n",
       "               (72, 'CTG'),\n",
       "               (75, 'CTG'),\n",
       "               (84, 'ATC'),\n",
       "               (126, 'GTG')]),\n",
       "             (1, [(28, 'AGG'), (37, 'ACG')]),\n",
       "             (2, [(17, 'GTG'), (20, 'ACG')])])"
      ]
     },
     "execution_count": 256,
     "metadata": {},
     "output_type": "execute_result"
    }
   ],
   "source": [
    "start_codon_matches_framewise"
   ]
  },
  {
   "cell_type": "code",
   "execution_count": 335,
   "metadata": {},
   "outputs": [],
   "source": [
    "def find_candidate_orfs(start_codon_matches, stop_codon_matches):\n",
    "    start_codon_matches_framewise = OrderedDict()\n",
    "    for frame in [0,1,2]:\n",
    "        start_codon_matches_framewise[frame] = list(filter(lambda x: x[0]%3 ==frame, start_codon_matches.items()))\n",
    "    stop_codon_matches_framewise = OrderedDict()\n",
    "    \n",
    "    for frame in [0,1,2]:\n",
    "        stop_codon_matches_framewise[frame] = list(filter(lambda x: x[0]%3 ==frame, stop_codon_matches.items()))\n",
    "        \n",
    "    candidate_orfs = OrderedDict()\n",
    "    candidate_orfs['starts'] = []\n",
    "    candidate_orfs['stops'] = []\n",
    "\n",
    "    for frame in start_codon_matches_framewise.keys() & start_codon_matches_framewise.keys():\n",
    "        start_list = start_codon_matches_framewise[frame]\n",
    "        stop_list = stop_codon_matches_framewise[frame]\n",
    "\n",
    "        # For each start_codon, find the first stop codon it would encounter\n",
    "        # We assume that once a stop codon is encountered, it would not be \n",
    "        # read through, at least not in the uORF\n",
    "\n",
    "        for start_index, start_codon in start_list:\n",
    "            for stop_index, stop_codon in stop_list:\n",
    "                # Assume sequence coordinates, so strand etc already \n",
    "                # have been accounted for\n",
    "                if stop_index-start_index>0:\n",
    "                    candidate_orfs['starts'].append((start_index, start_codon, frame, stop_index-start_index))\n",
    "                    candidate_orfs['stops'].append((stop_index, start_codon, frame, stop_index-start_index))\n",
    "                    #break\n",
    "\n",
    "    return candidate_orfs\n",
    "    \n"
   ]
  },
  {
   "cell_type": "code",
   "execution_count": 258,
   "metadata": {},
   "outputs": [
    {
     "data": {
      "text/plain": [
       "'ACGGGGGCGGGCCCGCGGTGACGTCGGGAGGGCAGCGACGCGCGGAGGCGGCGGCGGAGCCTCCTCCTGCTGCTGCTGCGCCCCATCCCCCCGCGGCCGGCCAGTTCCAGCCCGCACCCCGCGTCGGTGCCCGCGCCCCTCCCCGGGCCCCGCC'"
      ]
     },
     "execution_count": 258,
     "metadata": {},
     "output_type": "execute_result"
    }
   ],
   "source": [
    "sequence[0]"
   ]
  },
  {
   "cell_type": "code",
   "execution_count": 259,
   "metadata": {},
   "outputs": [
    {
     "data": {
      "text/plain": [
       "OrderedDict([(0, 'ACG'),\n",
       "             (17, 'GTG'),\n",
       "             (20, 'ACG'),\n",
       "             (28, 'AGG'),\n",
       "             (37, 'ACG'),\n",
       "             (45, 'AGG'),\n",
       "             (66, 'CTG'),\n",
       "             (69, 'CTG'),\n",
       "             (72, 'CTG'),\n",
       "             (75, 'CTG'),\n",
       "             (84, 'ATC'),\n",
       "             (126, 'GTG')])"
      ]
     },
     "execution_count": 259,
     "metadata": {},
     "output_type": "execute_result"
    }
   ],
   "source": [
    "start_codon_matches"
   ]
  },
  {
   "cell_type": "code",
   "execution_count": 260,
   "metadata": {},
   "outputs": [
    {
     "data": {
      "text/plain": [
       "OrderedDict([(0,\n",
       "              [(0, 'ACG'),\n",
       "               (45, 'AGG'),\n",
       "               (66, 'CTG'),\n",
       "               (69, 'CTG'),\n",
       "               (72, 'CTG'),\n",
       "               (75, 'CTG'),\n",
       "               (84, 'ATC'),\n",
       "               (126, 'GTG')]),\n",
       "             (1, [(28, 'AGG'), (37, 'ACG')]),\n",
       "             (2, [(17, 'GTG'), (20, 'ACG')])])"
      ]
     },
     "execution_count": 260,
     "metadata": {},
     "output_type": "execute_result"
    }
   ],
   "source": [
    "start_codon_matches_framewise"
   ]
  },
  {
   "cell_type": "code",
   "execution_count": 261,
   "metadata": {},
   "outputs": [
    {
     "data": {
      "text/plain": [
       "OrderedDict([(0, [(18, 'TGA')]), (1, []), (2, [])])"
      ]
     },
     "execution_count": 261,
     "metadata": {},
     "output_type": "execute_result"
    }
   ],
   "source": [
    "stop_codon_matches_framewise"
   ]
  },
  {
   "cell_type": "code",
   "execution_count": 262,
   "metadata": {},
   "outputs": [],
   "source": [
    "# Now select the most upstream start codon which is the smallest?"
   ]
  },
  {
   "cell_type": "code",
   "execution_count": 263,
   "metadata": {},
   "outputs": [
    {
     "data": {
      "text/plain": [
       "OrderedDict([('starts', [(0, 'ACG', 0, 18)]), ('stops', [(18, 'ACG', 0, 18)])])"
      ]
     },
     "execution_count": 263,
     "metadata": {},
     "output_type": "execute_result"
    }
   ],
   "source": [
    "candidate_orfs"
   ]
  },
  {
   "cell_type": "code",
   "execution_count": 264,
   "metadata": {},
   "outputs": [],
   "source": [
    "tx_start = 127588345\n",
    "eif1_df_start = 127588411\n",
    "ribocop_start = 127588390"
   ]
  },
  {
   "cell_type": "code",
   "execution_count": 265,
   "metadata": {},
   "outputs": [
    {
     "data": {
      "text/plain": [
       "['AAG', 'ACG', 'AGG', 'ATA', 'ATC', 'ATG', 'ATT', 'CTG', 'GTG', 'TTG']"
      ]
     },
     "execution_count": 265,
     "metadata": {},
     "output_type": "execute_result"
    }
   ],
   "source": [
    "sorted(START_CODONS)"
   ]
  },
  {
   "cell_type": "code",
   "execution_count": 266,
   "metadata": {},
   "outputs": [
    {
     "data": {
      "text/plain": [
       "[127588345]"
      ]
     },
     "execution_count": 266,
     "metadata": {},
     "output_type": "execute_result"
    }
   ],
   "source": [
    "sorted([tx_start + x[0] for x in candidate_orfs['starts']])"
   ]
  },
  {
   "cell_type": "code",
   "execution_count": 270,
   "metadata": {},
   "outputs": [
    {
     "data": {
      "text/plain": [
       "[(127588345, 'ACG'),\n",
       " (127588362, 'GTG'),\n",
       " (127588365, 'ACG'),\n",
       " (127588373, 'AGG'),\n",
       " (127588382, 'ACG'),\n",
       " (127588390, 'AGG'),\n",
       " (127588411, 'CTG'),\n",
       " (127588414, 'CTG'),\n",
       " (127588417, 'CTG'),\n",
       " (127588420, 'CTG'),\n",
       " (127588429, 'ATC'),\n",
       " (127588471, 'GTG')]"
      ]
     },
     "execution_count": 270,
     "metadata": {},
     "output_type": "execute_result"
    }
   ],
   "source": [
    "\n",
    "sorted([(tx_start + x, y) for x,y in start_codon_matches.items()])"
   ]
  },
  {
   "cell_type": "code",
   "execution_count": 271,
   "metadata": {},
   "outputs": [
    {
     "data": {
      "text/plain": [
       "[(127588363, 'TGA')]"
      ]
     },
     "execution_count": 271,
     "metadata": {},
     "output_type": "execute_result"
    }
   ],
   "source": [
    "sorted([(tx_start + x, y) for x,y in stop_codon_matches.items()])"
   ]
  },
  {
   "cell_type": "code",
   "execution_count": 269,
   "metadata": {},
   "outputs": [
    {
     "data": {
      "text/plain": [
       "'ACGGGGGCGGGCCCGCGGTGACGTCGGGAGGGCAGCGACGCGCGGAGGCGGCGGCGGAGCCTCCTCCTGCTGCTGCTGCGCCCCATCCCCCCGCGGCCGGCCAGTTCCAGCCCGCACCCCGCGTCGGTGCCCGCGCCCCTCCCCGGGCCCCGCC'"
      ]
     },
     "execution_count": 269,
     "metadata": {},
     "output_type": "execute_result"
    }
   ],
   "source": [
    "sequence = fasta_reader.query([Interval('chr7', 127588345, 127588498)])\n",
    "sequence[0]"
   ]
  },
  {
   "cell_type": "code",
   "execution_count": 272,
   "metadata": {},
   "outputs": [
    {
     "data": {
      "text/plain": [
       "['TAG', 'TAA', 'TGA']"
      ]
     },
     "execution_count": 272,
     "metadata": {},
     "output_type": "execute_result"
    }
   ],
   "source": [
    "STOP_CODONS"
   ]
  },
  {
   "cell_type": "code",
   "execution_count": 274,
   "metadata": {},
   "outputs": [
    {
     "data": {
      "text/plain": [
       "False"
      ]
     },
     "execution_count": 274,
     "metadata": {},
     "output_type": "execute_result"
    }
   ],
   "source": [
    "'TTT' in sequence[0]"
   ]
  },
  {
   "cell_type": "code",
   "execution_count": 281,
   "metadata": {},
   "outputs": [
    {
     "data": {
      "text/plain": [
       "'GTTTCATTCTATTGGCACGAATAAATATAGGAGGTATTATTCTTTAAAAAAATGATTGTACTAGTTAGGGACCACAAAAAGCAAAGCAGTGAGAATAAATGTTATGAGGATATTTTAAATCCAAGAGAAGAACTGGCTTGGTTGATTGTCAGGAATAGTCTGTGCGTAAAGAGGAGTGGTTCCTAATGAGGATGGATGTATCACCTAACTATATACGAAACGGCAGTGGCAAGGAAGAAATTGTGATGCATGTAGAGACCCTTTTCTTTGAACGATGCCTGTTCTAAGCCTATGTTTGAAGCCAATAAAAAGCATTCTACTATGTATTGTACAATAAGTAAAATGGCATGATGGAAACAAATATCATCAAGCTATAAGAAGCCAGAAATTGTGAGTTCTTTTGTTTTCCAAACAAAAGAATCTTTCACTGTCCAAATGTGTGACAAGCAGACACTACATTTTTTACTC'"
      ]
     },
     "execution_count": 281,
     "metadata": {},
     "output_type": "execute_result"
    }
   ],
   "source": [
    "sequence = fasta_reader.reverse_complement(fasta_reader.query([Interval('chr7', 8949488, 8949955)])[0])\n",
    "sequence"
   ]
  },
  {
   "cell_type": "code",
   "execution_count": 282,
   "metadata": {},
   "outputs": [],
   "source": [
    "start_codon_matches = find_matches(sequence, START_CODONS)\n",
    "stop_codon_matches = find_matches(sequence, STOP_CODONS)\n",
    "candidate_orfs = find_candidate_orfs(start_codon_matches, stop_codon_matches)"
   ]
  },
  {
   "cell_type": "code",
   "execution_count": 284,
   "metadata": {},
   "outputs": [],
   "source": []
  },
  {
   "cell_type": "code",
   "execution_count": 285,
   "metadata": {},
   "outputs": [
    {
     "data": {
      "text/plain": [
       "OrderedDict([('starts',\n",
       "              [(24, 'ATA', 0, 3),\n",
       "               (51, 'ATG', 0, 132),\n",
       "               (54, 'ATT', 0, 129),\n",
       "               (66, 'AGG', 0, 117),\n",
       "               (78, 'AAG', 0, 105),\n",
       "               (132, 'CTG', 0, 51),\n",
       "               (141, 'TTG', 0, 42),\n",
       "               (144, 'ATT', 0, 39),\n",
       "               (150, 'AGG', 0, 33),\n",
       "               (159, 'CTG', 0, 24),\n",
       "               (168, 'AAG', 0, 15),\n",
       "               (171, 'AGG', 0, 12),\n",
       "               (195, 'ATG', 0, 48),\n",
       "               (210, 'ATA', 0, 33),\n",
       "               (219, 'ACG', 0, 24),\n",
       "               (225, 'GTG', 0, 18),\n",
       "               (234, 'AAG', 0, 9),\n",
       "               (249, 'ATG', 0, 3),\n",
       "               (267, 'TTG', 0, 81),\n",
       "               (285, 'AAG', 0, 63),\n",
       "               (291, 'ATG', 0, 57),\n",
       "               (309, 'AAG', 0, 39),\n",
       "               (321, 'ATG', 0, 27),\n",
       "               (333, 'ATA', 0, 15),\n",
       "               (342, 'ATG', 0, 6),\n",
       "               (10, 'ATT', 1, 42),\n",
       "               (16, 'ACG', 1, 36),\n",
       "               (28, 'AGG', 1, 24),\n",
       "               (31, 'AGG', 1, 21),\n",
       "               (88, 'GTG', 1, 27),\n",
       "               (94, 'ATA', 1, 21),\n",
       "               (103, 'ATG', 1, 12),\n",
       "               (106, 'AGG', 1, 9),\n",
       "               (109, 'ATA', 1, 6),\n",
       "               (118, 'ATC', 1, 24),\n",
       "               (127, 'AAG', 1, 15),\n",
       "               (154, 'ATA', 1, 12),\n",
       "               (175, 'GTG', 1, 30),\n",
       "               (199, 'ATC', 1, 6),\n",
       "               (214, 'ACG', 1, 54),\n",
       "               (271, 'ACG', 1, 63),\n",
       "               (274, 'ATG', 1, 60),\n",
       "               (295, 'TTG', 1, 39),\n",
       "               (298, 'AAG', 1, 36),\n",
       "               (304, 'ATA', 1, 30),\n",
       "               (313, 'ATT', 1, 21),\n",
       "               (325, 'ATT', 1, 9),\n",
       "               (373, 'ATA', 1, 18),\n",
       "               (5, 'ATT', 2, 39),\n",
       "               (20, 'ATA', 2, 24),\n",
       "               (35, 'ATT', 2, 9),\n",
       "               (38, 'ATT', 2, 6),\n",
       "               (83, 'AAG', 2, 6),\n",
       "               (98, 'ATG', 2, 6),\n",
       "               (122, 'AAG', 2, 33),\n",
       "               (137, 'TTG', 2, 18),\n",
       "               (185, 'ATG', 2, 99),\n",
       "               (188, 'AGG', 2, 96),\n",
       "               (191, 'ATG', 2, 93),\n",
       "               (230, 'AAG', 2, 54),\n",
       "               (239, 'ATT', 2, 45),\n",
       "               (242, 'GTG', 2, 42),\n",
       "               (245, 'ATG', 2, 39),\n",
       "               (278, 'CTG', 2, 6),\n",
       "               (347, 'ATG', 2, 27),\n",
       "               (350, 'ATG', 2, 24),\n",
       "               (365, 'ATC', 2, 9),\n",
       "               (368, 'AAG', 2, 6),\n",
       "               (419, 'ATC', 2, 21)]),\n",
       "             ('stops',\n",
       "              [(27, 'ATA', 0, 3),\n",
       "               (183, 'ATG', 0, 132),\n",
       "               (183, 'ATT', 0, 129),\n",
       "               (183, 'AGG', 0, 117),\n",
       "               (183, 'AAG', 0, 105),\n",
       "               (183, 'CTG', 0, 51),\n",
       "               (183, 'TTG', 0, 42),\n",
       "               (183, 'ATT', 0, 39),\n",
       "               (183, 'AGG', 0, 33),\n",
       "               (183, 'CTG', 0, 24),\n",
       "               (183, 'AAG', 0, 15),\n",
       "               (183, 'AGG', 0, 12),\n",
       "               (243, 'ATG', 0, 48),\n",
       "               (243, 'ATA', 0, 33),\n",
       "               (243, 'ACG', 0, 24),\n",
       "               (243, 'GTG', 0, 18),\n",
       "               (243, 'AAG', 0, 9),\n",
       "               (252, 'ATG', 0, 3),\n",
       "               (348, 'TTG', 0, 81),\n",
       "               (348, 'AAG', 0, 63),\n",
       "               (348, 'ATG', 0, 57),\n",
       "               (348, 'AAG', 0, 39),\n",
       "               (348, 'ATG', 0, 27),\n",
       "               (348, 'ATA', 0, 15),\n",
       "               (348, 'ATG', 0, 6),\n",
       "               (52, 'ATT', 1, 42),\n",
       "               (52, 'ACG', 1, 36),\n",
       "               (52, 'AGG', 1, 24),\n",
       "               (52, 'AGG', 1, 21),\n",
       "               (115, 'GTG', 1, 27),\n",
       "               (115, 'ATA', 1, 21),\n",
       "               (115, 'ATG', 1, 12),\n",
       "               (115, 'AGG', 1, 9),\n",
       "               (115, 'ATA', 1, 6),\n",
       "               (142, 'ATC', 1, 24),\n",
       "               (142, 'AAG', 1, 15),\n",
       "               (166, 'ATA', 1, 12),\n",
       "               (205, 'GTG', 1, 30),\n",
       "               (205, 'ATC', 1, 6),\n",
       "               (268, 'ACG', 1, 54),\n",
       "               (334, 'ACG', 1, 63),\n",
       "               (334, 'ATG', 1, 60),\n",
       "               (334, 'TTG', 1, 39),\n",
       "               (334, 'AAG', 1, 36),\n",
       "               (334, 'ATA', 1, 30),\n",
       "               (334, 'ATT', 1, 21),\n",
       "               (334, 'ATT', 1, 9),\n",
       "               (391, 'ATA', 1, 18),\n",
       "               (44, 'ATT', 2, 39),\n",
       "               (44, 'ATA', 2, 24),\n",
       "               (44, 'ATT', 2, 9),\n",
       "               (44, 'ATT', 2, 6),\n",
       "               (89, 'AAG', 2, 6),\n",
       "               (104, 'ATG', 2, 6),\n",
       "               (155, 'AAG', 2, 33),\n",
       "               (155, 'TTG', 2, 18),\n",
       "               (284, 'ATG', 2, 99),\n",
       "               (284, 'AGG', 2, 96),\n",
       "               (284, 'ATG', 2, 93),\n",
       "               (284, 'AAG', 2, 54),\n",
       "               (284, 'ATT', 2, 45),\n",
       "               (284, 'GTG', 2, 42),\n",
       "               (284, 'ATG', 2, 39),\n",
       "               (284, 'CTG', 2, 6),\n",
       "               (374, 'ATG', 2, 27),\n",
       "               (374, 'ATG', 2, 24),\n",
       "               (374, 'ATC', 2, 9),\n",
       "               (374, 'AAG', 2, 6),\n",
       "               (440, 'ATC', 2, 21)])])"
      ]
     },
     "execution_count": 285,
     "metadata": {},
     "output_type": "execute_result"
    }
   ],
   "source": [
    "candidate_orfs"
   ]
  },
  {
   "cell_type": "code",
   "execution_count": 296,
   "metadata": {},
   "outputs": [
    {
     "data": {
      "text/plain": [
       "'TCCC'"
      ]
     },
     "execution_count": 296,
     "metadata": {},
     "output_type": "execute_result"
    }
   ],
   "source": [
    "fasta_reader.reverse_complement(fasta_reader.query([Interval('chr12', 8949498-3, 8949498)])[0])"
   ]
  },
  {
   "cell_type": "code",
   "execution_count": 299,
   "metadata": {},
   "outputs": [
    {
     "data": {
      "text/plain": [
       "'TTG'"
      ]
     },
     "execution_count": 299,
     "metadata": {},
     "output_type": "execute_result"
    }
   ],
   "source": [
    "\n",
    "fasta_reader.reverse_complement(fasta_reader.query([Interval('chr12', 8949513-2, 8949513)])[0])"
   ]
  },
  {
   "cell_type": "code",
   "execution_count": 300,
   "metadata": {},
   "outputs": [
    {
     "data": {
      "text/plain": [
       "'CTG'"
      ]
     },
     "execution_count": 300,
     "metadata": {},
     "output_type": "execute_result"
    }
   ],
   "source": [
    "fasta_reader.reverse_complement(fasta_reader.query([Interval('chr12', 8949612-2, 8949612)])[0])"
   ]
  },
  {
   "cell_type": "code",
   "execution_count": 306,
   "metadata": {},
   "outputs": [
    {
     "data": {
      "text/plain": [
       "'GGGAGCG'"
      ]
     },
     "execution_count": 306,
     "metadata": {},
     "output_type": "execute_result"
    }
   ],
   "source": [
    "\n",
    "fasta_reader.reverse_complement(fasta_reader.query([Interval('chr12', 8949950-3, 8949950+3)])[0])"
   ]
  },
  {
   "cell_type": "code",
   "execution_count": 307,
   "metadata": {},
   "outputs": [
    {
     "data": {
      "text/plain": [
       "'CGCTCCC'"
      ]
     },
     "execution_count": 307,
     "metadata": {},
     "output_type": "execute_result"
    }
   ],
   "source": [
    "fasta_reader.query([Interval('chr12', 8949950-3, 8949950+3)])[0]"
   ]
  },
  {
   "cell_type": "code",
   "execution_count": 308,
   "metadata": {},
   "outputs": [
    {
     "data": {
      "text/plain": [
       "'GTTTCATTCTATTGGCACGAATAAATATAGGAGGTATTATTCTTTAAAAAAATGATTGTACTAGTTAGGGACCACAAAAAGCAAAGCAGTGAGAATAAATGTTATGAGGATATTTTAAATCCAAGAGAAGAACTGGCTTGGTTGATTGTCAGGAATAGTCTGTGCGTAAAGAGGAGTGGTTCCTAATGAGGATGGATGTATCACCTAACTATATACGAAACGGCAGTGGCAAGGAAGAAATTGTGATGCATGTAGAGACCCTTTTCTTTGAACGATGCCTGTTCTAAGCCTATGTTTGAAGCCAATAAAAAGCATTCTACTATGTATTGTACAATAAGTAAAATGGCATGATGGAAACAAATATCATCAAGCTATAAGAAGCCAGAAATTGTGAGTTCTTTTGTTTTCCAAACAAAAGAATCTTTCACTGTCCAAATGTGTGACAAGCAGACACTACATTTTTTACTC'"
      ]
     },
     "execution_count": 308,
     "metadata": {},
     "output_type": "execute_result"
    }
   ],
   "source": [
    "sequence"
   ]
  },
  {
   "cell_type": "code",
   "execution_count": null,
   "metadata": {},
   "outputs": [],
   "source": [
    "tx_start = 8949488\n",
    "tx_end = 8949955"
   ]
  },
  {
   "cell_type": "code",
   "execution_count": 322,
   "metadata": {},
   "outputs": [
    {
     "data": {
      "text/plain": [
       "468"
      ]
     },
     "execution_count": 322,
     "metadata": {},
     "output_type": "execute_result"
    }
   ],
   "source": [
    "sequence = fasta_reader.reverse_complement(fasta_reader.query([Interval('chr12', 8949488, 8949955)])[0])\n",
    "\n",
    "len(sequence)"
   ]
  },
  {
   "cell_type": "code",
   "execution_count": 323,
   "metadata": {},
   "outputs": [
    {
     "data": {
      "text/plain": [
       "'CCGGGAGCGGTCAGGCGCGTGACCCCGCGTGACCGGGGTGCGCGAGCCGAGAGGCCCTGGAAGCGGGACTCTGGGACCCCATTGAAAGAAAGGCAACCAGAAAAGGCGAAACGACAACCTCGATAGTGATTGGAGCTGATGGAACGAGGGCGGAGCTAAAGTCCCAGAATACTGGCCAATCAGAGTTTAAGATTATCAGGGAGCCCGGGAAGGGGAAAGGGGCGAAATGGTTCTATGGTCACATGCCGCGGGGTCTGGTGGGAGGAGCGGTTGCCCAGCGGCCTCTTGGCGCTTCCTGTTTCCGGTTCCCAGAGTGGGGCACAGCGAGGCGCTAGGGGGAACGCTGGCCTCTGAAACTAGCTCTGGGACCGGGGTCTGCGGCCGGCCCCTAGCTGGCCCCGTCTCCCATCCCCAGAAGGGTATTCACTGGGGATTCTGAGCTTTGGCTACTCCAGTTTCCCACGACAC'"
      ]
     },
     "execution_count": 323,
     "metadata": {},
     "output_type": "execute_result"
    }
   ],
   "source": [
    "sequence"
   ]
  },
  {
   "cell_type": "code",
   "execution_count": 324,
   "metadata": {},
   "outputs": [
    {
     "data": {
      "text/plain": [
       "'CCG'"
      ]
     },
     "execution_count": 324,
     "metadata": {},
     "output_type": "execute_result"
    }
   ],
   "source": [
    "fasta_reader.reverse_complement(fasta_reader.query([Interval('chr12', 8949955-2, 8949955)])[0])"
   ]
  },
  {
   "cell_type": "code",
   "execution_count": 325,
   "metadata": {},
   "outputs": [
    {
     "data": {
      "text/plain": [
       "'GGC'"
      ]
     },
     "execution_count": 325,
     "metadata": {},
     "output_type": "execute_result"
    }
   ],
   "source": [
    "fasta_reader.query([Interval('chr12', 8949955-2, 8949955)])[0][::-1]"
   ]
  },
  {
   "cell_type": "code",
   "execution_count": 336,
   "metadata": {},
   "outputs": [],
   "source": [
    "sequence = fasta_reader.reverse_complement(fasta_reader.query([Interval('chr12', 8949488, 8949955)])[0])\n",
    "\n",
    "start_codon_matches = find_matches(sequence, START_CODONS)\n",
    "stop_codon_matches = find_matches(sequence, STOP_CODONS)\n",
    "candidate_orfs = find_candidate_orfs(start_codon_matches, stop_codon_matches)"
   ]
  },
  {
   "cell_type": "code",
   "execution_count": 337,
   "metadata": {},
   "outputs": [
    {
     "data": {
      "text/plain": [
       "[(8949494, 'ACG'),\n",
       " (8949513, 'TTG'),\n",
       " (8949520, 'CTG'),\n",
       " (8949523, 'ATT'),\n",
       " (8949529, 'CTG'),\n",
       " (8949534, 'ATT'),\n",
       " (8949540, 'AAG'),\n",
       " (8949548, 'ATC'),\n",
       " (8949563, 'CTG'),\n",
       " (8949580, 'CTG'),\n",
       " (8949593, 'CTG'),\n",
       " (8949605, 'CTG'),\n",
       " (8949612, 'CTG'),\n",
       " (8949615, 'ACG'),\n",
       " (8949622, 'AGG'),\n",
       " (8949629, 'AGG'),\n",
       " (8949642, 'GTG'),\n",
       " (8949660, 'CTG'),\n",
       " (8949670, 'TTG'),\n",
       " (8949685, 'TTG'),\n",
       " (8949693, 'AGG'),\n",
       " (8949698, 'GTG'),\n",
       " (8949701, 'CTG'),\n",
       " (8949713, 'ATG'),\n",
       " (8949721, 'ATG'),\n",
       " (8949729, 'ATG'),\n",
       " (8949739, 'AAG'),\n",
       " (8949746, 'AAG'),\n",
       " (8949758, 'AGG'),\n",
       " (8949761, 'ATC'),\n",
       " (8949764, 'ATT'),\n",
       " (8949767, 'AAG'),\n",
       " (8949777, 'ATC'),\n",
       " (8949784, 'CTG'),\n",
       " (8949787, 'ATA'),\n",
       " (8949797, 'AAG'),\n",
       " (8949809, 'AGG'),\n",
       " (8949812, 'ACG'),\n",
       " (8949817, 'ATG'),\n",
       " (8949820, 'CTG'),\n",
       " (8949827, 'ATT'),\n",
       " (8949830, 'GTG'),\n",
       " (8949833, 'ATA'),\n",
       " (8949845, 'ACG'),\n",
       " (8949853, 'AAG'),\n",
       " (8949866, 'AAG'),\n",
       " (8949870, 'AAG'),\n",
       " (8949875, 'ATT'),\n",
       " (8949885, 'CTG'),\n",
       " (8949895, 'AAG'),\n",
       " (8949899, 'CTG'),\n",
       " (8949904, 'AGG'),\n",
       " (8949918, 'GTG'),\n",
       " (8949927, 'GTG'),\n",
       " (8949937, 'GTG'),\n",
       " (8949943, 'AGG')]"
      ]
     },
     "execution_count": 337,
     "metadata": {},
     "output_type": "execute_result"
    }
   ],
   "source": [
    "sorted([(8949955 - x, y) for x,y in start_codon_matches.items()])\n",
    "#529, 563, \n",
    "#8949513"
   ]
  },
  {
   "cell_type": "code",
   "execution_count": 338,
   "metadata": {},
   "outputs": [
    {
     "data": {
      "text/html": [
       "<div>\n",
       "<style scoped>\n",
       "    .dataframe tbody tr th:only-of-type {\n",
       "        vertical-align: middle;\n",
       "    }\n",
       "\n",
       "    .dataframe tbody tr th {\n",
       "        vertical-align: top;\n",
       "    }\n",
       "\n",
       "    .dataframe thead th {\n",
       "        text-align: right;\n",
       "    }\n",
       "</style>\n",
       "<table border=\"1\" class=\"dataframe\">\n",
       "  <thead>\n",
       "    <tr style=\"text-align: right;\">\n",
       "      <th></th>\n",
       "      <th>transcript_stable_ID</th>\n",
       "      <th>gene_stable_ID</th>\n",
       "      <th>uORF.CDS.pair_ID</th>\n",
       "      <th>position.aTIS</th>\n",
       "      <th>position.uTIS</th>\n",
       "      <th>start_codon_aTIS</th>\n",
       "      <th>start_codon_uTIS</th>\n",
       "      <th>strand</th>\n",
       "      <th>uORF_length_nt</th>\n",
       "      <th>uTIS.AUG.or.non_AUG</th>\n",
       "      <th>uTIS.class</th>\n",
       "      <th>uTIS_Kozak</th>\n",
       "      <th>uTIS_dist_to_aTIS_nt</th>\n",
       "      <th>LFQ.si.Ctrl.rep1</th>\n",
       "      <th>LFQ.si.Ctrl.rep2</th>\n",
       "    </tr>\n",
       "    <tr>\n",
       "      <th>uTIS.ID</th>\n",
       "      <th></th>\n",
       "      <th></th>\n",
       "      <th></th>\n",
       "      <th></th>\n",
       "      <th></th>\n",
       "      <th></th>\n",
       "      <th></th>\n",
       "      <th></th>\n",
       "      <th></th>\n",
       "      <th></th>\n",
       "      <th></th>\n",
       "      <th></th>\n",
       "      <th></th>\n",
       "      <th></th>\n",
       "      <th></th>\n",
       "    </tr>\n",
       "  </thead>\n",
       "  <tbody>\n",
       "    <tr>\n",
       "      <th>ENST00000000233_127588411</th>\n",
       "      <td>ENST00000000233</td>\n",
       "      <td>ENSG00000004059</td>\n",
       "      <td>ENST00000000233_127588499_127588411</td>\n",
       "      <td>127588499</td>\n",
       "      <td>127588411.0</td>\n",
       "      <td>ATG</td>\n",
       "      <td>CTG</td>\n",
       "      <td>1</td>\n",
       "      <td>264.0</td>\n",
       "      <td>non-AUG</td>\n",
       "      <td>u-oORF</td>\n",
       "      <td>weak</td>\n",
       "      <td>-88.0</td>\n",
       "      <td>29.64103</td>\n",
       "      <td>29.75042</td>\n",
       "    </tr>\n",
       "    <tr>\n",
       "      <th>ENST00000000412_8949529</th>\n",
       "      <td>ENST00000000412</td>\n",
       "      <td>ENSG00000003056</td>\n",
       "      <td>ENST00000000412_8946404_8949529</td>\n",
       "      <td>8946404</td>\n",
       "      <td>8949529.0</td>\n",
       "      <td>ATG</td>\n",
       "      <td>CTG</td>\n",
       "      <td>-1</td>\n",
       "      <td>162.0</td>\n",
       "      <td>non-AUG</td>\n",
       "      <td>u-oORF</td>\n",
       "      <td>weak</td>\n",
       "      <td>-43.0</td>\n",
       "      <td>26.05631</td>\n",
       "      <td>26.00443</td>\n",
       "    </tr>\n",
       "    <tr>\n",
       "      <th>ENST00000000412_8949563</th>\n",
       "      <td>ENST00000000412</td>\n",
       "      <td>ENSG00000003056</td>\n",
       "      <td>ENST00000000412_8946404_8949563</td>\n",
       "      <td>8946404</td>\n",
       "      <td>8949563.0</td>\n",
       "      <td>ATG</td>\n",
       "      <td>CTG</td>\n",
       "      <td>-1</td>\n",
       "      <td>141.0</td>\n",
       "      <td>non-AUG</td>\n",
       "      <td>u-oORF</td>\n",
       "      <td>weak</td>\n",
       "      <td>-77.0</td>\n",
       "      <td>26.05631</td>\n",
       "      <td>26.00443</td>\n",
       "    </tr>\n",
       "    <tr>\n",
       "      <th>ENST00000000412_8949593</th>\n",
       "      <td>ENST00000000412</td>\n",
       "      <td>ENSG00000003056</td>\n",
       "      <td>ENST00000000412_8946404_8949593</td>\n",
       "      <td>8946404</td>\n",
       "      <td>8949593.0</td>\n",
       "      <td>ATG</td>\n",
       "      <td>CTG</td>\n",
       "      <td>-1</td>\n",
       "      <td>30.0</td>\n",
       "      <td>non-AUG</td>\n",
       "      <td>uORF</td>\n",
       "      <td>strong</td>\n",
       "      <td>-107.0</td>\n",
       "      <td>26.05631</td>\n",
       "      <td>26.00443</td>\n",
       "    </tr>\n",
       "    <tr>\n",
       "      <th>ENST00000000412_8949612</th>\n",
       "      <td>ENST00000000412</td>\n",
       "      <td>ENSG00000003056</td>\n",
       "      <td>ENST00000000412_8946404_8949612</td>\n",
       "      <td>8946404</td>\n",
       "      <td>8949612.0</td>\n",
       "      <td>ATG</td>\n",
       "      <td>CTG</td>\n",
       "      <td>-1</td>\n",
       "      <td>96.0</td>\n",
       "      <td>non-AUG</td>\n",
       "      <td>uORF</td>\n",
       "      <td>strong</td>\n",
       "      <td>-126.0</td>\n",
       "      <td>26.05631</td>\n",
       "      <td>26.00443</td>\n",
       "    </tr>\n",
       "  </tbody>\n",
       "</table>\n",
       "</div>"
      ],
      "text/plain": [
       "                          transcript_stable_ID   gene_stable_ID  \\\n",
       "uTIS.ID                                                           \n",
       "ENST00000000233_127588411      ENST00000000233  ENSG00000004059   \n",
       "ENST00000000412_8949529        ENST00000000412  ENSG00000003056   \n",
       "ENST00000000412_8949563        ENST00000000412  ENSG00000003056   \n",
       "ENST00000000412_8949593        ENST00000000412  ENSG00000003056   \n",
       "ENST00000000412_8949612        ENST00000000412  ENSG00000003056   \n",
       "\n",
       "                                              uORF.CDS.pair_ID  position.aTIS  \\\n",
       "uTIS.ID                                                                         \n",
       "ENST00000000233_127588411  ENST00000000233_127588499_127588411      127588499   \n",
       "ENST00000000412_8949529        ENST00000000412_8946404_8949529        8946404   \n",
       "ENST00000000412_8949563        ENST00000000412_8946404_8949563        8946404   \n",
       "ENST00000000412_8949593        ENST00000000412_8946404_8949593        8946404   \n",
       "ENST00000000412_8949612        ENST00000000412_8946404_8949612        8946404   \n",
       "\n",
       "                           position.uTIS start_codon_aTIS start_codon_uTIS  \\\n",
       "uTIS.ID                                                                      \n",
       "ENST00000000233_127588411    127588411.0              ATG              CTG   \n",
       "ENST00000000412_8949529        8949529.0              ATG              CTG   \n",
       "ENST00000000412_8949563        8949563.0              ATG              CTG   \n",
       "ENST00000000412_8949593        8949593.0              ATG              CTG   \n",
       "ENST00000000412_8949612        8949612.0              ATG              CTG   \n",
       "\n",
       "                           strand  uORF_length_nt uTIS.AUG.or.non_AUG  \\\n",
       "uTIS.ID                                                                 \n",
       "ENST00000000233_127588411       1           264.0             non-AUG   \n",
       "ENST00000000412_8949529        -1           162.0             non-AUG   \n",
       "ENST00000000412_8949563        -1           141.0             non-AUG   \n",
       "ENST00000000412_8949593        -1            30.0             non-AUG   \n",
       "ENST00000000412_8949612        -1            96.0             non-AUG   \n",
       "\n",
       "                          uTIS.class uTIS_Kozak  uTIS_dist_to_aTIS_nt  \\\n",
       "uTIS.ID                                                                 \n",
       "ENST00000000233_127588411     u-oORF       weak                 -88.0   \n",
       "ENST00000000412_8949529       u-oORF       weak                 -43.0   \n",
       "ENST00000000412_8949563       u-oORF       weak                 -77.0   \n",
       "ENST00000000412_8949593         uORF     strong                -107.0   \n",
       "ENST00000000412_8949612         uORF     strong                -126.0   \n",
       "\n",
       "                           LFQ.si.Ctrl.rep1  LFQ.si.Ctrl.rep2  \n",
       "uTIS.ID                                                        \n",
       "ENST00000000233_127588411          29.64103          29.75042  \n",
       "ENST00000000412_8949529            26.05631          26.00443  \n",
       "ENST00000000412_8949563            26.05631          26.00443  \n",
       "ENST00000000412_8949593            26.05631          26.00443  \n",
       "ENST00000000412_8949612            26.05631          26.00443  "
      ]
     },
     "execution_count": 338,
     "metadata": {},
     "output_type": "execute_result"
    }
   ],
   "source": [
    "eif1_df.head()"
   ]
  },
  {
   "cell_type": "code",
   "execution_count": 339,
   "metadata": {},
   "outputs": [
    {
     "data": {
      "text/plain": [
       "[(8949494, 'ACG'),\n",
       " (8949513, 'TTG'),\n",
       " (8949520, 'CTG'),\n",
       " (8949523, 'ATT'),\n",
       " (8949529, 'CTG'),\n",
       " (8949534, 'ATT'),\n",
       " (8949540, 'AAG'),\n",
       " (8949548, 'ATC'),\n",
       " (8949563, 'CTG'),\n",
       " (8949580, 'CTG'),\n",
       " (8949593, 'CTG'),\n",
       " (8949605, 'CTG'),\n",
       " (8949612, 'CTG'),\n",
       " (8949615, 'ACG'),\n",
       " (8949622, 'AGG'),\n",
       " (8949629, 'AGG'),\n",
       " (8949642, 'GTG'),\n",
       " (8949660, 'CTG'),\n",
       " (8949670, 'TTG'),\n",
       " (8949685, 'TTG'),\n",
       " (8949693, 'AGG'),\n",
       " (8949698, 'GTG'),\n",
       " (8949701, 'CTG'),\n",
       " (8949713, 'ATG'),\n",
       " (8949721, 'ATG'),\n",
       " (8949729, 'ATG'),\n",
       " (8949739, 'AAG'),\n",
       " (8949746, 'AAG'),\n",
       " (8949758, 'AGG'),\n",
       " (8949761, 'ATC'),\n",
       " (8949764, 'ATT'),\n",
       " (8949767, 'AAG'),\n",
       " (8949777, 'ATC'),\n",
       " (8949784, 'CTG'),\n",
       " (8949787, 'ATA'),\n",
       " (8949797, 'AAG'),\n",
       " (8949809, 'AGG'),\n",
       " (8949812, 'ACG'),\n",
       " (8949817, 'ATG'),\n",
       " (8949820, 'CTG'),\n",
       " (8949827, 'ATT'),\n",
       " (8949830, 'GTG'),\n",
       " (8949833, 'ATA'),\n",
       " (8949845, 'ACG'),\n",
       " (8949853, 'AAG'),\n",
       " (8949866, 'AAG'),\n",
       " (8949870, 'AAG'),\n",
       " (8949875, 'ATT'),\n",
       " (8949885, 'CTG'),\n",
       " (8949895, 'AAG'),\n",
       " (8949899, 'CTG'),\n",
       " (8949904, 'AGG'),\n",
       " (8949918, 'GTG'),\n",
       " (8949927, 'GTG'),\n",
       " (8949937, 'GTG'),\n",
       " (8949943, 'AGG')]"
      ]
     },
     "execution_count": 339,
     "metadata": {},
     "output_type": "execute_result"
    }
   ],
   "source": [
    "sorted([(8949955 - x, y) for x,y in start_codon_matches.items()])\n"
   ]
  },
  {
   "cell_type": "code",
   "execution_count": 340,
   "metadata": {},
   "outputs": [
    {
     "data": {
      "text/plain": [
       "[8949534,\n",
       " 8949540,\n",
       " 8949593,\n",
       " 8949605,\n",
       " 8949612,\n",
       " 8949615,\n",
       " 8949622,\n",
       " 8949622,\n",
       " 8949629,\n",
       " 8949629,\n",
       " 8949642,\n",
       " 8949660,\n",
       " 8949670,\n",
       " 8949670,\n",
       " 8949685,\n",
       " 8949685,\n",
       " 8949693,\n",
       " 8949698,\n",
       " 8949698,\n",
       " 8949701,\n",
       " 8949701,\n",
       " 8949713,\n",
       " 8949713,\n",
       " 8949721,\n",
       " 8949721,\n",
       " 8949729,\n",
       " 8949739,\n",
       " 8949739,\n",
       " 8949746,\n",
       " 8949746,\n",
       " 8949758,\n",
       " 8949758,\n",
       " 8949761,\n",
       " 8949761,\n",
       " 8949764,\n",
       " 8949764,\n",
       " 8949767,\n",
       " 8949767,\n",
       " 8949777,\n",
       " 8949777,\n",
       " 8949784,\n",
       " 8949784,\n",
       " 8949787,\n",
       " 8949787,\n",
       " 8949797,\n",
       " 8949797,\n",
       " 8949809,\n",
       " 8949809,\n",
       " 8949812,\n",
       " 8949812,\n",
       " 8949817,\n",
       " 8949817,\n",
       " 8949817,\n",
       " 8949820,\n",
       " 8949820,\n",
       " 8949820,\n",
       " 8949827,\n",
       " 8949827,\n",
       " 8949830,\n",
       " 8949830,\n",
       " 8949833,\n",
       " 8949833,\n",
       " 8949845,\n",
       " 8949845,\n",
       " 8949853,\n",
       " 8949853,\n",
       " 8949853,\n",
       " 8949853,\n",
       " 8949853,\n",
       " 8949866,\n",
       " 8949866,\n",
       " 8949870,\n",
       " 8949870,\n",
       " 8949870,\n",
       " 8949875,\n",
       " 8949875,\n",
       " 8949885,\n",
       " 8949885,\n",
       " 8949885,\n",
       " 8949885,\n",
       " 8949895,\n",
       " 8949895,\n",
       " 8949895,\n",
       " 8949895,\n",
       " 8949895,\n",
       " 8949899,\n",
       " 8949899,\n",
       " 8949904,\n",
       " 8949904,\n",
       " 8949904,\n",
       " 8949904,\n",
       " 8949904,\n",
       " 8949918,\n",
       " 8949918,\n",
       " 8949918,\n",
       " 8949918,\n",
       " 8949927,\n",
       " 8949927,\n",
       " 8949927,\n",
       " 8949927,\n",
       " 8949937,\n",
       " 8949937,\n",
       " 8949937,\n",
       " 8949937,\n",
       " 8949937,\n",
       " 8949943,\n",
       " 8949943,\n",
       " 8949943,\n",
       " 8949943,\n",
       " 8949943]"
      ]
     },
     "execution_count": 340,
     "metadata": {},
     "output_type": "execute_result"
    }
   ],
   "source": [
    "sorted([(8949955 - x[0]) for x in candidate_orfs['starts']])\n"
   ]
  },
  {
   "cell_type": "code",
   "execution_count": 332,
   "metadata": {},
   "outputs": [
    {
     "data": {
      "text/plain": [
       "OrderedDict([('starts',\n",
       "              [(12, 'AGG', 0, 111),\n",
       "               (18, 'GTG', 0, 105),\n",
       "               (51, 'AGG', 0, 72),\n",
       "               (60, 'AAG', 0, 63),\n",
       "               (102, 'AAG', 0, 21),\n",
       "               (135, 'CTG', 0, 21),\n",
       "               (138, 'ATG', 0, 18),\n",
       "               (168, 'ATA', 0, 183),\n",
       "               (171, 'CTG', 0, 180),\n",
       "               (216, 'AAG', 0, 135),\n",
       "               (234, 'ATG', 0, 117),\n",
       "               (270, 'TTG', 0, 81),\n",
       "               (285, 'TTG', 0, 66),\n",
       "               (333, 'AGG', 0, 18),\n",
       "               (28, 'GTG', 1, 54),\n",
       "               (37, 'GTG', 1, 45),\n",
       "               (70, 'CTG', 1, 12),\n",
       "               (85, 'AAG', 1, 51),\n",
       "               (178, 'ATC', 1, 9),\n",
       "               (226, 'ATG', 1, 210),\n",
       "               (262, 'AGG', 1, 174),\n",
       "               (295, 'CTG', 1, 141),\n",
       "               (313, 'GTG', 1, 123),\n",
       "               (340, 'ACG', 1, 96),\n",
       "               (343, 'CTG', 1, 93),\n",
       "               (415, 'AAG', 1, 21),\n",
       "               (421, 'ATT', 1, 15),\n",
       "               (56, 'CTG', 2, 276),\n",
       "               (80, 'ATT', 2, 252),\n",
       "               (89, 'AAG', 2, 243),\n",
       "               (110, 'ACG', 2, 222),\n",
       "               (122, 'ATA', 2, 210),\n",
       "               (125, 'GTG', 2, 207),\n",
       "               (128, 'ATT', 2, 204),\n",
       "               (143, 'ACG', 2, 189),\n",
       "               (146, 'AGG', 2, 186),\n",
       "               (158, 'AAG', 2, 174),\n",
       "               (188, 'AAG', 2, 144),\n",
       "               (191, 'ATT', 2, 141),\n",
       "               (194, 'ATC', 2, 138),\n",
       "               (197, 'AGG', 2, 135),\n",
       "               (209, 'AAG', 2, 123),\n",
       "               (242, 'ATG', 2, 90),\n",
       "               (254, 'CTG', 2, 78),\n",
       "               (257, 'GTG', 2, 75),\n",
       "               (326, 'AGG', 2, 6),\n",
       "               (350, 'CTG', 2, 39),\n",
       "               (362, 'CTG', 2, 27)]),\n",
       "             ('stops',\n",
       "              [(123, 'AGG', 0, 111),\n",
       "               (123, 'GTG', 0, 105),\n",
       "               (123, 'AGG', 0, 72),\n",
       "               (123, 'AAG', 0, 63),\n",
       "               (123, 'AAG', 0, 21),\n",
       "               (156, 'CTG', 0, 21),\n",
       "               (156, 'ATG', 0, 18),\n",
       "               (351, 'ATA', 0, 183),\n",
       "               (351, 'CTG', 0, 180),\n",
       "               (351, 'AAG', 0, 135),\n",
       "               (351, 'ATG', 0, 117),\n",
       "               (351, 'TTG', 0, 81),\n",
       "               (351, 'TTG', 0, 66),\n",
       "               (351, 'AGG', 0, 18),\n",
       "               (82, 'GTG', 1, 54),\n",
       "               (82, 'GTG', 1, 45),\n",
       "               (82, 'CTG', 1, 12),\n",
       "               (136, 'AAG', 1, 51),\n",
       "               (187, 'ATC', 1, 9),\n",
       "               (436, 'ATG', 1, 210),\n",
       "               (436, 'AGG', 1, 174),\n",
       "               (436, 'CTG', 1, 141),\n",
       "               (436, 'GTG', 1, 123),\n",
       "               (436, 'ACG', 1, 96),\n",
       "               (436, 'CTG', 1, 93),\n",
       "               (436, 'AAG', 1, 21),\n",
       "               (436, 'ATT', 1, 15),\n",
       "               (332, 'CTG', 2, 276),\n",
       "               (332, 'ATT', 2, 252),\n",
       "               (332, 'AAG', 2, 243),\n",
       "               (332, 'ACG', 2, 222),\n",
       "               (332, 'ATA', 2, 210),\n",
       "               (332, 'GTG', 2, 207),\n",
       "               (332, 'ATT', 2, 204),\n",
       "               (332, 'ACG', 2, 189),\n",
       "               (332, 'AGG', 2, 186),\n",
       "               (332, 'AAG', 2, 174),\n",
       "               (332, 'AAG', 2, 144),\n",
       "               (332, 'ATT', 2, 141),\n",
       "               (332, 'ATC', 2, 138),\n",
       "               (332, 'AGG', 2, 135),\n",
       "               (332, 'AAG', 2, 123),\n",
       "               (332, 'ATG', 2, 90),\n",
       "               (332, 'CTG', 2, 78),\n",
       "               (332, 'GTG', 2, 75),\n",
       "               (332, 'AGG', 2, 6),\n",
       "               (389, 'CTG', 2, 39),\n",
       "               (389, 'CTG', 2, 27)])])"
      ]
     },
     "execution_count": 332,
     "metadata": {},
     "output_type": "execute_result"
    }
   ],
   "source": [
    "candidate_orfs"
   ]
  },
  {
   "cell_type": "code",
   "execution_count": 311,
   "metadata": {},
   "outputs": [
    {
     "data": {
      "text/plain": [
       "467"
      ]
     },
     "execution_count": 311,
     "metadata": {},
     "output_type": "execute_result"
    }
   ],
   "source": [
    "tx_end-tx_start"
   ]
  },
  {
   "cell_type": "code",
   "execution_count": null,
   "metadata": {},
   "outputs": [],
   "source": []
  }
 ],
 "metadata": {
  "kernelspec": {
   "display_name": "Python [conda env:riboraptor]",
   "language": "python",
   "name": "conda-env-riboraptor-py"
  },
  "language_info": {
   "codemirror_mode": {
    "name": "ipython",
    "version": 3
   },
   "file_extension": ".py",
   "mimetype": "text/x-python",
   "name": "python",
   "nbconvert_exporter": "python",
   "pygments_lexer": "ipython3",
   "version": "3.6.5"
  }
 },
 "nbformat": 4,
 "nbformat_minor": 2
}
