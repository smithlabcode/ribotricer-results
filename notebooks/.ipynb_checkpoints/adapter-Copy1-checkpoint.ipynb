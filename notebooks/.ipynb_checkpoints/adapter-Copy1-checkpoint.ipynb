{
 "cells": [
  {
   "cell_type": "code",
   "execution_count": 158,
   "metadata": {},
   "outputs": [
    {
     "name": "stdout",
     "output_type": "stream",
     "text": [
      "Populating the interactive namespace from numpy and matplotlib\n"
     ]
    }
   ],
   "source": [
    "%pylab inline"
   ]
  },
  {
   "cell_type": "code",
   "execution_count": 159,
   "metadata": {},
   "outputs": [],
   "source": [
    "import pysam\n",
    "from collections import Counter, defaultdict"
   ]
  },
  {
   "cell_type": "code",
   "execution_count": 160,
   "metadata": {},
   "outputs": [],
   "source": [
    "def is_read_uniq_mapping(read):\n",
    "    \"\"\"Check if read is uniquely mappable.\n",
    "    Parameters\n",
    "    ----------\n",
    "    read : pysam.Alignment.fetch object\n",
    "    Most reliable: ['NH'] tag\n",
    "    \"\"\"\n",
    "    # Filter out secondary alignments\n",
    "    if read.is_secondary:\n",
    "        return False\n",
    "    tags = dict(read.get_tags())\n",
    "    try:\n",
    "        nh_count = tags['NH']\n",
    "    except KeyError:\n",
    "        # Reliable in case of STAR\n",
    "        if read.mapping_quality == 255:\n",
    "            return True\n",
    "        if read.mapping_quality < 1:\n",
    "            return False\n",
    "        # NH tag not set so rely on flags\n",
    "        if read.flag in __SAM_NOT_UNIQ_FLAGS__:\n",
    "            return False\n",
    "        else:\n",
    "            raise RuntimeError('Malformed BAM?')\n",
    "    if nh_count == 1:\n",
    "        return True\n",
    "    return False"
   ]
  },
  {
   "cell_type": "code",
   "execution_count": 161,
   "metadata": {},
   "outputs": [],
   "source": [
    "bam = pysam.AlignmentFile('/staging/as/wenzhenl/ribocop-test/SRX217030.bam', 'rb')"
   ]
  },
  {
   "cell_type": "code",
   "execution_count": null,
   "metadata": {},
   "outputs": [],
   "source": [
    "cnt5 = defaultdict(Counter)\n",
    "cnt3 = defaultdict(Counter)\n",
    "cnt = Counter()\n",
    "ite = 0\n",
    "for r in bam.fetch(until_eof=True):\n",
    "    if r.is_qcfail:\n",
    "        continue\n",
    "    if r.is_duplicate:\n",
    "        continue\n",
    "    if r.is_secondary:\n",
    "        continue\n",
    "    if r.is_unmapped:\n",
    "        continue\n",
    "    if not is_read_uniq_mapping(r):\n",
    "        continue\n",
    "    ite += 1\n",
    "#     if ite > 1000000:\n",
    "#         break\n",
    "    pos = r.get_reference_positions(full_length=True)\n",
    "    seq = r.query_sequence\n",
    "    off3 = off5 = 0\n",
    "    for i in range(len(pos)):\n",
    "        if pos[i] is None:\n",
    "            off5 += 1\n",
    "        else:\n",
    "            break\n",
    "    for i in range(len(pos)-1, -1, -1):\n",
    "        if pos[i] is None:\n",
    "            off3 += 1\n",
    "        else:\n",
    "            break\n",
    "    if off5 == off3 == 0:\n",
    "        for j in range(1, min(len(seq), 30)):\n",
    "            cnt5[j][seq[:j]] += 1\n",
    "            cnt3[j][seq[-j:]] += 1\n",
    "    cnt[(off5, off3)] += 1\n",
    "#     cnt[(off5, seq5, off3, seq3)] += 1\n",
    "#     cnt[(off5, seq5)] += 1"
   ]
  },
  {
   "cell_type": "code",
   "execution_count": null,
   "metadata": {},
   "outputs": [],
   "source": [
    "cnt5[25].most_common(50)"
   ]
  },
  {
   "cell_type": "code",
   "execution_count": null,
   "metadata": {},
   "outputs": [],
   "source": [
    "cnt.most_common(50)"
   ]
  }
 ],
 "metadata": {
  "kernelspec": {
   "display_name": "Python (raptor)",
   "language": "python",
   "name": "raptor"
  },
  "language_info": {
   "codemirror_mode": {
    "name": "ipython",
    "version": 3
   },
   "file_extension": ".py",
   "mimetype": "text/x-python",
   "name": "python",
   "nbconvert_exporter": "python",
   "pygments_lexer": "ipython3",
   "version": "3.5.4"
  }
 },
 "nbformat": 4,
 "nbformat_minor": 2
}
