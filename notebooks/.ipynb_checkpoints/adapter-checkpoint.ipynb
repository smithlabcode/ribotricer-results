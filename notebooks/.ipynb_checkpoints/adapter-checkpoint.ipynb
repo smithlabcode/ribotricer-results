{
 "cells": [
  {
   "cell_type": "code",
   "execution_count": 1,
   "metadata": {},
   "outputs": [
    {
     "name": "stdout",
     "output_type": "stream",
     "text": [
      "Populating the interactive namespace from numpy and matplotlib\n"
     ]
    }
   ],
   "source": [
    "%pylab inline"
   ]
  },
  {
   "cell_type": "code",
   "execution_count": 2,
   "metadata": {},
   "outputs": [],
   "source": [
    "import pysam\n",
    "from collections import Counter"
   ]
  },
  {
   "cell_type": "code",
   "execution_count": 3,
   "metadata": {},
   "outputs": [],
   "source": [
    "bam = pysam.AlignmentFile('/staging/as/wenzhenl/ribocop-test/SRX217030.bam', 'rb')"
   ]
  },
  {
   "cell_type": "code",
   "execution_count": 4,
   "metadata": {},
   "outputs": [],
   "source": [
    "cnt = Counter()\n",
    "ite = 0\n",
    "for r in bam.fetch(until_eof=True):\n",
    "    ite += 1\n",
    "    if ite > 1000000:\n",
    "        break\n",
    "    pos = r.get_reference_positions(full_length=True)\n",
    "    seq = r.query_sequence\n",
    "    off3 = off5 = 0\n",
    "    for i in range(len(pos)):\n",
    "        if pos[i] is None:\n",
    "            off5 += 1\n",
    "        else:\n",
    "            break\n",
    "    for i in range(len(pos)-1, -1, -1):\n",
    "        if pos[i] is None:\n",
    "            off3 += 1\n",
    "        else:\n",
    "            break\n",
    "    seq5 = seq[:off5]\n",
    "    seq3 = seq[::-1][:off3]\n",
    "    cnt[(off5, seq5, off3, seq3)] += 1"
   ]
  },
  {
   "cell_type": "code",
   "execution_count": 5,
   "metadata": {},
   "outputs": [
    {
     "data": {
      "text/plain": [
       "42531"
      ]
     },
     "execution_count": 5,
     "metadata": {},
     "output_type": "execute_result"
    }
   ],
   "source": [
    "len(cnt)"
   ]
  },
  {
   "cell_type": "code",
   "execution_count": 7,
   "metadata": {},
   "outputs": [
    {
     "data": {
      "text/plain": [
       "[((0, '', 0, ''), 78281),\n",
       " ((12, 'TTTATCAGATCA', 0, ''), 60878),\n",
       " ((0, '', 4, 'AAAA'), 30224),\n",
       " ((4, 'TTTT', 0, ''), 30094),\n",
       " ((3, 'TTT', 0, ''), 29106),\n",
       " ((0, '', 3, 'AAA'), 28916),\n",
       " ((0, '', 5, 'AAAAA'), 26072),\n",
       " ((5, 'TTTTT', 0, ''), 24355),\n",
       " ((0, '', 2, 'AA'), 23038),\n",
       " ((0, '', 1, 'A'), 21718),\n",
       " ((2, 'TT', 0, ''), 21184),\n",
       " ((1, 'T', 0, ''), 18076),\n",
       " ((0, '', 6, 'AAAAAA'), 16722),\n",
       " ((0, '', 10, 'AAAAAAAAAA'), 13804),\n",
       " ((1, 'T', 1, 'A'), 12884),\n",
       " ((6, 'TTTTTT', 0, ''), 12808),\n",
       " ((1, 'T', 3, 'AAA'), 11951),\n",
       " ((0, '', 7, 'AAAAAAA'), 11654),\n",
       " ((0, '', 12, 'AAAAAAAAAAAA'), 11051),\n",
       " ((1, 'T', 2, 'AA'), 10598),\n",
       " ((0, '', 9, 'AAAAAAAAA'), 9630),\n",
       " ((0, '', 8, 'AAAAAAAA'), 9146),\n",
       " ((3, 'TTT', 1, 'A'), 8180),\n",
       " ((7, 'TTTTTTT', 0, ''), 7774),\n",
       " ((11, 'TTATCAGATCA', 0, ''), 7749),\n",
       " ((0, '', 11, 'AAAAAAAAAAA'), 7237),\n",
       " ((2, 'TT', 1, 'A'), 7208),\n",
       " ((8, 'TTTTTTTT', 0, ''), 6255),\n",
       " ((5, 'ACCAC', 0, ''), 6001),\n",
       " ((9, 'TTTTTTTTT', 0, ''), 5604),\n",
       " ((1, 'A', 0, ''), 5458),\n",
       " ((1, 'T', 4, 'AAAA'), 5455),\n",
       " ((1, 'T', 5, 'AAAAA'), 5354),\n",
       " ((10, 'TTTTTTTTTT', 0, ''), 5222),\n",
       " ((4, 'TTTT', 1, 'A'), 4604),\n",
       " ((5, 'TCCAC', 0, ''), 4464),\n",
       " ((11, 'TTTTTTTTTTT', 0, ''), 4292),\n",
       " ((12, 'TTTTTTTTTTTT', 0, ''), 4200),\n",
       " ((0, '', 5, 'AAAAT'), 4195),\n",
       " ((0, '', 13, 'AAAAAAAAAAAAA'), 4188),\n",
       " ((0, '', 4, 'AAAT'), 4150),\n",
       " ((3, 'CAC', 0, ''), 4050),\n",
       " ((0, '', 12, 'AAAAAAAAAAAT'), 3863),\n",
       " ((4, 'TTTA', 0, ''), 3651),\n",
       " ((5, 'TTTTA', 0, ''), 3268),\n",
       " ((0, '', 5, 'AAAAC'), 3214),\n",
       " ((0, '', 6, 'AAAAAT'), 2990),\n",
       " ((0, '', 11, 'AAAAAAAAAAT'), 2855),\n",
       " ((5, 'TTTTG', 0, ''), 2655),\n",
       " ((5, 'TTTTT', 1, 'A'), 2652)]"
      ]
     },
     "execution_count": 7,
     "metadata": {},
     "output_type": "execute_result"
    }
   ],
   "source": [
    "cnt.most_common(50)"
   ]
  },
  {
   "cell_type": "code",
   "execution_count": null,
   "metadata": {},
   "outputs": [],
   "source": []
  }
 ],
 "metadata": {
  "kernelspec": {
   "display_name": "Python (raptor)",
   "language": "python",
   "name": "raptor"
  },
  "language_info": {
   "codemirror_mode": {
    "name": "ipython",
    "version": 3
   },
   "file_extension": ".py",
   "mimetype": "text/x-python",
   "name": "python",
   "nbconvert_exporter": "python",
   "pygments_lexer": "ipython3",
   "version": "3.5.4"
  }
 },
 "nbformat": 4,
 "nbformat_minor": 2
}
