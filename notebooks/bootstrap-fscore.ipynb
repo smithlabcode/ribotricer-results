{
 "cells": [
  {
   "cell_type": "code",
   "execution_count": 1,
   "metadata": {},
   "outputs": [
    {
     "name": "stderr",
     "output_type": "stream",
     "text": [
      "Loading required package: gplots\n",
      "\n",
      "Attaching package: ‘gplots’\n",
      "\n",
      "The following object is masked from ‘package:stats’:\n",
      "\n",
      "    lowess\n",
      "\n"
     ]
    }
   ],
   "source": [
    "library(ROCR)\n",
    "library(boot)\n",
    "library(data.table)\n",
    "\n"
   ]
  },
  {
   "cell_type": "code",
   "execution_count": 2,
   "metadata": {},
   "outputs": [],
   "source": [
    "files <- c(\"/home/cmb-panasas2/wenzhenl/benchmark/exon_level/hg38/SRP010679_human/ROC_input.txt\",\n",
    "           \"/home/cmb-panasas2/wenzhenl/benchmark/exon_level/hg38/SRP029589_human//ROC_input.txt\",\n",
    "            \"/home/cmb-panasas2/wenzhenl/benchmark/exon_level/hg38/SRP063852_human/ROC_input.txt\",\n",
    "            \"/home/cmb-panasas2/wenzhenl/benchmark/exon_level/hg38/SRP098789_human/ROC_input.txt\",\n",
    "            \"/home/cmb-panasas2/wenzhenl/benchmark/exon_level/hg38/SRP102021_human/ROC_input.txt\",\n",
    "           \"/home/cmb-panasas2/wenzhenl/benchmark/exon_level/mm10/SRP003554_mouse/ROC_input.txt\",\n",
    "           \"/home/cmb-panasas2/wenzhenl/benchmark/exon_level/mm10/SRP062407_mouse/ROC_input.txt\",\n",
    "           \"/home/cmb-panasas2/wenzhenl/benchmark/exon_level/mm10/SRP078005_mouse/ROC_input.txt\",\n",
    "           \"/home/cmb-panasas2/wenzhenl/benchmark/exon_level/mm10/SRP091889_mouse/ROC_input.txt\",\n",
    "           \"/home/cmb-panasas2/wenzhenl/benchmark/exon_level/mm10/SRP115915_mouse/ROC_input.txt\"       \n",
    "          )"
   ]
  },
  {
   "cell_type": "code",
   "execution_count": 3,
   "metadata": {},
   "outputs": [
    {
     "data": {
      "text/html": [
       "10"
      ],
      "text/latex": [
       "10"
      ],
      "text/markdown": [
       "10"
      ],
      "text/plain": [
       "[1] 10"
      ]
     },
     "metadata": {},
     "output_type": "display_data"
    }
   ],
   "source": [
    "length(files)"
   ]
  },
  {
   "cell_type": "code",
   "execution_count": 4,
   "metadata": {},
   "outputs": [],
   "source": [
    "fc <- function(datasets, datasets_index){\n",
    "    toRead <- datasets[datasets_index]\n",
    "    data <- read.table(toRead[1], header=T)\n",
    "    \n",
    "    for (fp in toread[2:length(toRead)])\n",
    "    {\n",
    "        dataT <- read.table(fp, header=TRUE)\n",
    "        data <- rbind(data, dataT)\n",
    "    }\n",
    "    \n",
    "    cop <- prediction(data[['ribocop']], data$truth)\n",
    "    cop <- performance(cop, 'f')\n",
    "    xvalues <- cop@x.values[[1]]\n",
    "    yvalues <- cop@y.values[[1]]\n",
    "    cutoff <- xvalues[which.max(yvalues)]\n",
    "    return (cutoff)\n",
    "}"
   ]
  },
  {
   "cell_type": "code",
   "execution_count": 5,
   "metadata": {},
   "outputs": [],
   "source": [
    "fc <- function(datasets, datasets_index){\n",
    "    toRead <- datasets[datasets_index]\n",
    "    data <- read.table(toRead[1], header=T)\n",
    "    \n",
    "    for (fp in toRead[2:length(toRead)])\n",
    "    {\n",
    "        dataT <- read.table(fp, header=TRUE)\n",
    "        data <- rbind(data, dataT)\n",
    "    }\n",
    "    \n",
    "    cop <- prediction(data[['ribocop']], data$truth)\n",
    "    cop <- performance(cop, 'f')\n",
    "    xvalues <- cop@x.values[[1]]\n",
    "    yvalues <- cop@y.values[[1]]\n",
    "    cutoff <- xvalues[which.max(yvalues)]\n",
    "    return (cutoff)\n",
    "}"
   ]
  },
  {
   "cell_type": "code",
   "execution_count": 6,
   "metadata": {},
   "outputs": [],
   "source": [
    "set.seed(42)\n",
    "boostrap.results <- boot(data = files, statistic = fc, R = 1000, parallel = \"multicore\", ncpus=16)\n"
   ]
  },
  {
   "cell_type": "code",
   "execution_count": 123,
   "metadata": {},
   "outputs": [
    {
     "data": {
      "text/plain": [
       "          Length Class  Mode     \n",
       "t0           1   -none- numeric  \n",
       "t         1000   -none- numeric  \n",
       "R            1   -none- numeric  \n",
       "data        10   -none- character\n",
       "seed       626   -none- numeric  \n",
       "statistic    1   -none- function \n",
       "sim          1   -none- character\n",
       "call         6   -none- call     \n",
       "stype        1   -none- character\n",
       "strata      10   -none- numeric  \n",
       "weights     10   -none- numeric  "
      ]
     },
     "metadata": {},
     "output_type": "display_data"
    }
   ],
   "source": [
    "summary(boostrap.results)"
   ]
  },
  {
   "cell_type": "code",
   "execution_count": null,
   "metadata": {},
   "outputs": [],
   "source": [
    "hist(boostrap.results$t, xlab=\"phase score\", breaks=15, xaxt='n', main=\"\", cex.lab=1.6, cex.axis=1.6, cex.main=1.6, cex.sub=1.6)# las=1)\n",
    "#xaxt='n')\n",
    "title(\"\")\n",
    "axis(side=1, at=seq(0.33, 0.49, 0.02), labels=seq(0.33, 0.49, 0.02))\n",
    "\n",
    "abline(v=cutoff3, col='red', lwd=2, lty=2)\n",
    "abline(v=mean(boostrap.results$t)+sd(boostrap.results$t), col='black', lwd=2, lty=3)\n",
    "abline(v=mean(boostrap.results$t)-sd(boostrap.results$t), col='black', lwd=2, lty=3)\n",
    "legend(\"topright\", legend=c(\"ribotricer default\", \"95% CI\"),lty=2:3, lwd=2,\n",
    "       col=c(\"red\", \"black\"),  cex=1.6)"
   ]
  },
  {
   "cell_type": "markdown",
   "metadata": {},
   "source": [
    "# Remove SRP029859 "
   ]
  },
  {
   "cell_type": "code",
   "execution_count": 2,
   "metadata": {},
   "outputs": [],
   "source": [
    "files <- c(\"/home/cmb-panasas2/wenzhenl/benchmark/exon_level/hg38/SRP010679_human/ROC_input.txt\",\n",
    "            \"/home/cmb-panasas2/wenzhenl/benchmark/exon_level/hg38/SRP063852_human/ROC_input.txt\",\n",
    "            \"/home/cmb-panasas2/wenzhenl/benchmark/exon_level/hg38/SRP098789_human/ROC_input.txt\",\n",
    "            \"/home/cmb-panasas2/wenzhenl/benchmark/exon_level/hg38/SRP102021_human/ROC_input.txt\",\n",
    "           \"/home/cmb-panasas2/wenzhenl/benchmark/exon_level/mm10/SRP003554_mouse/ROC_input.txt\",\n",
    "           \"/home/cmb-panasas2/wenzhenl/benchmark/exon_level/mm10/SRP062407_mouse/ROC_input.txt\",\n",
    "           \"/home/cmb-panasas2/wenzhenl/benchmark/exon_level/mm10/SRP078005_mouse/ROC_input.txt\",\n",
    "           \"/home/cmb-panasas2/wenzhenl/benchmark/exon_level/mm10/SRP091889_mouse/ROC_input.txt\",\n",
    "           \"/home/cmb-panasas2/wenzhenl/benchmark/exon_level/mm10/SRP115915_mouse/ROC_input.txt\"       \n",
    "          )\n",
    "fc <- function(datasets, datasets_index){\n",
    "    toRead <- datasets[datasets_index]\n",
    "    data <- fread(toRead[1])\n",
    "    \n",
    "    for (fp in toRead[2:length(toRead)])\n",
    "    {\n",
    "        dataT <- fread(fp)\n",
    "        data <- rbind(data, dataT)\n",
    "    }\n",
    "    \n",
    "    cop <- prediction(data[['ribocop']], data$truth)\n",
    "    cop <- performance(cop, 'f')\n",
    "    xvalues <- cop@x.values[[1]]\n",
    "    yvalues <- cop@y.values[[1]]\n",
    "    cutoff <- xvalues[which.max(yvalues)]\n",
    "    return (cutoff)\n",
    "}\n",
    "set.seed(42)\n",
    "boostrap.results.removed <- boot(data = files, statistic = fc, R = 50000, parallel = \"multicore\", ncpus=16)\n"
   ]
  },
  {
   "cell_type": "code",
   "execution_count": 3,
   "metadata": {},
   "outputs": [
    {
     "data": {
      "text/html": [
       "<ol class=list-inline>\n",
       "\t<li>0.375</li>\n",
       "\t<li>0.578019991132</li>\n",
       "</ol>\n"
      ],
      "text/latex": [
       "\\begin{enumerate*}\n",
       "\\item 0.375\n",
       "\\item 0.578019991132\n",
       "\\end{enumerate*}\n"
      ],
      "text/markdown": [
       "1. 0.375\n",
       "2. 0.578019991132\n",
       "\n",
       "\n"
      ],
      "text/plain": [
       "[1] 0.37500 0.57802"
      ]
     },
     "metadata": {},
     "output_type": "display_data"
    }
   ],
   "source": [
    "range(boostrap.results.removed$t)"
   ]
  },
  {
   "cell_type": "code",
   "execution_count": 4,
   "metadata": {},
   "outputs": [
    {
     "data": {
      "text/html": [
       "0.46958950123236"
      ],
      "text/latex": [
       "0.46958950123236"
      ],
      "text/markdown": [
       "0.46958950123236"
      ],
      "text/plain": [
       "[1] 0.4695895"
      ]
     },
     "metadata": {},
     "output_type": "display_data"
    }
   ],
   "source": [
    "mean(boostrap.results.removed$t) + sd(boostrap.results.removed$t)"
   ]
  },
  {
   "cell_type": "code",
   "execution_count": 5,
   "metadata": {},
   "outputs": [
    {
     "data": {
      "text/html": [
       "0.41907944081765"
      ],
      "text/latex": [
       "0.41907944081765"
      ],
      "text/markdown": [
       "0.41907944081765"
      ],
      "text/plain": [
       "[1] 0.4190794"
      ]
     },
     "metadata": {},
     "output_type": "display_data"
    }
   ],
   "source": [
    "mean(boostrap.results.removed$t) - sd(boostrap.results.removed$t)"
   ]
  },
  {
   "cell_type": "code",
   "execution_count": 6,
   "metadata": {},
   "outputs": [
    {
     "data": {
      "text/html": [
       "0.444334471025005"
      ],
      "text/latex": [
       "0.444334471025005"
      ],
      "text/markdown": [
       "0.444334471025005"
      ],
      "text/plain": [
       "[1] 0.4443345"
      ]
     },
     "metadata": {},
     "output_type": "display_data"
    }
   ],
   "source": [
    "mean(boostrap.results.removed$t)"
   ]
  },
  {
   "cell_type": "code",
   "execution_count": 7,
   "metadata": {},
   "outputs": [],
   "source": [
    "cutoff3 <- 0.428571428571"
   ]
  },
  {
   "cell_type": "code",
   "execution_count": 9,
   "metadata": {},
   "outputs": [
    {
     "data": {
      "text/html": [
       "<strong>png:</strong> 2"
      ],
      "text/latex": [
       "\\textbf{png:} 2"
      ],
      "text/markdown": [
       "**png:** 2"
      ],
      "text/plain": [
       "png \n",
       "  2 "
      ]
     },
     "metadata": {},
     "output_type": "display_data"
    }
   ],
   "source": [
    "pdf('bootstrap_phase_score_dist_50k.pdf')\n",
    "hist(boostrap.results.removed$t, breaks=15, xaxt='n',  xlab=\"phase score\", main=\"\", cex.lab=1.6, cex.axis=1.6, cex.main=1.6, cex.sub=1.6)# las=1)\n",
    "#xaxt='n')\n",
    "title(\"\")\n",
    "axis(side=1, at=seq(0.37, 0.58, 0.02), labels=seq(0.37, 0.58, 0.02))\n",
    "\n",
    "abline(v=cutoff3, col='red', lwd=2, lty=2)\n",
    "abline(v=mean(boostrap.results.removed$t)+sd(boostrap.results.removed$t), col='black', lwd=2, lty=3)\n",
    "abline(v=mean(boostrap.results.removed$t)-sd(boostrap.results.removed$t), col='black', lwd=2, lty=3)\n",
    "legend(\"topright\", legend=c(\"ribotricer default\", \"95% CI\"),lty=2:3, lwd=2,\n",
    "       col=c(\"red\", \"black\"),  cex=1.6)\n",
    "dev.off()"
   ]
  },
  {
   "cell_type": "code",
   "execution_count": 150,
   "metadata": {},
   "outputs": [
    {
     "data": {
      "text/html": [
       "<strong>png:</strong> 2"
      ],
      "text/latex": [
       "\\textbf{png:} 2"
      ],
      "text/markdown": [
       "**png:** 2"
      ],
      "text/plain": [
       "png \n",
       "  2 "
      ]
     },
     "metadata": {},
     "output_type": "display_data"
    }
   ],
   "source": [
    "pdf('hist_20000.pdf')\n",
    "hist(boostrap.results.removed$t, breaks=15, xaxt='n', main=\"\")# las=1)\n",
    "#xaxt='n')\n",
    "title(\"\")\n",
    "axis(side=1, at=seq(0.36, 0.58, 0.02), labels=seq(0.36, 0.58, 0.02))\n",
    "\n",
    "abline(v=cutoff3, col='red', lwd=2, lty=2)\n",
    "abline(v=mean(boostrap.results.removed$t)+sd(boostrap.results.removed$t), col='black', lwd=2, lty=3)\n",
    "abline(v=mean(boostrap.results.removed$t)-sd(boostrap.results.removed$t), col='black', lwd=2, lty=3)\n",
    "legend(\"topright\", legend=c(\"ribotricer default\", \"95% CI\"),lty=2:3, lwd=2,\n",
    "       col=c(\"red\", \"black\"),  cex=0.8)\n",
    "dev.off()"
   ]
  },
  {
   "cell_type": "code",
   "execution_count": 133,
   "metadata": {},
   "outputs": [
    {
     "data": {
      "image/png": "[encoded data removed]",
      "text/plain": [
       "Plot with title “Histogram of boostrap.results$t”"
      ]
     },
     "metadata": {},
     "output_type": "display_data"
    }
   ],
   "source": [
    "hist(boostrap.results$t, breaks=100)"
   ]
  },
  {
   "cell_type": "code",
   "execution_count": 137,
   "metadata": {},
   "outputs": [
    {
     "data": {
      "image/png": "[encoded data removed]",
      "text/plain": [
       "Plot with title “Histogram of boostrap.results.removed$t”"
      ]
     },
     "metadata": {},
     "output_type": "display_data"
    }
   ],
   "source": [
    "hist(boostrap.results.removed$t, breaks=100)\n",
    "abline(v=cutoff3, col='red', lwd=2, lty=2)\n",
    "abline(v=mean(boostrap.results.removed$t)+sd(boostrap.results.removed$t), col='black', lwd=2, lty=3)\n",
    "abline(v=mean(boostrap.results.removed$t)-sd(boostrap.results.removed$t), col='black', lwd=2, lty=3)"
   ]
  },
  {
   "cell_type": "code",
   "execution_count": 130,
   "metadata": {},
   "outputs": [
    {
     "data": {
      "image/png": "[encoded data removed]",
      "text/plain": [
       "Plot with title “Histogram of boostrap.results.removed$t”"
      ]
     },
     "metadata": {},
     "output_type": "display_data"
    }
   ],
   "source": [
    "hist(boostrap.results.removed$t)"
   ]
  },
  {
   "cell_type": "code",
   "execution_count": 129,
   "metadata": {},
   "outputs": [
    {
     "data": {
      "image/png": "[encoded data removed]",
      "text/plain": [
       "Plot with title “”"
      ]
     },
     "metadata": {},
     "output_type": "display_data"
    }
   ],
   "source": [
    "hist(boostrap.results.removed$t, xlab=\"phase score\", breaks=15, xaxt='n', main=\"\")# las=1)\n",
    "#xaxt='n')\n",
    "title(\"\")\n",
    "axis(side=1, at=seq(0.33, 0.49, 0.02), labels=seq(0.33, 0.49, 0.02))\n",
    "\n",
    "abline(v=cutoff3, col='red', lwd=2, lty=2)\n",
    "abline(v=mean(boostrap.results.removed$t)+sd(boostrap.results.removed$t), col='black', lwd=2, lty=3)\n",
    "abline(v=mean(boostrap.results.removed$t)-sd(boostrap.results.removed$t), col='black', lwd=2, lty=3)\n",
    "legend(\"topright\", legend=c(\"ribotricer default\", \"95% CI\"),lty=2:3, lwd=2,\n",
    "       col=c(\"red\", \"black\"),  cex=0.8)"
   ]
  },
  {
   "cell_type": "code",
   "execution_count": 39,
   "metadata": {},
   "outputs": [
    {
     "data": {
      "text/html": [
       "-0.01314170473427"
      ],
      "text/latex": [
       "-0.01314170473427"
      ],
      "text/markdown": [
       "-0.01314170473427"
      ],
      "text/plain": [
       "[1] -0.0131417"
      ]
     },
     "metadata": {},
     "output_type": "display_data"
    }
   ],
   "source": [
    "mean(boostrap.results$t) - boostrap.results$t0\n"
   ]
  },
  {
   "cell_type": "code",
   "execution_count": 40,
   "metadata": {},
   "outputs": [
    {
     "data": {
      "text/html": [
       "0.41500700799473"
      ],
      "text/latex": [
       "0.41500700799473"
      ],
      "text/markdown": [
       "0.41500700799473"
      ],
      "text/plain": [
       "[1] 0.415007"
      ]
     },
     "metadata": {},
     "output_type": "display_data"
    }
   ],
   "source": [
    "mean(boostrap.results$t)"
   ]
  },
  {
   "cell_type": "code",
   "execution_count": 41,
   "metadata": {},
   "outputs": [
    {
     "data": {
      "text/html": [
       "0.0297952786906729"
      ],
      "text/latex": [
       "0.0297952786906729"
      ],
      "text/markdown": [
       "0.0297952786906729"
      ],
      "text/plain": [
       "[1] 0.02979528"
      ]
     },
     "metadata": {},
     "output_type": "display_data"
    }
   ],
   "source": [
    "sd(boostrap.results$t)"
   ]
  },
  {
   "cell_type": "code",
   "execution_count": 80,
   "metadata": {},
   "outputs": [
    {
     "data": {
      "text/html": [
       "<ol class=list-inline>\n",
       "\t<li>0.330696424161</li>\n",
       "\t<li>0.480239344761</li>\n",
       "</ol>\n"
      ],
      "text/latex": [
       "\\begin{enumerate*}\n",
       "\\item 0.330696424161\n",
       "\\item 0.480239344761\n",
       "\\end{enumerate*}\n"
      ],
      "text/markdown": [
       "1. 0.330696424161\n",
       "2. 0.480239344761\n",
       "\n",
       "\n"
      ],
      "text/plain": [
       "[1] 0.3306964 0.4802393"
      ]
     },
     "metadata": {},
     "output_type": "display_data"
    }
   ],
   "source": [
    "range(boostrap.results$t)"
   ]
  },
  {
   "cell_type": "code",
   "execution_count": 117,
   "metadata": {},
   "outputs": [
    {
     "data": {
      "text/html": [
       "0.444802286685403"
      ],
      "text/latex": [
       "0.444802286685403"
      ],
      "text/markdown": [
       "0.444802286685403"
      ],
      "text/plain": [
       "[1] 0.4448023"
      ]
     },
     "metadata": {},
     "output_type": "display_data"
    }
   ],
   "source": [
    "mean(boostrap.results$t) + sd(boostrap.results$t)"
   ]
  },
  {
   "cell_type": "code",
   "execution_count": 118,
   "metadata": {},
   "outputs": [
    {
     "data": {
      "text/html": [
       "0.385211729304057"
      ],
      "text/latex": [
       "0.385211729304057"
      ],
      "text/markdown": [
       "0.385211729304057"
      ],
      "text/plain": [
       "[1] 0.3852117"
      ]
     },
     "metadata": {},
     "output_type": "display_data"
    }
   ],
   "source": [
    "mean(boostrap.results$t) - sd(boostrap.results$t)"
   ]
  },
  {
   "cell_type": "code",
   "execution_count": null,
   "metadata": {},
   "outputs": [],
   "source": [
    "c(0.33, 0.40, 0.42, 0.44, 0.46, 0.48)"
   ]
  },
  {
   "cell_type": "code",
   "execution_count": 116,
   "metadata": {},
   "outputs": [
    {
     "data": {
      "text/html": [
       "<strong>png:</strong> 2"
      ],
      "text/latex": [
       "\\textbf{png:} 2"
      ],
      "text/markdown": [
       "**png:** 2"
      ],
      "text/plain": [
       "png \n",
       "  2 "
      ]
     },
     "metadata": {},
     "output_type": "display_data"
    }
   ],
   "source": [
    "pdf('bootstrap_phase_score_dist.pdf')\n",
    "hist(boostrap.results$t, xlab=\"phase score\", breaks=15, xaxt='n', main=\"\")# las=1)\n",
    "#xaxt='n')\n",
    "title(\"\")\n",
    "axis(side=1, at=seq(0.33, 0.49, 0.02), labels=seq(0.33, 0.49, 0.02))\n",
    "\n",
    "abline(v=cutoff3, col='red', lwd=2, lty=2)\n",
    "abline(v=mean(boostrap.results$t)+sd(boostrap.results$t), col='black', lwd=2, lty=3)\n",
    "abline(v=mean(boostrap.results$t)-sd(boostrap.results$t), col='black', lwd=2, lty=3)\n",
    "legend(\"topright\", legend=c(\"ribotricer default\", \"95% CI\"),lty=2:3, lwd=2,\n",
    "       col=c(\"red\", \"black\"),  cex=0.8)\n",
    "dev.off()"
   ]
  },
  {
   "cell_type": "code",
   "execution_count": 42,
   "metadata": {},
   "outputs": [],
   "source": [
    "cutoff1 <- mean(boostrap.results$t) + 0.0297952786906729"
   ]
  },
  {
   "cell_type": "code",
   "execution_count": 43,
   "metadata": {},
   "outputs": [],
   "source": [
    "cutoff2 <- mean(boostrap.results$t) - 0.0297952786906729"
   ]
  },
  {
   "cell_type": "code",
   "execution_count": 45,
   "metadata": {},
   "outputs": [],
   "source": [
    "cutoff3 <- 0.428571428571"
   ]
  },
  {
   "cell_type": "code",
   "execution_count": 53,
   "metadata": {},
   "outputs": [],
   "source": [
    "fc.cutoff3 <- function(datasets, datasets_index){\n",
    "    toRead <- datasets[datasets_index]\n",
    "    data <- read.table(toRead[1], header=T)\n",
    "    \n",
    "    for (fp in toRead[2:length(toRead)])\n",
    "    {\n",
    "        dataT <- read.table(fp, header=TRUE)\n",
    "        data <- rbind(data, dataT)\n",
    "    }\n",
    "    \n",
    "    rna = data[data$truth == 0, ]\n",
    "    ribo = data[data$truth == 1, ]\n",
    "    \n",
    "    tp = nrow(ribo[ribo$ribocop >= cutoff3, ])\n",
    "    fp = nrow(rna[rna$ribocop >= cutoff3, ])\n",
    "    \n",
    "    tn = nrow(rna[rna$ribocop <= cutoff3, ])\n",
    "    fn = nrow(ribo[ribo$ribocop <= cutoff3, ])\n",
    "    \n",
    "    fscore = 2*tp/(2*tp+fp+fn)\n",
    "    \n",
    "    #ribocop_rna = rna[order(-rna$ribocop), ]    \n",
    "    \n",
    "    ribocop_positive = nrow(ribo[ribo$ribocop >= cutoff3, ])\n",
    "\n",
    "\n",
    "    #cop <- prediction(data[['ribocop']], data$truth)\n",
    "    #cop <- performance(cop, 'f')\n",
    "    #xvalues <- cop@x.values[[1]]\n",
    "    #yvalues <- cop@y.values[[1]]\n",
    "    #cutoff <- xvalues[which.max(yvalues)]\n",
    "    \n",
    "    return (fscore)\n",
    "}\n",
    "boostrap.results3 <- boot(data = files, statistic = fc.cutoff3, R = 100, parallel = \"multicore\", ncpus=32)\n"
   ]
  },
  {
   "cell_type": "code",
   "execution_count": 54,
   "metadata": {},
   "outputs": [],
   "source": [
    "fc.cutoff1 <- function(datasets, datasets_index){\n",
    "    toRead <- datasets[datasets_index]\n",
    "    data <- read.table(toRead[1], header=T)\n",
    "    \n",
    "    for (fp in toRead[2:length(toRead)])\n",
    "    {\n",
    "        dataT <- read.table(fp, header=TRUE)\n",
    "        data <- rbind(data, dataT)\n",
    "    }\n",
    "    \n",
    "    rna = data[data$truth == 0, ]\n",
    "    ribo = data[data$truth == 1, ]\n",
    "    \n",
    "     tp = nrow(ribo[ribo$ribocop >= cutoff1, ])\n",
    "    fp = nrow(rna[rna$ribocop >= cutoff1, ])\n",
    "    \n",
    "    tn = nrow(rna[rna$ribocop <= cutoff1, ])\n",
    "    fn = nrow(ribo[ribo$ribocop <= cutoff1, ])\n",
    "    \n",
    "    fscore = 2*tp/(2*tp+fp+fn)\n",
    "    \n",
    "    \n",
    "    return (fscore)\n",
    "}\n",
    "boostrap.results1 <- boot(data = files, statistic = fc.cutoff1, R = 100, parallel = \"multicore\", ncpus=32)\n"
   ]
  },
  {
   "cell_type": "code",
   "execution_count": 55,
   "metadata": {},
   "outputs": [],
   "source": [
    "fc.cutoff2 <- function(datasets, datasets_index){\n",
    "    toRead <- datasets[datasets_index]\n",
    "    data <- read.table(toRead[1], header=T)\n",
    "    \n",
    "    for (fp in toRead[2:length(toRead)])\n",
    "    {\n",
    "        dataT <- read.table(fp, header=TRUE)\n",
    "        data <- rbind(data, dataT)\n",
    "    }\n",
    "    \n",
    "    rna = data[data$truth == 0, ]\n",
    "    ribo = data[data$truth == 1, ]\n",
    "    \n",
    "    tp = nrow(ribo[ribo$ribocop >= cutoff2, ])\n",
    "    fp = nrow(rna[rna$ribocop >= cutoff2, ])\n",
    "    \n",
    "    tn = nrow(rna[rna$ribocop <= cutoff2, ])\n",
    "    fn = nrow(ribo[ribo$ribocop <= cutoff2, ])\n",
    "    \n",
    "    fscore = 2*tp/(2*tp+fp+fn)\n",
    "    \n",
    "    \n",
    "    \n",
    "    return (fscore)\n",
    "}\n",
    "boostrap.results2 <- boot(data = files, statistic = fc.cutoff2, R = 100, parallel = \"multicore\", ncpus=16)\n"
   ]
  },
  {
   "cell_type": "code",
   "execution_count": 61,
   "metadata": {},
   "outputs": [
    {
     "name": "stdout",
     "output_type": "stream",
     "text": [
      "[1] 0.88784219 0.02020144\n"
     ]
    }
   ],
   "source": [
    "print(c(mean(boostrap.results3$t), sd(boostrap.results3$t)))"
   ]
  },
  {
   "cell_type": "code",
   "execution_count": 62,
   "metadata": {},
   "outputs": [
    {
     "name": "stdout",
     "output_type": "stream",
     "text": [
      "[1] 0.88698352 0.02421732\n"
     ]
    }
   ],
   "source": [
    "print(c(mean(boostrap.results1$t), sd(boostrap.results1$t)))"
   ]
  },
  {
   "cell_type": "code",
   "execution_count": 63,
   "metadata": {},
   "outputs": [
    {
     "name": "stdout",
     "output_type": "stream",
     "text": [
      "[1] 0.8840567 0.0163281\n"
     ]
    }
   ],
   "source": [
    "print(c(mean(boostrap.results2$t), sd(boostrap.results2$t)))"
   ]
  },
  {
   "cell_type": "code",
   "execution_count": null,
   "metadata": {},
   "outputs": [],
   "source": [
    "data ="
   ]
  }
 ],
 "metadata": {
  "kernelspec": {
   "display_name": "R [conda env:rna_seq_de]",
   "language": "R",
   "name": "conda-env-rna_seq_de-r"
  },
  "language_info": {
   "codemirror_mode": "r",
   "file_extension": ".r",
   "mimetype": "text/x-r-source",
   "name": "R",
   "pygments_lexer": "r",
   "version": "3.5.1"
  }
 },
 "nbformat": 4,
 "nbformat_minor": 2
}
