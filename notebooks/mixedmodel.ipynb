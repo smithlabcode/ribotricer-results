{
 "cells": [
  {
   "cell_type": "code",
   "execution_count": 1,
   "metadata": {},
   "outputs": [
    {
     "name": "stdout",
     "output_type": "stream",
     "text": [
      "Populating the interactive namespace from numpy and matplotlib\n"
     ]
    }
   ],
   "source": [
    "%pylab inline\n",
    "import matplotlib\n",
    "matplotlib.rcParams['pdf.fonttype'] = 42\n",
    "matplotlib.rcParams['ps.fonttype'] = 42\n",
    "import numpy as np\n",
    "import pandas as pd\n",
    "import matplotlib.pyplot as plt\n",
    "from matplotlib.backends.backend_pdf import PdfPages\n",
    "from matplotlib.font_manager import FontProperties\n",
    "import collections\n",
    "import seaborn as sns\n",
    "mycolors = [\n",
    "    '#e41a1c',\n",
    "    '#377eb8',\n",
    "    '#4daf4a',\n",
    "    '#984ea3',\n",
    "    '#d3d3d3']"
   ]
  },
  {
   "cell_type": "code",
   "execution_count": 31,
   "metadata": {},
   "outputs": [],
   "source": [
    "cn31 = np.array([[2.48768822e+05, 2.51327024e+05, 2.39608014e+05],\n",
    "                [2.51327024e+05, 2.76064048e+05, 2.52775697e+05],\n",
    "                [2.39608014e+05, 2.52775697e+05, 2.60756109e+05]])"
   ]
  },
  {
   "cell_type": "code",
   "execution_count": 32,
   "metadata": {},
   "outputs": [],
   "source": [
    "mc13 = np.array([[2.41332659e+05, 2.32350141e+05, 2.20521366e+05],\n",
    "                 [2.32350141e+05, 2.54176409e+05, 2.30719471e+05],\n",
    "                 [2.20521366e+05, 2.30719471e+05, 2.45848607e+05]])"
   ]
  },
  {
   "cell_type": "code",
   "execution_count": 33,
   "metadata": {},
   "outputs": [],
   "source": [
    "dem3 = np.array([[3.43946615e+05, 3.31239191e+05, 3.26938942e+05],\n",
    "                 [3.31239191e+05, 3.37049312e+05, 3.23685263e+05],\n",
    "                 [3.26938942e+05, 3.23685263e+05, 3.35097317e+05]])"
   ]
  },
  {
   "cell_type": "code",
   "execution_count": 34,
   "metadata": {},
   "outputs": [],
   "source": [
    "mcmcde = np.array([[3.31693967e+05, 3.12880975e+05, 2.98077221e+05],\n",
    "                   [3.12880975e+05, 3.10704437e+05, 2.94891061e+05],\n",
    "                   [2.98077221e+05, 2.94891061e+05, 3.04767688e+05]])"
   ]
  },
  {
   "cell_type": "code",
   "execution_count": 5,
   "metadata": {},
   "outputs": [
    {
     "data": {
      "text/plain": [
       "array([[  2.48768822e+05,   2.51327024e+05,   2.39608014e+05],\n",
       "       [  9.59042709e-01,   2.76064048e+05,   2.52775697e+05],\n",
       "       [  9.40779454e-01,   9.42138527e-01,   2.60756109e+05]])"
      ]
     },
     "execution_count": 5,
     "metadata": {},
     "output_type": "execute_result"
    }
   ],
   "source": [
    "cn32 = np.array([[2.48768822e+05, 2.51327024e+05, 2.39608014e+05],\n",
    "                [9.59042709e-01, 2.76064048e+05, 2.52775697e+05],\n",
    "                [9.40779454e-01, 9.42138527e-01, 2.60756109e+05]])"
   ]
  },
  {
   "cell_type": "code",
   "execution_count": 25,
   "metadata": {},
   "outputs": [],
   "source": [
    "mask = np.zeros_like(cn31)\n",
    "mask[np.tril_indices_from(mask, k=-1)] = True\n",
    "# mask[np.triu_indices_from(mask)] = True"
   ]
  },
  {
   "cell_type": "code",
   "execution_count": 74,
   "metadata": {},
   "outputs": [
    {
     "data": {
      "text/plain": [
       "343946.61499999999"
      ]
     },
     "execution_count": 74,
     "metadata": {},
     "output_type": "execute_result"
    }
   ],
   "source": [
    "max(mcmcde.max(), cn31.max(), mc13.max(), dem3.max())"
   ]
  },
  {
   "cell_type": "code",
   "execution_count": 75,
   "metadata": {},
   "outputs": [
    {
     "data": {
      "text/plain": [
       "220521.36600000001"
      ]
     },
     "execution_count": 75,
     "metadata": {},
     "output_type": "execute_result"
    }
   ],
   "source": [
    "min(mcmcde.min(), cn31.min(), mc13.min(), dem3.min())"
   ]
  },
  {
   "cell_type": "code",
   "execution_count": null,
   "metadata": {},
   "outputs": [],
   "source": [
    "def correlation_matrix(df):\n",
    "    from matplotlib import pyplot as plt\n",
    "    from matplotlib import cm as cm\n",
    "\n",
    "    fig = plt.figure()\n",
    "    ax1 = fig.add_subplot(111)\n",
    "    cmap = cm.get_cmap('jet', 30)\n",
    "    cax = ax1.imshow(df.corr(), interpolation=\"nearest\", cmap=cmap)\n",
    "    ax1.grid(True)\n",
    "    plt.title('Abalone Feature Correlation')\n",
    "    labels=['Sex','Length','Diam','Height','Whole','Shucked','Viscera','Shell','Rings',]\n",
    "    ax1.set_xticklabels(labels,fontsize=6)\n",
    "    ax1.set_yticklabels(labels,fontsize=6)\n",
    "    # Add colorbar, make sure to specify tick locations to match desired ticklabels\n",
    "    fig.colorbar(cax, ticks=[.75,.8,.85,.90,.95,1])\n",
    "    plt.show()\n",
    "\n",
    "correlation_matrix(df)"
   ]
  },
  {
   "cell_type": "code",
   "execution_count": 94,
   "metadata": {},
   "outputs": [
    {
     "name": "stdout",
     "output_type": "stream",
     "text": [
      "[[ 0.72327742  0.73071521  0.69664304]\n",
      " [ 0.73071521  0.80263633  0.73492713]\n",
      " [ 0.69664304  0.73492713  0.7581296 ]]\n",
      "[[ 0.70165732  0.67554129  0.64114998]\n",
      " [ 0.67554129  0.73899959  0.67080024]\n",
      " [ 0.64114998  0.67080024  0.71478711]]\n",
      "[[ 1.          0.96305408  0.95055142]\n",
      " [ 0.96305408  0.97994659  0.94109158]\n",
      " [ 0.95055142  0.94109158  0.9742713 ]]\n",
      "[[ 0.96437631  0.90967889  0.86663804]\n",
      " [ 0.90967889  0.90335076  0.85737451]\n",
      " [ 0.86663804  0.85737451  0.88609009]]\n"
     ]
    },
    {
     "data": {
      "image/png": "[encoded data removed]",
      "text/plain": [
       "<matplotlib.figure.Figure at 0x2b0003d2a410>"
      ]
     },
     "metadata": {},
     "output_type": "display_data"
    }
   ],
   "source": [
    "from matplotlib import cm as cm\n",
    "fig, axn = plt.subplots(2, 2, sharex=True, sharey=True)\n",
    "fig.set_size_inches(5, 5)\n",
    "cbar_ax = fig.add_axes([.91, .3, .03, .4])\n",
    "data = [cn31, mc13, dem3, mcmcde]\n",
    "cmap = cm.get_cmap('jet', 30)\n",
    "for i, ax in enumerate(axn.flat):\n",
    "    print(data[i]/343946.61499999999)\n",
    "    sns.heatmap(data[i], ax=ax,\n",
    "                cbar=i == 0,\n",
    "                vmin=220521.36600000001, vmax=343946.61499999999,\n",
    "                cmap=cmap,\n",
    "                cbar_ax=None if i else cbar_ax)\n",
    "\n",
    "fig.tight_layout(rect=[0, 0, .9, 1])\n",
    "fig.savefig('results/alice.pdf')"
   ]
  },
  {
   "cell_type": "code",
   "execution_count": 43,
   "metadata": {},
   "outputs": [
    {
     "data": {
      "image/png": "[encoded data removed]",
      "text/plain": [
       "<matplotlib.figure.Figure at 0x2b00042d9990>"
      ]
     },
     "metadata": {},
     "output_type": "display_data"
    }
   ],
   "source": [
    "fig, axes = plt.subplots(2, 2, sharex=True, sharey=True)\n",
    "cbar_ax = fig.add_axes([.91, .3, .03, .4])\n",
    "\n",
    "fig.set_size_inches(15, 3)\n",
    "sns.heatmap((cn31), square=True, \n",
    "            vmin=22000,\n",
    "            vmax=35000,\n",
    "            cmap=\"YlOrBr\", ax=axes[0])\n",
    "sns.heatmap((mc13), square=True, \n",
    "             vmin=22000,\n",
    "            vmax=35000,\n",
    "            cmap=\"YlOrBr\", ax=axes[1])\n",
    "sns.heatmap((dem3), square=True, \n",
    "             vmin=22000,\n",
    "            vmax=35000,\n",
    "            cmap=\"YlOrBr\", ax=axes[2])\n",
    "sns.heatmap((mcmcde), square=True,\n",
    "             vmin=22000,\n",
    "            vmax=35000,\n",
    "            cmap=\"YlOrBr\", ax=axes[3])\n",
    "fig.savefig('results/covariance.pdf')"
   ]
  },
  {
   "cell_type": "code",
   "execution_count": null,
   "metadata": {},
   "outputs": [],
   "source": [
    "corr = np.corrcoef(np.random.randn(10, 200))\n",
    "mask = np.zeros_like(corr)\n",
    "mask[np.triu_indices_from(mask)] = True\n",
    "with sns.axes_style(\"white\"):\n",
    "...     ax = sns.heatmap(corr, mask=mask, vmax=.3, square=True)"
   ]
  }
 ],
 "metadata": {
  "kernelspec": {
   "display_name": "Python (ribo)",
   "language": "python",
   "name": "ribo"
  },
  "language_info": {
   "codemirror_mode": {
    "name": "ipython",
    "version": 2
   },
   "file_extension": ".py",
   "mimetype": "text/x-python",
   "name": "python",
   "nbconvert_exporter": "python",
   "pygments_lexer": "ipython2",
   "version": "2.7.14"
  }
 },
 "nbformat": 4,
 "nbformat_minor": 2
}
