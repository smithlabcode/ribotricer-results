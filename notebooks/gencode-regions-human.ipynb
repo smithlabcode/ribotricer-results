{
 "cells": [
  {
   "cell_type": "code",
   "execution_count": 1,
   "metadata": {},
   "outputs": [],
   "source": [
    "from collections import defaultdict\n",
    "import warnings\n",
    "import logging\n",
    "import gffutils\n",
    "import pybedtools\n",
    "import pandas as pd\n",
    "from copy import deepcopy\n",
    "import re"
   ]
  },
  {
   "cell_type": "code",
   "execution_count": 2,
   "metadata": {},
   "outputs": [],
   "source": [
    "gencode_v25 = '/home/cmb-06/as/wenzhenl/genomes/hg38/annotation/gencode.v25.annotation.gtf'\n",
    "gencode_v25_db = '/home/cmb-06/as/wenzhenl/genomes/hg38/annotation/gencode.v25.annotation.gtf.db'\n",
    "prefix = '/staging/as/wenzhenl/hg38_'"
   ]
  },
  {
   "cell_type": "code",
   "execution_count": 3,
   "metadata": {},
   "outputs": [],
   "source": [
    "#db = gffutils.create_db(gencode_v25, dbfn=gencode_v25_db, force=True, \n",
    "  #                      merge_strategy='merge',\n",
    "    #                    disable_infer_genes=True, disable_infer_transcripts=True)"
   ]
  },
  {
   "cell_type": "code",
   "execution_count": 4,
   "metadata": {},
   "outputs": [],
   "source": [
    "db = gffutils.FeatureDB(gencode_v25_db, keep_order=True)"
   ]
  },
  {
   "cell_type": "code",
   "execution_count": 5,
   "metadata": {},
   "outputs": [],
   "source": [
    "all_cds = defaultdict(list)\n",
    "all_utrs = defaultdict(list)"
   ]
  },
  {
   "cell_type": "code",
   "execution_count": 6,
   "metadata": {},
   "outputs": [],
   "source": [
    "for cds in db.features_of_type('CDS', order_by='start'):\n",
    "    assert(len(cds['gene_id']) == 1)\n",
    "    all_cds[cds['gene_id'][0]].append(cds)"
   ]
  },
  {
   "cell_type": "code",
   "execution_count": 7,
   "metadata": {},
   "outputs": [],
   "source": [
    "for utr in db.features_of_type('UTR', order_by='start'):\n",
    "    assert(len(utr['gene_id']) == 1)\n",
    "    all_utrs[utr['gene_id'][0]].append(utr)"
   ]
  },
  {
   "cell_type": "code",
   "execution_count": 8,
   "metadata": {},
   "outputs": [],
   "source": [
    "all_utr3 = defaultdict(list)\n",
    "all_utr5 = defaultdict(list)"
   ]
  },
  {
   "cell_type": "code",
   "execution_count": 9,
   "metadata": {},
   "outputs": [],
   "source": [
    "for gene, gene_cds in all_cds.items():\n",
    "    # find first cds\n",
    "    first_cds = gene_cds[0]\n",
    "    for cds in gene_cds:\n",
    "        if cds.start < first_cds.start:\n",
    "            first_cds = cds\n",
    "    # find last cds\n",
    "    last_cds = gene_cds[-1]\n",
    "    for cds in gene_cds:\n",
    "        if cds.stop > last_cds.stop:\n",
    "            last_cds = cds\n",
    "            \n",
    "    if gene in all_utrs:\n",
    "        for orig_utr in all_utrs[gene]:\n",
    "            utr = deepcopy(orig_utr)\n",
    "            strand = utr.strand\n",
    "            if utr.start < first_cds.start:\n",
    "                if utr.stop >= first_cds.start:\n",
    "                    utr.stop = first_cds.start - 1\n",
    "                if strand == '+':\n",
    "                    all_utr5[gene].append(utr)\n",
    "                else:\n",
    "                    all_utr3[gene].append(utr)\n",
    "            elif utr.stop > last_cds.stop:\n",
    "                if utr.start <= last_cds.stop:\n",
    "                    utr.start = last_cds.stop + 1\n",
    "                if strand == '+':\n",
    "                    all_utr3[gene].append(utr)\n",
    "                else:\n",
    "                    all_utr5[gene].append(utr)"
   ]
  },
  {
   "cell_type": "code",
   "execution_count": 10,
   "metadata": {},
   "outputs": [],
   "source": [
    "def create_bed(region_dict):\n",
    "    bed = \"\"\n",
    "    for gene, regions in sorted(region_dict.items(), key=lambda x: x[0]):\n",
    "        if regions:\n",
    "            regions = list(db.merge(regions))\n",
    "            regions.sort(key=lambda x: x.start)\n",
    "            for region in regions:\n",
    "                bed += '{}\\t{}\\t{}\\t{}\\t{}\\t{}\\n'.format(region.chrom, region.start-1, region.stop, re.sub('\\.\\d+', '', gene), '.', region.strand)\n",
    "    return bed"
   ]
  },
  {
   "cell_type": "code",
   "execution_count": 11,
   "metadata": {},
   "outputs": [
    {
     "data": {
      "text/plain": [
       "<BedTool(/staging/as/wenzhenl/hg38_.UTR3.bed)>"
      ]
     },
     "execution_count": 11,
     "metadata": {},
     "output_type": "execute_result"
    }
   ],
   "source": [
    "utr3_bed = create_bed(all_utr3)\n",
    "utr3_bedtool = pybedtools.BedTool(utr3_bed, from_string=True)\n",
    "utr3_bedtool.remove_invalid().sort().saveas('{}.UTR3.bed'.format(prefix))"
   ]
  },
  {
   "cell_type": "code",
   "execution_count": 12,
   "metadata": {},
   "outputs": [
    {
     "data": {
      "text/plain": [
       "<BedTool(/staging/as/wenzhenl/hg38_.UTR5.bed)>"
      ]
     },
     "execution_count": 12,
     "metadata": {},
     "output_type": "execute_result"
    }
   ],
   "source": [
    "utr5_bed = create_bed(all_utr5)\n",
    "utr5_bedtool = pybedtools.BedTool(utr5_bed, from_string=True)\n",
    "utr5_bedtool.remove_invalid().sort().saveas('{}.UTR5.bed'.format(prefix))"
   ]
  },
  {
   "cell_type": "code",
   "execution_count": 13,
   "metadata": {},
   "outputs": [
    {
     "data": {
      "text/plain": [
       "<BedTool(/staging/as/wenzhenl/hg38_.cds.bed)>"
      ]
     },
     "execution_count": 13,
     "metadata": {},
     "output_type": "execute_result"
    }
   ],
   "source": [
    "cds_bed = create_bed(all_cds)\n",
    "cds_bedtool = pybedtools.BedTool(cds_bed, from_string=True)\n",
    "cds_bedtool.remove_invalid().sort().saveas('{}.cds.bed'.format(prefix))"
   ]
  },
  {
   "cell_type": "code",
   "execution_count": null,
   "metadata": {},
   "outputs": [],
   "source": []
  }
 ],
 "metadata": {
  "kernelspec": {
   "display_name": "Python (raptor)",
   "language": "python",
   "name": "raptor"
  },
  "language_info": {
   "codemirror_mode": {
    "name": "ipython",
    "version": 3
   },
   "file_extension": ".py",
   "mimetype": "text/x-python",
   "name": "python",
   "nbconvert_exporter": "python",
   "pygments_lexer": "ipython3",
   "version": "3.5.4"
  }
 },
 "nbformat": 4,
 "nbformat_minor": 2
}
