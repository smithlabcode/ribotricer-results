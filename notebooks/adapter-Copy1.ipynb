{
 "cells": [
  {
   "cell_type": "code",
   "execution_count": 1,
   "metadata": {},
   "outputs": [
    {
     "name": "stdout",
     "output_type": "stream",
     "text": [
      "Populating the interactive namespace from numpy and matplotlib\n"
     ]
    }
   ],
   "source": [
    "%pylab inline"
   ]
  },
  {
   "cell_type": "code",
   "execution_count": 2,
   "metadata": {},
   "outputs": [],
   "source": [
    "from collections import Counter\n",
    "from Bio.SeqIO.QualityIO import FastqGeneralIterator\n",
    "from tqdm import tqdm\n",
    "import gzip\n",
    "import pandas as pd\n",
    "from IPython.display import HTML"
   ]
  },
  {
   "cell_type": "code",
   "execution_count": 3,
   "metadata": {},
   "outputs": [],
   "source": [
    "def fastq_kmer_histogram(fastq_file,\n",
    "                         kmer_length=range(5, 31),\n",
    "                         five_prime=False,\n",
    "                         max_seq=1000000,\n",
    "                         offset=0):\n",
    "    \"\"\"Get a histogram of kmers from a fastq file\n",
    "    Parameters\n",
    "    ----------\n",
    "    fastq_file: string\n",
    "                Location of .fastq or .fastq.gz\n",
    "    kmer_length: range\n",
    "                 Range of kmer to consider\n",
    "    five_prime: bool\n",
    "                Should consider sequences from 5' end?\n",
    "                Default: False (uses sequence from 3' end)\n",
    "    max_seq: int\n",
    "             Maximum number of sequences to consider\n",
    "    offset: int\n",
    "            Offset to ignore at the 5' end or 3'end\n",
    "            Example: If the offset is 3, the first 3 bases will be skipped\n",
    "            and kmers will start only from the 4th position\n",
    "            For 3'end if the offset is 3, the last 3 bases will be skipped\n",
    "    Returns\n",
    "    -------\n",
    "    kmers: Series\n",
    "           Sorted series with most frequent kmer\n",
    "    \"\"\"\n",
    "    cur_count = 0\n",
    "    should_continue = True\n",
    "    if '.gz' in fastq_file:\n",
    "        # Open as a gzip file\n",
    "        handle = gzip.open(fastq_file, 'rt')\n",
    "    else:\n",
    "        handle = open(fastq_file, 'r')\n",
    "    histogram = {k: Counter() for k in kmer_length}\n",
    "\n",
    "    with tqdm(total=max_seq) as pbar:\n",
    "        for title, seq, qual in FastqGeneralIterator(handle):\n",
    "            if not should_continue:\n",
    "                break\n",
    "            cur_count += 1\n",
    "            for k in kmer_length:\n",
    "                if not five_prime:\n",
    "                    if not offset:\n",
    "                        k_seq = seq[-k:]\n",
    "                    else:\n",
    "                        k_seq = seq[-k - offset:-offset]\n",
    "                else:\n",
    "                    k_seq = seq[offset:k + offset]\n",
    "                histogram[k][k_seq] += 1\n",
    "                if cur_count >= max_seq:\n",
    "                    should_continue = False\n",
    "            pbar.update()\n",
    "    handle.close()\n",
    "    kmers = {}\n",
    "    for k, v in histogram.items():\n",
    "        kmers[k] = pd.Series(v).sort_values(ascending=False) / max_seq * 100\n",
    "    return kmers"
   ]
  },
  {
   "cell_type": "code",
   "execution_count": 4,
   "metadata": {},
   "outputs": [],
   "source": [
    "def fastq_kmer_histogram2(fastq_file,\n",
    "                         kmer_length=range(5, 31),\n",
    "                         five_prime=False,\n",
    "                         max_seq=1000000,\n",
    "                         offset=0):\n",
    "    \"\"\"Get a histogram of kmers from a fastq file\n",
    "    Parameters\n",
    "    ----------\n",
    "    fastq_file: string\n",
    "                Location of .fastq or .fastq.gz\n",
    "    kmer_length: range\n",
    "                 Range of kmer to consider\n",
    "    five_prime: bool\n",
    "                Should consider sequences from 5' end?\n",
    "                Default: False (uses sequence from 3' end)\n",
    "    max_seq: int\n",
    "             Maximum number of sequences to consider\n",
    "    offset: int\n",
    "            Offset to ignore at the 5' end or 3'end\n",
    "            Example: If the offset is 3, the first 3 bases will be skipped\n",
    "            and kmers will start only from the 4th position\n",
    "            For 3'end if the offset is 3, the last 3 bases will be skipped\n",
    "    Returns\n",
    "    -------\n",
    "    kmers: Series\n",
    "           Sorted series with most frequent kmer\n",
    "    \"\"\"\n",
    "    cur_count = 0\n",
    "    should_continue = True\n",
    "    if '.gz' in fastq_file:\n",
    "        # Open as a gzip file\n",
    "        handle = gzip.open(fastq_file, 'rt')\n",
    "    else:\n",
    "        handle = open(fastq_file, 'r')\n",
    "    histogram = {k: Counter() for k in kmer_length}\n",
    "\n",
    "    with tqdm(total=max_seq) as pbar:\n",
    "        for title, seq, qual in FastqGeneralIterator(handle):\n",
    "            if not should_continue:\n",
    "                break\n",
    "            cur_count += 1\n",
    "            for k in kmer_length:\n",
    "                if not five_prime:\n",
    "                    if not offset:\n",
    "                        k_seq = seq[:k]\n",
    "                    else:\n",
    "                        k_seq = seq[offset: k + offset]\n",
    "                else:\n",
    "                    k_seq = seq[offset:k + offset]\n",
    "                histogram[k][k_seq] += 1\n",
    "                if cur_count >= max_seq:\n",
    "                    should_continue = False\n",
    "            pbar.update()\n",
    "    handle.close()\n",
    "    kmers = {}\n",
    "    for k, v in histogram.items():\n",
    "        kmers[k] = pd.Series(v).sort_values(ascending=False) / max_seq * 100\n",
    "    return kmers"
   ]
  },
  {
   "cell_type": "code",
   "execution_count": 10,
   "metadata": {},
   "outputs": [],
   "source": [
    "fastq = '/staging/as/wenzhenl/re-ribo-analysis/SRP010679_human/sratofastq/SRR403893.fastq.gz'"
   ]
  },
  {
   "cell_type": "code",
   "execution_count": 11,
   "metadata": {},
   "outputs": [
    {
     "name": "stderr",
     "output_type": "stream",
     "text": [
      "100%|██████████| 1000000/1000000 [00:40<00:00, 24747.34it/s]\n"
     ]
    }
   ],
   "source": [
    "histogram = fastq_kmer_histogram(fastq)"
   ]
  },
  {
   "cell_type": "code",
   "execution_count": 162,
   "metadata": {},
   "outputs": [
    {
     "name": "stderr",
     "output_type": "stream",
     "text": [
      "100%|██████████| 1000000/1000000 [00:37<00:00, 26879.39it/s]\n"
     ]
    }
   ],
   "source": [
    "histogram2 = fastq_kmer_histogram2(fastq)"
   ]
  },
  {
   "cell_type": "code",
   "execution_count": 17,
   "metadata": {},
   "outputs": [
    {
     "data": {
      "text/plain": [
       "CTGTAGGCAC    16.9524\n",
       "TGTAGGCACC     9.7078\n",
       "TCTGTAGGCA     5.3376\n",
       "CCTGTAGGCA     5.0915\n",
       "ACTGTAGGCA     4.5734\n",
       "GTAGGCACCA     4.5082\n",
       "GCTGTAGGCA     4.3464\n",
       "CTCTGTAGGC     1.7447\n",
       "CCCTGTAGGC     1.7358\n",
       "TAGGCACCAT     1.7018\n",
       "TGCTGTAGGC     1.3124\n",
       "AGCTGTAGGC     1.2404\n",
       "GACTGTAGGC     1.1522\n",
       "CTTCTGTAGG     1.0815\n",
       "TTCTGTAGGC     1.0443\n",
       "TCCTGTAGGC     1.0211\n",
       "GGCTGTAGGC     1.0174\n",
       "TCTGCTTGAA     0.9383\n",
       "GCCTGTAGGC     0.9122\n",
       "TACTGTAGGC     0.9053\n",
       "AGGCACCATC     0.8680\n",
       "CACTGTAGGC     0.8593\n",
       "AACTGTAGGC     0.7816\n",
       "GCCCTGTAGG     0.6607\n",
       "ACCTGTAGGC     0.6029\n",
       "CGCTGTAGGC     0.5944\n",
       "ATCTGTAGGC     0.5868\n",
       "GTCTGTAGGC     0.5458\n",
       "GGCACCATCA     0.5255\n",
       "ACACTGTAGG     0.5028\n",
       "               ...   \n",
       "CGTAGGGCCA     0.0001\n",
       "GTCTTGGAGG     0.0001\n",
       "CGTAGGGCGC     0.0001\n",
       "GTCTTGAAGG     0.0001\n",
       "CGTAGGTACA     0.0001\n",
       "CGTAGGTACC     0.0001\n",
       "CGTATCTGTA     0.0001\n",
       "GTCTTCTGTA     0.0001\n",
       "CGTATGCAGT     0.0001\n",
       "GTCTTCTGGC     0.0001\n",
       "CGTATGCCGG     0.0001\n",
       "GTCTTAGACA     0.0001\n",
       "CGTATGCGGT     0.0001\n",
       "CGTATGCTCC     0.0001\n",
       "CGTATGCTGT     0.0001\n",
       "CGTATGGAGC     0.0001\n",
       "GTCTGTTAGG     0.0001\n",
       "CGTCAAGAAA     0.0001\n",
       "CGTCACGCCT     0.0001\n",
       "CGTCACTGTA     0.0001\n",
       "CGTCCCCCGT     0.0001\n",
       "GTCTGTATGC     0.0001\n",
       "CGTCCTCTGT     0.0001\n",
       "CGTCCTGAAG     0.0001\n",
       "CGTCCTGCAG     0.0001\n",
       "CGTCCTGGAG     0.0001\n",
       "CGTCCTGGCT     0.0001\n",
       "GTCTGTACGC     0.0001\n",
       "GTCTGTAAGC     0.0001\n",
       "GAACTGTTGG     0.0001\n",
       "Length: 14459, dtype: float64"
      ]
     },
     "execution_count": 17,
     "metadata": {},
     "output_type": "execute_result"
    }
   ],
   "source": [
    "histogram[10]"
   ]
  },
  {
   "cell_type": "code",
   "execution_count": 166,
   "metadata": {},
   "outputs": [],
   "source": [
    "class PDF(object):\n",
    "  def __init__(self, pdf, size=(200,200)):\n",
    "    self.pdf = pdf\n",
    "    self.size = size\n",
    "\n",
    "  def _repr_html_(self):\n",
    "    return '<iframe src={0} width={1[0]} height={1[1]}></iframe>'.format(self.pdf, self.size)\n",
    "\n",
    "  def _repr_latex_(self):\n",
    "    return r'\\includegraphics[width=1.0\\textwidth]{{{0}}}'.format(self.pdf)\n"
   ]
  },
  {
   "cell_type": "code",
   "execution_count": 25,
   "metadata": {},
   "outputs": [],
   "source": [
    "f = 'results/SRR5227306SRR5227306.pdf'"
   ]
  },
  {
   "cell_type": "code",
   "execution_count": 23,
   "metadata": {},
   "outputs": [
    {
     "ename": "NameError",
     "evalue": "name 'PDF' is not defined",
     "output_type": "error",
     "traceback": [
      "\u001b[0;31m---------------------------------------------------------------------------\u001b[0m",
      "\u001b[0;31mNameError\u001b[0m                                 Traceback (most recent call last)",
      "\u001b[0;32m<ipython-input-23-7b46be59f1a7>\u001b[0m in \u001b[0;36m<module>\u001b[0;34m()\u001b[0m\n\u001b[0;32m----> 1\u001b[0;31m \u001b[0mPDF\u001b[0m\u001b[0;34m(\u001b[0m\u001b[0mf\u001b[0m\u001b[0;34m,\u001b[0m \u001b[0msize\u001b[0m\u001b[0;34m=\u001b[0m\u001b[0;34m(\u001b[0m\u001b[0;36m300\u001b[0m\u001b[0;34m,\u001b[0m \u001b[0;36m200\u001b[0m\u001b[0;34m)\u001b[0m\u001b[0;34m)\u001b[0m\u001b[0;34m\u001b[0m\u001b[0m\n\u001b[0m",
      "\u001b[0;31mNameError\u001b[0m: name 'PDF' is not defined"
     ]
    }
   ],
   "source": [
    "PDF(f, size=(300, 200))"
   ]
  },
  {
   "cell_type": "code",
   "execution_count": 198,
   "metadata": {},
   "outputs": [
    {
     "data": {
      "text/html": [
       "<iframe src=http://fperez.org/papers/ipython07_pe-gr_cise.pdf width=700 height=350></iframe>"
      ],
      "text/plain": [
       "<IPython.core.display.HTML object>"
      ]
     },
     "execution_count": 198,
     "metadata": {},
     "output_type": "execute_result"
    }
   ],
   "source": [
    "HTML('<iframe src=http://fperez.org/papers/ipython07_pe-gr_cise.pdf width=700 height=350></iframe>')"
   ]
  },
  {
   "cell_type": "code",
   "execution_count": 26,
   "metadata": {},
   "outputs": [
    {
     "data": {
      "text/html": [
       "<iframe src=results/SRR5227306SRR5227306.pdf width=700 height=350></iframe>"
      ],
      "text/plain": [
       "<IPython.core.display.HTML object>"
      ]
     },
     "execution_count": 26,
     "metadata": {},
     "output_type": "execute_result"
    }
   ],
   "source": [
    "HTML('<iframe src={} width=700 height=350></iframe>'.format(f))"
   ]
  },
  {
   "cell_type": "code",
   "execution_count": null,
   "metadata": {},
   "outputs": [],
   "source": []
  }
 ],
 "metadata": {
  "kernelspec": {
   "display_name": "Python (raptor)",
   "language": "python",
   "name": "raptor"
  },
  "language_info": {
   "codemirror_mode": {
    "name": "ipython",
    "version": 3
   },
   "file_extension": ".py",
   "mimetype": "text/x-python",
   "name": "python",
   "nbconvert_exporter": "python",
   "pygments_lexer": "ipython3",
   "version": "3.5.4"
  }
 },
 "nbformat": 4,
 "nbformat_minor": 2
}
